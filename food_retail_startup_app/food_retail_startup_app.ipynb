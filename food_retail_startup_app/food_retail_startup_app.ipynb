{
 "cells": [
  {
   "cell_type": "markdown",
   "metadata": {},
   "source": [
    "# Анализ поведения пользователей мобильного приложения стартапа по продаже продуктов питания.\n",
    "\n",
    "**Описание проекта:** В рамках данного проекта я, работаю в стартапе, который занимается продажей продуктов питания через мобильное приложение. Основная задача — изучить поведение пользователей приложения, чтобы понять, как они взаимодействуют с платформой и какие факторы влияют на их решение о покупке. В ходе проекта мы проанализируем воронку продаж и проведем A/A/B-эксперимент для оценки изменений в дизайне приложения.\n",
    "\n",
    "**Цель исследования:** Изучение поведения пользователей мобильного приложения, анализ воронки продаж и проведение A/A/B-теста для оценки влияния изменения шрифтов на пользовательский опыт.\n",
    "\n",
    "**Ход исследования:**\n",
    "\n",
    "- **Анализ воронки продаж:** Изучение шагов, которые пользователи проходят до совершения покупки. Определение, сколько пользователей доходит до покупки, а сколько «застревает» на предыдущих шагах, и на каких именно.\n",
    "- **Проведение A/A/B-эксперимента:** \n",
    "  - Разделение пользователей на три группы: две контрольные группы с использованием старых шрифтов и одна экспериментальная группа с новыми шрифтами.\n",
    "  - Сравнение результатов между контрольными группами для проверки точности тестирования.\n",
    "  - Оценка влияния новых шрифтов на поведение пользователей в экспериментальной группе.\n",
    "- **Преимущества использования двух контрольных групп:** \n",
    "  - Если две контрольные группы покажут схожие результаты, это подтвердит точность тестирования.\n",
    "  - Если между контрольными группами будут обнаружены существенные различия, это поможет выявить факторы, искажающие результаты.\n",
    "  - Сравнение контрольных групп также позволяет определить необходимое количество времени и данных для будущих тестов.\n",
    "- **Общая аналитика и эксперимент:** Работа с одними и теми же данными для анализа поведения пользователей и проведения эксперимента. В реальных проектах аналитики часто исследуют качество работы приложения по общим данным, не учитывая принадлежность пользователей к экспериментам.\n",
    "\n",
    "**Общий вывод:** Резюмирование результатов анализа воронки продаж и A/A/B-эксперимента, формулировка ключевых выводов и рекомендаций для улучшения пользовательского опыта и увеличения конверсии.\n",
    "\n",
    "С помощью данного исследования мы стремимся лучше понять поведение пользователей мобильного приложения и определить эффективные стратегии для улучшения дизайна и функциональности, что в конечном итоге приведет к увеличению продаж и удовлетворенности клиентов."
   ]
  },
  {
   "cell_type": "markdown",
   "metadata": {},
   "source": [
    "## Шаг 1. Откроем файл с данными и изучим общую информацию"
   ]
  },
  {
   "cell_type": "markdown",
   "metadata": {},
   "source": [
    "Импортруем необходимые библиотеки"
   ]
  },
  {
   "cell_type": "code",
   "execution_count": 1,
   "metadata": {},
   "outputs": [],
   "source": [
    "import pandas as pd\n",
    "import matplotlib.pyplot as plt\n",
    "import numpy as np\n",
    "from scipy import stats as st\n",
    "import math as mth\n",
    "import seaborn as sns\n",
    "from statsmodels.stats.multitest import multipletests"
   ]
  },
  {
   "cell_type": "code",
   "execution_count": 2,
   "metadata": {},
   "outputs": [],
   "source": [
    "data = pd.read_csv('/datasets/logs_exp.csv')"
   ]
  },
  {
   "cell_type": "markdown",
   "metadata": {},
   "source": [
    "Посмотрим данные."
   ]
  },
  {
   "cell_type": "code",
   "execution_count": 3,
   "metadata": {},
   "outputs": [
    {
     "data": {
      "text/html": [
       "<div>\n",
       "<style scoped>\n",
       "    .dataframe tbody tr th:only-of-type {\n",
       "        vertical-align: middle;\n",
       "    }\n",
       "\n",
       "    .dataframe tbody tr th {\n",
       "        vertical-align: top;\n",
       "    }\n",
       "\n",
       "    .dataframe thead th {\n",
       "        text-align: right;\n",
       "    }\n",
       "</style>\n",
       "<table border=\"1\" class=\"dataframe\">\n",
       "  <thead>\n",
       "    <tr style=\"text-align: right;\">\n",
       "      <th></th>\n",
       "      <th>EventName\\tDeviceIDHash\\tEventTimestamp\\tExpId</th>\n",
       "    </tr>\n",
       "  </thead>\n",
       "  <tbody>\n",
       "    <tr>\n",
       "      <th>0</th>\n",
       "      <td>MainScreenAppear\\t4575588528974610257\\t1564029...</td>\n",
       "    </tr>\n",
       "    <tr>\n",
       "      <th>1</th>\n",
       "      <td>MainScreenAppear\\t7416695313311560658\\t1564053...</td>\n",
       "    </tr>\n",
       "    <tr>\n",
       "      <th>2</th>\n",
       "      <td>PaymentScreenSuccessful\\t3518123091307005509\\t...</td>\n",
       "    </tr>\n",
       "    <tr>\n",
       "      <th>3</th>\n",
       "      <td>CartScreenAppear\\t3518123091307005509\\t1564054...</td>\n",
       "    </tr>\n",
       "    <tr>\n",
       "      <th>4</th>\n",
       "      <td>PaymentScreenSuccessful\\t6217807653094995999\\t...</td>\n",
       "    </tr>\n",
       "  </tbody>\n",
       "</table>\n",
       "</div>"
      ],
      "text/plain": [
       "      EventName\\tDeviceIDHash\\tEventTimestamp\\tExpId\n",
       "0  MainScreenAppear\\t4575588528974610257\\t1564029...\n",
       "1  MainScreenAppear\\t7416695313311560658\\t1564053...\n",
       "2  PaymentScreenSuccessful\\t3518123091307005509\\t...\n",
       "3  CartScreenAppear\\t3518123091307005509\\t1564054...\n",
       "4  PaymentScreenSuccessful\\t6217807653094995999\\t..."
      ]
     },
     "execution_count": 3,
     "metadata": {},
     "output_type": "execute_result"
    }
   ],
   "source": [
    "data.head()"
   ]
  },
  {
   "cell_type": "markdown",
   "metadata": {},
   "source": [
    "## Шаг 2. Подготовим данные"
   ]
  },
  {
   "cell_type": "markdown",
   "metadata": {},
   "source": [
    "В файле, похоже, все данные оказались в одной строке, потому что разделителем служит \"\\t\". Исправим это. А так же сразу приведем названия столбцов к нижнему регистру."
   ]
  },
  {
   "cell_type": "code",
   "execution_count": 4,
   "metadata": {},
   "outputs": [
    {
     "data": {
      "text/html": [
       "<div>\n",
       "<style scoped>\n",
       "    .dataframe tbody tr th:only-of-type {\n",
       "        vertical-align: middle;\n",
       "    }\n",
       "\n",
       "    .dataframe tbody tr th {\n",
       "        vertical-align: top;\n",
       "    }\n",
       "\n",
       "    .dataframe thead th {\n",
       "        text-align: right;\n",
       "    }\n",
       "</style>\n",
       "<table border=\"1\" class=\"dataframe\">\n",
       "  <thead>\n",
       "    <tr style=\"text-align: right;\">\n",
       "      <th></th>\n",
       "      <th>event_name</th>\n",
       "      <th>device_id_hash</th>\n",
       "      <th>event_timestamp</th>\n",
       "      <th>exp_id</th>\n",
       "    </tr>\n",
       "  </thead>\n",
       "  <tbody>\n",
       "    <tr>\n",
       "      <th>0</th>\n",
       "      <td>MainScreenAppear</td>\n",
       "      <td>4575588528974610257</td>\n",
       "      <td>1564029816</td>\n",
       "      <td>246</td>\n",
       "    </tr>\n",
       "    <tr>\n",
       "      <th>1</th>\n",
       "      <td>MainScreenAppear</td>\n",
       "      <td>7416695313311560658</td>\n",
       "      <td>1564053102</td>\n",
       "      <td>246</td>\n",
       "    </tr>\n",
       "    <tr>\n",
       "      <th>2</th>\n",
       "      <td>PaymentScreenSuccessful</td>\n",
       "      <td>3518123091307005509</td>\n",
       "      <td>1564054127</td>\n",
       "      <td>248</td>\n",
       "    </tr>\n",
       "    <tr>\n",
       "      <th>3</th>\n",
       "      <td>CartScreenAppear</td>\n",
       "      <td>3518123091307005509</td>\n",
       "      <td>1564054127</td>\n",
       "      <td>248</td>\n",
       "    </tr>\n",
       "    <tr>\n",
       "      <th>4</th>\n",
       "      <td>PaymentScreenSuccessful</td>\n",
       "      <td>6217807653094995999</td>\n",
       "      <td>1564055322</td>\n",
       "      <td>248</td>\n",
       "    </tr>\n",
       "  </tbody>\n",
       "</table>\n",
       "</div>"
      ],
      "text/plain": [
       "                event_name       device_id_hash  event_timestamp  exp_id\n",
       "0         MainScreenAppear  4575588528974610257       1564029816     246\n",
       "1         MainScreenAppear  7416695313311560658       1564053102     246\n",
       "2  PaymentScreenSuccessful  3518123091307005509       1564054127     248\n",
       "3         CartScreenAppear  3518123091307005509       1564054127     248\n",
       "4  PaymentScreenSuccessful  6217807653094995999       1564055322     248"
      ]
     },
     "execution_count": 4,
     "metadata": {},
     "output_type": "execute_result"
    }
   ],
   "source": [
    "data = pd.read_csv('/datasets/logs_exp.csv', delimiter='\\t')\n",
    "data = data.rename(columns={\n",
    "    'EventName': 'event_name', \n",
    "    'DeviceIDHash': 'device_id_hash',\n",
    "    'EventTimestamp': 'event_timestamp',\n",
    "    'ExpId': 'exp_id'\n",
    "})\n",
    "data.head()"
   ]
  },
  {
   "cell_type": "markdown",
   "metadata": {},
   "source": [
    "<b>Проведем первичную проверку на пропуски, типы данных и общее описание столбцов."
   ]
  },
  {
   "cell_type": "code",
   "execution_count": 5,
   "metadata": {},
   "outputs": [
    {
     "name": "stdout",
     "output_type": "stream",
     "text": [
      "<class 'pandas.core.frame.DataFrame'>\n",
      "RangeIndex: 244126 entries, 0 to 244125\n",
      "Data columns (total 4 columns):\n",
      " #   Column           Non-Null Count   Dtype \n",
      "---  ------           --------------   ----- \n",
      " 0   event_name       244126 non-null  object\n",
      " 1   device_id_hash   244126 non-null  int64 \n",
      " 2   event_timestamp  244126 non-null  int64 \n",
      " 3   exp_id           244126 non-null  int64 \n",
      "dtypes: int64(3), object(1)\n",
      "memory usage: 7.5+ MB\n"
     ]
    }
   ],
   "source": [
    "data.info()"
   ]
  },
  {
   "cell_type": "markdown",
   "metadata": {},
   "source": [
    "Пропусков нет! Но, мне кажется, нужно привести столбец \"event_timestamp\" к нужному формату, а также поменять с секунд на дату. Для этого воспользуемся специальным атрибутом \"unit\"."
   ]
  },
  {
   "cell_type": "code",
   "execution_count": 6,
   "metadata": {},
   "outputs": [
    {
     "data": {
      "text/html": [
       "<div>\n",
       "<style scoped>\n",
       "    .dataframe tbody tr th:only-of-type {\n",
       "        vertical-align: middle;\n",
       "    }\n",
       "\n",
       "    .dataframe tbody tr th {\n",
       "        vertical-align: top;\n",
       "    }\n",
       "\n",
       "    .dataframe thead th {\n",
       "        text-align: right;\n",
       "    }\n",
       "</style>\n",
       "<table border=\"1\" class=\"dataframe\">\n",
       "  <thead>\n",
       "    <tr style=\"text-align: right;\">\n",
       "      <th></th>\n",
       "      <th>event_name</th>\n",
       "      <th>device_id_hash</th>\n",
       "      <th>event_timestamp</th>\n",
       "      <th>exp_id</th>\n",
       "    </tr>\n",
       "  </thead>\n",
       "  <tbody>\n",
       "    <tr>\n",
       "      <th>0</th>\n",
       "      <td>MainScreenAppear</td>\n",
       "      <td>4575588528974610257</td>\n",
       "      <td>2019-07-25 04:43:36</td>\n",
       "      <td>246</td>\n",
       "    </tr>\n",
       "    <tr>\n",
       "      <th>1</th>\n",
       "      <td>MainScreenAppear</td>\n",
       "      <td>7416695313311560658</td>\n",
       "      <td>2019-07-25 11:11:42</td>\n",
       "      <td>246</td>\n",
       "    </tr>\n",
       "    <tr>\n",
       "      <th>2</th>\n",
       "      <td>PaymentScreenSuccessful</td>\n",
       "      <td>3518123091307005509</td>\n",
       "      <td>2019-07-25 11:28:47</td>\n",
       "      <td>248</td>\n",
       "    </tr>\n",
       "    <tr>\n",
       "      <th>3</th>\n",
       "      <td>CartScreenAppear</td>\n",
       "      <td>3518123091307005509</td>\n",
       "      <td>2019-07-25 11:28:47</td>\n",
       "      <td>248</td>\n",
       "    </tr>\n",
       "    <tr>\n",
       "      <th>4</th>\n",
       "      <td>PaymentScreenSuccessful</td>\n",
       "      <td>6217807653094995999</td>\n",
       "      <td>2019-07-25 11:48:42</td>\n",
       "      <td>248</td>\n",
       "    </tr>\n",
       "  </tbody>\n",
       "</table>\n",
       "</div>"
      ],
      "text/plain": [
       "                event_name       device_id_hash     event_timestamp  exp_id\n",
       "0         MainScreenAppear  4575588528974610257 2019-07-25 04:43:36     246\n",
       "1         MainScreenAppear  7416695313311560658 2019-07-25 11:11:42     246\n",
       "2  PaymentScreenSuccessful  3518123091307005509 2019-07-25 11:28:47     248\n",
       "3         CartScreenAppear  3518123091307005509 2019-07-25 11:28:47     248\n",
       "4  PaymentScreenSuccessful  6217807653094995999 2019-07-25 11:48:42     248"
      ]
     },
     "execution_count": 6,
     "metadata": {},
     "output_type": "execute_result"
    }
   ],
   "source": [
    "data['event_timestamp'] = pd.to_datetime(data['event_timestamp'], unit='s')\n",
    "data.head()"
   ]
  },
  {
   "cell_type": "markdown",
   "metadata": {},
   "source": [
    "Мы добавили столбец даты и времени, а теперь добавим отдельный столбец дат:"
   ]
  },
  {
   "cell_type": "code",
   "execution_count": 7,
   "metadata": {},
   "outputs": [
    {
     "data": {
      "text/html": [
       "<div>\n",
       "<style scoped>\n",
       "    .dataframe tbody tr th:only-of-type {\n",
       "        vertical-align: middle;\n",
       "    }\n",
       "\n",
       "    .dataframe tbody tr th {\n",
       "        vertical-align: top;\n",
       "    }\n",
       "\n",
       "    .dataframe thead th {\n",
       "        text-align: right;\n",
       "    }\n",
       "</style>\n",
       "<table border=\"1\" class=\"dataframe\">\n",
       "  <thead>\n",
       "    <tr style=\"text-align: right;\">\n",
       "      <th></th>\n",
       "      <th>event_name</th>\n",
       "      <th>device_id_hash</th>\n",
       "      <th>event_timestamp</th>\n",
       "      <th>exp_id</th>\n",
       "      <th>date</th>\n",
       "    </tr>\n",
       "  </thead>\n",
       "  <tbody>\n",
       "    <tr>\n",
       "      <th>0</th>\n",
       "      <td>MainScreenAppear</td>\n",
       "      <td>4575588528974610257</td>\n",
       "      <td>2019-07-25 04:43:36</td>\n",
       "      <td>246</td>\n",
       "      <td>2019-07-25</td>\n",
       "    </tr>\n",
       "    <tr>\n",
       "      <th>1</th>\n",
       "      <td>MainScreenAppear</td>\n",
       "      <td>7416695313311560658</td>\n",
       "      <td>2019-07-25 11:11:42</td>\n",
       "      <td>246</td>\n",
       "      <td>2019-07-25</td>\n",
       "    </tr>\n",
       "    <tr>\n",
       "      <th>2</th>\n",
       "      <td>PaymentScreenSuccessful</td>\n",
       "      <td>3518123091307005509</td>\n",
       "      <td>2019-07-25 11:28:47</td>\n",
       "      <td>248</td>\n",
       "      <td>2019-07-25</td>\n",
       "    </tr>\n",
       "    <tr>\n",
       "      <th>3</th>\n",
       "      <td>CartScreenAppear</td>\n",
       "      <td>3518123091307005509</td>\n",
       "      <td>2019-07-25 11:28:47</td>\n",
       "      <td>248</td>\n",
       "      <td>2019-07-25</td>\n",
       "    </tr>\n",
       "    <tr>\n",
       "      <th>4</th>\n",
       "      <td>PaymentScreenSuccessful</td>\n",
       "      <td>6217807653094995999</td>\n",
       "      <td>2019-07-25 11:48:42</td>\n",
       "      <td>248</td>\n",
       "      <td>2019-07-25</td>\n",
       "    </tr>\n",
       "  </tbody>\n",
       "</table>\n",
       "</div>"
      ],
      "text/plain": [
       "                event_name       device_id_hash     event_timestamp  exp_id  \\\n",
       "0         MainScreenAppear  4575588528974610257 2019-07-25 04:43:36     246   \n",
       "1         MainScreenAppear  7416695313311560658 2019-07-25 11:11:42     246   \n",
       "2  PaymentScreenSuccessful  3518123091307005509 2019-07-25 11:28:47     248   \n",
       "3         CartScreenAppear  3518123091307005509 2019-07-25 11:28:47     248   \n",
       "4  PaymentScreenSuccessful  6217807653094995999 2019-07-25 11:48:42     248   \n",
       "\n",
       "         date  \n",
       "0  2019-07-25  \n",
       "1  2019-07-25  \n",
       "2  2019-07-25  \n",
       "3  2019-07-25  \n",
       "4  2019-07-25  "
      ]
     },
     "execution_count": 7,
     "metadata": {},
     "output_type": "execute_result"
    }
   ],
   "source": [
    "data['date'] = data['event_timestamp'].dt.date\n",
    "data['date'] = pd.to_datetime(data['date']).dt.date\n",
    "data.head()"
   ]
  },
  {
   "cell_type": "markdown",
   "metadata": {},
   "source": [
    "Данные готовы для последующей работы!"
   ]
  },
  {
   "cell_type": "markdown",
   "metadata": {},
   "source": [
    "<b>Проверим наличие дубликатов:"
   ]
  },
  {
   "cell_type": "code",
   "execution_count": 8,
   "metadata": {},
   "outputs": [
    {
     "data": {
      "text/plain": [
       "413"
      ]
     },
     "execution_count": 8,
     "metadata": {},
     "output_type": "execute_result"
    }
   ],
   "source": [
    "data.duplicated().sum()"
   ]
  },
  {
   "cell_type": "markdown",
   "metadata": {},
   "source": [
    "<b>Удалим имеющиеся дубликаты, и заодно посмотрим, сколько составляет потеря."
   ]
  },
  {
   "cell_type": "code",
   "execution_count": 9,
   "metadata": {},
   "outputs": [
    {
     "name": "stdout",
     "output_type": "stream",
     "text": [
      "До удаления дубликатов было: 244126 данных, а после удаления стало: 243713. Потеря составляет: 0.1692%\n"
     ]
    }
   ],
   "source": [
    "initial_shape = len(data)\n",
    "data = data.drop_duplicates()\n",
    "new_shape = len(data)\n",
    "loss = (initial_shape - new_shape) / initial_shape\n",
    "print(f\"До удаления дубликатов было: {initial_shape} данных, а после удаления стало: {new_shape}. Потеря составляет: {loss:.4%}\")"
   ]
  },
  {
   "cell_type": "markdown",
   "metadata": {},
   "source": [
    "С такими данными можно работать."
   ]
  },
  {
   "cell_type": "markdown",
   "metadata": {},
   "source": [
    "<b>Проведем проверку попадания пользователей сразу в несколько групп:"
   ]
  },
  {
   "cell_type": "code",
   "execution_count": 10,
   "metadata": {},
   "outputs": [
    {
     "name": "stdout",
     "output_type": "stream",
     "text": [
      "Пересечение между группами 246 и 247: 0 пользователей\n",
      "Пересечение между группами 246 и 248: 0 пользователей\n",
      "Пересечение между группами 247 и 248: 0 пользователей\n"
     ]
    }
   ],
   "source": [
    "# Объявим группы здесь\n",
    "group_246 = data[data['exp_id'] == 246]\n",
    "group_247 = data[data['exp_id'] == 247]\n",
    "group_248 = data[data['exp_id'] == 248]\n",
    "\n",
    "# Получаем уникальных пользователей из каждой группы\n",
    "users_246 = set(group_246['device_id_hash'].unique())\n",
    "users_247 = set(group_247['device_id_hash'].unique())\n",
    "users_248 = set(group_248['device_id_hash'].unique())\n",
    "\n",
    "# Проверяем пересечения\n",
    "overlap_246_247 = users_246 & users_247\n",
    "overlap_246_248 = users_246 & users_248\n",
    "overlap_247_248 = users_247 & users_248\n",
    "\n",
    "# Выводим результаты\n",
    "print(f\"Пересечение между группами 246 и 247: {len(overlap_246_247)} пользователей\")\n",
    "print(f\"Пересечение между группами 246 и 248: {len(overlap_246_248)} пользователей\")\n",
    "print(f\"Пересечение между группами 247 и 248: {len(overlap_247_248)} пользователей\")\n"
   ]
  },
  {
   "cell_type": "markdown",
   "metadata": {},
   "source": [
    "Как видим из проверки - попадания пользователей сразу в несколько групп не происходит."
   ]
  },
  {
   "cell_type": "markdown",
   "metadata": {},
   "source": [
    "## Шаг 3. Изучим и проверим данные\n",
    "- Сколько всего событий в логе?\n",
    "- Сколько всего пользователей в логе?\n",
    "- Сколько в среднем событий приходится на пользователя?\n",
    "- Данными за какой период вы располагаете? Найдите максимальную и минимальную дату. Изучите, как меняется количество данных: постройте столбчатую диаграмму, которая отобразит количество событий в зависимости от времени в разрезе групп. Можно ли быть уверенным, что у вас одинаково полные данные за весь период? Технически в логи новых дней по некоторым пользователям могут «доезжать» события из прошлого — это может «перекашивать данные». Определите, с какого момента данные полные и отбросьте более старые. Данными за какой период времени вы располагаете на самом деле?\n",
    "- Много ли событий и пользователей вы потеряли, отбросив старые данные?\n",
    "- Проверьте, что у вас есть пользователи из всех трёх экспериментальных групп."
   ]
  },
  {
   "cell_type": "markdown",
   "metadata": {},
   "source": [
    "### Посмотрим сколько всего событий в логе."
   ]
  },
  {
   "cell_type": "code",
   "execution_count": 11,
   "metadata": {},
   "outputs": [
    {
     "name": "stdout",
     "output_type": "stream",
     "text": [
      "Уникальных событий: 5\n",
      "Всего событий: 243713\n"
     ]
    }
   ],
   "source": [
    "unique_events = data['event_name'].nunique()\n",
    "print(\"Уникальных событий:\", unique_events)\n",
    "event_count = data.shape[0]\n",
    "print(\"Всего событий:\", event_count)"
   ]
  },
  {
   "cell_type": "markdown",
   "metadata": {},
   "source": [
    "### Посмотрим сколько всего пользователей в логе"
   ]
  },
  {
   "cell_type": "code",
   "execution_count": 12,
   "metadata": {},
   "outputs": [
    {
     "name": "stdout",
     "output_type": "stream",
     "text": [
      "Уникальных пользователей в логе: 7551\n"
     ]
    }
   ],
   "source": [
    "user_count = data['device_id_hash'].nunique()\n",
    "print(\"Уникальных пользователей в логе:\", user_count)"
   ]
  },
  {
   "cell_type": "markdown",
   "metadata": {},
   "source": [
    "### Посмотрим сколько в среднем событий приходится на пользователя."
   ]
  },
  {
   "cell_type": "code",
   "execution_count": 13,
   "metadata": {},
   "outputs": [
    {
     "data": {
      "text/plain": [
       "32.27559263673685"
      ]
     },
     "execution_count": 13,
     "metadata": {},
     "output_type": "execute_result"
    }
   ],
   "source": [
    "avg_events_per_user = event_count / user_count\n",
    "avg_events_per_user"
   ]
  },
  {
   "cell_type": "markdown",
   "metadata": {},
   "source": [
    "### Данными за какой период мы располагаем? "
   ]
  },
  {
   "cell_type": "markdown",
   "metadata": {},
   "source": [
    "Посмотрим, данными за какой период мы располагаем. Для этого найдем минимальную и максимальную даты."
   ]
  },
  {
   "cell_type": "code",
   "execution_count": 14,
   "metadata": {},
   "outputs": [
    {
     "name": "stdout",
     "output_type": "stream",
     "text": [
      "Минимальная дата: 2019-07-25\n",
      "Максимальная дата: 2019-08-07\n"
     ]
    }
   ],
   "source": [
    "min_date = data['date'].min()\n",
    "max_date = data['date'].max()\n",
    "\n",
    "print(\"Минимальная дата:\", min_date)\n",
    "print(\"Максимальная дата:\", max_date)"
   ]
  },
  {
   "cell_type": "markdown",
   "metadata": {},
   "source": [
    "<b>Изучим, как меняется количество данных: построим столбчатую диаграмму, которая отобразит количество событий в зависимости от времени в разрезе групп."
   ]
  },
  {
   "cell_type": "code",
   "execution_count": 16,
   "metadata": {},
   "outputs": [
    {
     "data": {
      "image/png": "[encoded data removed]",
      "text/plain": [
       "<Figure size 864x432 with 1 Axes>"
      ]
     },
     "metadata": {
      "needs_background": "light"
     },
     "output_type": "display_data"
    }
   ],
   "source": [
    "# Группируем данные по дате и экспериментальной группе (exp_id) и считаем количество событий\n",
    "event_counts = data.groupby([data['date'], 'exp_id']).size().reset_index(name='event_count')\n",
    "\n",
    "plt.figure(figsize=(12, 6))\n",
    "\n",
    "sns.barplot(\n",
    "    x='date', \n",
    "    y='event_count', \n",
    "    hue='exp_id',  # Разбиение по группам\n",
    "    data=event_counts,\n",
    "    ci=None  # Отключаем доверительные интервалы\n",
    ")\n",
    "\n",
    "plt.xlabel('Дата')\n",
    "plt.ylabel('Количество событий')\n",
    "plt.title('Количество событий по времени в разрезе групп')\n",
    "plt.xticks(rotation=45)\n",
    "plt.tight_layout()\n",
    "plt.show()\n"
   ]
  },
  {
   "cell_type": "markdown",
   "metadata": {},
   "source": [
    "Судя по представленным диаграммам, у нас не одинаково полные данные за весь период. Данные полные с 2019-08-01. То есть, на самом деле, мы имеем дело с периодом времени в одну неделю."
   ]
  },
  {
   "cell_type": "markdown",
   "metadata": {},
   "source": [
    "### Отбросим более старые данные.\n",
    "Избавимся от данных до 2019-08-01. Напомню, что данные до фильтрации уже были сохраненые в переменных event_count и user_count."
   ]
  },
  {
   "cell_type": "code",
   "execution_count": 17,
   "metadata": {},
   "outputs": [
    {
     "name": "stdout",
     "output_type": "stream",
     "text": [
      "Количество событий до фильтрации: 243713\n",
      "Количество событий после фильтрации: 240887\n",
      "Потеряно событий: 2826 или 1.16%\n",
      "\n",
      "Количество уникальных пользователей до фильтрации: 7551\n",
      "Количество уникальных пользователей после фильтрации: 7534\n",
      "Потеряно пользователей: 17 или 0.23%\n"
     ]
    }
   ],
   "source": [
    "# Фильтруем данные, оставляя только события после 2019-08-01\n",
    "filter_date = pd.to_datetime(\"2019-08-01\").date()\n",
    "data_filtered = data.query('date >= @filter_date')\n",
    "\n",
    "# Считаем количество событий и уникальных пользователей после фильтрации\n",
    "filtered_event_count = data_filtered.shape[0]\n",
    "filtered_user_count = data_filtered['device_id_hash'].nunique()\n",
    "\n",
    "# Посчитаем потерянные данные\n",
    "lost_events = event_count - filtered_event_count\n",
    "lost_users = user_count - filtered_user_count\n",
    "\n",
    "# Выведем результаты\n",
    "print(f\"Количество событий до фильтрации: {event_count}\")\n",
    "print(f\"Количество событий после фильтрации: {filtered_event_count}\")\n",
    "print(f\"Потеряно событий: {lost_events} или {round((1 - filtered_event_count/event_count)*100, 2)}%\")\n",
    "print()\n",
    "print(f\"Количество уникальных пользователей до фильтрации: {user_count}\")\n",
    "print(f\"Количество уникальных пользователей после фильтрации: {filtered_user_count}\")\n",
    "print(f\"Потеряно пользователей: {lost_users} или {round((1 - filtered_user_count/user_count)*100, 2)}%\")\n"
   ]
  },
  {
   "cell_type": "markdown",
   "metadata": {},
   "source": [
    "После фильтрации мы потеряли около 1% событий и меньше четверти процента пользователей. Я бы сказал, что потери являются незначительными. С такими данными можно работать."
   ]
  },
  {
   "cell_type": "markdown",
   "metadata": {},
   "source": [
    "### Проверим, что у нас есть пользователи из всех трёх экспериментальных групп."
   ]
  },
  {
   "cell_type": "code",
   "execution_count": 18,
   "metadata": {},
   "outputs": [
    {
     "name": "stdout",
     "output_type": "stream",
     "text": [
      "Количество уникальных пользователей в каждой группе:\n",
      "exp_id\n",
      "246    2484\n",
      "247    2513\n",
      "248    2537\n",
      "Name: device_id_hash, dtype: int64\n"
     ]
    }
   ],
   "source": [
    "users_per_group = data_filtered.groupby('exp_id')['device_id_hash'].nunique()\n",
    "\n",
    "print(\"Количество уникальных пользователей в каждой группе:\")\n",
    "print(users_per_group)"
   ]
  },
  {
   "cell_type": "markdown",
   "metadata": {},
   "source": [
    "Как видим, представлены пользователи из каждой группы!"
   ]
  },
  {
   "cell_type": "code",
   "execution_count": 19,
   "metadata": {},
   "outputs": [
    {
     "data": {
      "text/plain": [
       "datetime.date(2019, 8, 1)"
      ]
     },
     "execution_count": 19,
     "metadata": {},
     "output_type": "execute_result"
    }
   ],
   "source": [
    "# Напоследок перезапишу отфильтрованные данные для последующего удобства.\n",
    "data = data_filtered\n",
    "user_count = filtered_user_count\n",
    "event_count = filtered_event_count\n",
    "data['date'].min()"
   ]
  },
  {
   "cell_type": "markdown",
   "metadata": {},
   "source": [
    "## Шаг 4. Изучим воронку событий"
   ]
  },
  {
   "cell_type": "markdown",
   "metadata": {},
   "source": [
    "### Посмотрим, какие события есть в логах, как часто они встречаются. Отсортируем события по частоте"
   ]
  },
  {
   "cell_type": "code",
   "execution_count": 20,
   "metadata": {},
   "outputs": [
    {
     "data": {
      "text/plain": [
       "MainScreenAppear           117328\n",
       "OffersScreenAppear          46333\n",
       "CartScreenAppear            42303\n",
       "PaymentScreenSuccessful     33918\n",
       "Tutorial                     1005\n",
       "Name: event_name, dtype: int64"
      ]
     },
     "execution_count": 20,
     "metadata": {},
     "output_type": "execute_result"
    }
   ],
   "source": [
    "event_counts = data['event_name'].value_counts()\n",
    "event_counts"
   ]
  },
  {
   "cell_type": "code",
   "execution_count": 21,
   "metadata": {},
   "outputs": [
    {
     "data": {
      "image/png": "[encoded data removed]",
      "text/plain": [
       "<Figure size 720x432 with 1 Axes>"
      ]
     },
     "metadata": {
      "needs_background": "light"
     },
     "output_type": "display_data"
    }
   ],
   "source": [
    "plt.figure(figsize=(10, 6))\n",
    "event_counts.plot(kind='barh')\n",
    "plt.title('Частота уникальных событий')\n",
    "plt.ylabel('События')\n",
    "plt.xlabel('Частота')\n",
    "plt.show()"
   ]
  },
  {
   "cell_type": "markdown",
   "metadata": {},
   "source": [
    "### Посчитаем, сколько пользователей совершали каждое из этих событий. Отсортируем события по числу пользователей. Посчитаем долю пользователей, которые хоть раз совершали событие."
   ]
  },
  {
   "cell_type": "code",
   "execution_count": 22,
   "metadata": {},
   "outputs": [
    {
     "name": "stdout",
     "output_type": "stream",
     "text": [
      "Количество пользователей для каждого события:\n",
      "                event_name  user_count  user_share\n",
      "1         MainScreenAppear        7419       98.47\n",
      "2       OffersScreenAppear        4593       60.96\n",
      "0         CartScreenAppear        3734       49.56\n",
      "3  PaymentScreenSuccessful        3539       46.97\n",
      "4                 Tutorial         840       11.15\n"
     ]
    },
    {
     "data": {
      "image/png": "[encoded data removed]",
      "text/plain": [
       "<Figure size 720x432 with 1 Axes>"
      ]
     },
     "metadata": {
      "needs_background": "light"
     },
     "output_type": "display_data"
    }
   ],
   "source": [
    "# Группируем по событию и считаем количество уникальных пользователей\n",
    "event_user_counts = data.groupby('event_name')['device_id_hash'].nunique().reset_index()\n",
    "event_user_counts.columns = ['event_name', 'user_count']\n",
    "event_user_counts = event_user_counts.sort_values(by='user_count', ascending=False)\n",
    "\n",
    "# Рассчитываем долю пользователей, которые совершали каждое событие\n",
    "event_user_counts['user_share'] = (event_user_counts['user_count'] / user_count * 100).round(2)\n",
    "\n",
    "print(\"Количество пользователей для каждого события:\")\n",
    "print(event_user_counts)\n",
    "\n",
    "# Построим график:\n",
    "plt.figure(figsize=(10, 6))\n",
    "plt.barh(event_user_counts['event_name'], event_user_counts['user_share'])\n",
    "plt.xlabel('Доля пользователей')\n",
    "plt.ylabel('События')\n",
    "plt.title('Доля пользователей, совершавших каждое событие')\n",
    "plt.gca().invert_yaxis()  # Для правильного порядка\n",
    "plt.tight_layout()\n",
    "plt.show()"
   ]
  },
  {
   "cell_type": "markdown",
   "metadata": {},
   "source": [
    "Интересно, что около 1,5% пользователей миновали главный экран.\n",
    "Это может говорить о том, что обязательной последовательности нет. Вполне вероятно пользователи приходили на страницы товаров по прямой ссылке."
   ]
  },
  {
   "cell_type": "markdown",
   "metadata": {},
   "source": [
    "### Предположим, в каком порядке происходят события. Все ли они выстраиваются в последовательную цепочку? Их не нужно учитывать при расчёте воронки."
   ]
  },
  {
   "cell_type": "markdown",
   "metadata": {},
   "source": [
    "Скорей всего порядок следующий:\n",
    "- MainScreenAppear - Пользователь сначала запускает приложение\n",
    "- Tutorial - Ему предлагается пройти обучение.\n",
    "- OffersScreenAppear - Он выбирает предложения. \n",
    "- CartScreenAppear - Добавляет товары в корзину. \n",
    "- PaymentScreenSuccessful - Оплачивает и переходит на страницу успешного завершения.\n",
    "<br>\n",
    "<p>В таком случае, все шаги кроме Tutorial выстраиваются в последовательную цепочку. Доля прошедших обучение настолько мала, что наталкивает на мысль, о том, что его можно пропустить и сразу перейти к следующему шагу. Я бы пропустил это событие при расчете переходов на следующий шаг воронки."
   ]
  },
  {
   "cell_type": "markdown",
   "metadata": {},
   "source": [
    "### По воронке событий посчитаем, какая доля пользователей проходит на следующий шаг воронки (от числа пользователей на предыдущем). То есть для последовательности событий A → B → C посчитаем отношение числа пользователей с событием B к количеству пользователей с событием A, а также отношение числа пользователей с событием C к количеству пользователей с событием B."
   ]
  },
  {
   "cell_type": "markdown",
   "metadata": {},
   "source": [
    "Ниже я назвал шаги для удобства счета:\n",
    "- MainScreenAppear - A\n",
    "- OffersScreenAppear - B\n",
    "- CartScreenAppear - C\n",
    "- PaymentScreenSuccessful - D"
   ]
  },
  {
   "cell_type": "code",
   "execution_count": 23,
   "metadata": {},
   "outputs": [
    {
     "name": "stdout",
     "output_type": "stream",
     "text": [
      "Доля переходов из MainScreenAppear в OffersScreenAppear: 61.91%\n",
      "Доля переходов из OffersScreenAppear в CartScreenAppear: 81.3%\n",
      "Доля переходов из CartScreenAppear в PaymentScreenSuccessful: 94.78%\n"
     ]
    }
   ],
   "source": [
    "# Сбросим индексы у таблицы event_user_counts\n",
    "event_user_counts.reset_index(drop=True, inplace=True)\n",
    "\n",
    "B_to_A = (event_user_counts['user_count'][1]/event_user_counts['user_count'][0] * 100).round(2)\n",
    "C_to_B = (event_user_counts['user_count'][2]/event_user_counts['user_count'][1] * 100).round(2)\n",
    "D_to_C = (event_user_counts['user_count'][3]/event_user_counts['user_count'][2] * 100).round(2)\n",
    "\n",
    "print(f\"Доля переходов из MainScreenAppear в OffersScreenAppear: {B_to_A}%\")\n",
    "print(f\"Доля переходов из OffersScreenAppear в CartScreenAppear: {C_to_B}%\")\n",
    "print(f\"Доля переходов из CartScreenAppear в PaymentScreenSuccessful: {D_to_C}%\")"
   ]
  },
  {
   "cell_type": "code",
   "execution_count": 24,
   "metadata": {},
   "outputs": [
    {
     "name": "stdout",
     "output_type": "stream",
     "text": [
      "Потери переходов из MainScreenAppear в OffersScreenAppear: -38.09%\n",
      "Потери переходов из OffersScreenAppear в CartScreenAppear: -18.70%\n",
      "Потери переходов из CartScreenAppear в PaymentScreenSuccessful: -5.22%\n"
     ]
    }
   ],
   "source": [
    "# Сбросим индексы у таблицы event_user_counts\n",
    "event_user_counts.reset_index(drop=True, inplace=True)\n",
    "\n",
    "# Рассчитываем процентное изменение для каждой пары событий\n",
    "event_user_counts['conversion'] = event_user_counts['user_count'].pct_change() * 100\n",
    "\n",
    "# Печатаем результаты для каждой пары\n",
    "print(f\"Потери переходов из MainScreenAppear в OffersScreenAppear: {event_user_counts['conversion'][1]:.2f}%\")\n",
    "print(f\"Потери переходов из OffersScreenAppear в CartScreenAppear: {event_user_counts['conversion'][2]:.2f}%\")\n",
    "print(f\"Потери переходов из CartScreenAppear в PaymentScreenSuccessful: {event_user_counts['conversion'][3]:.2f}%\")\n"
   ]
  },
  {
   "cell_type": "markdown",
   "metadata": {},
   "source": [
    "### На каком шаге теряете больше всего пользователей?"
   ]
  },
  {
   "cell_type": "markdown",
   "metadata": {},
   "source": [
    "На каждом этапе воронки есть естественное уменьшение числа пользователей, но самые большие потери происходят между этапами MainScreenAppear и OffersScreenAppear. После чего показатели держатся хорошо."
   ]
  },
  {
   "cell_type": "markdown",
   "metadata": {},
   "source": [
    "### Какая доля пользователей доходит от первого события до оплаты?"
   ]
  },
  {
   "cell_type": "markdown",
   "metadata": {},
   "source": [
    "Чтобы посчитать долю пользователей, которые прошли весь путь от первого события до оплаты, возьмем отношение количества пользователей, которые совершили последнее событие, к количеству пользователей, которые начали с первого события."
   ]
  },
  {
   "cell_type": "code",
   "execution_count": 25,
   "metadata": {},
   "outputs": [
    {
     "name": "stdout",
     "output_type": "stream",
     "text": [
      "Доля переходов из MainScreenAppear в PaymentScreenSuccessful: 47.7%\n"
     ]
    }
   ],
   "source": [
    "D_to_A = (event_user_counts['user_count'][3]/event_user_counts['user_count'][0] * 100).round(2)\n",
    "print(f\"Доля переходов из MainScreenAppear в PaymentScreenSuccessful: {D_to_A}%\")"
   ]
  },
  {
   "cell_type": "markdown",
   "metadata": {},
   "source": [
    "Получается, что полный путь от первого шага до последнего проходит почти половина всех пользователей."
   ]
  },
  {
   "cell_type": "markdown",
   "metadata": {},
   "source": [
    "<b>На основании проведенного анализа, можно предложить улучшения интерфейса главного экрана, чтобы повысить привлекательность дальнейших шагов. Возможно, стоит сделать более яркие и понятные призывы к действию или улучшить визуализацию товаров/услуг. Ведь именно при переходе с главного экрана теряется большинство пользователей."
   ]
  },
  {
   "cell_type": "markdown",
   "metadata": {},
   "source": [
    "## Шаг 5. Изучим результаты эксперимента"
   ]
  },
  {
   "cell_type": "markdown",
   "metadata": {},
   "source": [
    "### Сколько пользователей в каждой экспериментальной группе?"
   ]
  },
  {
   "cell_type": "code",
   "execution_count": 26,
   "metadata": {},
   "outputs": [
    {
     "name": "stdout",
     "output_type": "stream",
     "text": [
      "Количество уникальных пользователей в каждой группе:\n",
      "exp_id\n",
      "246    2484\n",
      "247    2513\n",
      "248    2537\n",
      "Name: device_id_hash, dtype: int64\n"
     ]
    }
   ],
   "source": [
    "users_per_group = data_filtered.groupby('exp_id')['device_id_hash'].nunique()\n",
    "\n",
    "print(\"Количество уникальных пользователей в каждой группе:\")\n",
    "print(users_per_group)"
   ]
  },
  {
   "cell_type": "markdown",
   "metadata": {},
   "source": [
    "### Есть 2 контрольные группы для А/А-эксперимента, чтобы проверить корректность всех механизмов и расчётов. Проверим, находят ли статистические критерии разницу между выборками 246 и 247."
   ]
  },
  {
   "cell_type": "markdown",
   "metadata": {},
   "source": [
    "Для проверки гипотез о равенстве долей, процентов или пропорций используем z-тест."
   ]
  },
  {
   "cell_type": "markdown",
   "metadata": {},
   "source": [
    "<b>Нулевая гипотеза:</b> Конверсия пользователей, использующих старый шрифт, не отличается от конверсии пользователей, использующих новый шрифт.<br> \n",
    "<b>Альтернативная гипотеза:</b> Конверсия пользователей, использующих новый шрифт, отличается от конверсии пользователей, использующих старый шрифт.<br><br>\n",
    "    На старте устанавливаем уровень статистической значимости = 5%"
   ]
  },
  {
   "cell_type": "code",
   "execution_count": 27,
   "metadata": {},
   "outputs": [
    {
     "name": "stdout",
     "output_type": "stream",
     "text": [
      "Пропорция пользователей, совершивших покупку в группе 246: 0.4829\n",
      "Пропорция пользователей, совершивших покупку в группе 247: 0.4603\n",
      "p-value: 0.1090\n",
      "Не получилось отвергнуть нулевую гипотезу, нет оснований считать доли разными\n"
     ]
    }
   ],
   "source": [
    "# Количество уникальных пользователей в каждой группе\n",
    "#group_246 = data[data['exp_id'] == 246]\n",
    "#group_247 = data[data['exp_id'] == 247]\n",
    "\n",
    "# Рассчитаем количество пользователей, совершивших оплату в каждой группе\n",
    "users_246_paid = group_246[group_246['event_name'] == 'PaymentScreenSuccessful']['device_id_hash'].nunique()\n",
    "users_247_paid = group_247[group_247['event_name'] == 'PaymentScreenSuccessful']['device_id_hash'].nunique()\n",
    "\n",
    "# Общее количество пользователей в каждой группе\n",
    "total_users_246 = group_246['device_id_hash'].nunique()\n",
    "total_users_247 = group_247['device_id_hash'].nunique()\n",
    "\n",
    "# Рассчитываем пропорции успеха (доля пользователей, совершивших покупку) в каждой группе\n",
    "p1 = users_246_paid / total_users_246\n",
    "p2 = users_247_paid / total_users_247\n",
    "\n",
    "# Объединённая пропорция успехов по обеим группам\n",
    "p_combined = (users_246_paid + users_247_paid) / (total_users_246 + total_users_247)\n",
    "\n",
    "# Разница пропорций в датасетах\n",
    "difference = p1 - p2\n",
    "\n",
    "# Считаем статистику в ст. отклонениях стандартного нормального распределения\n",
    "z_value = difference / mth.sqrt(p_combined * (1 - p_combined) * (1 / total_users_246 + 1 / total_users_247))\n",
    "\n",
    "# Задаём стандартное нормальное распределение (среднее 0, ст. отклонение 1)\n",
    "distr = st.norm(0, 1)\n",
    "\n",
    "# Рассчитываем p-value\n",
    "p_value = (1 - distr.cdf(abs(z_value))) * 2\n",
    "\n",
    "# Уровень значимости\n",
    "alpha = 0.05\n",
    "\n",
    "print(f\"Пропорция пользователей, совершивших покупку в группе 246: {p1:.4f}\")\n",
    "print(f\"Пропорция пользователей, совершивших покупку в группе 247: {p2:.4f}\")\n",
    "print(f\"p-value: {p_value:.4f}\")\n",
    "\n",
    "if p_value < alpha:\n",
    "    print(\"Отвергаем нулевую гипотезу: между долями есть значимая разница\")\n",
    "else:\n",
    "    print(\"Не получилось отвергнуть нулевую гипотезу, нет оснований считать доли разными\")"
   ]
  },
  {
   "cell_type": "markdown",
   "metadata": {},
   "source": [
    "На основе этих данных, статистические тесты не нашли убедительных доказательств разницы между двумя контрольными группами. Похоже, что любые различия между этими группами скорее всего являются случайными."
   ]
  },
  {
   "cell_type": "markdown",
   "metadata": {},
   "source": [
    "### Выберем самое популярное событие. Посчитаем число пользователей, совершивших это событие в каждой из контрольных групп. Посчитаем долю пользователей, совершивших это событие. Проверим, будет ли отличие между группами статистически достоверным. Проделаем то же самое для всех других событий. Можно ли сказать, что разбиение на группы работает корректно?"
   ]
  },
  {
   "cell_type": "markdown",
   "metadata": {},
   "source": [
    "Самое популярное событие — это MainScreenAppear, так как оно имеет наибольшее количество пользователей, совершивших его. <br> \n",
    "Напомню, что это 7419 пользователей, или 98.47% от всех пользователей."
   ]
  },
  {
   "cell_type": "markdown",
   "metadata": {},
   "source": [
    "<b>Посчитаем количество пользователей, совершивших это событие в каждой из контрольных групп и посчитаем долю пользователей, совершивших это событие."
   ]
  },
  {
   "cell_type": "code",
   "execution_count": 28,
   "metadata": {},
   "outputs": [
    {
     "name": "stdout",
     "output_type": "stream",
     "text": [
      "Количество пользователей в группе 246, совершивших событие 'MainScreenAppear': 2456\n",
      "Количество пользователей в группе 247, совершивших событие 'MainScreenAppear': 2482\n",
      "\n",
      "Доля пользователей в группе 246, совершивших событие 'MainScreenAppear': 0.9867\n",
      "Доля пользователей в группе 247, совершивших событие 'MainScreenAppear': 0.9849\n"
     ]
    }
   ],
   "source": [
    "# Посчитаем количество уникальных пользователей, совершивших событие 'MainScreenAppear' в каждой группе\n",
    "users_246_main_screen = group_246[group_246['event_name'] == 'MainScreenAppear']['device_id_hash'].nunique()\n",
    "users_247_main_screen = group_247[group_247['event_name'] == 'MainScreenAppear']['device_id_hash'].nunique()\n",
    "\n",
    "# Рассчитаем долю пользователей, совершивших это событие\n",
    "share_246_main_screen = users_246_main_screen / total_users_246\n",
    "share_247_main_screen = users_247_main_screen / total_users_247\n",
    "\n",
    "print(f\"Количество пользователей в группе 246, совершивших событие 'MainScreenAppear': {users_246_main_screen}\")\n",
    "print(f\"Количество пользователей в группе 247, совершивших событие 'MainScreenAppear': {users_247_main_screen}\")\n",
    "print()\n",
    "print(f\"Доля пользователей в группе 246, совершивших событие 'MainScreenAppear': {share_246_main_screen:.4f}\")\n",
    "print(f\"Доля пользователей в группе 247, совершивших событие 'MainScreenAppear': {share_247_main_screen:.4f}\")"
   ]
  },
  {
   "cell_type": "markdown",
   "metadata": {},
   "source": [
    "<b>Проверим, будет ли отличие между группами статистически достоверным. И проделаем это для всех событий. Для этого обернем проверку в отдельную функцию."
   ]
  },
  {
   "cell_type": "code",
   "execution_count": 29,
   "metadata": {},
   "outputs": [],
   "source": [
    "def compare_groups(event_name, group1, group2, group1_name, group2_name):\n",
    "    # Рассчитываем количество пользователей, совершивших событие в каждой группе\n",
    "    users_group1_event = group1[group1['event_name'] == event_name]['device_id_hash'].nunique()\n",
    "    users_group2_event = group2[group2['event_name'] == event_name]['device_id_hash'].nunique()\n",
    "\n",
    "    # Общее количество пользователей в каждой группе\n",
    "    total_users_group1 = group1['device_id_hash'].nunique()\n",
    "    total_users_group2 = group2['device_id_hash'].nunique()\n",
    "\n",
    "    # Пропорция успеха для каждой группы\n",
    "    p1 = users_group1_event / total_users_group1\n",
    "    p2 = users_group2_event / total_users_group2\n",
    "\n",
    "    # Разница пропорций\n",
    "    difference = p1 - p2\n",
    "\n",
    "    # Объединённая пропорция успехов по обеим группам\n",
    "    p_combined = (users_group1_event + users_group2_event) / (total_users_group1 + total_users_group2)\n",
    "\n",
    "    # Считаем статистику в ст. отклонениях стандартного нормального распределения\n",
    "    z_value = difference / mth.sqrt(p_combined * (1 - p_combined) * (1 / total_users_group1 + 1 / total_users_group2))\n",
    "\n",
    "    # Задаём стандартное нормальное распределение (среднее 0, ст. отклонение 1)\n",
    "    distr = st.norm(0, 1)\n",
    "    \n",
    "    p_value = (1 - distr.cdf(abs(z_value))) * 2\n",
    "\n",
    "    alpha = 0.05\n",
    "    \n",
    "    print(f\"Событие: {event_name}\")\n",
    "    print(f\"Пропорция пользователей в '{group1_name}': {p1:.4f}\")\n",
    "    print(f\"Пропорция пользователей в '{group2_name}': {p2:.4f}\")\n",
    "    print(f\"p-value: {p_value:.4f}\")\n",
    "\n",
    "    if p_value < alpha:\n",
    "        print(f\"Отвергаем нулевую гипотезу: между долями есть значимая разница\\n\")\n",
    "    else:\n",
    "        print(f\"Не получилось отвергнуть нулевую гипотезу, нет оснований считать доли разными\\n\")\n"
   ]
  },
  {
   "cell_type": "code",
   "execution_count": 30,
   "metadata": {},
   "outputs": [
    {
     "name": "stdout",
     "output_type": "stream",
     "text": [
      "Событие: MainScreenAppear\n",
      "Пропорция пользователей в 'группа 246': 0.9867\n",
      "Пропорция пользователей в 'группа 247': 0.9849\n",
      "p-value: 0.5857\n",
      "Не получилось отвергнуть нулевую гипотезу, нет оснований считать доли разными\n",
      "\n",
      "Событие: OffersScreenAppear\n",
      "Пропорция пользователей в 'группа 246': 0.6207\n",
      "Пропорция пользователей в 'группа 247': 0.6071\n",
      "p-value: 0.3233\n",
      "Не получилось отвергнуть нулевую гипотезу, нет оснований считать доли разными\n",
      "\n",
      "Событие: CartScreenAppear\n",
      "Пропорция пользователей в 'группа 246': 0.5102\n",
      "Пропорция пользователей в 'группа 247': 0.4921\n",
      "p-value: 0.1982\n",
      "Не получилось отвергнуть нулевую гипотезу, нет оснований считать доли разными\n",
      "\n",
      "Событие: PaymentScreenSuccessful\n",
      "Пропорция пользователей в 'группа 246': 0.4829\n",
      "Пропорция пользователей в 'группа 247': 0.4603\n",
      "p-value: 0.1090\n",
      "Не получилось отвергнуть нулевую гипотезу, нет оснований считать доли разными\n",
      "\n",
      "Событие: Tutorial\n",
      "Пропорция пользователей в 'группа 246': 0.1121\n",
      "Пропорция пользователей в 'группа 247': 0.1135\n",
      "p-value: 0.8757\n",
      "Не получилось отвергнуть нулевую гипотезу, нет оснований считать доли разными\n",
      "\n"
     ]
    }
   ],
   "source": [
    "# Список событий для проверки\n",
    "events = event_user_counts['event_name'].unique()\n",
    "\n",
    "# Проверяем статистическую значимость для каждого события\n",
    "for event in events:\n",
    "    compare_groups(event, group_246, group_247, \"группа 246\",\"группа 247\")\n"
   ]
  },
  {
   "cell_type": "markdown",
   "metadata": {},
   "source": [
    "Поскольку для всех проверенных событий p-value оказалось выше порога значимости (0.05), мы не можем утверждать, что между группами есть значимая разница. Это означает, что в текущем эксперименте изменения в группах 246 и 247 не привели к статистически значимым различиям по тестируемым событиям. Исходя из этого можно сказать, что разбиение по группам работает корректно!"
   ]
  },
  {
   "cell_type": "markdown",
   "metadata": {},
   "source": [
    "### Аналогично поступим с группой с изменённым шрифтом. Сравним результаты с каждой из контрольных групп в отдельности по каждому событию. Сравним результаты с объединённой контрольной группой. Какие выводы из эксперимента можно сделать?"
   ]
  },
  {
   "cell_type": "markdown",
   "metadata": {},
   "source": [
    "Добавим группу 248 и объединенную группу для просчитывания в нашей функции."
   ]
  },
  {
   "cell_type": "code",
   "execution_count": 31,
   "metadata": {},
   "outputs": [],
   "source": [
    "#group_248 = data[data['exp_id'] == 248]\n",
    "group_control = data[data['exp_id'].isin([246, 247])]"
   ]
  },
  {
   "cell_type": "code",
   "execution_count": 32,
   "metadata": {},
   "outputs": [
    {
     "name": "stdout",
     "output_type": "stream",
     "text": [
      "Событие: MainScreenAppear\n",
      "Пропорция пользователей в 'группа 248': 0.9839\n",
      "Пропорция пользователей в 'объединённая контрольная группа': 0.9858\n",
      "p-value: 0.5146\n",
      "Не получилось отвергнуть нулевую гипотезу, нет оснований считать доли разными\n",
      "\n",
      "Событие: OffersScreenAppear\n",
      "Пропорция пользователей в 'группа 248': 0.6050\n",
      "Пропорция пользователей в 'объединённая контрольная группа': 0.6128\n",
      "p-value: 0.5152\n",
      "Не получилось отвергнуть нулевую гипотезу, нет оснований считать доли разными\n",
      "\n",
      "Событие: CartScreenAppear\n",
      "Пропорция пользователей в 'группа 248': 0.4874\n",
      "Пропорция пользователей в 'объединённая контрольная группа': 0.5011\n",
      "p-value: 0.2611\n",
      "Не получилось отвергнуть нулевую гипотезу, нет оснований считать доли разными\n",
      "\n",
      "Событие: PaymentScreenSuccessful\n",
      "Пропорция пользователей в 'группа 248': 0.4662\n",
      "Пропорция пользователей в 'объединённая контрольная группа': 0.4719\n",
      "p-value: 0.6384\n",
      "Не получилось отвергнуть нулевую гипотезу, нет оснований считать доли разными\n",
      "\n",
      "Событие: Tutorial\n",
      "Пропорция пользователей в 'группа 248': 0.1109\n",
      "Пропорция пользователей в 'объединённая контрольная группа': 0.1123\n",
      "p-value: 0.8624\n",
      "Не получилось отвергнуть нулевую гипотезу, нет оснований считать доли разными\n",
      "\n"
     ]
    }
   ],
   "source": [
    "for event in events:\n",
    "    compare_groups(event, group_248, group_control, 'группа 248', 'объединённая контрольная группа')"
   ]
  },
  {
   "cell_type": "markdown",
   "metadata": {},
   "source": [
    "<b>Из результатов экспериментов видно, что отсутствют значимые различия.</b> <br> На основании p-value, который во всех случаях значительно выше 0.05, можно сделать вывод, что изменения, связанные с шрифтом в группе 248, не оказывают статистически значимого влияния на поведение пользователей по сравнению с контрольными группами."
   ]
  },
  {
   "cell_type": "markdown",
   "metadata": {},
   "source": [
    "### Посчитаем, сколько проверок статистических гипотез мы сделали. Какой уровень значимости стоит применить? Если мы хотим изменить его, проделаем предыдущие пункты и проверим свои выводы."
   ]
  },
  {
   "cell_type": "markdown",
   "metadata": {},
   "source": [
    "В предыдущем анализе был использован уровень значимости 0.05, что является стандартным выбором для большинства статистических проверок. Это означает, что мы готовы ошибочно отклонить нулевую гипотезу (что между группами нет различий) в 5% случаев, если она действительно верна."
   ]
  },
  {
   "cell_type": "markdown",
   "metadata": {},
   "source": [
    "Мы проводили тестирование для 5 различных событий (MainScreenAppear, OffersScreenAppear, CartScreenAppear, PaymentScreenSuccessful, и Tutorial), и для каждого события делали две проверки (группа 248 против контрольной группы). То есть мы провели 10 проверок статистических гипотез."
   ]
  },
  {
   "cell_type": "markdown",
   "metadata": {},
   "source": [
    "<p>Когда проводятся множественные проверки гипотез (10 тестов в нашем случае), существует риск увеличения ошибки первого рода (ложное отклонение нулевой гипотезы).</p>\n",
    "\n",
    "<p>Если мы используем уровень значимости 0.05 для каждого теста, то вероятность хотя бы одной ошибки первого рода в 10 тестах будет равна:</p>"
   ]
  },
  {
   "cell_type": "code",
   "execution_count": 33,
   "metadata": {},
   "outputs": [
    {
     "data": {
      "text/plain": [
       "0.4012630607616213"
      ]
     },
     "execution_count": 33,
     "metadata": {},
     "output_type": "execute_result"
    }
   ],
   "source": [
    "1 - (1 - 0.05)**10"
   ]
  },
  {
   "cell_type": "markdown",
   "metadata": {},
   "source": [
    "То есть, существует 40% шанс на хотя бы одну ошибку первого рода в 10 тестах, что значительно выше стандартного уровня 0.05"
   ]
  },
  {
   "cell_type": "markdown",
   "metadata": {},
   "source": [
    "<p>Для того чтобы уменьшить вероятность ошибки первого рода, можно применить одну из корректировок для множественных сравнений. Одним из популярных методов является Коррекция Бонферрони, которая делит выбранный уровень значимости на количество тестов. Для нашего случая:</p>"
   ]
  },
  {
   "cell_type": "code",
   "execution_count": 34,
   "metadata": {},
   "outputs": [
    {
     "data": {
      "text/plain": [
       "0.005"
      ]
     },
     "execution_count": 34,
     "metadata": {},
     "output_type": "execute_result"
    }
   ],
   "source": [
    "0.05/10"
   ]
  },
  {
   "cell_type": "markdown",
   "metadata": {},
   "source": [
    "<p>Теперь уровень значимости для каждого теста будет 0.005.</p>\n",
    "\n",
    "<p>Это уменьшит вероятность ошибки первого рода, так как теперь вероятность хотя бы одной ошибки первого рода будет:"
   ]
  },
  {
   "cell_type": "code",
   "execution_count": 35,
   "metadata": {},
   "outputs": [
    {
     "data": {
      "text/plain": [
       "0.048889869534228136"
      ]
     },
     "execution_count": 35,
     "metadata": {},
     "output_type": "execute_result"
    }
   ],
   "source": [
    "1 - (1 - 0.005)**10"
   ]
  },
  {
   "cell_type": "markdown",
   "metadata": {},
   "source": [
    "То есть, вероятность ошибки первого рода уменьшается до 4.88%."
   ]
  },
  {
   "cell_type": "markdown",
   "metadata": {},
   "source": [
    "<b>Но стоит учитывать АА тест и проверку ниже, тогда всего тестов 20."
   ]
  },
  {
   "cell_type": "code",
   "execution_count": 36,
   "metadata": {
    "scrolled": true
   },
   "outputs": [
    {
     "data": {
      "text/plain": [
       "0.6415140775914581"
      ]
     },
     "execution_count": 36,
     "metadata": {},
     "output_type": "execute_result"
    }
   ],
   "source": [
    "1 - (1 - 0.05)**20"
   ]
  },
  {
   "cell_type": "markdown",
   "metadata": {},
   "source": [
    "64% шанс на хотя бы одну ошибку первого рода в 20 тестах"
   ]
  },
  {
   "cell_type": "code",
   "execution_count": 37,
   "metadata": {
    "scrolled": true
   },
   "outputs": [
    {
     "data": {
      "text/plain": [
       "0.0025"
      ]
     },
     "execution_count": 37,
     "metadata": {},
     "output_type": "execute_result"
    }
   ],
   "source": [
    "0.05/20"
   ]
  },
  {
   "cell_type": "markdown",
   "metadata": {},
   "source": [
    "Теперь уровень значимости для каждого теста будет 0.0025"
   ]
  },
  {
   "cell_type": "code",
   "execution_count": 38,
   "metadata": {},
   "outputs": [
    {
     "data": {
      "text/plain": [
       "0.04883012474683324"
      ]
     },
     "execution_count": 38,
     "metadata": {},
     "output_type": "execute_result"
    }
   ],
   "source": [
    "1 - (1 - 0.0025)**20"
   ]
  },
  {
   "cell_type": "markdown",
   "metadata": {},
   "source": [
    "Вероятность ошибки первого рода уменьшается до 4.88%"
   ]
  },
  {
   "cell_type": "markdown",
   "metadata": {},
   "source": [
    "<b>Внесем изменения в нашу функцию:"
   ]
  },
  {
   "cell_type": "code",
   "execution_count": 39,
   "metadata": {},
   "outputs": [],
   "source": [
    "def compare_groups(event_name, group1, group2, group1_name, group2_name):\n",
    "    # Рассчитываем количество пользователей, совершивших событие в каждой группе\n",
    "    users_group1_event = group1[group1['event_name'] == event_name]['device_id_hash'].nunique()\n",
    "    users_group2_event = group2[group2['event_name'] == event_name]['device_id_hash'].nunique()\n",
    "\n",
    "    # Общее количество пользователей в каждой группе\n",
    "    total_users_group1 = group1['device_id_hash'].nunique()\n",
    "    total_users_group2 = group2['device_id_hash'].nunique()\n",
    "\n",
    "    # Пропорция успеха для каждой группы\n",
    "    p1 = users_group1_event / total_users_group1\n",
    "    p2 = users_group2_event / total_users_group2\n",
    "\n",
    "    # Разница пропорций\n",
    "    difference = p1 - p2\n",
    "\n",
    "    # Объединённая пропорция успехов по обеим группам\n",
    "    p_combined = (users_group1_event + users_group2_event) / (total_users_group1 + total_users_group2)\n",
    "\n",
    "    # Считаем статистику в ст. отклонениях стандартного нормального распределения\n",
    "    z_value = difference / mth.sqrt(p_combined * (1 - p_combined) * (1 / total_users_group1 + 1 / total_users_group2))\n",
    "\n",
    "    # Задаём стандартное нормальное распределение (среднее 0, ст. отклонение 1)\n",
    "    distr = st.norm(0, 1)\n",
    "    \n",
    "    p_value = (1 - distr.cdf(abs(z_value))) * 2\n",
    "\n",
    "    alpha = 0.0025\n",
    "    \n",
    "    print(f\"Событие: {event_name}\")\n",
    "    print(f\"Пропорция пользователей в '{group1_name}': {p1:.4f}\")\n",
    "    print(f\"Пропорция пользователей в '{group2_name}': {p2:.4f}\")\n",
    "    print(f\"p-value: {p_value:.4f}\")\n",
    "\n",
    "    if p_value < alpha:\n",
    "        print(f\"Отвергаем нулевую гипотезу: между долями есть значимая разница\\n\")\n",
    "    else:\n",
    "        print(f\"Не получилось отвергнуть нулевую гипотезу, нет оснований считать доли разными\\n\")\n"
   ]
  },
  {
   "cell_type": "code",
   "execution_count": 40,
   "metadata": {},
   "outputs": [
    {
     "name": "stdout",
     "output_type": "stream",
     "text": [
      "Событие: MainScreenAppear\n",
      "Пропорция пользователей в 'группа 248': 0.9839\n",
      "Пропорция пользователей в 'объединённая контрольная группа': 0.9858\n",
      "p-value: 0.5146\n",
      "Не получилось отвергнуть нулевую гипотезу, нет оснований считать доли разными\n",
      "\n",
      "Событие: OffersScreenAppear\n",
      "Пропорция пользователей в 'группа 248': 0.6050\n",
      "Пропорция пользователей в 'объединённая контрольная группа': 0.6128\n",
      "p-value: 0.5152\n",
      "Не получилось отвергнуть нулевую гипотезу, нет оснований считать доли разными\n",
      "\n",
      "Событие: CartScreenAppear\n",
      "Пропорция пользователей в 'группа 248': 0.4874\n",
      "Пропорция пользователей в 'объединённая контрольная группа': 0.5011\n",
      "p-value: 0.2611\n",
      "Не получилось отвергнуть нулевую гипотезу, нет оснований считать доли разными\n",
      "\n",
      "Событие: PaymentScreenSuccessful\n",
      "Пропорция пользователей в 'группа 248': 0.4662\n",
      "Пропорция пользователей в 'объединённая контрольная группа': 0.4719\n",
      "p-value: 0.6384\n",
      "Не получилось отвергнуть нулевую гипотезу, нет оснований считать доли разными\n",
      "\n",
      "Событие: Tutorial\n",
      "Пропорция пользователей в 'группа 248': 0.1109\n",
      "Пропорция пользователей в 'объединённая контрольная группа': 0.1123\n",
      "p-value: 0.8624\n",
      "Не получилось отвергнуть нулевую гипотезу, нет оснований считать доли разными\n",
      "\n"
     ]
    }
   ],
   "source": [
    "for event in events:\n",
    "    compare_groups(event, group_248, group_control, 'группа 248', 'объединённая контрольная группа')"
   ]
  },
  {
   "cell_type": "markdown",
   "metadata": {},
   "source": [
    "Опять же, ни по одному событию не удалось отвергнуть нулевую гипотезу. Для всех событий p-value значительно выше уровня значимости 0.005. Это значит, что у нас нет оснований утверждать, что между группой с изменённым шрифтом и объединённой контрольной группой есть статистически значимые различия в пропорциях пользователей."
   ]
  },
  {
   "cell_type": "markdown",
   "metadata": {},
   "source": [
    "# Вывод\n",
    "По результатам нашего проекта, мы выяснили, что изменение шрифта не оказывает значимого влияния на пользовательское поведение на всех этапах воронки. Доля пользователей, выполнивших события, остаётся примерно одинаковой в обеих группах. С другой стороны, изменение шрифта не улучшает метрики. То есть, с точки зрения данных, такое изменение не выглядит целесообразным. Если внедрение нового шрифта связано с дополнительными затратами, возможно, их стоит избегать, поскольку эффект от изменения отсутствует. Эксперимент показал, что изменение шрифта не приводит к значимым улучшениям пользовательского поведения, и текущий дизайн интерфейса можно считать удовлетворительным."
   ]
  },
  {
   "cell_type": "code",
   "execution_count": null,
   "metadata": {},
   "outputs": [],
   "source": []
  }
 ],
 "metadata": {
  "ExecuteTimeLog": [
   {
    "duration": 463,
    "start_time": "2024-11-12T09:56:13.295Z"
   },
   {
    "duration": 1087,
    "start_time": "2024-11-12T09:56:14.399Z"
   },
   {
    "duration": 15,
    "start_time": "2024-11-12T09:56:22.227Z"
   },
   {
    "duration": 188,
    "start_time": "2024-11-12T10:02:13.700Z"
   },
   {
    "duration": 386,
    "start_time": "2024-11-12T10:02:19.135Z"
   },
   {
    "duration": 327,
    "start_time": "2024-11-12T10:02:19.523Z"
   },
   {
    "duration": 13,
    "start_time": "2024-11-12T10:02:19.854Z"
   },
   {
    "duration": 191,
    "start_time": "2024-11-12T10:02:19.869Z"
   },
   {
    "duration": 353,
    "start_time": "2024-11-12T10:02:31.255Z"
   },
   {
    "duration": 193,
    "start_time": "2024-11-12T10:03:32.360Z"
   },
   {
    "duration": 202,
    "start_time": "2024-11-12T10:03:37.910Z"
   },
   {
    "duration": 188,
    "start_time": "2024-11-12T10:04:43.916Z"
   },
   {
    "duration": 205,
    "start_time": "2024-11-12T10:06:56.555Z"
   },
   {
    "duration": 409,
    "start_time": "2024-11-12T10:07:09.423Z"
   },
   {
    "duration": 337,
    "start_time": "2024-11-12T10:07:09.833Z"
   },
   {
    "duration": 193,
    "start_time": "2024-11-12T10:07:10.171Z"
   },
   {
    "duration": 202,
    "start_time": "2024-11-12T10:07:33.415Z"
   },
   {
    "duration": 62,
    "start_time": "2024-11-12T10:12:39.966Z"
   },
   {
    "duration": 7,
    "start_time": "2024-11-12T10:13:22.833Z"
   },
   {
    "duration": 389,
    "start_time": "2024-11-12T10:13:30.138Z"
   },
   {
    "duration": 315,
    "start_time": "2024-11-12T10:13:30.529Z"
   },
   {
    "duration": 13,
    "start_time": "2024-11-12T10:13:30.846Z"
   },
   {
    "duration": 179,
    "start_time": "2024-11-12T10:13:30.861Z"
   },
   {
    "duration": 7,
    "start_time": "2024-11-12T10:14:23.569Z"
   },
   {
    "duration": 22,
    "start_time": "2024-11-12T10:14:32.190Z"
   },
   {
    "duration": 9,
    "start_time": "2024-11-12T10:16:52.529Z"
   },
   {
    "duration": 60,
    "start_time": "2024-11-12T10:16:57.480Z"
   },
   {
    "duration": 84,
    "start_time": "2024-11-12T10:22:00.827Z"
   },
   {
    "duration": 204,
    "start_time": "2024-11-12T10:23:21.853Z"
   },
   {
    "duration": 187,
    "start_time": "2024-11-12T10:23:25.757Z"
   },
   {
    "duration": 206,
    "start_time": "2024-11-12T10:23:39.160Z"
   },
   {
    "duration": 378,
    "start_time": "2024-11-12T10:23:44.049Z"
   },
   {
    "duration": 323,
    "start_time": "2024-11-12T10:23:44.429Z"
   },
   {
    "duration": 14,
    "start_time": "2024-11-12T10:23:44.754Z"
   },
   {
    "duration": 183,
    "start_time": "2024-11-12T10:23:44.770Z"
   },
   {
    "duration": 23,
    "start_time": "2024-11-12T10:23:44.955Z"
   },
   {
    "duration": 27,
    "start_time": "2024-11-12T10:23:44.980Z"
   },
   {
    "duration": 95,
    "start_time": "2024-11-12T10:23:45.009Z"
   },
   {
    "duration": 12,
    "start_time": "2024-11-12T10:28:34.071Z"
   },
   {
    "duration": 7,
    "start_time": "2024-11-12T10:28:47.283Z"
   },
   {
    "duration": 33,
    "start_time": "2024-11-12T10:32:07.542Z"
   },
   {
    "duration": 31,
    "start_time": "2024-11-12T10:35:20.319Z"
   },
   {
    "duration": 32,
    "start_time": "2024-11-12T10:35:42.313Z"
   },
   {
    "duration": 32,
    "start_time": "2024-11-12T10:37:53.487Z"
   },
   {
    "duration": 32,
    "start_time": "2024-11-12T10:38:44.348Z"
   },
   {
    "duration": 7,
    "start_time": "2024-11-12T10:39:34.565Z"
   },
   {
    "duration": 66,
    "start_time": "2024-11-12T10:41:45.286Z"
   },
   {
    "duration": 4,
    "start_time": "2024-11-12T10:41:51.119Z"
   },
   {
    "duration": 4,
    "start_time": "2024-11-12T10:42:02.862Z"
   },
   {
    "duration": 10,
    "start_time": "2024-11-12T10:42:05.556Z"
   },
   {
    "duration": 12,
    "start_time": "2024-11-12T10:42:47.391Z"
   },
   {
    "duration": 4,
    "start_time": "2024-11-12T10:43:20.157Z"
   },
   {
    "duration": 54,
    "start_time": "2024-11-12T10:55:25.724Z"
   },
   {
    "duration": 2,
    "start_time": "2024-11-12T10:55:41.072Z"
   },
   {
    "duration": 48,
    "start_time": "2024-11-12T10:55:51.499Z"
   },
   {
    "duration": 3,
    "start_time": "2024-11-12T10:55:55.160Z"
   },
   {
    "duration": 3,
    "start_time": "2024-11-12T10:56:11.037Z"
   },
   {
    "duration": 4,
    "start_time": "2024-11-12T10:56:21.265Z"
   },
   {
    "duration": 7,
    "start_time": "2024-11-12T10:58:18.932Z"
   },
   {
    "duration": 4,
    "start_time": "2024-11-12T10:58:43.399Z"
   },
   {
    "duration": 8,
    "start_time": "2024-11-12T11:01:43.571Z"
   },
   {
    "duration": 6,
    "start_time": "2024-11-12T11:01:50.043Z"
   },
   {
    "duration": 45,
    "start_time": "2024-11-12T11:05:58.109Z"
   },
   {
    "duration": 36,
    "start_time": "2024-11-12T11:06:48.807Z"
   },
   {
    "duration": 35,
    "start_time": "2024-11-12T11:08:04.720Z"
   },
   {
    "duration": 435,
    "start_time": "2024-11-12T11:09:24.652Z"
   },
   {
    "duration": 343,
    "start_time": "2024-11-12T11:09:28.588Z"
   },
   {
    "duration": 8,
    "start_time": "2024-11-12T11:09:29.338Z"
   },
   {
    "duration": 191,
    "start_time": "2024-11-12T11:09:29.977Z"
   },
   {
    "duration": 23,
    "start_time": "2024-11-12T11:09:30.388Z"
   },
   {
    "duration": 13,
    "start_time": "2024-11-12T11:09:30.818Z"
   },
   {
    "duration": 84,
    "start_time": "2024-11-12T11:09:31.622Z"
   },
   {
    "duration": 43,
    "start_time": "2024-11-12T11:09:37.872Z"
   },
   {
    "duration": 9,
    "start_time": "2024-11-12T11:09:38.446Z"
   },
   {
    "duration": 4,
    "start_time": "2024-11-12T11:09:39.162Z"
   },
   {
    "duration": 37,
    "start_time": "2024-11-12T11:09:40.660Z"
   },
   {
    "duration": 51,
    "start_time": "2024-11-12T11:09:41.932Z"
   },
   {
    "duration": 661,
    "start_time": "2024-11-12T11:10:01.557Z"
   },
   {
    "duration": 526,
    "start_time": "2024-11-12T11:11:32.255Z"
   },
   {
    "duration": 539,
    "start_time": "2024-11-12T11:12:07.549Z"
   },
   {
    "duration": 1159,
    "start_time": "2024-11-12T11:12:56.851Z"
   },
   {
    "duration": 1123,
    "start_time": "2024-11-12T11:15:05.513Z"
   },
   {
    "duration": 458,
    "start_time": "2024-11-12T11:17:01.413Z"
   },
   {
    "duration": 451,
    "start_time": "2024-11-12T11:17:15.127Z"
   },
   {
    "duration": 499,
    "start_time": "2024-11-12T11:17:36.770Z"
   },
   {
    "duration": 1333,
    "start_time": "2024-11-12T11:20:03.300Z"
   },
   {
    "duration": 1247,
    "start_time": "2024-11-12T11:20:58.710Z"
   },
   {
    "duration": 706,
    "start_time": "2024-11-12T11:21:08.508Z"
   },
   {
    "duration": 355,
    "start_time": "2024-11-12T11:21:09.219Z"
   },
   {
    "duration": 10,
    "start_time": "2024-11-12T11:21:09.576Z"
   },
   {
    "duration": 208,
    "start_time": "2024-11-12T11:21:09.588Z"
   },
   {
    "duration": 32,
    "start_time": "2024-11-12T11:21:09.799Z"
   },
   {
    "duration": 13,
    "start_time": "2024-11-12T11:21:09.833Z"
   },
   {
    "duration": 113,
    "start_time": "2024-11-12T11:21:09.848Z"
   },
   {
    "duration": 52,
    "start_time": "2024-11-12T11:21:09.962Z"
   },
   {
    "duration": 9,
    "start_time": "2024-11-12T11:21:10.016Z"
   },
   {
    "duration": 11,
    "start_time": "2024-11-12T11:21:10.027Z"
   },
   {
    "duration": 49,
    "start_time": "2024-11-12T11:21:10.039Z"
   },
   {
    "duration": 139,
    "start_time": "2024-11-12T11:21:10.090Z"
   },
   {
    "duration": 1323,
    "start_time": "2024-11-12T11:21:34.928Z"
   },
   {
    "duration": 1351,
    "start_time": "2024-11-12T11:23:59.522Z"
   },
   {
    "duration": 1196,
    "start_time": "2024-11-12T11:24:05.867Z"
   },
   {
    "duration": 704,
    "start_time": "2024-11-12T12:25:32.187Z"
   },
   {
    "duration": 331,
    "start_time": "2024-11-12T12:25:32.893Z"
   },
   {
    "duration": 10,
    "start_time": "2024-11-12T12:25:33.226Z"
   },
   {
    "duration": 189,
    "start_time": "2024-11-12T12:25:33.239Z"
   },
   {
    "duration": 23,
    "start_time": "2024-11-12T12:25:33.430Z"
   },
   {
    "duration": 13,
    "start_time": "2024-11-12T12:25:33.455Z"
   },
   {
    "duration": 103,
    "start_time": "2024-11-12T12:25:33.470Z"
   },
   {
    "duration": 48,
    "start_time": "2024-11-12T12:25:33.575Z"
   },
   {
    "duration": 8,
    "start_time": "2024-11-12T12:25:33.625Z"
   },
   {
    "duration": 3,
    "start_time": "2024-11-12T12:25:33.636Z"
   },
   {
    "duration": 48,
    "start_time": "2024-11-12T12:25:33.641Z"
   },
   {
    "duration": 1266,
    "start_time": "2024-11-12T12:25:33.699Z"
   },
   {
    "duration": 1185,
    "start_time": "2024-11-12T12:29:38.503Z"
   },
   {
    "duration": 35,
    "start_time": "2024-11-12T12:42:21.630Z"
   },
   {
    "duration": 329,
    "start_time": "2024-11-12T12:43:43.346Z"
   },
   {
    "duration": 338,
    "start_time": "2024-11-12T12:51:29.811Z"
   },
   {
    "duration": 6,
    "start_time": "2024-11-12T12:51:47.691Z"
   },
   {
    "duration": 247,
    "start_time": "2024-11-12T12:52:02.386Z"
   },
   {
    "duration": 15,
    "start_time": "2024-11-12T12:53:03.782Z"
   },
   {
    "duration": 41,
    "start_time": "2024-11-12T12:53:10.246Z"
   },
   {
    "duration": 36,
    "start_time": "2024-11-12T12:53:21.172Z"
   },
   {
    "duration": 247,
    "start_time": "2024-11-12T12:53:33.520Z"
   },
   {
    "duration": 39,
    "start_time": "2024-11-12T12:54:55.587Z"
   },
   {
    "duration": 121,
    "start_time": "2024-11-12T12:56:05.321Z"
   },
   {
    "duration": 37,
    "start_time": "2024-11-12T12:56:10.579Z"
   },
   {
    "duration": 28,
    "start_time": "2024-11-12T12:56:36.337Z"
   },
   {
    "duration": 30,
    "start_time": "2024-11-12T12:57:15.808Z"
   },
   {
    "duration": 27,
    "start_time": "2024-11-12T12:57:29.526Z"
   },
   {
    "duration": 28,
    "start_time": "2024-11-12T12:57:40.415Z"
   },
   {
    "duration": 24,
    "start_time": "2024-11-12T12:57:56.308Z"
   },
   {
    "duration": 23,
    "start_time": "2024-11-12T12:58:02.086Z"
   },
   {
    "duration": 32,
    "start_time": "2024-11-12T12:58:14.806Z"
   },
   {
    "duration": 23,
    "start_time": "2024-11-12T12:58:54.055Z"
   },
   {
    "duration": 22,
    "start_time": "2024-11-12T12:58:59.884Z"
   },
   {
    "duration": 30,
    "start_time": "2024-11-12T12:59:02.353Z"
   },
   {
    "duration": 37,
    "start_time": "2024-11-12T13:02:24.359Z"
   },
   {
    "duration": 35,
    "start_time": "2024-11-12T13:04:14.373Z"
   },
   {
    "duration": 36,
    "start_time": "2024-11-12T13:05:04.883Z"
   },
   {
    "duration": 21,
    "start_time": "2024-11-12T13:09:51.608Z"
   },
   {
    "duration": 663,
    "start_time": "2024-11-12T13:09:56.903Z"
   },
   {
    "duration": 333,
    "start_time": "2024-11-12T13:09:57.568Z"
   },
   {
    "duration": 11,
    "start_time": "2024-11-12T13:09:57.903Z"
   },
   {
    "duration": 196,
    "start_time": "2024-11-12T13:09:57.916Z"
   },
   {
    "duration": 23,
    "start_time": "2024-11-12T13:09:58.114Z"
   },
   {
    "duration": 13,
    "start_time": "2024-11-12T13:09:58.139Z"
   },
   {
    "duration": 148,
    "start_time": "2024-11-12T13:09:58.154Z"
   },
   {
    "duration": 90,
    "start_time": "2024-11-12T13:09:58.303Z"
   },
   {
    "duration": 9,
    "start_time": "2024-11-12T13:09:58.395Z"
   },
   {
    "duration": 111,
    "start_time": "2024-11-12T13:09:58.405Z"
   },
   {
    "duration": 0,
    "start_time": "2024-11-12T13:09:58.518Z"
   },
   {
    "duration": 0,
    "start_time": "2024-11-12T13:09:58.520Z"
   },
   {
    "duration": 0,
    "start_time": "2024-11-12T13:09:58.523Z"
   },
   {
    "duration": 0,
    "start_time": "2024-11-12T13:09:58.524Z"
   },
   {
    "duration": 0,
    "start_time": "2024-11-12T13:09:58.526Z"
   },
   {
    "duration": 0,
    "start_time": "2024-11-12T13:09:58.528Z"
   },
   {
    "duration": 4,
    "start_time": "2024-11-12T13:10:22.033Z"
   },
   {
    "duration": 669,
    "start_time": "2024-11-12T13:10:25.858Z"
   },
   {
    "duration": 321,
    "start_time": "2024-11-12T13:10:26.529Z"
   },
   {
    "duration": 10,
    "start_time": "2024-11-12T13:10:26.852Z"
   },
   {
    "duration": 192,
    "start_time": "2024-11-12T13:10:26.864Z"
   },
   {
    "duration": 25,
    "start_time": "2024-11-12T13:10:27.058Z"
   },
   {
    "duration": 23,
    "start_time": "2024-11-12T13:10:27.084Z"
   },
   {
    "duration": 137,
    "start_time": "2024-11-12T13:10:27.109Z"
   },
   {
    "duration": 51,
    "start_time": "2024-11-12T13:10:27.248Z"
   },
   {
    "duration": 9,
    "start_time": "2024-11-12T13:10:27.301Z"
   },
   {
    "duration": 4,
    "start_time": "2024-11-12T13:10:27.312Z"
   },
   {
    "duration": 12,
    "start_time": "2024-11-12T13:10:27.317Z"
   },
   {
    "duration": 1224,
    "start_time": "2024-11-12T13:10:27.331Z"
   },
   {
    "duration": 97,
    "start_time": "2024-11-12T13:10:28.556Z"
   },
   {
    "duration": 45,
    "start_time": "2024-11-12T13:10:28.654Z"
   },
   {
    "duration": 29,
    "start_time": "2024-11-12T13:10:28.701Z"
   },
   {
    "duration": 351,
    "start_time": "2024-11-12T13:10:28.732Z"
   },
   {
    "duration": 35,
    "start_time": "2024-11-12T13:12:17.273Z"
   },
   {
    "duration": 35,
    "start_time": "2024-11-12T13:12:24.279Z"
   },
   {
    "duration": 34,
    "start_time": "2024-11-12T13:12:30.872Z"
   },
   {
    "duration": 32,
    "start_time": "2024-11-12T13:12:40.637Z"
   },
   {
    "duration": 34,
    "start_time": "2024-11-12T13:12:48.661Z"
   },
   {
    "duration": 35,
    "start_time": "2024-11-12T13:13:22.211Z"
   },
   {
    "duration": 38,
    "start_time": "2024-11-12T13:13:29.656Z"
   },
   {
    "duration": 33,
    "start_time": "2024-11-12T13:13:34.502Z"
   },
   {
    "duration": 836,
    "start_time": "2024-11-12T13:15:05.583Z"
   },
   {
    "duration": 32,
    "start_time": "2024-11-12T13:15:48.520Z"
   },
   {
    "duration": 275,
    "start_time": "2024-11-12T13:19:44.498Z"
   },
   {
    "duration": 9,
    "start_time": "2024-11-12T13:20:17.014Z"
   },
   {
    "duration": 109,
    "start_time": "2024-11-12T13:20:41.837Z"
   },
   {
    "duration": 284,
    "start_time": "2024-11-12T13:22:06.923Z"
   },
   {
    "duration": 231,
    "start_time": "2024-11-12T13:22:42.608Z"
   },
   {
    "duration": 237,
    "start_time": "2024-11-12T13:22:52.499Z"
   },
   {
    "duration": 254,
    "start_time": "2024-11-12T13:22:58.991Z"
   },
   {
    "duration": 248,
    "start_time": "2024-11-12T13:23:07.578Z"
   },
   {
    "duration": 229,
    "start_time": "2024-11-12T13:23:11.406Z"
   },
   {
    "duration": 280,
    "start_time": "2024-11-12T13:23:14.839Z"
   },
   {
    "duration": 239,
    "start_time": "2024-11-12T13:23:20.093Z"
   },
   {
    "duration": 322,
    "start_time": "2024-11-12T13:23:26.410Z"
   },
   {
    "duration": 147,
    "start_time": "2024-11-12T13:23:30.673Z"
   },
   {
    "duration": 158,
    "start_time": "2024-11-12T13:23:34.523Z"
   },
   {
    "duration": 34,
    "start_time": "2024-11-12T13:24:00.290Z"
   },
   {
    "duration": 352,
    "start_time": "2024-11-12T13:25:09.184Z"
   },
   {
    "duration": 331,
    "start_time": "2024-11-12T13:25:43.592Z"
   },
   {
    "duration": 207,
    "start_time": "2024-11-12T13:25:54.591Z"
   },
   {
    "duration": 10,
    "start_time": "2024-11-12T13:32:34.213Z"
   },
   {
    "duration": 5,
    "start_time": "2024-11-12T13:32:56.259Z"
   },
   {
    "duration": 30,
    "start_time": "2024-11-12T13:32:57.590Z"
   },
   {
    "duration": 318,
    "start_time": "2024-11-12T13:33:00.640Z"
   },
   {
    "duration": 654,
    "start_time": "2024-11-12T13:34:26.015Z"
   },
   {
    "duration": 609,
    "start_time": "2024-11-12T13:40:08.451Z"
   },
   {
    "duration": 440,
    "start_time": "2024-11-12T13:41:09.370Z"
   },
   {
    "duration": 373,
    "start_time": "2024-11-12T13:41:19.679Z"
   },
   {
    "duration": 293,
    "start_time": "2024-11-12T13:41:50.433Z"
   },
   {
    "duration": 306,
    "start_time": "2024-11-12T13:41:59.166Z"
   },
   {
    "duration": 284,
    "start_time": "2024-11-12T13:42:16.476Z"
   },
   {
    "duration": 305,
    "start_time": "2024-11-12T13:42:22.746Z"
   },
   {
    "duration": 157,
    "start_time": "2024-11-12T13:42:44.641Z"
   },
   {
    "duration": 273,
    "start_time": "2024-11-12T13:42:48.596Z"
   },
   {
    "duration": 159,
    "start_time": "2024-11-12T13:42:52.463Z"
   },
   {
    "duration": 244,
    "start_time": "2024-11-12T13:42:57.816Z"
   },
   {
    "duration": 230,
    "start_time": "2024-11-12T13:43:05.315Z"
   },
   {
    "duration": 295,
    "start_time": "2024-11-12T13:43:31.155Z"
   },
   {
    "duration": 78,
    "start_time": "2024-11-12T13:44:31.425Z"
   },
   {
    "duration": 214,
    "start_time": "2024-11-12T13:44:37.459Z"
   },
   {
    "duration": 230,
    "start_time": "2024-11-12T13:45:38.987Z"
   },
   {
    "duration": 219,
    "start_time": "2024-11-12T13:46:38.451Z"
   },
   {
    "duration": 5,
    "start_time": "2024-11-12T13:47:38.827Z"
   },
   {
    "duration": 218,
    "start_time": "2024-11-12T13:47:42.699Z"
   },
   {
    "duration": 204,
    "start_time": "2024-11-12T13:49:40.679Z"
   },
   {
    "duration": 209,
    "start_time": "2024-11-12T13:50:10.750Z"
   },
   {
    "duration": 524,
    "start_time": "2024-11-12T13:52:05.620Z"
   },
   {
    "duration": 553,
    "start_time": "2024-11-12T13:53:04.084Z"
   },
   {
    "duration": 611,
    "start_time": "2024-11-12T13:56:13.801Z"
   },
   {
    "duration": 515,
    "start_time": "2024-11-12T13:56:46.803Z"
   },
   {
    "duration": 743,
    "start_time": "2024-11-14T09:22:33.292Z"
   },
   {
    "duration": 824,
    "start_time": "2024-11-14T09:22:34.037Z"
   },
   {
    "duration": 10,
    "start_time": "2024-11-14T09:22:34.862Z"
   },
   {
    "duration": 154,
    "start_time": "2024-11-14T09:22:34.874Z"
   },
   {
    "duration": 17,
    "start_time": "2024-11-14T09:22:35.031Z"
   },
   {
    "duration": 10,
    "start_time": "2024-11-14T09:22:35.057Z"
   },
   {
    "duration": 112,
    "start_time": "2024-11-14T09:22:35.068Z"
   },
   {
    "duration": 33,
    "start_time": "2024-11-14T09:22:35.182Z"
   },
   {
    "duration": 7,
    "start_time": "2024-11-14T09:22:35.217Z"
   },
   {
    "duration": 4,
    "start_time": "2024-11-14T09:22:35.225Z"
   },
   {
    "duration": 5,
    "start_time": "2024-11-14T09:22:35.230Z"
   },
   {
    "duration": 1146,
    "start_time": "2024-11-14T09:22:35.236Z"
   },
   {
    "duration": 67,
    "start_time": "2024-11-14T09:22:36.383Z"
   },
   {
    "duration": 37,
    "start_time": "2024-11-14T09:22:36.457Z"
   },
   {
    "duration": 6,
    "start_time": "2024-11-14T09:22:36.495Z"
   },
   {
    "duration": 33,
    "start_time": "2024-11-14T09:22:36.503Z"
   },
   {
    "duration": 137,
    "start_time": "2024-11-14T09:22:36.538Z"
   },
   {
    "duration": 189,
    "start_time": "2024-11-14T09:22:36.676Z"
   },
   {
    "duration": 500,
    "start_time": "2024-11-14T09:22:36.866Z"
   },
   {
    "duration": 186,
    "start_time": "2024-11-14T09:23:31.517Z"
   },
   {
    "duration": 1198,
    "start_time": "2024-11-14T09:24:55.713Z"
   },
   {
    "duration": 444,
    "start_time": "2024-11-14T09:25:04.965Z"
   },
   {
    "duration": 446,
    "start_time": "2024-11-14T09:25:48.749Z"
   },
   {
    "duration": 478,
    "start_time": "2024-11-14T09:26:04.144Z"
   },
   {
    "duration": 309,
    "start_time": "2024-11-14T09:26:25.886Z"
   },
   {
    "duration": 430,
    "start_time": "2024-11-14T09:32:54.952Z"
   },
   {
    "duration": 4,
    "start_time": "2024-11-14T09:52:01.247Z"
   },
   {
    "duration": 8,
    "start_time": "2024-11-14T09:52:13.984Z"
   },
   {
    "duration": 4,
    "start_time": "2024-11-14T09:54:15.824Z"
   },
   {
    "duration": 4,
    "start_time": "2024-11-14T09:54:24.816Z"
   },
   {
    "duration": 4,
    "start_time": "2024-11-14T09:57:06.028Z"
   },
   {
    "duration": 4,
    "start_time": "2024-11-14T10:00:27.331Z"
   },
   {
    "duration": 9,
    "start_time": "2024-11-14T10:00:51.176Z"
   },
   {
    "duration": 5,
    "start_time": "2024-11-14T10:01:18.928Z"
   },
   {
    "duration": 4,
    "start_time": "2024-11-14T10:01:24.833Z"
   },
   {
    "duration": 5,
    "start_time": "2024-11-14T10:02:02.980Z"
   },
   {
    "duration": 5,
    "start_time": "2024-11-14T10:06:04.481Z"
   },
   {
    "duration": 8,
    "start_time": "2024-11-14T10:09:28.571Z"
   },
   {
    "duration": 36,
    "start_time": "2024-11-14T11:49:12.744Z"
   },
   {
    "duration": 30,
    "start_time": "2024-11-14T11:49:43.198Z"
   },
   {
    "duration": 39,
    "start_time": "2024-11-14T11:51:52.975Z"
   },
   {
    "duration": 39,
    "start_time": "2024-11-14T11:52:27.755Z"
   },
   {
    "duration": 410,
    "start_time": "2024-11-14T12:00:33.677Z"
   },
   {
    "duration": 32,
    "start_time": "2024-11-14T12:00:56.642Z"
   },
   {
    "duration": 32,
    "start_time": "2024-11-14T12:01:11.097Z"
   },
   {
    "duration": 37,
    "start_time": "2024-11-14T12:05:17.550Z"
   },
   {
    "duration": 2,
    "start_time": "2024-11-14T12:05:45.213Z"
   },
   {
    "duration": 65,
    "start_time": "2024-11-14T12:16:45.627Z"
   },
   {
    "duration": 3,
    "start_time": "2024-11-14T12:16:58.418Z"
   },
   {
    "duration": 3,
    "start_time": "2024-11-14T12:17:29.861Z"
   },
   {
    "duration": 28,
    "start_time": "2024-11-14T12:17:41.913Z"
   },
   {
    "duration": 18,
    "start_time": "2024-11-14T12:24:31.343Z"
   },
   {
    "duration": 19,
    "start_time": "2024-11-14T12:26:00.212Z"
   },
   {
    "duration": 12,
    "start_time": "2024-11-14T12:28:41.757Z"
   },
   {
    "duration": 8,
    "start_time": "2024-11-14T12:28:54.607Z"
   },
   {
    "duration": 6,
    "start_time": "2024-11-14T12:32:32.678Z"
   },
   {
    "duration": 80,
    "start_time": "2024-11-14T12:32:46.846Z"
   },
   {
    "duration": 70,
    "start_time": "2024-11-14T12:40:50.395Z"
   },
   {
    "duration": 97,
    "start_time": "2024-11-14T12:41:18.376Z"
   },
   {
    "duration": 1062,
    "start_time": "2024-11-14T12:41:32.833Z"
   },
   {
    "duration": 271,
    "start_time": "2024-11-14T12:41:33.897Z"
   },
   {
    "duration": 11,
    "start_time": "2024-11-14T12:41:34.171Z"
   },
   {
    "duration": 156,
    "start_time": "2024-11-14T12:41:34.184Z"
   },
   {
    "duration": 18,
    "start_time": "2024-11-14T12:41:34.341Z"
   },
   {
    "duration": 17,
    "start_time": "2024-11-14T12:41:34.361Z"
   },
   {
    "duration": 130,
    "start_time": "2024-11-14T12:41:34.380Z"
   },
   {
    "duration": 120,
    "start_time": "2024-11-14T12:41:34.512Z"
   },
   {
    "duration": 7,
    "start_time": "2024-11-14T12:41:34.634Z"
   },
   {
    "duration": 3,
    "start_time": "2024-11-14T12:41:34.643Z"
   },
   {
    "duration": 11,
    "start_time": "2024-11-14T12:41:34.648Z"
   },
   {
    "duration": 1112,
    "start_time": "2024-11-14T12:41:34.660Z"
   },
   {
    "duration": 31,
    "start_time": "2024-11-14T12:41:35.773Z"
   },
   {
    "duration": 29,
    "start_time": "2024-11-14T12:41:35.806Z"
   },
   {
    "duration": 23,
    "start_time": "2024-11-14T12:41:35.837Z"
   },
   {
    "duration": 26,
    "start_time": "2024-11-14T12:41:35.861Z"
   },
   {
    "duration": 152,
    "start_time": "2024-11-14T12:41:35.888Z"
   },
   {
    "duration": 276,
    "start_time": "2024-11-14T12:41:36.041Z"
   },
   {
    "duration": 4,
    "start_time": "2024-11-14T12:41:36.319Z"
   },
   {
    "duration": 3,
    "start_time": "2024-11-14T12:41:36.358Z"
   },
   {
    "duration": 35,
    "start_time": "2024-11-14T12:41:36.363Z"
   },
   {
    "duration": 143,
    "start_time": "2024-11-14T12:41:36.399Z"
   },
   {
    "duration": 0,
    "start_time": "2024-11-14T12:41:36.543Z"
   },
   {
    "duration": 0,
    "start_time": "2024-11-14T12:41:36.544Z"
   },
   {
    "duration": 0,
    "start_time": "2024-11-14T12:41:36.545Z"
   },
   {
    "duration": 31,
    "start_time": "2024-11-14T12:42:00.074Z"
   },
   {
    "duration": 18,
    "start_time": "2024-11-14T12:42:04.481Z"
   },
   {
    "duration": 5,
    "start_time": "2024-11-14T12:42:08.591Z"
   },
   {
    "duration": 78,
    "start_time": "2024-11-14T12:42:09.609Z"
   },
   {
    "duration": 6,
    "start_time": "2024-11-14T12:45:34.526Z"
   },
   {
    "duration": 71,
    "start_time": "2024-11-14T12:45:37.346Z"
   },
   {
    "duration": 6,
    "start_time": "2024-11-14T12:45:59.279Z"
   },
   {
    "duration": 68,
    "start_time": "2024-11-14T12:45:59.485Z"
   },
   {
    "duration": 33,
    "start_time": "2024-11-14T12:46:06.460Z"
   },
   {
    "duration": 144,
    "start_time": "2024-11-14T12:48:06.998Z"
   },
   {
    "duration": 36,
    "start_time": "2024-11-14T12:48:57.629Z"
   },
   {
    "duration": 92,
    "start_time": "2024-11-14T12:49:22.462Z"
   },
   {
    "duration": 35,
    "start_time": "2024-11-14T12:49:49.291Z"
   },
   {
    "duration": 98,
    "start_time": "2024-11-14T12:49:51.289Z"
   },
   {
    "duration": 38,
    "start_time": "2024-11-14T12:58:10.091Z"
   },
   {
    "duration": 83,
    "start_time": "2024-11-14T12:58:15.469Z"
   },
   {
    "duration": 34,
    "start_time": "2024-11-14T12:58:43.803Z"
   },
   {
    "duration": 81,
    "start_time": "2024-11-14T12:58:44.061Z"
   },
   {
    "duration": 40,
    "start_time": "2024-11-14T13:01:10.152Z"
   },
   {
    "duration": 5,
    "start_time": "2024-11-14T13:01:11.450Z"
   },
   {
    "duration": 86,
    "start_time": "2024-11-14T13:01:12.131Z"
   },
   {
    "duration": 5,
    "start_time": "2024-11-14T13:02:23.196Z"
   },
   {
    "duration": 76,
    "start_time": "2024-11-14T13:03:40.547Z"
   },
   {
    "duration": 5,
    "start_time": "2024-11-14T13:03:56.198Z"
   },
   {
    "duration": 70,
    "start_time": "2024-11-14T13:03:58.500Z"
   },
   {
    "duration": 7,
    "start_time": "2024-11-14T13:04:14.373Z"
   },
   {
    "duration": 77,
    "start_time": "2024-11-14T13:04:16.923Z"
   },
   {
    "duration": 5,
    "start_time": "2024-11-14T13:07:17.125Z"
   },
   {
    "duration": 8,
    "start_time": "2024-11-14T13:07:19.026Z"
   },
   {
    "duration": 25,
    "start_time": "2024-11-14T13:07:23.288Z"
   },
   {
    "duration": 5,
    "start_time": "2024-11-14T13:07:33.791Z"
   },
   {
    "duration": 8,
    "start_time": "2024-11-14T13:07:35.488Z"
   },
   {
    "duration": 34,
    "start_time": "2024-11-14T13:07:35.685Z"
   },
   {
    "duration": 9,
    "start_time": "2024-11-14T13:08:08.376Z"
   },
   {
    "duration": 5,
    "start_time": "2024-11-14T13:08:15.714Z"
   },
   {
    "duration": 11,
    "start_time": "2024-11-14T13:08:17.369Z"
   },
   {
    "duration": 83,
    "start_time": "2024-11-14T13:08:17.559Z"
   },
   {
    "duration": 6,
    "start_time": "2024-11-14T13:13:51.186Z"
   },
   {
    "duration": 35,
    "start_time": "2024-11-14T13:13:51.915Z"
   },
   {
    "duration": 5,
    "start_time": "2024-11-14T13:14:29.183Z"
   },
   {
    "duration": 80,
    "start_time": "2024-11-14T13:14:29.602Z"
   },
   {
    "duration": 1012,
    "start_time": "2024-11-14T13:16:16.867Z"
   },
   {
    "duration": 275,
    "start_time": "2024-11-14T13:16:17.881Z"
   },
   {
    "duration": 15,
    "start_time": "2024-11-14T13:16:18.157Z"
   },
   {
    "duration": 167,
    "start_time": "2024-11-14T13:16:18.174Z"
   },
   {
    "duration": 27,
    "start_time": "2024-11-14T13:16:18.343Z"
   },
   {
    "duration": 16,
    "start_time": "2024-11-14T13:16:18.371Z"
   },
   {
    "duration": 123,
    "start_time": "2024-11-14T13:16:18.388Z"
   },
   {
    "duration": 28,
    "start_time": "2024-11-14T13:16:18.513Z"
   },
   {
    "duration": 19,
    "start_time": "2024-11-14T13:16:18.543Z"
   },
   {
    "duration": 22,
    "start_time": "2024-11-14T13:16:18.565Z"
   },
   {
    "duration": 42,
    "start_time": "2024-11-14T13:16:18.588Z"
   },
   {
    "duration": 1087,
    "start_time": "2024-11-14T13:16:18.632Z"
   },
   {
    "duration": 37,
    "start_time": "2024-11-14T13:16:19.721Z"
   },
   {
    "duration": 34,
    "start_time": "2024-11-14T13:16:19.760Z"
   },
   {
    "duration": 4,
    "start_time": "2024-11-14T13:16:19.796Z"
   },
   {
    "duration": 22,
    "start_time": "2024-11-14T13:16:19.801Z"
   },
   {
    "duration": 165,
    "start_time": "2024-11-14T13:16:19.824Z"
   },
   {
    "duration": 315,
    "start_time": "2024-11-14T13:16:19.991Z"
   },
   {
    "duration": 4,
    "start_time": "2024-11-14T13:16:20.307Z"
   },
   {
    "duration": 4,
    "start_time": "2024-11-14T13:16:20.313Z"
   },
   {
    "duration": 61,
    "start_time": "2024-11-14T13:16:20.319Z"
   },
   {
    "duration": 27,
    "start_time": "2024-11-14T13:16:20.381Z"
   },
   {
    "duration": 18,
    "start_time": "2024-11-14T13:16:20.409Z"
   },
   {
    "duration": 6,
    "start_time": "2024-11-14T13:16:20.428Z"
   },
   {
    "duration": 117,
    "start_time": "2024-11-14T13:16:20.456Z"
   },
   {
    "duration": 0,
    "start_time": "2024-11-14T13:16:20.574Z"
   },
   {
    "duration": 0,
    "start_time": "2024-11-14T13:16:20.575Z"
   },
   {
    "duration": 72,
    "start_time": "2024-11-14T13:17:02.488Z"
   },
   {
    "duration": 66,
    "start_time": "2024-11-14T13:18:11.789Z"
   },
   {
    "duration": 73,
    "start_time": "2024-11-14T13:18:16.198Z"
   },
   {
    "duration": 75,
    "start_time": "2024-11-14T13:18:41.970Z"
   },
   {
    "duration": 38,
    "start_time": "2024-11-14T13:20:36.822Z"
   },
   {
    "duration": 17,
    "start_time": "2024-11-14T13:21:38.927Z"
   },
   {
    "duration": 110,
    "start_time": "2024-11-14T13:21:52.961Z"
   },
   {
    "duration": 6,
    "start_time": "2024-11-14T13:22:58.237Z"
   },
   {
    "duration": 110,
    "start_time": "2024-11-14T13:23:09.014Z"
   },
   {
    "duration": 128,
    "start_time": "2024-11-14T13:23:17.240Z"
   },
   {
    "duration": 102,
    "start_time": "2024-11-14T13:23:26.759Z"
   },
   {
    "duration": 18,
    "start_time": "2024-11-14T13:23:56.071Z"
   },
   {
    "duration": 45,
    "start_time": "2024-11-14T13:25:04.187Z"
   },
   {
    "duration": 36,
    "start_time": "2024-11-14T13:25:34.150Z"
   },
   {
    "duration": 1041,
    "start_time": "2024-11-14T13:25:39.700Z"
   },
   {
    "duration": 272,
    "start_time": "2024-11-14T13:25:40.742Z"
   },
   {
    "duration": 11,
    "start_time": "2024-11-14T13:25:41.016Z"
   },
   {
    "duration": 164,
    "start_time": "2024-11-14T13:25:41.029Z"
   },
   {
    "duration": 18,
    "start_time": "2024-11-14T13:25:41.194Z"
   },
   {
    "duration": 11,
    "start_time": "2024-11-14T13:25:41.213Z"
   },
   {
    "duration": 123,
    "start_time": "2024-11-14T13:25:41.226Z"
   },
   {
    "duration": 35,
    "start_time": "2024-11-14T13:25:41.357Z"
   },
   {
    "duration": 8,
    "start_time": "2024-11-14T13:25:41.394Z"
   },
   {
    "duration": 3,
    "start_time": "2024-11-14T13:25:41.404Z"
   },
   {
    "duration": 7,
    "start_time": "2024-11-14T13:25:41.408Z"
   },
   {
    "duration": 1141,
    "start_time": "2024-11-14T13:25:41.416Z"
   },
   {
    "duration": 27,
    "start_time": "2024-11-14T13:25:42.559Z"
   },
   {
    "duration": 30,
    "start_time": "2024-11-14T13:25:42.588Z"
   },
   {
    "duration": 56,
    "start_time": "2024-11-14T13:25:42.619Z"
   },
   {
    "duration": 81,
    "start_time": "2024-11-14T13:25:42.677Z"
   },
   {
    "duration": 163,
    "start_time": "2024-11-14T13:25:42.759Z"
   },
   {
    "duration": 343,
    "start_time": "2024-11-14T13:25:42.924Z"
   },
   {
    "duration": 10,
    "start_time": "2024-11-14T13:25:43.269Z"
   },
   {
    "duration": 3,
    "start_time": "2024-11-14T13:25:43.281Z"
   },
   {
    "duration": 33,
    "start_time": "2024-11-14T13:25:43.285Z"
   },
   {
    "duration": 59,
    "start_time": "2024-11-14T13:25:43.320Z"
   },
   {
    "duration": 18,
    "start_time": "2024-11-14T13:25:43.380Z"
   },
   {
    "duration": 6,
    "start_time": "2024-11-14T13:25:43.400Z"
   },
   {
    "duration": 97,
    "start_time": "2024-11-14T13:25:43.407Z"
   },
   {
    "duration": 17,
    "start_time": "2024-11-14T13:25:43.506Z"
   },
   {
    "duration": 117,
    "start_time": "2024-11-14T13:25:43.524Z"
   },
   {
    "duration": 5,
    "start_time": "2024-11-14T13:26:27.213Z"
   },
   {
    "duration": 84,
    "start_time": "2024-11-14T13:26:28.059Z"
   },
   {
    "duration": 18,
    "start_time": "2024-11-14T13:26:33.998Z"
   },
   {
    "duration": 101,
    "start_time": "2024-11-14T13:26:34.391Z"
   },
   {
    "duration": 5,
    "start_time": "2024-11-14T13:26:52.699Z"
   },
   {
    "duration": 76,
    "start_time": "2024-11-14T13:26:52.964Z"
   },
   {
    "duration": 14,
    "start_time": "2024-11-14T13:26:53.818Z"
   },
   {
    "duration": 106,
    "start_time": "2024-11-14T13:26:54.151Z"
   },
   {
    "duration": 6,
    "start_time": "2024-11-14T13:44:32.407Z"
   },
   {
    "duration": 78,
    "start_time": "2024-11-14T13:44:33.049Z"
   },
   {
    "duration": 29,
    "start_time": "2024-11-14T13:44:59.973Z"
   },
   {
    "duration": 18,
    "start_time": "2024-11-14T13:45:01.024Z"
   },
   {
    "duration": 5,
    "start_time": "2024-11-14T13:45:01.814Z"
   },
   {
    "duration": 78,
    "start_time": "2024-11-14T13:45:02.397Z"
   },
   {
    "duration": 1151,
    "start_time": "2024-11-16T12:58:21.093Z"
   },
   {
    "duration": 813,
    "start_time": "2024-11-16T12:58:22.246Z"
   },
   {
    "duration": 10,
    "start_time": "2024-11-16T12:58:23.060Z"
   },
   {
    "duration": 140,
    "start_time": "2024-11-16T12:58:23.071Z"
   },
   {
    "duration": 17,
    "start_time": "2024-11-16T12:58:23.213Z"
   },
   {
    "duration": 26,
    "start_time": "2024-11-16T12:58:23.232Z"
   },
   {
    "duration": 99,
    "start_time": "2024-11-16T12:58:23.259Z"
   },
   {
    "duration": 29,
    "start_time": "2024-11-16T12:58:23.359Z"
   },
   {
    "duration": 8,
    "start_time": "2024-11-16T12:58:23.389Z"
   },
   {
    "duration": 3,
    "start_time": "2024-11-16T12:58:23.400Z"
   },
   {
    "duration": 6,
    "start_time": "2024-11-16T12:58:23.404Z"
   },
   {
    "duration": 1139,
    "start_time": "2024-11-16T12:58:23.411Z"
   },
   {
    "duration": 30,
    "start_time": "2024-11-16T12:58:24.552Z"
   },
   {
    "duration": 30,
    "start_time": "2024-11-16T12:58:24.583Z"
   },
   {
    "duration": 5,
    "start_time": "2024-11-16T12:58:24.614Z"
   },
   {
    "duration": 46,
    "start_time": "2024-11-16T12:58:24.620Z"
   },
   {
    "duration": 137,
    "start_time": "2024-11-16T12:58:24.668Z"
   },
   {
    "duration": 286,
    "start_time": "2024-11-16T12:58:24.807Z"
   },
   {
    "duration": 5,
    "start_time": "2024-11-16T12:58:25.095Z"
   },
   {
    "duration": 15,
    "start_time": "2024-11-16T12:58:25.102Z"
   },
   {
    "duration": 38,
    "start_time": "2024-11-16T12:58:25.119Z"
   },
   {
    "duration": 27,
    "start_time": "2024-11-16T12:58:25.159Z"
   },
   {
    "duration": 17,
    "start_time": "2024-11-16T12:58:25.187Z"
   },
   {
    "duration": 5,
    "start_time": "2024-11-16T12:58:25.206Z"
   },
   {
    "duration": 94,
    "start_time": "2024-11-16T12:58:25.212Z"
   },
   {
    "duration": 17,
    "start_time": "2024-11-16T12:58:25.308Z"
   },
   {
    "duration": 111,
    "start_time": "2024-11-16T12:58:25.327Z"
   },
   {
    "duration": 97,
    "start_time": "2024-11-16T13:02:51.703Z"
   },
   {
    "duration": 3,
    "start_time": "2024-11-16T13:10:22.144Z"
   },
   {
    "duration": 4,
    "start_time": "2024-11-16T13:10:31.849Z"
   },
   {
    "duration": 3,
    "start_time": "2024-11-16T13:17:55.684Z"
   },
   {
    "duration": 4,
    "start_time": "2024-11-16T13:20:57.153Z"
   },
   {
    "duration": 5,
    "start_time": "2024-11-16T13:22:38.605Z"
   },
   {
    "duration": 98,
    "start_time": "2024-11-16T13:22:39.932Z"
   },
   {
    "duration": 5,
    "start_time": "2024-11-16T13:26:31.033Z"
   },
   {
    "duration": 98,
    "start_time": "2024-11-16T13:26:31.934Z"
   },
   {
    "duration": 6,
    "start_time": "2024-11-16T13:26:51.151Z"
   },
   {
    "duration": 107,
    "start_time": "2024-11-16T13:26:54.720Z"
   },
   {
    "duration": 1175,
    "start_time": "2024-11-17T03:09:11.359Z"
   },
   {
    "duration": 819,
    "start_time": "2024-11-17T03:09:12.536Z"
   },
   {
    "duration": 11,
    "start_time": "2024-11-17T03:09:13.358Z"
   },
   {
    "duration": 191,
    "start_time": "2024-11-17T03:09:13.371Z"
   },
   {
    "duration": 22,
    "start_time": "2024-11-17T03:09:13.564Z"
   },
   {
    "duration": 13,
    "start_time": "2024-11-17T03:09:13.587Z"
   },
   {
    "duration": 129,
    "start_time": "2024-11-17T03:09:13.602Z"
   },
   {
    "duration": 44,
    "start_time": "2024-11-17T03:09:13.743Z"
   },
   {
    "duration": 9,
    "start_time": "2024-11-17T03:09:13.789Z"
   },
   {
    "duration": 4,
    "start_time": "2024-11-17T03:09:13.800Z"
   },
   {
    "duration": 40,
    "start_time": "2024-11-17T03:09:13.806Z"
   },
   {
    "duration": 1236,
    "start_time": "2024-11-17T03:09:13.848Z"
   },
   {
    "duration": 34,
    "start_time": "2024-11-17T03:09:15.085Z"
   },
   {
    "duration": 50,
    "start_time": "2024-11-17T03:09:15.123Z"
   },
   {
    "duration": 6,
    "start_time": "2024-11-17T03:09:15.175Z"
   },
   {
    "duration": 36,
    "start_time": "2024-11-17T03:09:15.183Z"
   },
   {
    "duration": 180,
    "start_time": "2024-11-17T03:09:15.222Z"
   },
   {
    "duration": 316,
    "start_time": "2024-11-17T03:09:15.404Z"
   },
   {
    "duration": 7,
    "start_time": "2024-11-17T03:09:15.743Z"
   },
   {
    "duration": 7,
    "start_time": "2024-11-17T03:09:15.755Z"
   },
   {
    "duration": 53,
    "start_time": "2024-11-17T03:09:15.766Z"
   },
   {
    "duration": 45,
    "start_time": "2024-11-17T03:09:15.821Z"
   },
   {
    "duration": 21,
    "start_time": "2024-11-17T03:09:15.868Z"
   },
   {
    "duration": 6,
    "start_time": "2024-11-17T03:09:15.891Z"
   },
   {
    "duration": 116,
    "start_time": "2024-11-17T03:09:15.899Z"
   },
   {
    "duration": 28,
    "start_time": "2024-11-17T03:09:16.017Z"
   },
   {
    "duration": 143,
    "start_time": "2024-11-17T03:09:16.046Z"
   },
   {
    "duration": 4,
    "start_time": "2024-11-17T03:09:16.191Z"
   },
   {
    "duration": 12,
    "start_time": "2024-11-17T03:09:16.197Z"
   },
   {
    "duration": 7,
    "start_time": "2024-11-17T03:09:16.211Z"
   },
   {
    "duration": 30,
    "start_time": "2024-11-17T03:09:16.220Z"
   },
   {
    "duration": 133,
    "start_time": "2024-11-17T03:09:16.252Z"
   },
   {
    "duration": 205,
    "start_time": "2024-11-17T03:34:06.892Z"
   },
   {
    "duration": 1119,
    "start_time": "2024-11-17T04:42:44.296Z"
   },
   {
    "duration": 315,
    "start_time": "2024-11-17T04:42:45.417Z"
   },
   {
    "duration": 18,
    "start_time": "2024-11-17T04:42:45.734Z"
   },
   {
    "duration": 178,
    "start_time": "2024-11-17T04:42:45.754Z"
   },
   {
    "duration": 23,
    "start_time": "2024-11-17T04:42:45.933Z"
   },
   {
    "duration": 13,
    "start_time": "2024-11-17T04:42:45.957Z"
   },
   {
    "duration": 140,
    "start_time": "2024-11-17T04:42:45.971Z"
   },
   {
    "duration": 47,
    "start_time": "2024-11-17T04:42:46.113Z"
   },
   {
    "duration": 9,
    "start_time": "2024-11-17T04:42:46.161Z"
   },
   {
    "duration": 4,
    "start_time": "2024-11-17T04:42:46.172Z"
   },
   {
    "duration": 6,
    "start_time": "2024-11-17T04:42:46.177Z"
   },
   {
    "duration": 1178,
    "start_time": "2024-11-17T04:42:46.185Z"
   },
   {
    "duration": 31,
    "start_time": "2024-11-17T04:42:47.364Z"
   },
   {
    "duration": 48,
    "start_time": "2024-11-17T04:42:47.397Z"
   },
   {
    "duration": 5,
    "start_time": "2024-11-17T04:42:47.447Z"
   },
   {
    "duration": 25,
    "start_time": "2024-11-17T04:42:47.454Z"
   },
   {
    "duration": 170,
    "start_time": "2024-11-17T04:42:47.481Z"
   },
   {
    "duration": 342,
    "start_time": "2024-11-17T04:42:47.653Z"
   },
   {
    "duration": 6,
    "start_time": "2024-11-17T04:42:47.996Z"
   },
   {
    "duration": 11,
    "start_time": "2024-11-17T04:42:48.003Z"
   },
   {
    "duration": 53,
    "start_time": "2024-11-17T04:42:48.015Z"
   },
   {
    "duration": 34,
    "start_time": "2024-11-17T04:42:48.070Z"
   },
   {
    "duration": 37,
    "start_time": "2024-11-17T04:42:48.106Z"
   },
   {
    "duration": 6,
    "start_time": "2024-11-17T04:42:48.145Z"
   },
   {
    "duration": 100,
    "start_time": "2024-11-17T04:42:48.153Z"
   },
   {
    "duration": 19,
    "start_time": "2024-11-17T04:42:48.254Z"
   },
   {
    "duration": 136,
    "start_time": "2024-11-17T04:42:48.275Z"
   },
   {
    "duration": 4,
    "start_time": "2024-11-17T04:42:48.414Z"
   },
   {
    "duration": 24,
    "start_time": "2024-11-17T04:42:48.420Z"
   },
   {
    "duration": 5,
    "start_time": "2024-11-17T04:42:48.445Z"
   },
   {
    "duration": 11,
    "start_time": "2024-11-17T04:42:48.452Z"
   },
   {
    "duration": 132,
    "start_time": "2024-11-17T04:42:48.464Z"
   },
   {
    "duration": 48,
    "start_time": "2024-11-17T11:03:57.464Z"
   },
   {
    "duration": 1324,
    "start_time": "2024-11-17T11:04:03.431Z"
   },
   {
    "duration": 896,
    "start_time": "2024-11-17T11:04:04.758Z"
   },
   {
    "duration": 11,
    "start_time": "2024-11-17T11:04:05.656Z"
   },
   {
    "duration": 212,
    "start_time": "2024-11-17T11:04:05.669Z"
   },
   {
    "duration": 22,
    "start_time": "2024-11-17T11:04:05.883Z"
   },
   {
    "duration": 12,
    "start_time": "2024-11-17T11:04:05.907Z"
   },
   {
    "duration": 125,
    "start_time": "2024-11-17T11:04:05.920Z"
   },
   {
    "duration": 72,
    "start_time": "2024-11-17T11:04:06.047Z"
   },
   {
    "duration": 32,
    "start_time": "2024-11-17T11:04:06.121Z"
   },
   {
    "duration": 8,
    "start_time": "2024-11-17T11:04:06.166Z"
   },
   {
    "duration": 8,
    "start_time": "2024-11-17T11:04:06.176Z"
   },
   {
    "duration": 10,
    "start_time": "2024-11-17T11:04:06.185Z"
   },
   {
    "duration": 1288,
    "start_time": "2024-11-17T11:04:06.196Z"
   },
   {
    "duration": 31,
    "start_time": "2024-11-17T11:04:07.486Z"
   },
   {
    "duration": 47,
    "start_time": "2024-11-17T11:04:07.518Z"
   },
   {
    "duration": 5,
    "start_time": "2024-11-17T11:04:07.567Z"
   },
   {
    "duration": 29,
    "start_time": "2024-11-17T11:04:07.574Z"
   },
   {
    "duration": 179,
    "start_time": "2024-11-17T11:04:07.605Z"
   },
   {
    "duration": 323,
    "start_time": "2024-11-17T11:04:07.786Z"
   },
   {
    "duration": 5,
    "start_time": "2024-11-17T11:04:08.111Z"
   },
   {
    "duration": 10,
    "start_time": "2024-11-17T11:04:08.118Z"
   },
   {
    "duration": 49,
    "start_time": "2024-11-17T11:04:08.129Z"
   },
   {
    "duration": 43,
    "start_time": "2024-11-17T11:04:08.180Z"
   },
   {
    "duration": 41,
    "start_time": "2024-11-17T11:04:08.224Z"
   },
   {
    "duration": 6,
    "start_time": "2024-11-17T11:04:08.267Z"
   },
   {
    "duration": 107,
    "start_time": "2024-11-17T11:04:08.275Z"
   },
   {
    "duration": 19,
    "start_time": "2024-11-17T11:04:08.384Z"
   },
   {
    "duration": 140,
    "start_time": "2024-11-17T11:04:08.406Z"
   },
   {
    "duration": 17,
    "start_time": "2024-11-17T11:04:08.548Z"
   },
   {
    "duration": 4,
    "start_time": "2024-11-17T11:04:08.567Z"
   },
   {
    "duration": 17,
    "start_time": "2024-11-17T11:04:08.573Z"
   },
   {
    "duration": 7,
    "start_time": "2024-11-17T11:04:08.592Z"
   },
   {
    "duration": 139,
    "start_time": "2024-11-17T11:04:08.601Z"
   },
   {
    "duration": 100,
    "start_time": "2024-11-17T11:07:11.416Z"
   },
   {
    "duration": 3,
    "start_time": "2024-11-17T11:07:23.299Z"
   },
   {
    "duration": 8,
    "start_time": "2024-11-17T11:08:07.757Z"
   },
   {
    "duration": 5,
    "start_time": "2024-11-17T11:08:17.859Z"
   },
   {
    "duration": 77,
    "start_time": "2024-11-17T11:09:47.008Z"
   },
   {
    "duration": 80,
    "start_time": "2024-11-17T11:11:49.141Z"
   },
   {
    "duration": 1112,
    "start_time": "2024-11-17T11:12:03.806Z"
   },
   {
    "duration": 312,
    "start_time": "2024-11-17T11:12:04.920Z"
   },
   {
    "duration": 12,
    "start_time": "2024-11-17T11:12:05.233Z"
   },
   {
    "duration": 196,
    "start_time": "2024-11-17T11:12:05.246Z"
   },
   {
    "duration": 28,
    "start_time": "2024-11-17T11:12:05.443Z"
   },
   {
    "duration": 15,
    "start_time": "2024-11-17T11:12:05.473Z"
   },
   {
    "duration": 128,
    "start_time": "2024-11-17T11:12:05.489Z"
   },
   {
    "duration": 71,
    "start_time": "2024-11-17T11:12:05.619Z"
   },
   {
    "duration": 95,
    "start_time": "2024-11-17T11:12:05.691Z"
   },
   {
    "duration": 41,
    "start_time": "2024-11-17T11:12:05.789Z"
   },
   {
    "duration": 9,
    "start_time": "2024-11-17T11:12:05.832Z"
   },
   {
    "duration": 27,
    "start_time": "2024-11-17T11:12:05.842Z"
   },
   {
    "duration": 17,
    "start_time": "2024-11-17T11:12:05.871Z"
   },
   {
    "duration": 1257,
    "start_time": "2024-11-17T11:12:05.890Z"
   },
   {
    "duration": 28,
    "start_time": "2024-11-17T11:12:07.149Z"
   },
   {
    "duration": 35,
    "start_time": "2024-11-17T11:12:07.179Z"
   },
   {
    "duration": 7,
    "start_time": "2024-11-17T11:12:07.216Z"
   },
   {
    "duration": 55,
    "start_time": "2024-11-17T11:12:07.225Z"
   },
   {
    "duration": 246,
    "start_time": "2024-11-17T11:12:07.282Z"
   },
   {
    "duration": 295,
    "start_time": "2024-11-17T11:12:07.530Z"
   },
   {
    "duration": 6,
    "start_time": "2024-11-17T11:12:07.827Z"
   },
   {
    "duration": 6,
    "start_time": "2024-11-17T11:12:07.834Z"
   },
   {
    "duration": 55,
    "start_time": "2024-11-17T11:12:07.842Z"
   },
   {
    "duration": 31,
    "start_time": "2024-11-17T11:12:07.898Z"
   },
   {
    "duration": 36,
    "start_time": "2024-11-17T11:12:07.931Z"
   },
   {
    "duration": 5,
    "start_time": "2024-11-17T11:12:07.969Z"
   },
   {
    "duration": 139,
    "start_time": "2024-11-17T11:12:07.976Z"
   },
   {
    "duration": 14,
    "start_time": "2024-11-17T11:12:08.120Z"
   },
   {
    "duration": 135,
    "start_time": "2024-11-17T11:12:08.135Z"
   },
   {
    "duration": 5,
    "start_time": "2024-11-17T11:12:08.272Z"
   },
   {
    "duration": 10,
    "start_time": "2024-11-17T11:12:08.278Z"
   },
   {
    "duration": 10,
    "start_time": "2024-11-17T11:12:08.289Z"
   },
   {
    "duration": 6,
    "start_time": "2024-11-17T11:12:08.301Z"
   },
   {
    "duration": 135,
    "start_time": "2024-11-17T11:12:08.309Z"
   },
   {
    "duration": 80,
    "start_time": "2024-11-17T11:15:06.755Z"
   },
   {
    "duration": 1129,
    "start_time": "2024-11-17T11:15:12.520Z"
   },
   {
    "duration": 310,
    "start_time": "2024-11-17T11:15:13.651Z"
   },
   {
    "duration": 11,
    "start_time": "2024-11-17T11:15:13.962Z"
   },
   {
    "duration": 248,
    "start_time": "2024-11-17T11:15:13.975Z"
   },
   {
    "duration": 22,
    "start_time": "2024-11-17T11:15:14.224Z"
   },
   {
    "duration": 27,
    "start_time": "2024-11-17T11:15:14.247Z"
   },
   {
    "duration": 135,
    "start_time": "2024-11-17T11:15:14.276Z"
   },
   {
    "duration": 71,
    "start_time": "2024-11-17T11:15:14.413Z"
   },
   {
    "duration": 96,
    "start_time": "2024-11-17T11:15:14.486Z"
   },
   {
    "duration": 33,
    "start_time": "2024-11-17T11:15:14.585Z"
   },
   {
    "duration": 7,
    "start_time": "2024-11-17T11:15:14.619Z"
   },
   {
    "duration": 12,
    "start_time": "2024-11-17T11:15:14.628Z"
   },
   {
    "duration": 24,
    "start_time": "2024-11-17T11:15:14.642Z"
   },
   {
    "duration": 1248,
    "start_time": "2024-11-17T11:15:14.668Z"
   },
   {
    "duration": 26,
    "start_time": "2024-11-17T11:15:15.918Z"
   },
   {
    "duration": 49,
    "start_time": "2024-11-17T11:15:15.946Z"
   },
   {
    "duration": 6,
    "start_time": "2024-11-17T11:15:15.996Z"
   },
   {
    "duration": 63,
    "start_time": "2024-11-17T11:15:16.003Z"
   },
   {
    "duration": 171,
    "start_time": "2024-11-17T11:15:16.068Z"
   },
   {
    "duration": 333,
    "start_time": "2024-11-17T11:15:16.241Z"
   },
   {
    "duration": 6,
    "start_time": "2024-11-17T11:15:16.576Z"
   },
   {
    "duration": 10,
    "start_time": "2024-11-17T11:15:16.584Z"
   },
   {
    "duration": 35,
    "start_time": "2024-11-17T11:15:16.595Z"
   },
   {
    "duration": 51,
    "start_time": "2024-11-17T11:15:16.632Z"
   },
   {
    "duration": 30,
    "start_time": "2024-11-17T11:15:16.685Z"
   },
   {
    "duration": 8,
    "start_time": "2024-11-17T11:15:16.718Z"
   },
   {
    "duration": 113,
    "start_time": "2024-11-17T11:15:16.727Z"
   },
   {
    "duration": 30,
    "start_time": "2024-11-17T11:15:16.843Z"
   },
   {
    "duration": 128,
    "start_time": "2024-11-17T11:15:16.875Z"
   },
   {
    "duration": 3,
    "start_time": "2024-11-17T11:15:17.005Z"
   },
   {
    "duration": 7,
    "start_time": "2024-11-17T11:15:17.009Z"
   },
   {
    "duration": 5,
    "start_time": "2024-11-17T11:15:17.018Z"
   },
   {
    "duration": 8,
    "start_time": "2024-11-17T11:15:17.025Z"
   },
   {
    "duration": 157,
    "start_time": "2024-11-17T11:15:17.034Z"
   },
   {
    "duration": 8,
    "start_time": "2024-11-17T11:17:18.687Z"
   },
   {
    "duration": 83,
    "start_time": "2024-11-17T11:19:53.361Z"
   },
   {
    "duration": 118,
    "start_time": "2024-11-17T11:21:48.614Z"
   },
   {
    "duration": 793,
    "start_time": "2024-11-17T11:21:57.982Z"
   },
   {
    "duration": 19,
    "start_time": "2024-11-17T11:23:26.915Z"
   },
   {
    "duration": 21,
    "start_time": "2024-11-17T11:23:34.422Z"
   },
   {
    "duration": 270,
    "start_time": "2024-11-17T11:24:33.647Z"
   },
   {
    "duration": 386,
    "start_time": "2024-11-17T11:27:06.829Z"
   },
   {
    "duration": 404,
    "start_time": "2024-11-17T11:30:07.512Z"
   },
   {
    "duration": 502,
    "start_time": "2024-11-17T11:32:00.671Z"
   },
   {
    "duration": 506,
    "start_time": "2024-11-17T11:32:08.583Z"
   },
   {
    "duration": 4,
    "start_time": "2024-11-17T11:33:22.199Z"
   },
   {
    "duration": 437,
    "start_time": "2024-11-17T11:33:28.347Z"
   },
   {
    "duration": 495,
    "start_time": "2024-11-17T11:33:47.834Z"
   },
   {
    "duration": 503,
    "start_time": "2024-11-17T11:33:53.322Z"
   },
   {
    "duration": 495,
    "start_time": "2024-11-17T11:34:05.392Z"
   },
   {
    "duration": 425,
    "start_time": "2024-11-17T11:34:11.728Z"
   },
   {
    "duration": 1196,
    "start_time": "2024-11-17T11:34:57.709Z"
   },
   {
    "duration": 328,
    "start_time": "2024-11-17T11:34:58.907Z"
   },
   {
    "duration": 10,
    "start_time": "2024-11-17T11:34:59.236Z"
   },
   {
    "duration": 184,
    "start_time": "2024-11-17T11:34:59.248Z"
   },
   {
    "duration": 31,
    "start_time": "2024-11-17T11:34:59.434Z"
   },
   {
    "duration": 21,
    "start_time": "2024-11-17T11:34:59.467Z"
   },
   {
    "duration": 125,
    "start_time": "2024-11-17T11:34:59.490Z"
   },
   {
    "duration": 81,
    "start_time": "2024-11-17T11:34:59.617Z"
   },
   {
    "duration": 101,
    "start_time": "2024-11-17T11:34:59.700Z"
   },
   {
    "duration": 110,
    "start_time": "2024-11-17T11:34:59.804Z"
   },
   {
    "duration": 0,
    "start_time": "2024-11-17T11:34:59.916Z"
   },
   {
    "duration": 0,
    "start_time": "2024-11-17T11:34:59.917Z"
   },
   {
    "duration": 0,
    "start_time": "2024-11-17T11:34:59.918Z"
   },
   {
    "duration": 0,
    "start_time": "2024-11-17T11:34:59.919Z"
   },
   {
    "duration": 0,
    "start_time": "2024-11-17T11:34:59.920Z"
   },
   {
    "duration": 0,
    "start_time": "2024-11-17T11:34:59.921Z"
   },
   {
    "duration": 0,
    "start_time": "2024-11-17T11:34:59.922Z"
   },
   {
    "duration": 0,
    "start_time": "2024-11-17T11:34:59.923Z"
   },
   {
    "duration": 0,
    "start_time": "2024-11-17T11:34:59.924Z"
   },
   {
    "duration": 0,
    "start_time": "2024-11-17T11:34:59.925Z"
   },
   {
    "duration": 0,
    "start_time": "2024-11-17T11:34:59.926Z"
   },
   {
    "duration": 0,
    "start_time": "2024-11-17T11:34:59.927Z"
   },
   {
    "duration": 0,
    "start_time": "2024-11-17T11:34:59.928Z"
   },
   {
    "duration": 0,
    "start_time": "2024-11-17T11:34:59.929Z"
   },
   {
    "duration": 0,
    "start_time": "2024-11-17T11:34:59.930Z"
   },
   {
    "duration": 0,
    "start_time": "2024-11-17T11:34:59.931Z"
   },
   {
    "duration": 0,
    "start_time": "2024-11-17T11:34:59.932Z"
   },
   {
    "duration": 0,
    "start_time": "2024-11-17T11:34:59.933Z"
   },
   {
    "duration": 0,
    "start_time": "2024-11-17T11:34:59.934Z"
   },
   {
    "duration": 0,
    "start_time": "2024-11-17T11:34:59.935Z"
   },
   {
    "duration": 0,
    "start_time": "2024-11-17T11:34:59.965Z"
   },
   {
    "duration": 0,
    "start_time": "2024-11-17T11:34:59.966Z"
   },
   {
    "duration": 0,
    "start_time": "2024-11-17T11:34:59.967Z"
   },
   {
    "duration": 0,
    "start_time": "2024-11-17T11:34:59.968Z"
   },
   {
    "duration": 0,
    "start_time": "2024-11-17T11:34:59.970Z"
   },
   {
    "duration": 0,
    "start_time": "2024-11-17T11:34:59.970Z"
   },
   {
    "duration": 33,
    "start_time": "2024-11-17T11:35:31.571Z"
   },
   {
    "duration": 7,
    "start_time": "2024-11-17T11:35:32.753Z"
   },
   {
    "duration": 3,
    "start_time": "2024-11-17T11:35:34.082Z"
   },
   {
    "duration": 6,
    "start_time": "2024-11-17T11:35:36.065Z"
   },
   {
    "duration": 1155,
    "start_time": "2024-11-17T11:35:37.138Z"
   },
   {
    "duration": 484,
    "start_time": "2024-11-17T11:35:42.547Z"
   },
   {
    "duration": 535,
    "start_time": "2024-11-17T11:36:17.439Z"
   },
   {
    "duration": 22,
    "start_time": "2024-11-17T11:36:33.956Z"
   },
   {
    "duration": 664,
    "start_time": "2024-11-17T11:37:36.239Z"
   },
   {
    "duration": 621,
    "start_time": "2024-11-17T11:37:45.354Z"
   },
   {
    "duration": 285,
    "start_time": "2024-11-17T11:41:17.897Z"
   },
   {
    "duration": 1201,
    "start_time": "2024-11-17T11:41:29.811Z"
   },
   {
    "duration": 299,
    "start_time": "2024-11-17T11:41:31.014Z"
   },
   {
    "duration": 9,
    "start_time": "2024-11-17T11:41:31.315Z"
   },
   {
    "duration": 191,
    "start_time": "2024-11-17T11:41:31.326Z"
   },
   {
    "duration": 22,
    "start_time": "2024-11-17T11:41:31.518Z"
   },
   {
    "duration": 31,
    "start_time": "2024-11-17T11:41:31.542Z"
   },
   {
    "duration": 228,
    "start_time": "2024-11-17T11:41:31.575Z"
   },
   {
    "duration": 105,
    "start_time": "2024-11-17T11:41:31.805Z"
   },
   {
    "duration": 105,
    "start_time": "2024-11-17T11:41:31.912Z"
   },
   {
    "duration": 124,
    "start_time": "2024-11-17T11:41:32.020Z"
   },
   {
    "duration": 0,
    "start_time": "2024-11-17T11:41:32.147Z"
   },
   {
    "duration": 0,
    "start_time": "2024-11-17T11:41:32.149Z"
   },
   {
    "duration": 0,
    "start_time": "2024-11-17T11:41:32.150Z"
   },
   {
    "duration": 0,
    "start_time": "2024-11-17T11:41:32.152Z"
   },
   {
    "duration": 0,
    "start_time": "2024-11-17T11:41:32.165Z"
   },
   {
    "duration": 0,
    "start_time": "2024-11-17T11:41:32.166Z"
   },
   {
    "duration": 0,
    "start_time": "2024-11-17T11:41:32.168Z"
   },
   {
    "duration": 0,
    "start_time": "2024-11-17T11:41:32.169Z"
   },
   {
    "duration": 0,
    "start_time": "2024-11-17T11:41:32.171Z"
   },
   {
    "duration": 0,
    "start_time": "2024-11-17T11:41:32.171Z"
   },
   {
    "duration": 0,
    "start_time": "2024-11-17T11:41:32.173Z"
   },
   {
    "duration": 0,
    "start_time": "2024-11-17T11:41:32.174Z"
   },
   {
    "duration": 0,
    "start_time": "2024-11-17T11:41:32.176Z"
   },
   {
    "duration": 0,
    "start_time": "2024-11-17T11:41:32.177Z"
   },
   {
    "duration": 0,
    "start_time": "2024-11-17T11:41:32.178Z"
   },
   {
    "duration": 0,
    "start_time": "2024-11-17T11:41:32.179Z"
   },
   {
    "duration": 0,
    "start_time": "2024-11-17T11:41:32.180Z"
   },
   {
    "duration": 0,
    "start_time": "2024-11-17T11:41:32.181Z"
   },
   {
    "duration": 0,
    "start_time": "2024-11-17T11:41:32.182Z"
   },
   {
    "duration": 0,
    "start_time": "2024-11-17T11:41:32.183Z"
   },
   {
    "duration": 0,
    "start_time": "2024-11-17T11:41:32.184Z"
   },
   {
    "duration": 0,
    "start_time": "2024-11-17T11:41:32.185Z"
   },
   {
    "duration": 0,
    "start_time": "2024-11-17T11:41:32.187Z"
   },
   {
    "duration": 0,
    "start_time": "2024-11-17T11:41:32.188Z"
   },
   {
    "duration": 0,
    "start_time": "2024-11-17T11:41:32.189Z"
   },
   {
    "duration": 0,
    "start_time": "2024-11-17T11:41:32.190Z"
   },
   {
    "duration": 32,
    "start_time": "2024-11-17T11:41:51.522Z"
   },
   {
    "duration": 9,
    "start_time": "2024-11-17T11:41:52.749Z"
   },
   {
    "duration": 4,
    "start_time": "2024-11-17T11:41:53.263Z"
   },
   {
    "duration": 34,
    "start_time": "2024-11-17T11:41:54.135Z"
   },
   {
    "duration": 1275,
    "start_time": "2024-11-17T11:41:54.609Z"
   },
   {
    "duration": 512,
    "start_time": "2024-11-17T11:41:56.281Z"
   },
   {
    "duration": 31,
    "start_time": "2024-11-17T11:44:09.253Z"
   },
   {
    "duration": 1201,
    "start_time": "2024-11-17T11:45:15.895Z"
   },
   {
    "duration": 298,
    "start_time": "2024-11-17T11:45:17.098Z"
   },
   {
    "duration": 9,
    "start_time": "2024-11-17T11:45:17.398Z"
   },
   {
    "duration": 179,
    "start_time": "2024-11-17T11:45:17.409Z"
   },
   {
    "duration": 22,
    "start_time": "2024-11-17T11:45:17.589Z"
   },
   {
    "duration": 13,
    "start_time": "2024-11-17T11:45:17.613Z"
   },
   {
    "duration": 252,
    "start_time": "2024-11-17T11:45:17.627Z"
   },
   {
    "duration": 93,
    "start_time": "2024-11-17T11:45:17.880Z"
   },
   {
    "duration": 104,
    "start_time": "2024-11-17T11:45:17.974Z"
   },
   {
    "duration": 28,
    "start_time": "2024-11-17T11:45:18.080Z"
   },
   {
    "duration": 48,
    "start_time": "2024-11-17T11:45:18.109Z"
   },
   {
    "duration": 13,
    "start_time": "2024-11-17T11:45:18.159Z"
   },
   {
    "duration": 4,
    "start_time": "2024-11-17T11:45:18.174Z"
   },
   {
    "duration": 50,
    "start_time": "2024-11-17T11:45:18.179Z"
   },
   {
    "duration": 1238,
    "start_time": "2024-11-17T11:45:18.232Z"
   },
   {
    "duration": 495,
    "start_time": "2024-11-17T11:45:19.472Z"
   },
   {
    "duration": 387,
    "start_time": "2024-11-17T11:45:19.969Z"
   },
   {
    "duration": 0,
    "start_time": "2024-11-17T11:45:20.358Z"
   },
   {
    "duration": 0,
    "start_time": "2024-11-17T11:45:20.359Z"
   },
   {
    "duration": 0,
    "start_time": "2024-11-17T11:45:20.361Z"
   },
   {
    "duration": 0,
    "start_time": "2024-11-17T11:45:20.362Z"
   },
   {
    "duration": 0,
    "start_time": "2024-11-17T11:45:20.363Z"
   },
   {
    "duration": 0,
    "start_time": "2024-11-17T11:45:20.365Z"
   },
   {
    "duration": 0,
    "start_time": "2024-11-17T11:45:20.366Z"
   },
   {
    "duration": 0,
    "start_time": "2024-11-17T11:45:20.367Z"
   },
   {
    "duration": 0,
    "start_time": "2024-11-17T11:45:20.369Z"
   },
   {
    "duration": 0,
    "start_time": "2024-11-17T11:45:20.369Z"
   },
   {
    "duration": 0,
    "start_time": "2024-11-17T11:45:20.370Z"
   },
   {
    "duration": 0,
    "start_time": "2024-11-17T11:45:20.372Z"
   },
   {
    "duration": 0,
    "start_time": "2024-11-17T11:45:20.373Z"
   },
   {
    "duration": 0,
    "start_time": "2024-11-17T11:45:20.374Z"
   },
   {
    "duration": 0,
    "start_time": "2024-11-17T11:45:20.375Z"
   },
   {
    "duration": 0,
    "start_time": "2024-11-17T11:45:20.376Z"
   },
   {
    "duration": 0,
    "start_time": "2024-11-17T11:45:20.377Z"
   },
   {
    "duration": 0,
    "start_time": "2024-11-17T11:45:20.378Z"
   },
   {
    "duration": 0,
    "start_time": "2024-11-17T11:45:20.379Z"
   },
   {
    "duration": 44,
    "start_time": "2024-11-17T11:46:24.569Z"
   },
   {
    "duration": 269,
    "start_time": "2024-11-17T11:46:36.882Z"
   },
   {
    "duration": 37,
    "start_time": "2024-11-17T11:49:31.248Z"
   },
   {
    "duration": 1200,
    "start_time": "2024-11-17T11:49:58.090Z"
   },
   {
    "duration": 305,
    "start_time": "2024-11-17T11:49:59.292Z"
   },
   {
    "duration": 10,
    "start_time": "2024-11-17T11:49:59.598Z"
   },
   {
    "duration": 189,
    "start_time": "2024-11-17T11:49:59.611Z"
   },
   {
    "duration": 23,
    "start_time": "2024-11-17T11:49:59.802Z"
   },
   {
    "duration": 13,
    "start_time": "2024-11-17T11:49:59.826Z"
   },
   {
    "duration": 215,
    "start_time": "2024-11-17T11:49:59.841Z"
   },
   {
    "duration": 84,
    "start_time": "2024-11-17T11:50:00.057Z"
   },
   {
    "duration": 131,
    "start_time": "2024-11-17T11:50:00.142Z"
   },
   {
    "duration": 29,
    "start_time": "2024-11-17T11:50:00.276Z"
   },
   {
    "duration": 35,
    "start_time": "2024-11-17T11:50:00.307Z"
   },
   {
    "duration": 23,
    "start_time": "2024-11-17T11:50:00.344Z"
   },
   {
    "duration": 4,
    "start_time": "2024-11-17T11:50:00.369Z"
   },
   {
    "duration": 60,
    "start_time": "2024-11-17T11:50:00.375Z"
   },
   {
    "duration": 1244,
    "start_time": "2024-11-17T11:50:00.437Z"
   },
   {
    "duration": 549,
    "start_time": "2024-11-17T11:50:01.683Z"
   },
   {
    "duration": 43,
    "start_time": "2024-11-17T11:50:02.234Z"
   },
   {
    "duration": 35,
    "start_time": "2024-11-17T11:50:02.279Z"
   },
   {
    "duration": 20,
    "start_time": "2024-11-17T11:50:02.316Z"
   },
   {
    "duration": 54,
    "start_time": "2024-11-17T11:50:02.337Z"
   },
   {
    "duration": 181,
    "start_time": "2024-11-17T11:50:02.393Z"
   },
   {
    "duration": 328,
    "start_time": "2024-11-17T11:50:02.575Z"
   },
   {
    "duration": 6,
    "start_time": "2024-11-17T11:50:02.904Z"
   },
   {
    "duration": 33,
    "start_time": "2024-11-17T11:50:02.911Z"
   },
   {
    "duration": 62,
    "start_time": "2024-11-17T11:50:02.945Z"
   },
   {
    "duration": 100,
    "start_time": "2024-11-17T11:50:03.009Z"
   },
   {
    "duration": 22,
    "start_time": "2024-11-17T11:50:03.111Z"
   },
   {
    "duration": 33,
    "start_time": "2024-11-17T11:50:03.136Z"
   },
   {
    "duration": 102,
    "start_time": "2024-11-17T11:50:03.171Z"
   },
   {
    "duration": 10,
    "start_time": "2024-11-17T11:50:03.275Z"
   },
   {
    "duration": 138,
    "start_time": "2024-11-17T11:50:03.287Z"
   },
   {
    "duration": 3,
    "start_time": "2024-11-17T11:50:03.427Z"
   },
   {
    "duration": 115,
    "start_time": "2024-11-17T11:50:03.431Z"
   },
   {
    "duration": 19,
    "start_time": "2024-11-17T11:50:03.548Z"
   },
   {
    "duration": 6,
    "start_time": "2024-11-17T11:50:03.568Z"
   },
   {
    "duration": 139,
    "start_time": "2024-11-17T11:50:03.576Z"
   },
   {
    "duration": 74,
    "start_time": "2024-11-17T11:51:20.808Z"
   },
   {
    "duration": 7,
    "start_time": "2024-11-17T12:07:25.286Z"
   },
   {
    "duration": 74,
    "start_time": "2024-11-17T12:09:42.133Z"
   },
   {
    "duration": 6,
    "start_time": "2024-11-17T12:10:43.040Z"
   },
   {
    "duration": 6,
    "start_time": "2024-11-17T12:11:25.946Z"
   },
   {
    "duration": 7,
    "start_time": "2024-11-17T12:11:34.303Z"
   },
   {
    "duration": 7,
    "start_time": "2024-11-17T12:11:46.482Z"
   },
   {
    "duration": 6,
    "start_time": "2024-11-17T12:11:51.357Z"
   },
   {
    "duration": 7,
    "start_time": "2024-11-17T12:12:00.355Z"
   },
   {
    "duration": 6,
    "start_time": "2024-11-17T12:12:34.156Z"
   },
   {
    "duration": 6,
    "start_time": "2024-11-17T12:16:33.829Z"
   },
   {
    "duration": 6,
    "start_time": "2024-11-17T12:29:30.142Z"
   },
   {
    "duration": 3,
    "start_time": "2024-11-17T12:29:40.099Z"
   },
   {
    "duration": 5,
    "start_time": "2024-11-17T12:30:03.857Z"
   },
   {
    "duration": 4,
    "start_time": "2024-11-17T12:41:12.896Z"
   },
   {
    "duration": 4,
    "start_time": "2024-11-17T12:41:21.954Z"
   },
   {
    "duration": 5,
    "start_time": "2024-11-17T12:41:28.789Z"
   },
   {
    "duration": 5,
    "start_time": "2024-11-17T12:41:32.373Z"
   },
   {
    "duration": 4,
    "start_time": "2024-11-17T12:41:43.187Z"
   },
   {
    "duration": 5,
    "start_time": "2024-11-17T12:44:38.018Z"
   },
   {
    "duration": 5,
    "start_time": "2024-11-17T12:44:58.532Z"
   },
   {
    "duration": 25,
    "start_time": "2024-11-17T12:48:47.531Z"
   },
   {
    "duration": 136,
    "start_time": "2024-11-17T12:59:45.596Z"
   },
   {
    "duration": 14,
    "start_time": "2024-11-17T13:00:19.037Z"
   },
   {
    "duration": 48,
    "start_time": "2024-11-17T13:00:42.079Z"
   },
   {
    "duration": 30,
    "start_time": "2024-11-17T13:08:15.351Z"
   },
   {
    "duration": 141,
    "start_time": "2024-11-17T13:08:34.058Z"
   },
   {
    "duration": 7,
    "start_time": "2024-11-17T13:12:37.043Z"
   },
   {
    "duration": 125,
    "start_time": "2024-11-17T13:12:38.181Z"
   },
   {
    "duration": 73,
    "start_time": "2024-11-17T13:17:18.423Z"
   },
   {
    "duration": 15,
    "start_time": "2024-11-17T13:17:25.913Z"
   },
   {
    "duration": 159,
    "start_time": "2024-11-17T13:17:35.567Z"
   },
   {
    "duration": 155,
    "start_time": "2024-11-17T13:17:54.240Z"
   },
   {
    "duration": 128,
    "start_time": "2024-11-17T13:18:29.085Z"
   },
   {
    "duration": 136,
    "start_time": "2024-11-17T13:18:38.704Z"
   },
   {
    "duration": 160,
    "start_time": "2024-11-17T13:18:45.042Z"
   },
   {
    "duration": 3,
    "start_time": "2024-11-17T13:19:47.428Z"
   },
   {
    "duration": 136,
    "start_time": "2024-11-17T13:19:55.539Z"
   },
   {
    "duration": 135,
    "start_time": "2024-11-17T13:22:08.581Z"
   },
   {
    "duration": 132,
    "start_time": "2024-11-17T13:23:24.657Z"
   },
   {
    "duration": 131,
    "start_time": "2024-11-17T13:36:39.236Z"
   },
   {
    "duration": 1175,
    "start_time": "2024-11-19T04:22:25.087Z"
   },
   {
    "duration": 302,
    "start_time": "2024-11-19T04:22:26.264Z"
   },
   {
    "duration": 10,
    "start_time": "2024-11-19T04:22:26.568Z"
   },
   {
    "duration": 218,
    "start_time": "2024-11-19T04:22:26.580Z"
   },
   {
    "duration": 43,
    "start_time": "2024-11-19T04:22:26.801Z"
   },
   {
    "duration": 17,
    "start_time": "2024-11-19T04:22:26.846Z"
   },
   {
    "duration": 229,
    "start_time": "2024-11-19T04:22:26.865Z"
   },
   {
    "duration": 88,
    "start_time": "2024-11-19T04:22:27.096Z"
   },
   {
    "duration": 102,
    "start_time": "2024-11-19T04:22:27.186Z"
   },
   {
    "duration": 26,
    "start_time": "2024-11-19T04:22:27.290Z"
   },
   {
    "duration": 45,
    "start_time": "2024-11-19T04:22:27.318Z"
   },
   {
    "duration": 10,
    "start_time": "2024-11-19T04:22:27.365Z"
   },
   {
    "duration": 4,
    "start_time": "2024-11-19T04:22:27.376Z"
   },
   {
    "duration": 59,
    "start_time": "2024-11-19T04:22:27.384Z"
   },
   {
    "duration": 1180,
    "start_time": "2024-11-19T04:22:27.445Z"
   },
   {
    "duration": 524,
    "start_time": "2024-11-19T04:22:28.627Z"
   },
   {
    "duration": 38,
    "start_time": "2024-11-19T04:22:29.152Z"
   },
   {
    "duration": 31,
    "start_time": "2024-11-19T04:22:29.191Z"
   },
   {
    "duration": 37,
    "start_time": "2024-11-19T04:22:29.224Z"
   },
   {
    "duration": 50,
    "start_time": "2024-11-19T04:22:29.262Z"
   },
   {
    "duration": 152,
    "start_time": "2024-11-19T04:22:29.314Z"
   },
   {
    "duration": 341,
    "start_time": "2024-11-19T04:22:29.468Z"
   },
   {
    "duration": 7,
    "start_time": "2024-11-19T04:22:29.811Z"
   },
   {
    "duration": 25,
    "start_time": "2024-11-19T04:22:29.819Z"
   },
   {
    "duration": 6,
    "start_time": "2024-11-19T04:22:29.846Z"
   },
   {
    "duration": 39,
    "start_time": "2024-11-19T04:22:29.853Z"
   },
   {
    "duration": 141,
    "start_time": "2024-11-19T04:22:29.895Z"
   },
   {
    "duration": 26,
    "start_time": "2024-11-19T04:22:30.043Z"
   },
   {
    "duration": 32,
    "start_time": "2024-11-19T04:22:30.071Z"
   },
   {
    "duration": 109,
    "start_time": "2024-11-19T04:22:30.105Z"
   },
   {
    "duration": 11,
    "start_time": "2024-11-19T04:22:30.216Z"
   },
   {
    "duration": 180,
    "start_time": "2024-11-19T04:22:30.229Z"
   },
   {
    "duration": 4,
    "start_time": "2024-11-19T04:22:30.411Z"
   },
   {
    "duration": 47,
    "start_time": "2024-11-19T04:22:30.417Z"
   },
   {
    "duration": 15,
    "start_time": "2024-11-19T04:22:30.466Z"
   },
   {
    "duration": 22,
    "start_time": "2024-11-19T04:22:30.483Z"
   },
   {
    "duration": 36,
    "start_time": "2024-11-19T04:22:30.507Z"
   },
   {
    "duration": 25,
    "start_time": "2024-11-19T04:22:30.545Z"
   },
   {
    "duration": 7,
    "start_time": "2024-11-19T04:22:30.572Z"
   },
   {
    "duration": 145,
    "start_time": "2024-11-19T04:22:30.580Z"
   },
   {
    "duration": 1426,
    "start_time": "2024-11-19T05:22:53.728Z"
   },
   {
    "duration": 385,
    "start_time": "2024-11-19T05:22:55.157Z"
   },
   {
    "duration": 14,
    "start_time": "2024-11-19T05:22:55.544Z"
   },
   {
    "duration": 202,
    "start_time": "2024-11-19T05:22:55.559Z"
   },
   {
    "duration": 27,
    "start_time": "2024-11-19T05:22:55.763Z"
   },
   {
    "duration": 16,
    "start_time": "2024-11-19T05:22:55.792Z"
   },
   {
    "duration": 241,
    "start_time": "2024-11-19T05:22:55.810Z"
   },
   {
    "duration": 105,
    "start_time": "2024-11-19T05:22:56.053Z"
   },
   {
    "duration": 105,
    "start_time": "2024-11-19T05:22:56.160Z"
   },
   {
    "duration": 30,
    "start_time": "2024-11-19T05:22:56.267Z"
   },
   {
    "duration": 52,
    "start_time": "2024-11-19T05:22:56.299Z"
   },
   {
    "duration": 12,
    "start_time": "2024-11-19T05:22:56.354Z"
   },
   {
    "duration": 62,
    "start_time": "2024-11-19T05:22:56.368Z"
   },
   {
    "duration": 37,
    "start_time": "2024-11-19T05:22:56.435Z"
   },
   {
    "duration": 1328,
    "start_time": "2024-11-19T05:22:56.473Z"
   },
   {
    "duration": 533,
    "start_time": "2024-11-19T05:22:57.802Z"
   },
   {
    "duration": 42,
    "start_time": "2024-11-19T05:22:58.337Z"
   },
   {
    "duration": 164,
    "start_time": "2024-11-19T05:22:58.380Z"
   },
   {
    "duration": 36,
    "start_time": "2024-11-19T05:22:58.546Z"
   },
   {
    "duration": 35,
    "start_time": "2024-11-19T05:22:58.584Z"
   },
   {
    "duration": 166,
    "start_time": "2024-11-19T05:22:58.621Z"
   },
   {
    "duration": 316,
    "start_time": "2024-11-19T05:22:58.790Z"
   },
   {
    "duration": 6,
    "start_time": "2024-11-19T05:22:59.107Z"
   },
   {
    "duration": 28,
    "start_time": "2024-11-19T05:22:59.115Z"
   },
   {
    "duration": 6,
    "start_time": "2024-11-19T05:22:59.145Z"
   },
   {
    "duration": 34,
    "start_time": "2024-11-19T05:22:59.153Z"
   },
   {
    "duration": 122,
    "start_time": "2024-11-19T05:22:59.189Z"
   },
   {
    "duration": 39,
    "start_time": "2024-11-19T05:22:59.313Z"
   },
   {
    "duration": 6,
    "start_time": "2024-11-19T05:22:59.354Z"
   },
   {
    "duration": 120,
    "start_time": "2024-11-19T05:22:59.362Z"
   },
   {
    "duration": 11,
    "start_time": "2024-11-19T05:22:59.483Z"
   },
   {
    "duration": 149,
    "start_time": "2024-11-19T05:22:59.495Z"
   },
   {
    "duration": 4,
    "start_time": "2024-11-19T05:22:59.645Z"
   },
   {
    "duration": 13,
    "start_time": "2024-11-19T05:22:59.651Z"
   },
   {
    "duration": 23,
    "start_time": "2024-11-19T05:22:59.665Z"
   },
   {
    "duration": 24,
    "start_time": "2024-11-19T05:22:59.690Z"
   },
   {
    "duration": 23,
    "start_time": "2024-11-19T05:22:59.716Z"
   },
   {
    "duration": 15,
    "start_time": "2024-11-19T05:22:59.740Z"
   },
   {
    "duration": 10,
    "start_time": "2024-11-19T05:22:59.756Z"
   },
   {
    "duration": 191,
    "start_time": "2024-11-19T05:22:59.767Z"
   }
  ],
  "kernelspec": {
   "display_name": "Python [conda env:base] *",
   "language": "python",
   "name": "conda-base-py"
  },
  "language_info": {
   "codemirror_mode": {
    "name": "ipython",
    "version": 3
   },
   "file_extension": ".py",
   "mimetype": "text/x-python",
   "name": "python",
   "nbconvert_exporter": "python",
   "pygments_lexer": "ipython3",
   "version": "3.12.7"
  },
  "toc": {
   "base_numbering": 1,
   "nav_menu": {},
   "number_sections": true,
   "sideBar": true,
   "skip_h1_title": true,
   "title_cell": "Table of Contents",
   "title_sidebar": "Contents",
   "toc_cell": false,
   "toc_position": {},
   "toc_section_display": true,
   "toc_window_display": false
  }
 },
 "nbformat": 4,
 "nbformat_minor": 4
}
