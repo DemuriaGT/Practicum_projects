{
 "cells": [
  {
   "cell_type": "markdown",
   "metadata": {},
   "source": [
    "**Заголовок:** Приоритизация гипотез и анализ A/B-теста для увеличения выручки интернет-магазина.\n",
    "\n",
    "**Описание проекта:** В условиях высокой конкуренции на рынке электронной коммерции важно постоянно искать новые способы увеличения выручки. В рамках данного проекта я, как аналитик крупного интернет-магазина, работаю вместе с отделом маркетинга над приоритизацией гипотез, направленных на повышение доходов. Основная задача — провести A/B-тестирование выбранных гипотез и проанализировать их результаты, чтобы определить наиболее эффективные стратегии для увеличения выручки.\n",
    "\n",
    "**Цель исследования:** Приоритизация гипотез, предложенных отделом маркетинга, и проведение A/B-теста для определения наиболее эффективных стратегий увеличения выручки интернет-магазина.\n",
    "\n",
    "**Ход исследования:**\n",
    "\n",
    "- **Приоритизация гипотез:** Оценка и ранжирование гипотез с использованием таких методов, как ICE (Impact, Confidence, Ease) и RICE (Reach, Impact, Confidence, Effort) для определения наиболее перспективных.\n",
    "- **Подготовка к A/B-тесту:** Определение параметров теста, таких как выборка пользователей, длительность теста и ключевые метрики для оценки.\n",
    "- **Проведение A/B-теста:** Запуск теста и сбор данных по двум группам пользователей: контрольной и экспериментальной.\n",
    "- **Анализ результатов A/B-теста:** Оценка статистической значимости результатов, сравнение ключевых метрик между группами и определение эффективности тестируемых гипотез. В ходе эксперимента основное внимание было уделено анализу среднего количества заказов на посетителя и среднего чека. Эти две метрики являются основными индикаторами эффективности для большинства e-commerce экспериментов, так как они позволяют оценить, вырос ли доход на посетителя и как изменение поведения пользователей может способствовать увеличению выручки.\n",
    "- **Формулировка выводов и рекомендаций:** На основе результатов теста предоставление рекомендаций по внедрению наиболее успешных стратегий для увеличения выручки.\n",
    "\n",
    "**Общий вывод:** Резюмирование результатов приоритизации гипотез и A/B-теста, формулировка ключевых выводов и рекомендаций для отдела маркетинга.\n",
    "\n",
    "С помощью данного исследования мы стремимся определить наиболее эффективные стратегии для увеличения выручки интернет-магазина, что позволит оптимизировать маркетинговые усилия и повысить общую эффективность бизнеса."
   ]
  },
  {
   "cell_type": "markdown",
   "metadata": {},
   "source": [
    "# Часть 1. Приоритизация гипотез\n",
    "- ICE и RICE фреймворки помогут приоритизировать гипотезы.\n",
    "    - Сначала вычислим и отсортируем метрики по убыванию, чтобы увидеть наибольшие значения.\n",
    "    - После этого сравним результаты для ICE и RICE: добавление Reach в RICE может изменить порядок гипотез, особенно если у гипотезы высокий охват (Reach) при прочих равных.\n",
    "- При сравнении результатов, можно будет объяснить, как охват (Reach) влияет на приоритет гипотезы. Если гипотеза с низким охватом, но высоким Impact и Confidence, то ICE поставит её выше, а в RICE приоритет может сместиться."
   ]
  },
  {
   "cell_type": "code",
   "execution_count": 1,
   "metadata": {},
   "outputs": [],
   "source": [
    "# Импортируем необходимые библиотеки\n",
    "import pandas as pd\n",
    "import matplotlib.pyplot as plt\n",
    "import seaborn as sns\n",
    "import numpy as np\n",
    "from scipy import stats\n",
    "import datetime as dt\n",
    "from pandas.plotting import register_matplotlib_converters\n",
    "import warnings"
   ]
  },
  {
   "cell_type": "code",
   "execution_count": 2,
   "metadata": {},
   "outputs": [
    {
     "name": "stdout",
     "output_type": "stream",
     "text": [
      "<class 'pandas.core.frame.DataFrame'>\n",
      "RangeIndex: 9 entries, 0 to 8\n",
      "Data columns (total 5 columns):\n",
      " #   Column      Non-Null Count  Dtype \n",
      "---  ------      --------------  ----- \n",
      " 0   Hypothesis  9 non-null      object\n",
      " 1   Reach       9 non-null      int64 \n",
      " 2   Impact      9 non-null      int64 \n",
      " 3   Confidence  9 non-null      int64 \n",
      " 4   Efforts     9 non-null      int64 \n",
      "dtypes: int64(4), object(1)\n",
      "memory usage: 488.0+ bytes\n",
      "None\n"
     ]
    },
    {
     "data": {
      "text/html": [
       "<div>\n",
       "<style scoped>\n",
       "    .dataframe tbody tr th:only-of-type {\n",
       "        vertical-align: middle;\n",
       "    }\n",
       "\n",
       "    .dataframe tbody tr th {\n",
       "        vertical-align: top;\n",
       "    }\n",
       "\n",
       "    .dataframe thead th {\n",
       "        text-align: right;\n",
       "    }\n",
       "</style>\n",
       "<table border=\"1\" class=\"dataframe\">\n",
       "  <thead>\n",
       "    <tr style=\"text-align: right;\">\n",
       "      <th></th>\n",
       "      <th>Hypothesis</th>\n",
       "      <th>Reach</th>\n",
       "      <th>Impact</th>\n",
       "      <th>Confidence</th>\n",
       "      <th>Efforts</th>\n",
       "    </tr>\n",
       "  </thead>\n",
       "  <tbody>\n",
       "    <tr>\n",
       "      <th>0</th>\n",
       "      <td>Добавить два новых канала привлечения трафика, что позволит привлекать на 30% больше пользователей</td>\n",
       "      <td>3</td>\n",
       "      <td>10</td>\n",
       "      <td>8</td>\n",
       "      <td>6</td>\n",
       "    </tr>\n",
       "    <tr>\n",
       "      <th>1</th>\n",
       "      <td>Запустить собственную службу доставки, что сократит срок доставки заказов</td>\n",
       "      <td>2</td>\n",
       "      <td>5</td>\n",
       "      <td>4</td>\n",
       "      <td>10</td>\n",
       "    </tr>\n",
       "    <tr>\n",
       "      <th>2</th>\n",
       "      <td>Добавить блоки рекомендаций товаров на сайт интернет магазина, чтобы повысить конверсию и средни...</td>\n",
       "      <td>8</td>\n",
       "      <td>3</td>\n",
       "      <td>7</td>\n",
       "      <td>3</td>\n",
       "    </tr>\n",
       "    <tr>\n",
       "      <th>3</th>\n",
       "      <td>Изменить структура категорий, что увеличит конверсию, т.к. пользователи быстрее найдут нужный товар</td>\n",
       "      <td>8</td>\n",
       "      <td>3</td>\n",
       "      <td>3</td>\n",
       "      <td>8</td>\n",
       "    </tr>\n",
       "    <tr>\n",
       "      <th>4</th>\n",
       "      <td>Изменить цвет фона главной страницы, чтобы увеличить вовлеченность пользователей</td>\n",
       "      <td>3</td>\n",
       "      <td>1</td>\n",
       "      <td>1</td>\n",
       "      <td>1</td>\n",
       "    </tr>\n",
       "    <tr>\n",
       "      <th>5</th>\n",
       "      <td>Добавить страницу отзывов клиентов о магазине, что позволит увеличить количество заказов</td>\n",
       "      <td>3</td>\n",
       "      <td>2</td>\n",
       "      <td>2</td>\n",
       "      <td>3</td>\n",
       "    </tr>\n",
       "    <tr>\n",
       "      <th>6</th>\n",
       "      <td>Показать на главной странице баннеры с актуальными акциями и распродажами, чтобы увеличить конве...</td>\n",
       "      <td>5</td>\n",
       "      <td>3</td>\n",
       "      <td>8</td>\n",
       "      <td>3</td>\n",
       "    </tr>\n",
       "    <tr>\n",
       "      <th>7</th>\n",
       "      <td>Добавить форму подписки на все основные страницы, чтобы собрать базу клиентов для email-рассылок</td>\n",
       "      <td>10</td>\n",
       "      <td>7</td>\n",
       "      <td>8</td>\n",
       "      <td>5</td>\n",
       "    </tr>\n",
       "    <tr>\n",
       "      <th>8</th>\n",
       "      <td>Запустить акцию, дающую скидку на товар в день рождения</td>\n",
       "      <td>1</td>\n",
       "      <td>9</td>\n",
       "      <td>9</td>\n",
       "      <td>5</td>\n",
       "    </tr>\n",
       "  </tbody>\n",
       "</table>\n",
       "</div>"
      ],
      "text/plain": [
       "                                                                                            Hypothesis  \\\n",
       "0   Добавить два новых канала привлечения трафика, что позволит привлекать на 30% больше пользователей   \n",
       "1                            Запустить собственную службу доставки, что сократит срок доставки заказов   \n",
       "2  Добавить блоки рекомендаций товаров на сайт интернет магазина, чтобы повысить конверсию и средни...   \n",
       "3  Изменить структура категорий, что увеличит конверсию, т.к. пользователи быстрее найдут нужный товар   \n",
       "4                     Изменить цвет фона главной страницы, чтобы увеличить вовлеченность пользователей   \n",
       "5             Добавить страницу отзывов клиентов о магазине, что позволит увеличить количество заказов   \n",
       "6  Показать на главной странице баннеры с актуальными акциями и распродажами, чтобы увеличить конве...   \n",
       "7     Добавить форму подписки на все основные страницы, чтобы собрать базу клиентов для email-рассылок   \n",
       "8                                              Запустить акцию, дающую скидку на товар в день рождения   \n",
       "\n",
       "   Reach  Impact  Confidence  Efforts  \n",
       "0      3      10           8        6  \n",
       "1      2       5           4       10  \n",
       "2      8       3           7        3  \n",
       "3      8       3           3        8  \n",
       "4      3       1           1        1  \n",
       "5      3       2           2        3  \n",
       "6      5       3           8        3  \n",
       "7     10       7           8        5  \n",
       "8      1       9           9        5  "
      ]
     },
     "metadata": {},
     "output_type": "display_data"
    }
   ],
   "source": [
    "# Загрузка данных\n",
    "hypothesis_data = pd.read_csv('/datasets/hypothesis.csv')\n",
    "pd.options.display.max_colwidth = 100\n",
    "# Проверим данные\n",
    "print(hypothesis_data.info())\n",
    "display(hypothesis_data)"
   ]
  },
  {
   "cell_type": "markdown",
   "metadata": {},
   "source": [
    "Все здорово, но я приведу столбцы к нижнему регистру для последующего удобства."
   ]
  },
  {
   "cell_type": "code",
   "execution_count": 3,
   "metadata": {},
   "outputs": [],
   "source": [
    "hypothesis_data.columns = hypothesis_data.columns.str.lower()"
   ]
  },
  {
   "cell_type": "markdown",
   "metadata": {},
   "source": [
    "<b>Расчитаем ICE: Impact * Confidence / Effort"
   ]
  },
  {
   "cell_type": "code",
   "execution_count": 4,
   "metadata": {},
   "outputs": [
    {
     "name": "stdout",
     "output_type": "stream",
     "text": [
      "Приоритизация гипотез по ICE:\n"
     ]
    },
    {
     "data": {
      "text/html": [
       "<div>\n",
       "<style scoped>\n",
       "    .dataframe tbody tr th:only-of-type {\n",
       "        vertical-align: middle;\n",
       "    }\n",
       "\n",
       "    .dataframe tbody tr th {\n",
       "        vertical-align: top;\n",
       "    }\n",
       "\n",
       "    .dataframe thead th {\n",
       "        text-align: right;\n",
       "    }\n",
       "</style>\n",
       "<table border=\"1\" class=\"dataframe\">\n",
       "  <thead>\n",
       "    <tr style=\"text-align: right;\">\n",
       "      <th></th>\n",
       "      <th>hypothesis</th>\n",
       "      <th>ICE</th>\n",
       "    </tr>\n",
       "  </thead>\n",
       "  <tbody>\n",
       "    <tr>\n",
       "      <th>8</th>\n",
       "      <td>Запустить акцию, дающую скидку на товар в день рождения</td>\n",
       "      <td>16.20</td>\n",
       "    </tr>\n",
       "    <tr>\n",
       "      <th>0</th>\n",
       "      <td>Добавить два новых канала привлечения трафика, что позволит привлекать на 30% больше пользователей</td>\n",
       "      <td>13.33</td>\n",
       "    </tr>\n",
       "    <tr>\n",
       "      <th>7</th>\n",
       "      <td>Добавить форму подписки на все основные страницы, чтобы собрать базу клиентов для email-рассылок</td>\n",
       "      <td>11.20</td>\n",
       "    </tr>\n",
       "    <tr>\n",
       "      <th>6</th>\n",
       "      <td>Показать на главной странице баннеры с актуальными акциями и распродажами, чтобы увеличить конве...</td>\n",
       "      <td>8.00</td>\n",
       "    </tr>\n",
       "    <tr>\n",
       "      <th>2</th>\n",
       "      <td>Добавить блоки рекомендаций товаров на сайт интернет магазина, чтобы повысить конверсию и средни...</td>\n",
       "      <td>7.00</td>\n",
       "    </tr>\n",
       "    <tr>\n",
       "      <th>1</th>\n",
       "      <td>Запустить собственную службу доставки, что сократит срок доставки заказов</td>\n",
       "      <td>2.00</td>\n",
       "    </tr>\n",
       "    <tr>\n",
       "      <th>5</th>\n",
       "      <td>Добавить страницу отзывов клиентов о магазине, что позволит увеличить количество заказов</td>\n",
       "      <td>1.33</td>\n",
       "    </tr>\n",
       "    <tr>\n",
       "      <th>3</th>\n",
       "      <td>Изменить структура категорий, что увеличит конверсию, т.к. пользователи быстрее найдут нужный товар</td>\n",
       "      <td>1.12</td>\n",
       "    </tr>\n",
       "    <tr>\n",
       "      <th>4</th>\n",
       "      <td>Изменить цвет фона главной страницы, чтобы увеличить вовлеченность пользователей</td>\n",
       "      <td>1.00</td>\n",
       "    </tr>\n",
       "  </tbody>\n",
       "</table>\n",
       "</div>"
      ],
      "text/plain": [
       "                                                                                            hypothesis  \\\n",
       "8                                              Запустить акцию, дающую скидку на товар в день рождения   \n",
       "0   Добавить два новых канала привлечения трафика, что позволит привлекать на 30% больше пользователей   \n",
       "7     Добавить форму подписки на все основные страницы, чтобы собрать базу клиентов для email-рассылок   \n",
       "6  Показать на главной странице баннеры с актуальными акциями и распродажами, чтобы увеличить конве...   \n",
       "2  Добавить блоки рекомендаций товаров на сайт интернет магазина, чтобы повысить конверсию и средни...   \n",
       "1                            Запустить собственную службу доставки, что сократит срок доставки заказов   \n",
       "5             Добавить страницу отзывов клиентов о магазине, что позволит увеличить количество заказов   \n",
       "3  Изменить структура категорий, что увеличит конверсию, т.к. пользователи быстрее найдут нужный товар   \n",
       "4                     Изменить цвет фона главной страницы, чтобы увеличить вовлеченность пользователей   \n",
       "\n",
       "     ICE  \n",
       "8  16.20  \n",
       "0  13.33  \n",
       "7  11.20  \n",
       "6   8.00  \n",
       "2   7.00  \n",
       "1   2.00  \n",
       "5   1.33  \n",
       "3   1.12  \n",
       "4   1.00  "
      ]
     },
     "metadata": {},
     "output_type": "display_data"
    }
   ],
   "source": [
    "# Расчитаем ICE\n",
    "hypothesis_data['ICE'] = ((hypothesis_data['impact'] * hypothesis_data['confidence']) / hypothesis_data['efforts']).round(2)\n",
    "\n",
    "# Отсортируем гипотезы по ICE в порядке убывания\n",
    "ice_prioritization = hypothesis_data[['hypothesis', 'ICE']].sort_values(by='ICE', ascending=False)\n",
    "print(\"Приоритизация гипотез по ICE:\")\n",
    "display(ice_prioritization)"
   ]
  },
  {
   "cell_type": "markdown",
   "metadata": {},
   "source": [
    "<b>Расчитаем RICE: Reach * Impact * Confidence / Effort"
   ]
  },
  {
   "cell_type": "code",
   "execution_count": 5,
   "metadata": {},
   "outputs": [
    {
     "name": "stdout",
     "output_type": "stream",
     "text": [
      "Приоритизация гипотез по RICE:\n"
     ]
    },
    {
     "data": {
      "text/html": [
       "<div>\n",
       "<style scoped>\n",
       "    .dataframe tbody tr th:only-of-type {\n",
       "        vertical-align: middle;\n",
       "    }\n",
       "\n",
       "    .dataframe tbody tr th {\n",
       "        vertical-align: top;\n",
       "    }\n",
       "\n",
       "    .dataframe thead th {\n",
       "        text-align: right;\n",
       "    }\n",
       "</style>\n",
       "<table border=\"1\" class=\"dataframe\">\n",
       "  <thead>\n",
       "    <tr style=\"text-align: right;\">\n",
       "      <th></th>\n",
       "      <th>hypothesis</th>\n",
       "      <th>RICE</th>\n",
       "    </tr>\n",
       "  </thead>\n",
       "  <tbody>\n",
       "    <tr>\n",
       "      <th>7</th>\n",
       "      <td>Добавить форму подписки на все основные страницы, чтобы собрать базу клиентов для email-рассылок</td>\n",
       "      <td>112.0</td>\n",
       "    </tr>\n",
       "    <tr>\n",
       "      <th>2</th>\n",
       "      <td>Добавить блоки рекомендаций товаров на сайт интернет магазина, чтобы повысить конверсию и средни...</td>\n",
       "      <td>56.0</td>\n",
       "    </tr>\n",
       "    <tr>\n",
       "      <th>0</th>\n",
       "      <td>Добавить два новых канала привлечения трафика, что позволит привлекать на 30% больше пользователей</td>\n",
       "      <td>40.0</td>\n",
       "    </tr>\n",
       "    <tr>\n",
       "      <th>6</th>\n",
       "      <td>Показать на главной странице баннеры с актуальными акциями и распродажами, чтобы увеличить конве...</td>\n",
       "      <td>40.0</td>\n",
       "    </tr>\n",
       "    <tr>\n",
       "      <th>8</th>\n",
       "      <td>Запустить акцию, дающую скидку на товар в день рождения</td>\n",
       "      <td>16.2</td>\n",
       "    </tr>\n",
       "    <tr>\n",
       "      <th>3</th>\n",
       "      <td>Изменить структура категорий, что увеличит конверсию, т.к. пользователи быстрее найдут нужный товар</td>\n",
       "      <td>9.0</td>\n",
       "    </tr>\n",
       "    <tr>\n",
       "      <th>1</th>\n",
       "      <td>Запустить собственную службу доставки, что сократит срок доставки заказов</td>\n",
       "      <td>4.0</td>\n",
       "    </tr>\n",
       "    <tr>\n",
       "      <th>5</th>\n",
       "      <td>Добавить страницу отзывов клиентов о магазине, что позволит увеличить количество заказов</td>\n",
       "      <td>4.0</td>\n",
       "    </tr>\n",
       "    <tr>\n",
       "      <th>4</th>\n",
       "      <td>Изменить цвет фона главной страницы, чтобы увеличить вовлеченность пользователей</td>\n",
       "      <td>3.0</td>\n",
       "    </tr>\n",
       "  </tbody>\n",
       "</table>\n",
       "</div>"
      ],
      "text/plain": [
       "                                                                                            hypothesis  \\\n",
       "7     Добавить форму подписки на все основные страницы, чтобы собрать базу клиентов для email-рассылок   \n",
       "2  Добавить блоки рекомендаций товаров на сайт интернет магазина, чтобы повысить конверсию и средни...   \n",
       "0   Добавить два новых канала привлечения трафика, что позволит привлекать на 30% больше пользователей   \n",
       "6  Показать на главной странице баннеры с актуальными акциями и распродажами, чтобы увеличить конве...   \n",
       "8                                              Запустить акцию, дающую скидку на товар в день рождения   \n",
       "3  Изменить структура категорий, что увеличит конверсию, т.к. пользователи быстрее найдут нужный товар   \n",
       "1                            Запустить собственную службу доставки, что сократит срок доставки заказов   \n",
       "5             Добавить страницу отзывов клиентов о магазине, что позволит увеличить количество заказов   \n",
       "4                     Изменить цвет фона главной страницы, чтобы увеличить вовлеченность пользователей   \n",
       "\n",
       "    RICE  \n",
       "7  112.0  \n",
       "2   56.0  \n",
       "0   40.0  \n",
       "6   40.0  \n",
       "8   16.2  \n",
       "3    9.0  \n",
       "1    4.0  \n",
       "5    4.0  \n",
       "4    3.0  "
      ]
     },
     "metadata": {},
     "output_type": "display_data"
    }
   ],
   "source": [
    "# Расчитаем RICE\n",
    "hypothesis_data['RICE'] = (hypothesis_data['reach'] * hypothesis_data['impact'] * hypothesis_data['confidence']) / hypothesis_data['efforts']\n",
    "\n",
    "# Отсортируем гипотезы по RICE в порядке убывания\n",
    "rice_prioritization = hypothesis_data[['hypothesis', 'RICE']].sort_values(by='RICE', ascending=False)\n",
    "print(\"Приоритизация гипотез по RICE:\")\n",
    "display(rice_prioritization)"
   ]
  },
  {
   "cell_type": "markdown",
   "metadata": {},
   "source": [
    "<b>Теперь сравним результаты"
   ]
  },
  {
   "cell_type": "code",
   "execution_count": 6,
   "metadata": {},
   "outputs": [
    {
     "name": "stdout",
     "output_type": "stream",
     "text": [
      "Сравнение приоритизации гипотез по ICE и RICE:\n"
     ]
    },
    {
     "data": {
      "text/html": [
       "<div>\n",
       "<style scoped>\n",
       "    .dataframe tbody tr th:only-of-type {\n",
       "        vertical-align: middle;\n",
       "    }\n",
       "\n",
       "    .dataframe tbody tr th {\n",
       "        vertical-align: top;\n",
       "    }\n",
       "\n",
       "    .dataframe thead th {\n",
       "        text-align: right;\n",
       "    }\n",
       "</style>\n",
       "<table border=\"1\" class=\"dataframe\">\n",
       "  <thead>\n",
       "    <tr style=\"text-align: right;\">\n",
       "      <th></th>\n",
       "      <th>hypothesis</th>\n",
       "      <th>ICE</th>\n",
       "      <th>RICE</th>\n",
       "    </tr>\n",
       "  </thead>\n",
       "  <tbody>\n",
       "    <tr>\n",
       "      <th>7</th>\n",
       "      <td>Добавить форму подписки на все основные страницы, чтобы собрать базу клиентов для email-рассылок</td>\n",
       "      <td>11.20</td>\n",
       "      <td>112.0</td>\n",
       "    </tr>\n",
       "    <tr>\n",
       "      <th>2</th>\n",
       "      <td>Добавить блоки рекомендаций товаров на сайт интернет магазина, чтобы повысить конверсию и средни...</td>\n",
       "      <td>7.00</td>\n",
       "      <td>56.0</td>\n",
       "    </tr>\n",
       "    <tr>\n",
       "      <th>0</th>\n",
       "      <td>Добавить два новых канала привлечения трафика, что позволит привлекать на 30% больше пользователей</td>\n",
       "      <td>13.33</td>\n",
       "      <td>40.0</td>\n",
       "    </tr>\n",
       "    <tr>\n",
       "      <th>6</th>\n",
       "      <td>Показать на главной странице баннеры с актуальными акциями и распродажами, чтобы увеличить конве...</td>\n",
       "      <td>8.00</td>\n",
       "      <td>40.0</td>\n",
       "    </tr>\n",
       "    <tr>\n",
       "      <th>8</th>\n",
       "      <td>Запустить акцию, дающую скидку на товар в день рождения</td>\n",
       "      <td>16.20</td>\n",
       "      <td>16.2</td>\n",
       "    </tr>\n",
       "    <tr>\n",
       "      <th>3</th>\n",
       "      <td>Изменить структура категорий, что увеличит конверсию, т.к. пользователи быстрее найдут нужный товар</td>\n",
       "      <td>1.12</td>\n",
       "      <td>9.0</td>\n",
       "    </tr>\n",
       "    <tr>\n",
       "      <th>1</th>\n",
       "      <td>Запустить собственную службу доставки, что сократит срок доставки заказов</td>\n",
       "      <td>2.00</td>\n",
       "      <td>4.0</td>\n",
       "    </tr>\n",
       "    <tr>\n",
       "      <th>5</th>\n",
       "      <td>Добавить страницу отзывов клиентов о магазине, что позволит увеличить количество заказов</td>\n",
       "      <td>1.33</td>\n",
       "      <td>4.0</td>\n",
       "    </tr>\n",
       "    <tr>\n",
       "      <th>4</th>\n",
       "      <td>Изменить цвет фона главной страницы, чтобы увеличить вовлеченность пользователей</td>\n",
       "      <td>1.00</td>\n",
       "      <td>3.0</td>\n",
       "    </tr>\n",
       "  </tbody>\n",
       "</table>\n",
       "</div>"
      ],
      "text/plain": [
       "                                                                                            hypothesis  \\\n",
       "7     Добавить форму подписки на все основные страницы, чтобы собрать базу клиентов для email-рассылок   \n",
       "2  Добавить блоки рекомендаций товаров на сайт интернет магазина, чтобы повысить конверсию и средни...   \n",
       "0   Добавить два новых канала привлечения трафика, что позволит привлекать на 30% больше пользователей   \n",
       "6  Показать на главной странице баннеры с актуальными акциями и распродажами, чтобы увеличить конве...   \n",
       "8                                              Запустить акцию, дающую скидку на товар в день рождения   \n",
       "3  Изменить структура категорий, что увеличит конверсию, т.к. пользователи быстрее найдут нужный товар   \n",
       "1                            Запустить собственную службу доставки, что сократит срок доставки заказов   \n",
       "5             Добавить страницу отзывов клиентов о магазине, что позволит увеличить количество заказов   \n",
       "4                     Изменить цвет фона главной страницы, чтобы увеличить вовлеченность пользователей   \n",
       "\n",
       "     ICE   RICE  \n",
       "7  11.20  112.0  \n",
       "2   7.00   56.0  \n",
       "0  13.33   40.0  \n",
       "6   8.00   40.0  \n",
       "8  16.20   16.2  \n",
       "3   1.12    9.0  \n",
       "1   2.00    4.0  \n",
       "5   1.33    4.0  \n",
       "4   1.00    3.0  "
      ]
     },
     "metadata": {},
     "output_type": "display_data"
    }
   ],
   "source": [
    "# Для удобства создадим таблицу с обоими значениями и выведем их рядом\n",
    "prioritization_comparison = hypothesis_data[['hypothesis', 'ICE', 'RICE']].sort_values(by='RICE', ascending=False)\n",
    "print(\"Сравнение приоритизации гипотез по ICE и RICE:\")\n",
    "display(prioritization_comparison)"
   ]
  },
  {
   "cell_type": "markdown",
   "metadata": {},
   "source": [
    "<b>Промежуточные выводы:</b>\n",
    "- По ICE гипотеза 7 (добавить форму подписки) была третьей, но по RICE поднялась на первое место. Охват аудитории (reach = 10) сыграл ключевую роль в повышении её приоритета, так как подписка может быстро затронуть большую часть пользователей.\n",
    "- По ICE гипотеза 2 (добавить блоки рекомендаций товаров) находилась в середине списка. С учётом высокого охвата (reach = 8) она поднялась на второе место по RICE. Рекомендации предполагают высокую вероятность вовлечения широкой аудитории, что усиливает её значимость в рамках RICE.\n",
    "- Гипотеза 8 (запустить акцию с днём рождения) лидировала по ICE, но по RICE опустилась на пятое место. Несмотря на высокий показатель влияния (impact = 9) и уверенности (confidence = 9), её охват (reach = 1) ограничивает эффект. Это предполагает, что акция будет полезна для сравнительно небольшой группы пользователей.\n",
    "- Гипотезы 3, 1, 5, и 4 остались на низких позициях. Низкие показатели охвата, уверенности, либо влияния у этих гипотез не позволили им занять высокие места. Например, изменение цвета фона страницы (гипотеза 4) имеет минимальное влияние и остаётся последней в обоих рейтингах."
   ]
  },
  {
   "cell_type": "markdown",
   "metadata": {},
   "source": [
    "# Часть 2. Анализ A/B-теста"
   ]
  },
  {
   "cell_type": "markdown",
   "metadata": {},
   "source": [
    "<b>Краткий план:</b>\n",
    "- Загрузим данные о заказах и пользователях.\n",
    "- Подготовим кумулятивные метрики для каждой группы.\n",
    "- Построим графики для кумулятивной выручки и других метрик.\n",
    "- Применим статистические тесты для проверки значимости различий."
   ]
  },
  {
   "cell_type": "markdown",
   "metadata": {},
   "source": [
    "## Загрузим данные и сразу проверим"
   ]
  },
  {
   "cell_type": "code",
   "execution_count": 7,
   "metadata": {},
   "outputs": [
    {
     "name": "stdout",
     "output_type": "stream",
     "text": [
      "<class 'pandas.core.frame.DataFrame'>\n",
      "RangeIndex: 1197 entries, 0 to 1196\n",
      "Data columns (total 5 columns):\n",
      " #   Column         Non-Null Count  Dtype \n",
      "---  ------         --------------  ----- \n",
      " 0   transactionId  1197 non-null   int64 \n",
      " 1   visitorId      1197 non-null   int64 \n",
      " 2   date           1197 non-null   object\n",
      " 3   revenue        1197 non-null   int64 \n",
      " 4   group          1197 non-null   object\n",
      "dtypes: int64(3), object(2)\n",
      "memory usage: 46.9+ KB\n"
     ]
    },
    {
     "data": {
      "text/plain": [
       "None"
      ]
     },
     "metadata": {},
     "output_type": "display_data"
    },
    {
     "data": {
      "text/html": [
       "<div>\n",
       "<style scoped>\n",
       "    .dataframe tbody tr th:only-of-type {\n",
       "        vertical-align: middle;\n",
       "    }\n",
       "\n",
       "    .dataframe tbody tr th {\n",
       "        vertical-align: top;\n",
       "    }\n",
       "\n",
       "    .dataframe thead th {\n",
       "        text-align: right;\n",
       "    }\n",
       "</style>\n",
       "<table border=\"1\" class=\"dataframe\">\n",
       "  <thead>\n",
       "    <tr style=\"text-align: right;\">\n",
       "      <th></th>\n",
       "      <th>transactionId</th>\n",
       "      <th>visitorId</th>\n",
       "      <th>date</th>\n",
       "      <th>revenue</th>\n",
       "      <th>group</th>\n",
       "    </tr>\n",
       "  </thead>\n",
       "  <tbody>\n",
       "    <tr>\n",
       "      <th>0</th>\n",
       "      <td>3667963787</td>\n",
       "      <td>3312258926</td>\n",
       "      <td>2019-08-15</td>\n",
       "      <td>1650</td>\n",
       "      <td>B</td>\n",
       "    </tr>\n",
       "    <tr>\n",
       "      <th>1</th>\n",
       "      <td>2804400009</td>\n",
       "      <td>3642806036</td>\n",
       "      <td>2019-08-15</td>\n",
       "      <td>730</td>\n",
       "      <td>B</td>\n",
       "    </tr>\n",
       "    <tr>\n",
       "      <th>2</th>\n",
       "      <td>2961555356</td>\n",
       "      <td>4069496402</td>\n",
       "      <td>2019-08-15</td>\n",
       "      <td>400</td>\n",
       "      <td>A</td>\n",
       "    </tr>\n",
       "    <tr>\n",
       "      <th>3</th>\n",
       "      <td>3797467345</td>\n",
       "      <td>1196621759</td>\n",
       "      <td>2019-08-15</td>\n",
       "      <td>9759</td>\n",
       "      <td>B</td>\n",
       "    </tr>\n",
       "    <tr>\n",
       "      <th>4</th>\n",
       "      <td>2282983706</td>\n",
       "      <td>2322279887</td>\n",
       "      <td>2019-08-15</td>\n",
       "      <td>2308</td>\n",
       "      <td>B</td>\n",
       "    </tr>\n",
       "  </tbody>\n",
       "</table>\n",
       "</div>"
      ],
      "text/plain": [
       "   transactionId   visitorId        date  revenue group\n",
       "0     3667963787  3312258926  2019-08-15     1650     B\n",
       "1     2804400009  3642806036  2019-08-15      730     B\n",
       "2     2961555356  4069496402  2019-08-15      400     A\n",
       "3     3797467345  1196621759  2019-08-15     9759     B\n",
       "4     2282983706  2322279887  2019-08-15     2308     B"
      ]
     },
     "metadata": {},
     "output_type": "display_data"
    },
    {
     "name": "stdout",
     "output_type": "stream",
     "text": [
      "<class 'pandas.core.frame.DataFrame'>\n",
      "RangeIndex: 62 entries, 0 to 61\n",
      "Data columns (total 3 columns):\n",
      " #   Column    Non-Null Count  Dtype \n",
      "---  ------    --------------  ----- \n",
      " 0   date      62 non-null     object\n",
      " 1   group     62 non-null     object\n",
      " 2   visitors  62 non-null     int64 \n",
      "dtypes: int64(1), object(2)\n",
      "memory usage: 1.6+ KB\n"
     ]
    },
    {
     "data": {
      "text/plain": [
       "None"
      ]
     },
     "metadata": {},
     "output_type": "display_data"
    },
    {
     "data": {
      "text/html": [
       "<div>\n",
       "<style scoped>\n",
       "    .dataframe tbody tr th:only-of-type {\n",
       "        vertical-align: middle;\n",
       "    }\n",
       "\n",
       "    .dataframe tbody tr th {\n",
       "        vertical-align: top;\n",
       "    }\n",
       "\n",
       "    .dataframe thead th {\n",
       "        text-align: right;\n",
       "    }\n",
       "</style>\n",
       "<table border=\"1\" class=\"dataframe\">\n",
       "  <thead>\n",
       "    <tr style=\"text-align: right;\">\n",
       "      <th></th>\n",
       "      <th>date</th>\n",
       "      <th>group</th>\n",
       "      <th>visitors</th>\n",
       "    </tr>\n",
       "  </thead>\n",
       "  <tbody>\n",
       "    <tr>\n",
       "      <th>0</th>\n",
       "      <td>2019-08-01</td>\n",
       "      <td>A</td>\n",
       "      <td>719</td>\n",
       "    </tr>\n",
       "    <tr>\n",
       "      <th>1</th>\n",
       "      <td>2019-08-02</td>\n",
       "      <td>A</td>\n",
       "      <td>619</td>\n",
       "    </tr>\n",
       "    <tr>\n",
       "      <th>2</th>\n",
       "      <td>2019-08-03</td>\n",
       "      <td>A</td>\n",
       "      <td>507</td>\n",
       "    </tr>\n",
       "    <tr>\n",
       "      <th>3</th>\n",
       "      <td>2019-08-04</td>\n",
       "      <td>A</td>\n",
       "      <td>717</td>\n",
       "    </tr>\n",
       "    <tr>\n",
       "      <th>4</th>\n",
       "      <td>2019-08-05</td>\n",
       "      <td>A</td>\n",
       "      <td>756</td>\n",
       "    </tr>\n",
       "  </tbody>\n",
       "</table>\n",
       "</div>"
      ],
      "text/plain": [
       "         date group  visitors\n",
       "0  2019-08-01     A       719\n",
       "1  2019-08-02     A       619\n",
       "2  2019-08-03     A       507\n",
       "3  2019-08-04     A       717\n",
       "4  2019-08-05     A       756"
      ]
     },
     "metadata": {},
     "output_type": "display_data"
    }
   ],
   "source": [
    "# Загрузим данные\n",
    "orders = pd.read_csv('/datasets/orders.csv')\n",
    "visitors = pd.read_csv('/datasets/visitors.csv')\n",
    "\n",
    "# Проверим их\n",
    "display(orders.info())\n",
    "display(orders.head())\n",
    "\n",
    "display(visitors.info())\n",
    "display(visitors.head())"
   ]
  },
  {
   "cell_type": "markdown",
   "metadata": {},
   "source": [
    "Пропуски отсутствуют, хорошо!"
   ]
  },
  {
   "cell_type": "markdown",
   "metadata": {},
   "source": [
    "<b>Разберемся с типами данных"
   ]
  },
  {
   "cell_type": "code",
   "execution_count": 8,
   "metadata": {},
   "outputs": [],
   "source": [
    "orders['date'] = pd.to_datetime(orders['date'])\n",
    "visitors['date'] = pd.to_datetime(visitors['date'])"
   ]
  },
  {
   "cell_type": "markdown",
   "metadata": {},
   "source": [
    "## Соберем кумулятивную дату в одну таблицу:"
   ]
  },
  {
   "cell_type": "code",
   "execution_count": 9,
   "metadata": {},
   "outputs": [
    {
     "data": {
      "text/html": [
       "<div>\n",
       "<style scoped>\n",
       "    .dataframe tbody tr th:only-of-type {\n",
       "        vertical-align: middle;\n",
       "    }\n",
       "\n",
       "    .dataframe tbody tr th {\n",
       "        vertical-align: top;\n",
       "    }\n",
       "\n",
       "    .dataframe thead th {\n",
       "        text-align: right;\n",
       "    }\n",
       "</style>\n",
       "<table border=\"1\" class=\"dataframe\">\n",
       "  <thead>\n",
       "    <tr style=\"text-align: right;\">\n",
       "      <th></th>\n",
       "      <th>date</th>\n",
       "      <th>group</th>\n",
       "      <th>orders</th>\n",
       "      <th>buyers</th>\n",
       "      <th>revenue</th>\n",
       "      <th>visitors</th>\n",
       "    </tr>\n",
       "  </thead>\n",
       "  <tbody>\n",
       "    <tr>\n",
       "      <th>0</th>\n",
       "      <td>2019-08-01</td>\n",
       "      <td>A</td>\n",
       "      <td>24</td>\n",
       "      <td>20</td>\n",
       "      <td>148579</td>\n",
       "      <td>719</td>\n",
       "    </tr>\n",
       "    <tr>\n",
       "      <th>1</th>\n",
       "      <td>2019-08-01</td>\n",
       "      <td>B</td>\n",
       "      <td>21</td>\n",
       "      <td>20</td>\n",
       "      <td>101217</td>\n",
       "      <td>713</td>\n",
       "    </tr>\n",
       "    <tr>\n",
       "      <th>2</th>\n",
       "      <td>2019-08-02</td>\n",
       "      <td>A</td>\n",
       "      <td>44</td>\n",
       "      <td>38</td>\n",
       "      <td>242401</td>\n",
       "      <td>1338</td>\n",
       "    </tr>\n",
       "    <tr>\n",
       "      <th>3</th>\n",
       "      <td>2019-08-02</td>\n",
       "      <td>B</td>\n",
       "      <td>45</td>\n",
       "      <td>43</td>\n",
       "      <td>266748</td>\n",
       "      <td>1294</td>\n",
       "    </tr>\n",
       "    <tr>\n",
       "      <th>4</th>\n",
       "      <td>2019-08-03</td>\n",
       "      <td>A</td>\n",
       "      <td>68</td>\n",
       "      <td>62</td>\n",
       "      <td>354874</td>\n",
       "      <td>1845</td>\n",
       "    </tr>\n",
       "  </tbody>\n",
       "</table>\n",
       "</div>"
      ],
      "text/plain": [
       "        date group  orders  buyers  revenue  visitors\n",
       "0 2019-08-01     A      24      20   148579       719\n",
       "1 2019-08-01     B      21      20   101217       713\n",
       "2 2019-08-02     A      44      38   242401      1338\n",
       "3 2019-08-02     B      45      43   266748      1294\n",
       "4 2019-08-03     A      68      62   354874      1845"
      ]
     },
     "metadata": {},
     "output_type": "display_data"
    }
   ],
   "source": [
    "# Создадим датафрейм с уникальными парами значений 'date' и 'group'. Избавимся от дубликатов.\n",
    "datesGroups = orders[['date','group']].drop_duplicates() \n",
    "# Объявим переменную, где содержится число уникальных заказов в группе теста по указанную дату включительно и число уникальных пользователей, совершивших хотя бы 1 заказ в группе теста по указанную дату включительно;\n",
    "ordersAggregated = datesGroups.apply(lambda x: orders[np.logical_and(orders['date'] <= x['date'], orders['group'] == x['group'])].agg({'date' : 'max', 'group' : 'max', 'transactionId' : 'nunique', 'visitorId' : 'nunique', 'revenue' : 'sum'}), axis=1).sort_values(by=['date','group'])\n",
    "# Объявим переменную, где содержится количество уникальных посетителей в группе теста по указанную дату включительно\n",
    "visitorsAggregated = datesGroups.apply(lambda x: visitors[np.logical_and(visitors['date'] <= x['date'], visitors['group'] == x['group'])].agg({'date' : 'max', 'group' : 'max', 'visitors' : 'sum'}), axis=1).sort_values(by=['date','group'])\n",
    "\n",
    "# Объединим переменные в новую таблицу\n",
    "cumulativeData = ordersAggregated.merge(visitorsAggregated, left_on=['date', 'group'], right_on=['date', 'group'])\n",
    "cumulativeData.columns = ['date', 'group', 'orders', 'buyers', 'revenue', 'visitors']\n",
    "\n",
    "display(cumulativeData.head())"
   ]
  },
  {
   "cell_type": "markdown",
   "metadata": {},
   "source": [
    "#### Построим графики кумулятивной выручки по дням по группам.\n",
    "- Объявим переменные cumulativeRevenueA и cumulativeRevenueB, в которых сохраним данные о датах, выручке и числе заказов в группах A и B. "
   ]
  },
  {
   "cell_type": "code",
   "execution_count": 36,
   "metadata": {},
   "outputs": [
    {
     "data": {
      "image/png": "[encoded data removed]",
      "text/plain": [
       "<Figure size 864x432 with 1 Axes>"
      ]
     },
     "metadata": {
      "needs_background": "light"
     },
     "output_type": "display_data"
    }
   ],
   "source": [
    "cumulativeRevenueA = cumulativeData[cumulativeData['group']=='A'][['date','revenue', 'orders']]\n",
    "cumulativeRevenueB = cumulativeData[cumulativeData['group']=='B'][['date','revenue', 'orders']]\n",
    "plt.figure(figsize=(12, 6))\n",
    "plt.plot(cumulativeRevenueA['date'], cumulativeRevenueA['revenue'], label='A')\n",
    "plt.plot(cumulativeRevenueB['date'], cumulativeRevenueB['revenue'], label='B')\n",
    "plt.title('Графики кумулятивной выручки по дням')\n",
    "plt.xlabel('Дата')\n",
    "plt.ylabel('Кумулятивная выручка')\n",
    "plt.legend()\n",
    "plt.show()"
   ]
  },
  {
   "cell_type": "markdown",
   "metadata": {},
   "source": [
    "Группа B существенно опережает группу A по кумулятивной выручке, в основном за счет резкого скачка в середине периода, что может быть вызвано промо-акциями, скидками или другими стимулирующими мерами, которые повлияли на выручку. Более высокий общий доход группы B также может свидетельствовать о более высоком среднем чеке или большем количестве заказов."
   ]
  },
  {
   "cell_type": "markdown",
   "metadata": {},
   "source": [
    "## Построим графики кумулятивного среднего чека по дням."
   ]
  },
  {
   "cell_type": "code",
   "execution_count": 35,
   "metadata": {},
   "outputs": [
    {
     "data": {
      "image/png": "[encoded data removed]",
      "text/plain": [
       "<Figure size 864x432 with 1 Axes>"
      ]
     },
     "metadata": {
      "needs_background": "light"
     },
     "output_type": "display_data"
    }
   ],
   "source": [
    "plt.figure(figsize=(12, 6))\n",
    "plt.plot(cumulativeRevenueA['date'], cumulativeRevenueA['revenue']/cumulativeRevenueA['orders'], label='A')\n",
    "plt.plot(cumulativeRevenueB['date'], cumulativeRevenueB['revenue']/cumulativeRevenueB['orders'], label='B')\n",
    "plt.title('Графики кумулятивного среднего чека по дням')\n",
    "plt.xlabel('Дата')\n",
    "plt.ylabel('Кумулятивный средний чек')\n",
    "plt.legend()\n",
    "plt.show()"
   ]
  },
  {
   "cell_type": "markdown",
   "metadata": {},
   "source": [
    "Мы видим, как в первой половине теста происходили колебания, после чего сегмент В сильно оторвался от А, что, возможно, указывает на изменившиеся условия для пользователей этой группы. К концу графики стабилизируются."
   ]
  },
  {
   "cell_type": "markdown",
   "metadata": {},
   "source": [
    "## Построим график относительно различия кумулятивного среднего чека группы B к группе A. \n",
    "- Объединим таблицы cumulativeRevenueA и cumulativeRevenueB. Сохраним в переменной mergedCumulativeRevenue. "
   ]
  },
  {
   "cell_type": "code",
   "execution_count": 37,
   "metadata": {},
   "outputs": [
    {
     "data": {
      "image/png": "[encoded data removed]",
      "text/plain": [
       "<Figure size 864x432 with 1 Axes>"
      ]
     },
     "metadata": {
      "needs_background": "light"
     },
     "output_type": "display_data"
    }
   ],
   "source": [
    "mergedCumulativeRevenue = cumulativeRevenueA.merge(cumulativeRevenueB, left_on='date', right_on='date', how='left', suffixes=['A', 'B'])\n",
    "plt.figure(figsize=(12, 6))\n",
    "plt.plot(mergedCumulativeRevenue['date'], (mergedCumulativeRevenue['revenueB']/mergedCumulativeRevenue['ordersB'])/(mergedCumulativeRevenue['revenueA']/mergedCumulativeRevenue['ordersA'])-1)\n",
    "plt.axhline(y=0, color='black', linestyle='--')\n",
    "plt.title('График относительно различия кумулятивного среднего чека группы B к группе A')\n",
    "plt.xlabel('Дата')\n",
    "plt.ylabel('Относит. различие кум-го среднего чека')\n",
    "plt.show()"
   ]
  },
  {
   "cell_type": "markdown",
   "metadata": {},
   "source": [
    "Из графика видно, что результаты теста значительно менялись в несколько дат. Возможно тогда были совершены аномальные заказы."
   ]
  },
  {
   "cell_type": "markdown",
   "metadata": {},
   "source": [
    "## Построим графики кумулятивного среднего количества заказов на посетителя по группам и по дням.\n",
    "- Добавим в cumulativeData столбец 'conversion' c отношением числа заказов к количеству пользователей в указанной группе в указанный день.\n",
    "- Объявим переменные cumulativeDataA и cumulativeDataB, в которых сохраним данные о заказах в сегментах A и B соответственно."
   ]
  },
  {
   "cell_type": "code",
   "execution_count": 38,
   "metadata": {},
   "outputs": [
    {
     "data": {
      "image/png": "[encoded data removed]",
      "text/plain": [
       "<Figure size 864x432 with 1 Axes>"
      ]
     },
     "metadata": {
      "needs_background": "light"
     },
     "output_type": "display_data"
    }
   ],
   "source": [
    "# считаем среднее количество заказов на посетителя\n",
    "cumulativeData['conversion'] = cumulativeData['orders']/cumulativeData['visitors']\n",
    "\n",
    "# отделяем данные по группе A\n",
    "cumulativeDataA = cumulativeData[cumulativeData['group']=='A']\n",
    "\n",
    "# отделяем данные по группе B\n",
    "cumulativeDataB = cumulativeData[cumulativeData['group']=='B']\n",
    "\n",
    "# строим графики\n",
    "plt.figure(figsize=(12, 6))\n",
    "plt.plot(cumulativeDataA['date'], cumulativeDataA['conversion'], label='A')\n",
    "plt.plot(cumulativeDataB['date'], cumulativeDataB['conversion'], label='B')\n",
    "plt.title('Графики кумулятивного среднего количества заказов на посетителя')\n",
    "plt.xlabel('Дата')\n",
    "plt.ylabel('Кум. средн. кол-во заказов на посетителя')\n",
    "plt.legend()\n",
    "\n",
    "# задаем масштаб осей\n",
    "#plt.axis([\"2019-08-01\", \"2019-08-31\", 0, 0.05])\n",
    "plt.xlim(pd.to_datetime(\"2019-08-01\"), pd.to_datetime(\"2019-08-31\"))\n",
    "plt.ylim(0, 0.05)\n",
    "\n",
    "plt.show()"
   ]
  },
  {
   "cell_type": "markdown",
   "metadata": {},
   "source": [
    "В начале теста сегмент А имел большее кумулятивное среднее кол-во заказов, но постепенно сегмент В выровнялся и зафиксировался примерно около одного значения, больше значения сегмента А"
   ]
  },
  {
   "cell_type": "markdown",
   "metadata": {},
   "source": [
    "## Построим график относительного изменения кумулятивного среднего количества заказов на посетителя группы B к группе A."
   ]
  },
  {
   "cell_type": "code",
   "execution_count": 52,
   "metadata": {},
   "outputs": [
    {
     "data": {
      "image/png": "[encoded data removed]",
      "text/plain": [
       "<Figure size 864x432 with 1 Axes>"
      ]
     },
     "metadata": {
      "needs_background": "light"
     },
     "output_type": "display_data"
    }
   ],
   "source": [
    "# Объединим таблицы cumulativeDataA и cumulativeDataB\n",
    "mergedCumulativeConversions = cumulativeDataA[['date','conversion']].merge(cumulativeDataB[['date','conversion']], left_on='date', right_on='date', how='left', suffixes=['A', 'B'])\n",
    "plt.figure(figsize=(12, 6))\n",
    "plt.plot(mergedCumulativeConversions['date'], mergedCumulativeConversions['conversionB']/mergedCumulativeConversions['conversionA']-1)\n",
    "plt.title('График относительного изменения кумулятивного среднего количества заказов на посетителя группы B к группе A.')\n",
    "plt.xlabel('Дата')\n",
    "plt.ylabel('Относит. изменение кум-го сред. кол-ва заказов')\n",
    "plt.axhline(y=0, color='black', linestyle='--')\n",
    "plt.axhline(y=0.2, color='grey', linestyle='--')\n",
    "#plt.axis([\"2019-08-01\", \"2019-08-31\", -0.5, 0.5]) \n",
    "plt.xlim(pd.to_datetime(\"2019-08-01\"), pd.to_datetime(\"2019-08-31\"))\n",
    "plt.ylim(-0.5, 0.5)\n",
    "plt.show()"
   ]
  },
  {
   "cell_type": "markdown",
   "metadata": {},
   "source": [
    "Из графика видно, что почти с самого начала теста группа В лидирует по метрике, доходя до прироста в 20%, но позже фиксируясь в отметке 10-15%."
   ]
  },
  {
   "cell_type": "markdown",
   "metadata": {},
   "source": [
    "## Построим гистограмму распределения числа заказов по пользователям"
   ]
  },
  {
   "cell_type": "code",
   "execution_count": 45,
   "metadata": {},
   "outputs": [
    {
     "data": {
      "text/html": [
       "<div>\n",
       "<style scoped>\n",
       "    .dataframe tbody tr th:only-of-type {\n",
       "        vertical-align: middle;\n",
       "    }\n",
       "\n",
       "    .dataframe tbody tr th {\n",
       "        vertical-align: top;\n",
       "    }\n",
       "\n",
       "    .dataframe thead th {\n",
       "        text-align: right;\n",
       "    }\n",
       "</style>\n",
       "<table border=\"1\" class=\"dataframe\">\n",
       "  <thead>\n",
       "    <tr style=\"text-align: right;\">\n",
       "      <th></th>\n",
       "      <th>visitorId</th>\n",
       "      <th>orders</th>\n",
       "    </tr>\n",
       "  </thead>\n",
       "  <tbody>\n",
       "    <tr>\n",
       "      <th>1023</th>\n",
       "      <td>4256040402</td>\n",
       "      <td>11</td>\n",
       "    </tr>\n",
       "    <tr>\n",
       "      <th>591</th>\n",
       "      <td>2458001652</td>\n",
       "      <td>11</td>\n",
       "    </tr>\n",
       "    <tr>\n",
       "      <th>569</th>\n",
       "      <td>2378935119</td>\n",
       "      <td>9</td>\n",
       "    </tr>\n",
       "    <tr>\n",
       "      <th>487</th>\n",
       "      <td>2038680547</td>\n",
       "      <td>8</td>\n",
       "    </tr>\n",
       "    <tr>\n",
       "      <th>44</th>\n",
       "      <td>199603092</td>\n",
       "      <td>5</td>\n",
       "    </tr>\n",
       "    <tr>\n",
       "      <th>744</th>\n",
       "      <td>3062433592</td>\n",
       "      <td>5</td>\n",
       "    </tr>\n",
       "    <tr>\n",
       "      <th>55</th>\n",
       "      <td>237748145</td>\n",
       "      <td>5</td>\n",
       "    </tr>\n",
       "    <tr>\n",
       "      <th>917</th>\n",
       "      <td>3803269165</td>\n",
       "      <td>5</td>\n",
       "    </tr>\n",
       "    <tr>\n",
       "      <th>299</th>\n",
       "      <td>1230306981</td>\n",
       "      <td>5</td>\n",
       "    </tr>\n",
       "    <tr>\n",
       "      <th>897</th>\n",
       "      <td>3717692402</td>\n",
       "      <td>5</td>\n",
       "    </tr>\n",
       "  </tbody>\n",
       "</table>\n",
       "</div>"
      ],
      "text/plain": [
       "       visitorId  orders\n",
       "1023  4256040402      11\n",
       "591   2458001652      11\n",
       "569   2378935119       9\n",
       "487   2038680547       8\n",
       "44     199603092       5\n",
       "744   3062433592       5\n",
       "55     237748145       5\n",
       "917   3803269165       5\n",
       "299   1230306981       5\n",
       "897   3717692402       5"
      ]
     },
     "metadata": {},
     "output_type": "display_data"
    },
    {
     "data": {
      "image/png": "[encoded data removed]",
      "text/plain": [
       "<Figure size 864x432 with 1 Axes>"
      ]
     },
     "metadata": {
      "needs_background": "light"
     },
     "output_type": "display_data"
    }
   ],
   "source": [
    "ordersByUsers = (\n",
    "    orders.groupby('visitorId', as_index=False)\n",
    "    .agg({'transactionId': 'nunique'})\n",
    ")\n",
    "ordersByUsers.columns = ['visitorId', 'orders']\n",
    "plt.figure(figsize=(12, 6))\n",
    "plt.hist(ordersByUsers['orders']) \n",
    "plt.title('Гистограмма распределения числа заказов по пользователям')\n",
    "plt.xlabel('Количество заказов')\n",
    "plt.ylabel('Частота')\n",
    "display(ordersByUsers.sort_values(by='orders', ascending=False).head(10))"
   ]
  },
  {
   "cell_type": "markdown",
   "metadata": {},
   "source": [
    "Большинство пользователей совершило всего 1 заказ. Однако не ясно, сколько пользователей заказало 2,3 и более раза. Для этого построим другой график."
   ]
  },
  {
   "cell_type": "markdown",
   "metadata": {},
   "source": [
    "## Построим точечный график количества заказов по пользователям."
   ]
  },
  {
   "cell_type": "code",
   "execution_count": 47,
   "metadata": {},
   "outputs": [
    {
     "data": {
      "text/html": [
       "<div>\n",
       "<style scoped>\n",
       "    .dataframe tbody tr th:only-of-type {\n",
       "        vertical-align: middle;\n",
       "    }\n",
       "\n",
       "    .dataframe tbody tr th {\n",
       "        vertical-align: top;\n",
       "    }\n",
       "\n",
       "    .dataframe thead th {\n",
       "        text-align: right;\n",
       "    }\n",
       "</style>\n",
       "<table border=\"1\" class=\"dataframe\">\n",
       "  <thead>\n",
       "    <tr style=\"text-align: right;\">\n",
       "      <th></th>\n",
       "      <th>visitorId</th>\n",
       "      <th>orders</th>\n",
       "    </tr>\n",
       "  </thead>\n",
       "  <tbody>\n",
       "    <tr>\n",
       "      <th>1023</th>\n",
       "      <td>4256040402</td>\n",
       "      <td>11</td>\n",
       "    </tr>\n",
       "    <tr>\n",
       "      <th>591</th>\n",
       "      <td>2458001652</td>\n",
       "      <td>11</td>\n",
       "    </tr>\n",
       "    <tr>\n",
       "      <th>569</th>\n",
       "      <td>2378935119</td>\n",
       "      <td>9</td>\n",
       "    </tr>\n",
       "    <tr>\n",
       "      <th>487</th>\n",
       "      <td>2038680547</td>\n",
       "      <td>8</td>\n",
       "    </tr>\n",
       "    <tr>\n",
       "      <th>44</th>\n",
       "      <td>199603092</td>\n",
       "      <td>5</td>\n",
       "    </tr>\n",
       "    <tr>\n",
       "      <th>744</th>\n",
       "      <td>3062433592</td>\n",
       "      <td>5</td>\n",
       "    </tr>\n",
       "    <tr>\n",
       "      <th>55</th>\n",
       "      <td>237748145</td>\n",
       "      <td>5</td>\n",
       "    </tr>\n",
       "    <tr>\n",
       "      <th>917</th>\n",
       "      <td>3803269165</td>\n",
       "      <td>5</td>\n",
       "    </tr>\n",
       "    <tr>\n",
       "      <th>299</th>\n",
       "      <td>1230306981</td>\n",
       "      <td>5</td>\n",
       "    </tr>\n",
       "    <tr>\n",
       "      <th>897</th>\n",
       "      <td>3717692402</td>\n",
       "      <td>5</td>\n",
       "    </tr>\n",
       "  </tbody>\n",
       "</table>\n",
       "</div>"
      ],
      "text/plain": [
       "       visitorId  orders\n",
       "1023  4256040402      11\n",
       "591   2458001652      11\n",
       "569   2378935119       9\n",
       "487   2038680547       8\n",
       "44     199603092       5\n",
       "744   3062433592       5\n",
       "55     237748145       5\n",
       "917   3803269165       5\n",
       "299   1230306981       5\n",
       "897   3717692402       5"
      ]
     },
     "metadata": {},
     "output_type": "display_data"
    },
    {
     "data": {
      "image/png": "[encoded data removed]",
      "text/plain": [
       "<Figure size 864x432 with 1 Axes>"
      ]
     },
     "metadata": {
      "needs_background": "light"
     },
     "output_type": "display_data"
    }
   ],
   "source": [
    "display(ordersByUsers.sort_values(by='orders', ascending=False).head(10))\n",
    "\n",
    "# серия из чисел от 0 до количества наблюдений в ordersByUsers\n",
    "x_values = pd.Series(range(0, len(ordersByUsers)))\n",
    "plt.figure(figsize=(12, 6))\n",
    "plt.scatter(x_values, ordersByUsers['orders']) \n",
    "plt.title('Точечный график количества заказов по пользователям')\n",
    "plt.xlabel('Частота')\n",
    "plt.ylabel('Количество заказов')\n",
    "plt.show()"
   ]
  },
  {
   "cell_type": "markdown",
   "metadata": {},
   "source": [
    "Пользователей, заказавших более двух раз - мало. Они могут быть аномальными. Чтобы понять 2 заказа - это нормально или много, посчитаем выборочные перцентили."
   ]
  },
  {
   "cell_type": "markdown",
   "metadata": {},
   "source": [
    "## Посчитаем 95-й и 99-й перцентили количества заказов на пользователя."
   ]
  },
  {
   "cell_type": "code",
   "execution_count": 17,
   "metadata": {},
   "outputs": [
    {
     "name": "stdout",
     "output_type": "stream",
     "text": [
      "95-й и 99-й выборочные перцентили: [2. 4.]\n"
     ]
    }
   ],
   "source": [
    "print(\"95-й и 99-й выборочные перцентили:\", np.percentile(ordersByUsers['orders'], [95, 99])) "
   ]
  },
  {
   "cell_type": "markdown",
   "metadata": {},
   "source": [
    "Выходит, что не более 5% пользователей совершали больше 2 заказов. И не более 1% пользователей - больше 4 заказов."
   ]
  },
  {
   "cell_type": "markdown",
   "metadata": {},
   "source": [
    "## Построим точечный график стоимостей заказов."
   ]
  },
  {
   "cell_type": "code",
   "execution_count": 49,
   "metadata": {},
   "outputs": [
    {
     "data": {
      "text/html": [
       "<div>\n",
       "<style scoped>\n",
       "    .dataframe tbody tr th:only-of-type {\n",
       "        vertical-align: middle;\n",
       "    }\n",
       "\n",
       "    .dataframe tbody tr th {\n",
       "        vertical-align: top;\n",
       "    }\n",
       "\n",
       "    .dataframe thead th {\n",
       "        text-align: right;\n",
       "    }\n",
       "</style>\n",
       "<table border=\"1\" class=\"dataframe\">\n",
       "  <thead>\n",
       "    <tr style=\"text-align: right;\">\n",
       "      <th></th>\n",
       "      <th>transactionId</th>\n",
       "      <th>visitorId</th>\n",
       "      <th>date</th>\n",
       "      <th>revenue</th>\n",
       "      <th>group</th>\n",
       "    </tr>\n",
       "  </thead>\n",
       "  <tbody>\n",
       "    <tr>\n",
       "      <th>425</th>\n",
       "      <td>590470918</td>\n",
       "      <td>1920142716</td>\n",
       "      <td>2019-08-19</td>\n",
       "      <td>1294500</td>\n",
       "      <td>B</td>\n",
       "    </tr>\n",
       "    <tr>\n",
       "      <th>1196</th>\n",
       "      <td>3936777065</td>\n",
       "      <td>2108080724</td>\n",
       "      <td>2019-08-15</td>\n",
       "      <td>202740</td>\n",
       "      <td>B</td>\n",
       "    </tr>\n",
       "    <tr>\n",
       "      <th>858</th>\n",
       "      <td>192721366</td>\n",
       "      <td>1316129916</td>\n",
       "      <td>2019-08-27</td>\n",
       "      <td>93940</td>\n",
       "      <td>A</td>\n",
       "    </tr>\n",
       "    <tr>\n",
       "      <th>1136</th>\n",
       "      <td>666610489</td>\n",
       "      <td>1307669133</td>\n",
       "      <td>2019-08-13</td>\n",
       "      <td>92550</td>\n",
       "      <td>A</td>\n",
       "    </tr>\n",
       "    <tr>\n",
       "      <th>744</th>\n",
       "      <td>3668308183</td>\n",
       "      <td>888512513</td>\n",
       "      <td>2019-08-27</td>\n",
       "      <td>86620</td>\n",
       "      <td>B</td>\n",
       "    </tr>\n",
       "    <tr>\n",
       "      <th>682</th>\n",
       "      <td>1216533772</td>\n",
       "      <td>4266935830</td>\n",
       "      <td>2019-08-29</td>\n",
       "      <td>78990</td>\n",
       "      <td>B</td>\n",
       "    </tr>\n",
       "    <tr>\n",
       "      <th>662</th>\n",
       "      <td>1811671147</td>\n",
       "      <td>4266935830</td>\n",
       "      <td>2019-08-29</td>\n",
       "      <td>78990</td>\n",
       "      <td>A</td>\n",
       "    </tr>\n",
       "    <tr>\n",
       "      <th>743</th>\n",
       "      <td>3603576309</td>\n",
       "      <td>4133034833</td>\n",
       "      <td>2019-08-09</td>\n",
       "      <td>67990</td>\n",
       "      <td>A</td>\n",
       "    </tr>\n",
       "    <tr>\n",
       "      <th>1103</th>\n",
       "      <td>1348774318</td>\n",
       "      <td>1164614297</td>\n",
       "      <td>2019-08-12</td>\n",
       "      <td>66350</td>\n",
       "      <td>A</td>\n",
       "    </tr>\n",
       "    <tr>\n",
       "      <th>1099</th>\n",
       "      <td>316924019</td>\n",
       "      <td>148427295</td>\n",
       "      <td>2019-08-12</td>\n",
       "      <td>65710</td>\n",
       "      <td>A</td>\n",
       "    </tr>\n",
       "  </tbody>\n",
       "</table>\n",
       "</div>"
      ],
      "text/plain": [
       "      transactionId   visitorId       date  revenue group\n",
       "425       590470918  1920142716 2019-08-19  1294500     B\n",
       "1196     3936777065  2108080724 2019-08-15   202740     B\n",
       "858       192721366  1316129916 2019-08-27    93940     A\n",
       "1136      666610489  1307669133 2019-08-13    92550     A\n",
       "744      3668308183   888512513 2019-08-27    86620     B\n",
       "682      1216533772  4266935830 2019-08-29    78990     B\n",
       "662      1811671147  4266935830 2019-08-29    78990     A\n",
       "743      3603576309  4133034833 2019-08-09    67990     A\n",
       "1103     1348774318  1164614297 2019-08-12    66350     A\n",
       "1099      316924019   148427295 2019-08-12    65710     A"
      ]
     },
     "metadata": {},
     "output_type": "display_data"
    },
    {
     "data": {
      "image/png": "[encoded data removed]",
      "text/plain": [
       "<Figure size 864x432 with 1 Axes>"
      ]
     },
     "metadata": {
      "needs_background": "light"
     },
     "output_type": "display_data"
    }
   ],
   "source": [
    "display(orders.sort_values(by='revenue', ascending=False).head(10))\n",
    "\n",
    "x_values = pd.Series(range(0, len(orders['revenue'])))\n",
    "plt.figure(figsize=(12, 6))\n",
    "plt.scatter(x_values, orders['revenue'])\n",
    "plt.title('Точечный график стоимостей заказов')\n",
    "plt.xlabel('Частота')\n",
    "plt.ylabel('Стоимость')\n",
    "plt.show()"
   ]
  },
  {
   "cell_type": "markdown",
   "metadata": {},
   "source": [
    "Сумма большинства заказов меньше 200 тыс. Однако есть один заказ стоимостью 200 тыс. и один заказ стоимостью свыше 1.2 млн."
   ]
  },
  {
   "cell_type": "markdown",
   "metadata": {},
   "source": [
    "## Посчитаем 95-й и 99-й перцентили стоимости заказов."
   ]
  },
  {
   "cell_type": "code",
   "execution_count": 19,
   "metadata": {},
   "outputs": [
    {
     "name": "stdout",
     "output_type": "stream",
     "text": [
      "95-й и 99-й выборочные перцентили: [28000.  58233.2]\n"
     ]
    }
   ],
   "source": [
    "print(\"95-й и 99-й выборочные перцентили:\", np.percentile(orders['revenue'], [95, 99]))"
   ]
  },
  {
   "cell_type": "markdown",
   "metadata": {},
   "source": [
    "Не более, чем у 5% заказов чек дороже 28000 руб., и не больше, чем у 1% заказов - дороже 58233 руб."
   ]
  },
  {
   "cell_type": "markdown",
   "metadata": {},
   "source": [
    "## Посчитаем статистическую значимость различий в среднем количестве заказов на посетителя между группами по «сырым» данным."
   ]
  },
  {
   "cell_type": "markdown",
   "metadata": {},
   "source": [
    "Сформулируем гипотезы:\n",
    "- <b>Нулевая</b>: различий в среднем количестве заказов между группами нет.\n",
    "- <b>Альтернативная</b>: различия в среднем между группами есть."
   ]
  },
  {
   "cell_type": "markdown",
   "metadata": {},
   "source": [
    "Начнём с подготовки данных. "
   ]
  },
  {
   "cell_type": "code",
   "execution_count": 20,
   "metadata": {},
   "outputs": [
    {
     "data": {
      "text/html": [
       "<div>\n",
       "<style scoped>\n",
       "    .dataframe tbody tr th:only-of-type {\n",
       "        vertical-align: middle;\n",
       "    }\n",
       "\n",
       "    .dataframe tbody tr th {\n",
       "        vertical-align: top;\n",
       "    }\n",
       "\n",
       "    .dataframe thead th {\n",
       "        text-align: right;\n",
       "    }\n",
       "</style>\n",
       "<table border=\"1\" class=\"dataframe\">\n",
       "  <thead>\n",
       "    <tr style=\"text-align: right;\">\n",
       "      <th></th>\n",
       "      <th>date</th>\n",
       "      <th>ordersPerDateA</th>\n",
       "      <th>revenuePerDateA</th>\n",
       "      <th>ordersPerDateB</th>\n",
       "      <th>revenuePerDateB</th>\n",
       "      <th>ordersCummulativeA</th>\n",
       "      <th>revenueCummulativeA</th>\n",
       "      <th>ordersCummulativeB</th>\n",
       "      <th>revenueCummulativeB</th>\n",
       "      <th>visitorsPerDateA</th>\n",
       "      <th>visitorsPerDateB</th>\n",
       "      <th>visitorsCummulativeA</th>\n",
       "      <th>visitorsCummulativeB</th>\n",
       "    </tr>\n",
       "  </thead>\n",
       "  <tbody>\n",
       "    <tr>\n",
       "      <th>0</th>\n",
       "      <td>2019-08-01</td>\n",
       "      <td>24</td>\n",
       "      <td>148579</td>\n",
       "      <td>21</td>\n",
       "      <td>101217</td>\n",
       "      <td>24</td>\n",
       "      <td>148579</td>\n",
       "      <td>21</td>\n",
       "      <td>101217</td>\n",
       "      <td>719</td>\n",
       "      <td>713</td>\n",
       "      <td>719</td>\n",
       "      <td>713</td>\n",
       "    </tr>\n",
       "    <tr>\n",
       "      <th>1</th>\n",
       "      <td>2019-08-02</td>\n",
       "      <td>20</td>\n",
       "      <td>93822</td>\n",
       "      <td>24</td>\n",
       "      <td>165531</td>\n",
       "      <td>44</td>\n",
       "      <td>242401</td>\n",
       "      <td>45</td>\n",
       "      <td>266748</td>\n",
       "      <td>619</td>\n",
       "      <td>581</td>\n",
       "      <td>1338</td>\n",
       "      <td>1294</td>\n",
       "    </tr>\n",
       "    <tr>\n",
       "      <th>2</th>\n",
       "      <td>2019-08-03</td>\n",
       "      <td>24</td>\n",
       "      <td>112473</td>\n",
       "      <td>16</td>\n",
       "      <td>114248</td>\n",
       "      <td>68</td>\n",
       "      <td>354874</td>\n",
       "      <td>61</td>\n",
       "      <td>380996</td>\n",
       "      <td>507</td>\n",
       "      <td>509</td>\n",
       "      <td>1845</td>\n",
       "      <td>1803</td>\n",
       "    </tr>\n",
       "    <tr>\n",
       "      <th>3</th>\n",
       "      <td>2019-08-04</td>\n",
       "      <td>16</td>\n",
       "      <td>70825</td>\n",
       "      <td>17</td>\n",
       "      <td>108571</td>\n",
       "      <td>84</td>\n",
       "      <td>425699</td>\n",
       "      <td>78</td>\n",
       "      <td>489567</td>\n",
       "      <td>717</td>\n",
       "      <td>770</td>\n",
       "      <td>2562</td>\n",
       "      <td>2573</td>\n",
       "    </tr>\n",
       "    <tr>\n",
       "      <th>4</th>\n",
       "      <td>2019-08-05</td>\n",
       "      <td>25</td>\n",
       "      <td>124218</td>\n",
       "      <td>23</td>\n",
       "      <td>92428</td>\n",
       "      <td>109</td>\n",
       "      <td>549917</td>\n",
       "      <td>101</td>\n",
       "      <td>581995</td>\n",
       "      <td>756</td>\n",
       "      <td>707</td>\n",
       "      <td>3318</td>\n",
       "      <td>3280</td>\n",
       "    </tr>\n",
       "  </tbody>\n",
       "</table>\n",
       "</div>"
      ],
      "text/plain": [
       "        date  ordersPerDateA  revenuePerDateA  ordersPerDateB  \\\n",
       "0 2019-08-01              24           148579              21   \n",
       "1 2019-08-02              20            93822              24   \n",
       "2 2019-08-03              24           112473              16   \n",
       "3 2019-08-04              16            70825              17   \n",
       "4 2019-08-05              25           124218              23   \n",
       "\n",
       "   revenuePerDateB  ordersCummulativeA  revenueCummulativeA  \\\n",
       "0           101217                  24               148579   \n",
       "1           165531                  44               242401   \n",
       "2           114248                  68               354874   \n",
       "3           108571                  84               425699   \n",
       "4            92428                 109               549917   \n",
       "\n",
       "   ordersCummulativeB  revenueCummulativeB  visitorsPerDateA  \\\n",
       "0                  21               101217               719   \n",
       "1                  45               266748               619   \n",
       "2                  61               380996               507   \n",
       "3                  78               489567               717   \n",
       "4                 101               581995               756   \n",
       "\n",
       "   visitorsPerDateB  visitorsCummulativeA  visitorsCummulativeB  \n",
       "0               713                   719                   713  \n",
       "1               581                  1338                  1294  \n",
       "2               509                  1845                  1803  \n",
       "3               770                  2562                  2573  \n",
       "4               707                  3318                  3280  "
      ]
     },
     "metadata": {},
     "output_type": "display_data"
    }
   ],
   "source": [
    "# Отбираем только данные для группы A и переименовываем столбцы для читабельности\n",
    "visitorsADaily = visitors[visitors['group'] == 'A'][['date', 'visitors']]\n",
    "visitorsADaily.columns = ['date', 'visitorsPerDateA']\n",
    "# Считаем кумулятивное количество посетителей для группы A\n",
    "visitorsACummulative = visitorsADaily.apply(\n",
    "    lambda x: visitorsADaily[visitorsADaily['date'] <= x['date']].agg(\n",
    "        {'date': 'max', 'visitorsPerDateA': 'sum'}\n",
    "    ),\n",
    "    axis=1,\n",
    ")\n",
    "visitorsACummulative.columns = ['date', 'visitorsCummulativeA']\n",
    "# Аналогично для группы B: выбираем и переименовываем столбцы\n",
    "visitorsBDaily = visitors[visitors['group'] == 'B'][['date', 'visitors']]\n",
    "visitorsBDaily.columns = ['date', 'visitorsPerDateB']\n",
    "# Считаем кумулятивное количество посетителей для группы B\n",
    "visitorsBCummulative = visitorsBDaily.apply(\n",
    "    lambda x: visitorsBDaily[visitorsBDaily['date'] <= x['date']].agg(\n",
    "        {'date': 'max', 'visitorsPerDateB': 'sum'}\n",
    "    ),\n",
    "    axis=1,\n",
    ")\n",
    "visitorsBCummulative.columns = ['date', 'visitorsCummulativeB']\n",
    "# Считаем количество заказов и выручку по дням для группы A\n",
    "ordersADaily = (\n",
    "    orders[orders['group'] == 'A'][['date', 'transactionId', 'visitorId', 'revenue']]\n",
    "    .groupby('date', as_index=False)\n",
    "    .agg({'transactionId': pd.Series.nunique, 'revenue': 'sum'})\n",
    ")\n",
    "ordersADaily.columns = ['date', 'ordersPerDateA', 'revenuePerDateA']\n",
    "# Считаем кумулятивное количество заказов и выручку для группы A\n",
    "ordersACummulative = ordersADaily.apply(\n",
    "    lambda x: ordersADaily[ordersADaily['date'] <= x['date']].agg(\n",
    "        {'date': 'max', 'ordersPerDateA': 'sum', 'revenuePerDateA': 'sum'}\n",
    "    ),\n",
    "    axis=1,\n",
    ").sort_values(by=['date'])\n",
    "ordersACummulative.columns = [\n",
    "    'date',\n",
    "    'ordersCummulativeA',\n",
    "    'revenueCummulativeA',\n",
    "]\n",
    "# Аналогично для группы B: считаем количество заказов и выручку по дням\n",
    "ordersBDaily = (\n",
    "    orders[orders['group'] == 'B'][['date', 'transactionId', 'visitorId', 'revenue']]\n",
    "    .groupby('date', as_index=False)\n",
    "    .agg({'transactionId': pd.Series.nunique, 'revenue': 'sum'})\n",
    ")\n",
    "ordersBDaily.columns = ['date', 'ordersPerDateB', 'revenuePerDateB']\n",
    "# Считаем накопительное количество заказов и выручку для группы B\n",
    "ordersBCummulative = ordersBDaily.apply(\n",
    "    lambda x: ordersBDaily[ordersBDaily['date'] <= x['date']].agg(\n",
    "        {'date': 'max', 'ordersPerDateB': 'sum', 'revenuePerDateB': 'sum'}\n",
    "    ),\n",
    "    axis=1,\n",
    ").sort_values(by=['date'])\n",
    "ordersBCummulative.columns = [\n",
    "    'date',\n",
    "    'ordersCummulativeB',\n",
    "    'revenueCummulativeB',\n",
    "]\n",
    "# Объединяем все рассчитанные данные в одну таблицу\n",
    "data = (\n",
    "    ordersADaily.merge(\n",
    "        ordersBDaily, left_on='date', right_on='date', how='left'\n",
    "    )\n",
    "    .merge(ordersACummulative, left_on='date', right_on='date', how='left')\n",
    "    .merge(ordersBCummulative, left_on='date', right_on='date', how='left')\n",
    "    .merge(visitorsADaily, left_on='date', right_on='date', how='left')\n",
    "    .merge(visitorsBDaily, left_on='date', right_on='date', how='left')\n",
    "    .merge(visitorsACummulative, left_on='date', right_on='date', how='left')\n",
    "    .merge(visitorsBCummulative, left_on='date', right_on='date', how='left')\n",
    ")\n",
    "\n",
    "display(data.head(5))"
   ]
  },
  {
   "cell_type": "markdown",
   "metadata": {},
   "source": [
    "Создадим переменные ordersByUsersA и ordersByUsersB. В них для пользователей, которые заказывали хотя бы 1 раз, укажем число совершённых заказов. "
   ]
  },
  {
   "cell_type": "code",
   "execution_count": 21,
   "metadata": {},
   "outputs": [],
   "source": [
    "ordersByUsersA = (\n",
    "    orders[orders['group'] == 'A']\n",
    "    .groupby('visitorId', as_index=False)\n",
    "    .agg({'transactionId': pd.Series.nunique})\n",
    ")\n",
    "ordersByUsersA.columns = ['visitorId', 'orders']\n",
    "ordersByUsersB = (\n",
    "    orders[orders['group'] == 'B']\n",
    "    .groupby('visitorId', as_index=False)\n",
    "    .agg({'transactionId': pd.Series.nunique})\n",
    ")\n",
    "ordersByUsersB.columns = ['visitorId', 'orders'] "
   ]
  },
  {
   "cell_type": "markdown",
   "metadata": {},
   "source": [
    "Объявим переменные sampleA и sampleB, в которых пользователям с заказами будет соответствовать число заказов пользователя. А пользователям без заказов — нули."
   ]
  },
  {
   "cell_type": "code",
   "execution_count": 22,
   "metadata": {},
   "outputs": [],
   "source": [
    "sampleA = pd.concat([ordersByUsersA['orders'],pd.Series(0, index=np.arange(data['visitorsPerDateA'].sum() - len(ordersByUsersA['orders'])), name='orders')],axis=0)\n",
    "\n",
    "sampleB = pd.concat([ordersByUsersB['orders'],pd.Series(0, index=np.arange(data['visitorsPerDateB'].sum() - len(ordersByUsersB['orders'])), name='orders')],axis=0)"
   ]
  },
  {
   "cell_type": "markdown",
   "metadata": {},
   "source": [
    "Выведем p-value и относительный прирост среднего числа заказов группы B: среднее число заказов группы B / среднее число заказов группы A - 1"
   ]
  },
  {
   "cell_type": "code",
   "execution_count": 23,
   "metadata": {},
   "outputs": [
    {
     "name": "stdout",
     "output_type": "stream",
     "text": [
      "p-value:  0.01679\n",
      "Относительный прирост среднего числа заказов группы B: 0.138\n"
     ]
    }
   ],
   "source": [
    "# Вычисляем p-value\n",
    "print(\"p-value: \", \"{0:.5f}\".format(stats.mannwhitneyu(sampleA, sampleB)[1]))\n",
    "# Считаем относительное изменение среднего количества заказов на посетителя между группами B и A\n",
    "print(\"Относительный прирост среднего числа заказов группы B:\",\"{0:.3f}\".format(sampleB.mean() / sampleA.mean() - 1))"
   ]
  },
  {
   "cell_type": "markdown",
   "metadata": {},
   "source": [
    "- p-value ниже уровня значимости 0.05. Это значит, что мы можем отвергнуть нулевую гипотезу о том, что нет разницы в среднем количестве заказов на посетителя между группами. То есть различие между группами статистически значимо.\n",
    "\n",
    "- Относительное изменение = 0.138 (или 13.8%): Группа B имеет среднее количество заказов на посетителя на 13.8% выше, чем группа A.\n",
    "\n",
    "- <b>Выводы</b>: С учётом того, что различие статистически значимо, а группа B показывает заметный рост среднего количества заказов, можно сделать вывод, что изменения, применённые в группе B, имели положительное влияние на эту метрику."
   ]
  },
  {
   "cell_type": "markdown",
   "metadata": {},
   "source": [
    "## Посчитаем статистическую значимость различий в среднем чеке заказа между группами по «сырым» данным."
   ]
  },
  {
   "cell_type": "markdown",
   "metadata": {},
   "source": [
    "- <b>Нулевая гипотеза</b>: различий в среднем чеке между группами нет. \n",
    "- <b>Альтернативная гипотеза</b>: различия в среднем чеке между группами есть."
   ]
  },
  {
   "cell_type": "markdown",
   "metadata": {},
   "source": [
    "Чтобы рассчитать статистическую значимость различий в среднем чеке, передадим критерию mannwhitneyu() данные о выручке с заказов. А ещё найдём относительные различия в среднем чеке между группами:"
   ]
  },
  {
   "cell_type": "code",
   "execution_count": 24,
   "metadata": {},
   "outputs": [
    {
     "name": "stdout",
     "output_type": "stream",
     "text": [
      "p-value: 0.729\n",
      "Относительное изменения среднего чека между группами: 0.259\n"
     ]
    }
   ],
   "source": [
    "print(\"p-value:\", '{0:.3f}'.format(stats.mannwhitneyu(orders[orders['group']=='A']['revenue'], orders[orders['group']=='B']['revenue'])[1]))\n",
    "print(\"Относительное изменения среднего чека между группами:\", '{0:.3f}'.format(orders[orders['group']=='B']['revenue'].mean()/orders[orders['group']=='A']['revenue'].mean()-1))"
   ]
  },
  {
   "cell_type": "markdown",
   "metadata": {},
   "source": [
    "- p-value значительно выше уровня значимости 0.05, что означает, что различие в среднем чеке между группами A и B не является статистически значимым. То есть мы не можем отвергнуть нулевую гипотезу о том, что средний чек в группах одинаков.\n",
    "\n",
    "- Относительное изменение среднего чека = 0.259 (или 25.9%): Несмотря на то, что относительное изменение среднего чека между группами B и A составляет 25.9%, это изменение не является статистически значимым, поскольку p-value слишком высоко. Это означает, что наблюдаемое изменение могло быть вызвано случайными факторами.\n",
    "\n",
    "- <b>Выводы</b>: Несмотря на то, что в данных наблюдается рост среднего чека на 25.9% в группе B по сравнению с группой A, это изменение не является статистически значимым. Таким образом, на основе текущих данных мы не можем утверждать, что изменения в группе B действительно повлияли на средний чек."
   ]
  },
  {
   "cell_type": "markdown",
   "metadata": {},
   "source": [
    "## Посчитаем статистическую значимость различий в среднем количестве заказов на посетителя между группами по «очищенным» данным.\n"
   ]
  },
  {
   "cell_type": "markdown",
   "metadata": {},
   "source": [
    "- Напомним, что найденные 95-й и 99-й перцентили средних чеков равны 28000 и 58233.2 рублям. А 95-й и 99-й перцентили количества заказов на одного пользователя равны 2 и 4 заказа на пользователя.\n",
    "\n",
    "- Примем за аномальных пользователей тех, кто совершил от 2 заказов или совершил заказ дороже 30 000 рублей. Так мы уберём 5% пользователей с наибольшим числом заказов и от 1% до 5% пользователей с дорогими заказами. Сделаем срезы пользователей с числом заказов больше 2 — usersWithManyOrders и пользователей, совершивших заказы дороже 30 000 — usersWithExpensiveOrders. Объединим их в таблице abnormalUsers. \n",
    "\n",
    "- Узнаем, сколько всего аномальных пользователей атрибутом shape."
   ]
  },
  {
   "cell_type": "code",
   "execution_count": 25,
   "metadata": {},
   "outputs": [
    {
     "name": "stdout",
     "output_type": "stream",
     "text": [
      "1099    148427295\n",
      "18      199603092\n",
      "928     204675465\n",
      "23      237748145\n",
      "37      249864742\n",
      "Name: visitorId, dtype: int64\n",
      "68\n"
     ]
    }
   ],
   "source": [
    "usersWithManyOrders = pd.concat(\n",
    "    [\n",
    "        ordersByUsersA[ordersByUsersA['orders'] > 2]['visitorId'],\n",
    "        ordersByUsersB[ordersByUsersB['orders'] > 2]['visitorId'],\n",
    "    ],\n",
    "    axis=0,\n",
    ")\n",
    "usersWithExpensiveOrders = orders[orders['revenue'] > 30000]['visitorId']\n",
    "abnormalUsers = (\n",
    "    pd.concat([usersWithManyOrders, usersWithExpensiveOrders], axis=0)\n",
    "    .drop_duplicates()\n",
    "    .sort_values()\n",
    ")\n",
    "print(abnormalUsers.head(5))\n",
    "print(abnormalUsers.shape[0])"
   ]
  },
  {
   "cell_type": "markdown",
   "metadata": {},
   "source": [
    "Всего 68 аномальных пользователей. "
   ]
  },
  {
   "cell_type": "markdown",
   "metadata": {},
   "source": [
    "Узнаем, как их действия повлияли на результаты теста. Посчитаем статистическую значимость различий в среднем количестве заказов между группами теста по очищенным данным. Сначала подготовим выборки количества заказов по пользователям по группам теста:"
   ]
  },
  {
   "cell_type": "code",
   "execution_count": 26,
   "metadata": {},
   "outputs": [],
   "source": [
    "sampleAFiltered = pd.concat(\n",
    "    [\n",
    "        ordersByUsersA[\n",
    "            np.logical_not(ordersByUsersA['visitorId'].isin(abnormalUsers))\n",
    "        ]['orders'],\n",
    "        pd.Series(\n",
    "            0,\n",
    "            index=np.arange(\n",
    "                data['visitorsPerDateA'].sum() - len(ordersByUsersA['orders'])\n",
    "            ),\n",
    "            name='orders',\n",
    "        ),\n",
    "    ],\n",
    "    axis=0,\n",
    ")\n",
    "\n",
    "sampleBFiltered = pd.concat(\n",
    "    [\n",
    "        ordersByUsersB[\n",
    "            np.logical_not(ordersByUsersB['visitorId'].isin(abnormalUsers))\n",
    "        ]['orders'],\n",
    "        pd.Series(\n",
    "            0,\n",
    "            index=np.arange(\n",
    "                data['visitorsPerDateB'].sum() - len(ordersByUsersB['orders'])\n",
    "            ),\n",
    "            name='orders',\n",
    "        ),\n",
    "    ],\n",
    "    axis=0,\n",
    ")"
   ]
  },
  {
   "cell_type": "markdown",
   "metadata": {},
   "source": [
    "Применим статистический критерий Манна-Уитни к полученным выборкам:"
   ]
  },
  {
   "cell_type": "code",
   "execution_count": 27,
   "metadata": {},
   "outputs": [
    {
     "name": "stdout",
     "output_type": "stream",
     "text": [
      "p-value: 0.013\n",
      "Относительный прирост среднего числа заказов группы B: 0.172\n"
     ]
    }
   ],
   "source": [
    "print(\"p-value:\", '{0:.3f}'.format(stats.mannwhitneyu(sampleAFiltered, sampleBFiltered)[1]))\n",
    "print(\"Относительный прирост среднего числа заказов группы B:\", '{0:.3f}'.format(sampleBFiltered.mean()/sampleAFiltered.mean()-1))"
   ]
  },
  {
   "cell_type": "markdown",
   "metadata": {},
   "source": [
    "- p-value: В обоих случаях (и по неочищенным, и по очищенным данным) меньше 0.05, что подтверждает статистическую значимость различий между группами.\n",
    "- Относительное изменение среднего числа заказов: По очищенным данным относительное изменение оказалось немного больше (17.2% против 13.8%).\n",
    "- <b>Вывод</b>: результаты по обеим выборкам (очищенным и неочищенным) показывают статистически значимые различия, но по очищенным данным разница между группами B и A немного больше. Очистка данных позволила более точно оценить эффект, убрав влияние выбросов или других аномалий, которые могли бы исказить результат в неочищенных данных."
   ]
  },
  {
   "cell_type": "markdown",
   "metadata": {},
   "source": [
    "## Посчитаем статистическую значимость различий в среднем чеке заказа между группами по «очищенным» данным."
   ]
  },
  {
   "cell_type": "markdown",
   "metadata": {},
   "source": [
    "Посмотрим, произошли ли что-нибудь с результатами по среднему чеку?"
   ]
  },
  {
   "cell_type": "code",
   "execution_count": 28,
   "metadata": {},
   "outputs": [
    {
     "name": "stdout",
     "output_type": "stream",
     "text": [
      "p-value: 0.720\n",
      "Относительное изменения среднего чека между группами: -0.023\n"
     ]
    }
   ],
   "source": [
    "print(\"p-value:\",\n",
    "    '{0:.3f}'.format(\n",
    "        stats.mannwhitneyu(\n",
    "            orders[\n",
    "                np.logical_and(\n",
    "                    orders['group'] == 'A',\n",
    "                    np.logical_not(orders['visitorId'].isin(abnormalUsers)),\n",
    "                )\n",
    "            ]['revenue'],\n",
    "            orders[\n",
    "                np.logical_and(\n",
    "                    orders['group'] == 'B',\n",
    "                    np.logical_not(orders['visitorId'].isin(abnormalUsers)),\n",
    "                )\n",
    "            ]['revenue'],\n",
    "        )[1]\n",
    "    )\n",
    ")\n",
    "\n",
    "print(\"Относительное изменения среднего чека между группами:\",\n",
    "    \"{0:.3f}\".format(\n",
    "        orders[\n",
    "            np.logical_and(\n",
    "                orders['group'] == 'B',\n",
    "                np.logical_not(orders['visitorId'].isin(abnormalUsers)),\n",
    "            )\n",
    "        ]['revenue'].mean()\n",
    "        / orders[\n",
    "            np.logical_and(\n",
    "                orders['group'] == 'A',\n",
    "                np.logical_not(orders['visitorId'].isin(abnormalUsers)),\n",
    "            )\n",
    "        ]['revenue'].mean()\n",
    "        - 1\n",
    "    )\n",
    ")"
   ]
  },
  {
   "cell_type": "markdown",
   "metadata": {},
   "source": [
    "- p-value также, как и в сырых данных (0.729) значительно больше 0.05, что подтверждает отсутствие статистически значимых различий между группами A и B.\n",
    "- Относительное изменение = -0.023 (или -2.3%): Это отрицательное изменение, указывающее на снижение среднего чека в группе B по сравнению с группой A, но, как и в случае с сырыми данными, это изменение также не является статистически значимым, из-за большого значения p-value.\n",
    "- После очистки данных можно сказать, что в целом статистическая значимость различий отсутствует."
   ]
  },
  {
   "cell_type": "markdown",
   "metadata": {},
   "source": [
    "<b>Давайте соберем результаты теста в одном месте:"
   ]
  },
  {
   "cell_type": "markdown",
   "metadata": {},
   "source": [
    "<p>\n",
    "<b>стат. значимость различий в среднем количестве заказов на посетителя между группами</b><br>\n",
    "<u>по «сырым» данным:</u><br>\n",
    "p-value:  0.01679<br>\n",
    "Относительный прирост среднего числа заказов группы B: 0.138<br>\n",
    "<u>по «очищенным» данным.</u><br>\n",
    "p-value 0.013<br>\n",
    "Относительный прирост среднего числа заказов группы B: 0.172\n",
    "</p>\n",
    "<p>\n",
    "<b>стат. значимость различий в среднем чеке заказа между группами</b><br>\n",
    "    <u>по «сырым» данным.</u><br>\n",
    "p-value: 0.729<br>\n",
    "Относительное изменения среднего чека между группами: 0.259<br>\n",
    "<u>по «очищенным» данным</u><br>\n",
    "p-value: 0.720<br>\n",
    "Относительное изменения среднего чека между группами: -0.023\n",
    "</p>"
   ]
  },
  {
   "cell_type": "markdown",
   "metadata": {},
   "source": [
    "# Выводы:\n",
    "\n",
    "Принятие решения по результатам теста. Варианты решений:\n",
    "1. Остановить тест, зафиксировать победу одной из групп.\n",
    "2. Остановить тест, зафиксировать отсутствие различий между группами.\n",
    "3. Продолжить тест."
   ]
  },
  {
   "cell_type": "markdown",
   "metadata": {},
   "source": [
    "На основе результатов, полученных в ходе статистических тестов, можно сделать следующие выводы:\n",
    "\n",
    "- Средний чек: p-value (0.729 и 0.720) значительно больше 0.05, что указывает на отсутствие статистически значимых различий в среднем чеке между группами.\n",
    "- Среднее количество заказов на посетителя: хотя p-value для очищенных данных (0.013) и показало статистическую значимость, относительное изменение между группами составляет всего 0.172 (или 17.2%). Вряд ли это можно назвать большим эффектом.\n",
    "\n",
    "- Более логичным решением для меня представляется остановить тест, зафиксировать отсутствие различий между группами, так как результаты тестов по среднему чеку и конверсии не показали значимых различий. Хотя для среднего количества заказов на посетителя было выявлено некоторое изменение, оно не является достаточным, чтобы сделать вывод о значимом улучшении. Продолжение теста может быть затратным, если не ожидается более явных изменений."
   ]
  }
 ],
 "metadata": {
  "ExecuteTimeLog": [
   {
    "duration": 543,
    "start_time": "2024-11-08T11:43:09.948Z"
   },
   {
    "duration": 2,
    "start_time": "2024-11-08T11:43:48.924Z"
   },
   {
    "duration": 35,
    "start_time": "2024-11-08T11:44:38.039Z"
   },
   {
    "duration": 17,
    "start_time": "2024-11-08T11:44:43.476Z"
   },
   {
    "duration": 8,
    "start_time": "2024-11-08T11:45:39.947Z"
   },
   {
    "duration": 9,
    "start_time": "2024-11-08T11:45:51.411Z"
   },
   {
    "duration": 7,
    "start_time": "2024-11-08T11:45:55.176Z"
   },
   {
    "duration": 36,
    "start_time": "2024-11-08T11:47:04.133Z"
   },
   {
    "duration": 426,
    "start_time": "2024-11-08T11:50:05.361Z"
   },
   {
    "duration": 40,
    "start_time": "2024-11-08T11:50:05.789Z"
   },
   {
    "duration": 3,
    "start_time": "2024-11-08T11:50:05.831Z"
   },
   {
    "duration": 25,
    "start_time": "2024-11-08T11:50:05.835Z"
   },
   {
    "duration": 1263,
    "start_time": "2024-11-08T11:50:05.862Z"
   },
   {
    "duration": 0,
    "start_time": "2024-11-08T11:50:07.127Z"
   },
   {
    "duration": 10,
    "start_time": "2024-11-08T11:50:22.642Z"
   },
   {
    "duration": 8,
    "start_time": "2024-11-08T11:50:25.501Z"
   },
   {
    "duration": 149,
    "start_time": "2024-11-08T12:22:23.090Z"
   },
   {
    "duration": 44,
    "start_time": "2024-11-08T12:22:37.122Z"
   },
   {
    "duration": 84,
    "start_time": "2024-11-08T12:23:20.460Z"
   },
   {
    "duration": 85,
    "start_time": "2024-11-08T12:23:52.325Z"
   },
   {
    "duration": 85,
    "start_time": "2024-11-08T12:24:34.257Z"
   },
   {
    "duration": 8,
    "start_time": "2024-11-08T12:26:11.171Z"
   },
   {
    "duration": 2367,
    "start_time": "2024-11-08T12:27:26.733Z"
   },
   {
    "duration": 631,
    "start_time": "2024-11-08T12:27:49.146Z"
   },
   {
    "duration": 560,
    "start_time": "2024-11-08T12:34:42.066Z"
   },
   {
    "duration": 16,
    "start_time": "2024-11-08T14:10:03.540Z"
   },
   {
    "duration": 238,
    "start_time": "2024-11-08T14:10:23.627Z"
   },
   {
    "duration": 243,
    "start_time": "2024-11-08T14:11:20.831Z"
   },
   {
    "duration": 1180,
    "start_time": "2024-11-08T14:12:45.398Z"
   },
   {
    "duration": 38,
    "start_time": "2024-11-08T14:12:46.579Z"
   },
   {
    "duration": 3,
    "start_time": "2024-11-08T14:12:46.618Z"
   },
   {
    "duration": 10,
    "start_time": "2024-11-08T14:12:46.623Z"
   },
   {
    "duration": 9,
    "start_time": "2024-11-08T14:12:46.634Z"
   },
   {
    "duration": 10,
    "start_time": "2024-11-08T14:12:46.644Z"
   },
   {
    "duration": 77,
    "start_time": "2024-11-08T14:12:46.655Z"
   },
   {
    "duration": 2,
    "start_time": "2024-11-08T14:12:46.733Z"
   },
   {
    "duration": 918,
    "start_time": "2024-11-08T14:12:46.737Z"
   },
   {
    "duration": 343,
    "start_time": "2024-11-08T14:14:36.265Z"
   },
   {
    "duration": 326,
    "start_time": "2024-11-08T14:15:19.018Z"
   },
   {
    "duration": 249,
    "start_time": "2024-11-08T14:16:04.248Z"
   },
   {
    "duration": 31,
    "start_time": "2024-11-08T14:16:55.205Z"
   },
   {
    "duration": 243,
    "start_time": "2024-11-08T14:19:49.425Z"
   },
   {
    "duration": 238,
    "start_time": "2024-11-08T14:20:47.226Z"
   },
   {
    "duration": 1101,
    "start_time": "2024-11-08T14:21:25.485Z"
   },
   {
    "duration": 37,
    "start_time": "2024-11-08T14:21:26.588Z"
   },
   {
    "duration": 4,
    "start_time": "2024-11-08T14:21:26.626Z"
   },
   {
    "duration": 10,
    "start_time": "2024-11-08T14:21:26.632Z"
   },
   {
    "duration": 10,
    "start_time": "2024-11-08T14:21:26.644Z"
   },
   {
    "duration": 8,
    "start_time": "2024-11-08T14:21:26.655Z"
   },
   {
    "duration": 77,
    "start_time": "2024-11-08T14:21:26.676Z"
   },
   {
    "duration": 2,
    "start_time": "2024-11-08T14:21:26.755Z"
   },
   {
    "duration": 145,
    "start_time": "2024-11-08T14:21:26.758Z"
   },
   {
    "duration": 3,
    "start_time": "2024-11-08T14:21:57.576Z"
   },
   {
    "duration": 241,
    "start_time": "2024-11-08T14:24:59.179Z"
   },
   {
    "duration": 1115,
    "start_time": "2024-11-08T14:26:46.269Z"
   },
   {
    "duration": 38,
    "start_time": "2024-11-08T14:26:47.386Z"
   },
   {
    "duration": 4,
    "start_time": "2024-11-08T14:26:47.426Z"
   },
   {
    "duration": 12,
    "start_time": "2024-11-08T14:26:47.432Z"
   },
   {
    "duration": 13,
    "start_time": "2024-11-08T14:26:47.446Z"
   },
   {
    "duration": 19,
    "start_time": "2024-11-08T14:26:47.461Z"
   },
   {
    "duration": 87,
    "start_time": "2024-11-08T14:26:47.482Z"
   },
   {
    "duration": 2,
    "start_time": "2024-11-08T14:26:47.571Z"
   },
   {
    "duration": 1236,
    "start_time": "2024-11-08T14:26:47.574Z"
   },
   {
    "duration": 247,
    "start_time": "2024-11-08T14:29:22.729Z"
   },
   {
    "duration": 4,
    "start_time": "2024-11-08T14:31:33.274Z"
   },
   {
    "duration": 619,
    "start_time": "2024-11-08T14:32:23.445Z"
   },
   {
    "duration": 546,
    "start_time": "2024-11-08T14:33:20.644Z"
   },
   {
    "duration": 12,
    "start_time": "2024-11-08T14:35:51.005Z"
   },
   {
    "duration": 5,
    "start_time": "2024-11-08T14:39:43.422Z"
   },
   {
    "duration": 7,
    "start_time": "2024-11-08T14:39:59.544Z"
   },
   {
    "duration": 1138,
    "start_time": "2024-11-08T14:43:07.118Z"
   },
   {
    "duration": 38,
    "start_time": "2024-11-08T14:43:08.258Z"
   },
   {
    "duration": 3,
    "start_time": "2024-11-08T14:43:08.297Z"
   },
   {
    "duration": 9,
    "start_time": "2024-11-08T14:43:08.302Z"
   },
   {
    "duration": 9,
    "start_time": "2024-11-08T14:43:08.313Z"
   },
   {
    "duration": 14,
    "start_time": "2024-11-08T14:43:08.324Z"
   },
   {
    "duration": 77,
    "start_time": "2024-11-08T14:43:08.339Z"
   },
   {
    "duration": 2,
    "start_time": "2024-11-08T14:43:08.417Z"
   },
   {
    "duration": 592,
    "start_time": "2024-11-08T14:43:08.421Z"
   },
   {
    "duration": 12,
    "start_time": "2024-11-08T14:43:09.014Z"
   },
   {
    "duration": 6,
    "start_time": "2024-11-08T14:43:09.027Z"
   },
   {
    "duration": 302,
    "start_time": "2024-11-08T14:56:15.736Z"
   },
   {
    "duration": 1224,
    "start_time": "2024-11-08T14:56:33.844Z"
   },
   {
    "duration": 37,
    "start_time": "2024-11-08T14:56:35.070Z"
   },
   {
    "duration": 4,
    "start_time": "2024-11-08T14:56:35.109Z"
   },
   {
    "duration": 10,
    "start_time": "2024-11-08T14:56:35.115Z"
   },
   {
    "duration": 9,
    "start_time": "2024-11-08T14:56:35.128Z"
   },
   {
    "duration": 9,
    "start_time": "2024-11-08T14:56:35.139Z"
   },
   {
    "duration": 91,
    "start_time": "2024-11-08T14:56:35.150Z"
   },
   {
    "duration": 309,
    "start_time": "2024-11-08T14:56:35.242Z"
   },
   {
    "duration": 0,
    "start_time": "2024-11-08T14:56:35.552Z"
   },
   {
    "duration": 0,
    "start_time": "2024-11-08T14:56:35.553Z"
   },
   {
    "duration": 0,
    "start_time": "2024-11-08T14:56:35.554Z"
   },
   {
    "duration": 223,
    "start_time": "2024-11-08T14:57:19.577Z"
   },
   {
    "duration": 29,
    "start_time": "2024-11-08T14:57:44.597Z"
   },
   {
    "duration": 277,
    "start_time": "2024-11-08T14:58:18.998Z"
   },
   {
    "duration": 260,
    "start_time": "2024-11-08T15:08:03.964Z"
   },
   {
    "duration": 252,
    "start_time": "2024-11-08T15:08:12.984Z"
   },
   {
    "duration": 285,
    "start_time": "2024-11-08T15:09:58.100Z"
   },
   {
    "duration": 250,
    "start_time": "2024-11-08T15:10:14.174Z"
   },
   {
    "duration": 237,
    "start_time": "2024-11-08T15:14:08.557Z"
   },
   {
    "duration": 64,
    "start_time": "2024-11-08T15:15:56.706Z"
   },
   {
    "duration": 360,
    "start_time": "2024-11-08T15:16:21.168Z"
   },
   {
    "duration": 334,
    "start_time": "2024-11-08T15:16:30.598Z"
   },
   {
    "duration": 58,
    "start_time": "2024-11-08T15:24:40.039Z"
   },
   {
    "duration": 303,
    "start_time": "2024-11-08T15:26:05.675Z"
   },
   {
    "duration": 5,
    "start_time": "2024-11-08T15:26:24.342Z"
   },
   {
    "duration": 265,
    "start_time": "2024-11-08T15:26:36.434Z"
   },
   {
    "duration": 332,
    "start_time": "2024-11-08T15:27:15.499Z"
   },
   {
    "duration": 270,
    "start_time": "2024-11-08T15:27:23.367Z"
   },
   {
    "duration": 255,
    "start_time": "2024-11-08T15:27:38.686Z"
   },
   {
    "duration": 251,
    "start_time": "2024-11-08T15:27:46.301Z"
   },
   {
    "duration": 269,
    "start_time": "2024-11-08T15:29:36.856Z"
   },
   {
    "duration": 274,
    "start_time": "2024-11-08T15:30:13.805Z"
   },
   {
    "duration": 236,
    "start_time": "2024-11-08T15:30:58.634Z"
   },
   {
    "duration": 246,
    "start_time": "2024-11-08T15:40:41.483Z"
   },
   {
    "duration": 250,
    "start_time": "2024-11-08T15:41:15.687Z"
   },
   {
    "duration": 251,
    "start_time": "2024-11-08T15:41:22.530Z"
   },
   {
    "duration": 358,
    "start_time": "2024-11-08T15:41:55.140Z"
   },
   {
    "duration": 486,
    "start_time": "2024-11-08T15:44:34.853Z"
   },
   {
    "duration": 396,
    "start_time": "2024-11-08T15:47:07.177Z"
   },
   {
    "duration": 384,
    "start_time": "2024-11-08T15:47:28.849Z"
   },
   {
    "duration": 381,
    "start_time": "2024-11-08T15:47:43.452Z"
   },
   {
    "duration": 377,
    "start_time": "2024-11-08T15:47:49.672Z"
   },
   {
    "duration": 248,
    "start_time": "2024-11-08T15:52:59.986Z"
   },
   {
    "duration": 9,
    "start_time": "2024-11-08T15:58:15.759Z"
   },
   {
    "duration": 10,
    "start_time": "2024-11-08T16:00:13.741Z"
   },
   {
    "duration": 111,
    "start_time": "2024-11-08T16:00:21.111Z"
   },
   {
    "duration": 112,
    "start_time": "2024-11-08T16:02:35.320Z"
   },
   {
    "duration": 124,
    "start_time": "2024-11-08T16:04:30.691Z"
   },
   {
    "duration": 109,
    "start_time": "2024-11-08T16:05:54.516Z"
   },
   {
    "duration": 123,
    "start_time": "2024-11-08T16:06:03.847Z"
   },
   {
    "duration": 349,
    "start_time": "2024-11-08T16:06:19.691Z"
   },
   {
    "duration": 10,
    "start_time": "2024-11-08T16:06:43.193Z"
   },
   {
    "duration": 11,
    "start_time": "2024-11-08T16:06:49.774Z"
   },
   {
    "duration": 11,
    "start_time": "2024-11-08T16:06:53.900Z"
   },
   {
    "duration": 5,
    "start_time": "2024-11-08T16:09:11.937Z"
   },
   {
    "duration": 11,
    "start_time": "2024-11-08T16:09:54.937Z"
   },
   {
    "duration": 9,
    "start_time": "2024-11-08T16:10:03.748Z"
   },
   {
    "duration": 9,
    "start_time": "2024-11-08T16:12:37.456Z"
   },
   {
    "duration": 9,
    "start_time": "2024-11-08T16:12:41.934Z"
   },
   {
    "duration": 9,
    "start_time": "2024-11-08T16:14:30.765Z"
   },
   {
    "duration": 4,
    "start_time": "2024-11-08T16:14:47.907Z"
   },
   {
    "duration": 12,
    "start_time": "2024-11-08T16:17:09.837Z"
   },
   {
    "duration": 15,
    "start_time": "2024-11-08T16:17:16.666Z"
   },
   {
    "duration": 19,
    "start_time": "2024-11-08T16:17:28.220Z"
   },
   {
    "duration": 143,
    "start_time": "2024-11-08T16:17:35.964Z"
   },
   {
    "duration": 147,
    "start_time": "2024-11-08T16:20:48.114Z"
   },
   {
    "duration": 136,
    "start_time": "2024-11-08T16:21:06.688Z"
   },
   {
    "duration": 117,
    "start_time": "2024-11-08T16:21:25.933Z"
   },
   {
    "duration": 126,
    "start_time": "2024-11-08T16:21:49.154Z"
   },
   {
    "duration": 4,
    "start_time": "2024-11-08T16:24:02.609Z"
   },
   {
    "duration": 4,
    "start_time": "2024-11-08T16:24:19.427Z"
   },
   {
    "duration": 48,
    "start_time": "2024-11-09T13:10:48.159Z"
   },
   {
    "duration": 1451,
    "start_time": "2024-11-09T13:10:52.941Z"
   },
   {
    "duration": 81,
    "start_time": "2024-11-09T13:10:54.394Z"
   },
   {
    "duration": 4,
    "start_time": "2024-11-09T13:10:54.476Z"
   },
   {
    "duration": 23,
    "start_time": "2024-11-09T13:10:54.481Z"
   },
   {
    "duration": 14,
    "start_time": "2024-11-09T13:10:54.507Z"
   },
   {
    "duration": 11,
    "start_time": "2024-11-09T13:10:54.522Z"
   },
   {
    "duration": 177,
    "start_time": "2024-11-09T13:10:54.543Z"
   },
   {
    "duration": 279,
    "start_time": "2024-11-09T13:10:54.721Z"
   },
   {
    "duration": 290,
    "start_time": "2024-11-09T13:10:55.002Z"
   },
   {
    "duration": 290,
    "start_time": "2024-11-09T13:10:55.294Z"
   },
   {
    "duration": 457,
    "start_time": "2024-11-09T13:10:55.586Z"
   },
   {
    "duration": 263,
    "start_time": "2024-11-09T13:10:56.044Z"
   },
   {
    "duration": 5,
    "start_time": "2024-11-09T13:10:56.308Z"
   },
   {
    "duration": 394,
    "start_time": "2024-11-09T13:10:56.316Z"
   },
   {
    "duration": 147,
    "start_time": "2024-11-09T13:10:56.712Z"
   },
   {
    "duration": 149,
    "start_time": "2024-11-09T13:10:56.861Z"
   },
   {
    "duration": 5,
    "start_time": "2024-11-09T13:10:57.012Z"
   },
   {
    "duration": 267,
    "start_time": "2024-11-09T13:10:57.019Z"
   },
   {
    "duration": 4,
    "start_time": "2024-11-09T13:10:57.288Z"
   },
   {
    "duration": 11,
    "start_time": "2024-11-09T13:11:37.425Z"
   },
   {
    "duration": 9,
    "start_time": "2024-11-09T13:12:46.572Z"
   },
   {
    "duration": 9,
    "start_time": "2024-11-09T13:15:55.356Z"
   },
   {
    "duration": 103,
    "start_time": "2024-11-09T13:19:10.181Z"
   },
   {
    "duration": 10,
    "start_time": "2024-11-09T13:19:26.116Z"
   },
   {
    "duration": 6,
    "start_time": "2024-11-09T13:20:04.177Z"
   },
   {
    "duration": 8,
    "start_time": "2024-11-09T13:20:27.627Z"
   },
   {
    "duration": 6,
    "start_time": "2024-11-09T13:21:05.406Z"
   },
   {
    "duration": 9,
    "start_time": "2024-11-09T13:21:13.163Z"
   },
   {
    "duration": 12,
    "start_time": "2024-11-09T13:22:12.750Z"
   },
   {
    "duration": 12,
    "start_time": "2024-11-09T13:22:43.982Z"
   },
   {
    "duration": 1227,
    "start_time": "2024-11-09T13:22:52.053Z"
   },
   {
    "duration": 38,
    "start_time": "2024-11-09T13:22:53.282Z"
   },
   {
    "duration": 3,
    "start_time": "2024-11-09T13:22:53.322Z"
   },
   {
    "duration": 18,
    "start_time": "2024-11-09T13:22:53.326Z"
   },
   {
    "duration": 12,
    "start_time": "2024-11-09T13:22:53.347Z"
   },
   {
    "duration": 11,
    "start_time": "2024-11-09T13:22:53.361Z"
   },
   {
    "duration": 78,
    "start_time": "2024-11-09T13:22:53.373Z"
   },
   {
    "duration": 291,
    "start_time": "2024-11-09T13:22:53.453Z"
   },
   {
    "duration": 302,
    "start_time": "2024-11-09T13:22:53.745Z"
   },
   {
    "duration": 278,
    "start_time": "2024-11-09T13:22:54.048Z"
   },
   {
    "duration": 16,
    "start_time": "2024-11-09T13:22:54.328Z"
   },
   {
    "duration": 390,
    "start_time": "2024-11-09T13:22:54.345Z"
   },
   {
    "duration": 314,
    "start_time": "2024-11-09T13:22:54.737Z"
   },
   {
    "duration": 10,
    "start_time": "2024-11-09T13:22:55.054Z"
   },
   {
    "duration": 373,
    "start_time": "2024-11-09T13:22:55.065Z"
   },
   {
    "duration": 134,
    "start_time": "2024-11-09T13:22:55.443Z"
   },
   {
    "duration": 144,
    "start_time": "2024-11-09T13:22:55.578Z"
   },
   {
    "duration": 4,
    "start_time": "2024-11-09T13:22:55.724Z"
   },
   {
    "duration": 226,
    "start_time": "2024-11-09T13:22:55.742Z"
   },
   {
    "duration": 5,
    "start_time": "2024-11-09T13:22:55.970Z"
   },
   {
    "duration": 11,
    "start_time": "2024-11-09T13:23:23.773Z"
   },
   {
    "duration": 104,
    "start_time": "2024-11-09T13:23:54.743Z"
   },
   {
    "duration": 11,
    "start_time": "2024-11-09T13:23:58.744Z"
   },
   {
    "duration": 11,
    "start_time": "2024-11-09T13:24:05.262Z"
   },
   {
    "duration": 11,
    "start_time": "2024-11-09T13:24:16.425Z"
   },
   {
    "duration": 1231,
    "start_time": "2024-11-09T13:24:36.534Z"
   },
   {
    "duration": 38,
    "start_time": "2024-11-09T13:24:37.767Z"
   },
   {
    "duration": 3,
    "start_time": "2024-11-09T13:24:37.807Z"
   },
   {
    "duration": 36,
    "start_time": "2024-11-09T13:24:37.812Z"
   },
   {
    "duration": 48,
    "start_time": "2024-11-09T13:24:37.850Z"
   },
   {
    "duration": 71,
    "start_time": "2024-11-09T13:24:37.899Z"
   },
   {
    "duration": 77,
    "start_time": "2024-11-09T13:24:37.971Z"
   },
   {
    "duration": 283,
    "start_time": "2024-11-09T13:24:38.050Z"
   },
   {
    "duration": 292,
    "start_time": "2024-11-09T13:24:38.335Z"
   },
   {
    "duration": 304,
    "start_time": "2024-11-09T13:24:38.630Z"
   },
   {
    "duration": 15,
    "start_time": "2024-11-09T13:24:38.936Z"
   },
   {
    "duration": 376,
    "start_time": "2024-11-09T13:24:38.953Z"
   },
   {
    "duration": 279,
    "start_time": "2024-11-09T13:24:39.331Z"
   },
   {
    "duration": 10,
    "start_time": "2024-11-09T13:24:39.613Z"
   },
   {
    "duration": 430,
    "start_time": "2024-11-09T13:24:39.624Z"
   },
   {
    "duration": 137,
    "start_time": "2024-11-09T13:24:40.056Z"
   },
   {
    "duration": 143,
    "start_time": "2024-11-09T13:24:40.195Z"
   },
   {
    "duration": 5,
    "start_time": "2024-11-09T13:24:40.340Z"
   },
   {
    "duration": 243,
    "start_time": "2024-11-09T13:24:40.347Z"
   },
   {
    "duration": 4,
    "start_time": "2024-11-09T13:24:40.591Z"
   },
   {
    "duration": 1305,
    "start_time": "2024-11-09T13:30:06.644Z"
   },
   {
    "duration": 41,
    "start_time": "2024-11-09T13:30:07.950Z"
   },
   {
    "duration": 11,
    "start_time": "2024-11-09T13:30:07.993Z"
   },
   {
    "duration": 49,
    "start_time": "2024-11-09T13:30:08.006Z"
   },
   {
    "duration": 123,
    "start_time": "2024-11-09T13:30:08.057Z"
   },
   {
    "duration": 50,
    "start_time": "2024-11-09T13:30:08.182Z"
   },
   {
    "duration": 93,
    "start_time": "2024-11-09T13:30:08.234Z"
   },
   {
    "duration": 290,
    "start_time": "2024-11-09T13:30:08.329Z"
   },
   {
    "duration": 305,
    "start_time": "2024-11-09T13:30:08.621Z"
   },
   {
    "duration": 279,
    "start_time": "2024-11-09T13:30:08.929Z"
   },
   {
    "duration": 437,
    "start_time": "2024-11-09T13:30:09.210Z"
   },
   {
    "duration": 301,
    "start_time": "2024-11-09T13:30:09.649Z"
   },
   {
    "duration": 15,
    "start_time": "2024-11-09T13:30:09.952Z"
   },
   {
    "duration": 433,
    "start_time": "2024-11-09T13:30:09.969Z"
   },
   {
    "duration": 154,
    "start_time": "2024-11-09T13:30:10.405Z"
   },
   {
    "duration": 167,
    "start_time": "2024-11-09T13:30:10.561Z"
   },
   {
    "duration": 12,
    "start_time": "2024-11-09T13:30:10.730Z"
   },
   {
    "duration": 307,
    "start_time": "2024-11-09T13:30:10.744Z"
   },
   {
    "duration": 9,
    "start_time": "2024-11-09T13:30:11.052Z"
   },
   {
    "duration": 17,
    "start_time": "2024-11-09T13:32:04.025Z"
   },
   {
    "duration": 1268,
    "start_time": "2024-11-09T13:35:52.016Z"
   },
   {
    "duration": 38,
    "start_time": "2024-11-09T13:35:53.286Z"
   },
   {
    "duration": 3,
    "start_time": "2024-11-09T13:35:53.326Z"
   },
   {
    "duration": 40,
    "start_time": "2024-11-09T13:35:53.331Z"
   },
   {
    "duration": 18,
    "start_time": "2024-11-09T13:35:53.373Z"
   },
   {
    "duration": 19,
    "start_time": "2024-11-09T13:35:53.393Z"
   },
   {
    "duration": 86,
    "start_time": "2024-11-09T13:35:53.414Z"
   },
   {
    "duration": 293,
    "start_time": "2024-11-09T13:35:53.502Z"
   },
   {
    "duration": 293,
    "start_time": "2024-11-09T13:35:53.797Z"
   },
   {
    "duration": 301,
    "start_time": "2024-11-09T13:35:54.092Z"
   },
   {
    "duration": 389,
    "start_time": "2024-11-09T13:35:54.394Z"
   },
   {
    "duration": 298,
    "start_time": "2024-11-09T13:35:54.785Z"
   },
   {
    "duration": 10,
    "start_time": "2024-11-09T13:35:55.084Z"
   },
   {
    "duration": 441,
    "start_time": "2024-11-09T13:35:55.097Z"
   },
   {
    "duration": 165,
    "start_time": "2024-11-09T13:35:55.540Z"
   },
   {
    "duration": 146,
    "start_time": "2024-11-09T13:35:55.707Z"
   },
   {
    "duration": 5,
    "start_time": "2024-11-09T13:35:55.854Z"
   },
   {
    "duration": 268,
    "start_time": "2024-11-09T13:35:55.860Z"
   },
   {
    "duration": 12,
    "start_time": "2024-11-09T13:35:56.130Z"
   },
   {
    "duration": 10,
    "start_time": "2024-11-09T13:37:24.419Z"
   },
   {
    "duration": 10,
    "start_time": "2024-11-09T13:37:26.680Z"
   },
   {
    "duration": 107,
    "start_time": "2024-11-09T13:46:32.295Z"
   },
   {
    "duration": 18,
    "start_time": "2024-11-09T13:47:56.668Z"
   },
   {
    "duration": 9,
    "start_time": "2024-11-09T13:48:26.881Z"
   },
   {
    "duration": 147,
    "start_time": "2024-11-09T13:48:49.452Z"
   },
   {
    "duration": 1371,
    "start_time": "2024-11-09T13:50:16.813Z"
   },
   {
    "duration": 1104,
    "start_time": "2024-11-09T13:51:27.780Z"
   },
   {
    "duration": 104,
    "start_time": "2024-11-09T13:51:33.700Z"
   },
   {
    "duration": 109,
    "start_time": "2024-11-09T13:52:18.555Z"
   },
   {
    "duration": 117,
    "start_time": "2024-11-09T13:52:41.026Z"
   },
   {
    "duration": 381,
    "start_time": "2024-11-09T13:54:23.086Z"
   },
   {
    "duration": 358,
    "start_time": "2024-11-09T14:01:13.488Z"
   },
   {
    "duration": 398,
    "start_time": "2024-11-09T14:10:41.806Z"
   },
   {
    "duration": 392,
    "start_time": "2024-11-09T14:10:52.542Z"
   },
   {
    "duration": 343,
    "start_time": "2024-11-09T14:11:11.758Z"
   },
   {
    "duration": 365,
    "start_time": "2024-11-09T14:11:35.844Z"
   },
   {
    "duration": 374,
    "start_time": "2024-11-09T14:11:55.570Z"
   },
   {
    "duration": 209,
    "start_time": "2024-11-09T14:15:29.171Z"
   },
   {
    "duration": 168,
    "start_time": "2024-11-09T14:17:30.972Z"
   },
   {
    "duration": 138,
    "start_time": "2024-11-09T14:17:41.118Z"
   },
   {
    "duration": 30,
    "start_time": "2024-11-09T14:17:48.802Z"
   },
   {
    "duration": 6,
    "start_time": "2024-11-09T14:18:52.999Z"
   },
   {
    "duration": 26,
    "start_time": "2024-11-09T14:21:37.960Z"
   },
   {
    "duration": 11,
    "start_time": "2024-11-09T14:27:00.000Z"
   },
   {
    "duration": 11,
    "start_time": "2024-11-09T14:28:58.904Z"
   },
   {
    "duration": 11,
    "start_time": "2024-11-09T14:29:20.340Z"
   },
   {
    "duration": 13,
    "start_time": "2024-11-09T14:40:50.229Z"
   },
   {
    "duration": 1302,
    "start_time": "2024-11-09T14:42:25.382Z"
   },
   {
    "duration": 9,
    "start_time": "2024-11-09T14:42:45.843Z"
   },
   {
    "duration": 34,
    "start_time": "2024-11-09T14:43:10.533Z"
   },
   {
    "duration": 978,
    "start_time": "2024-11-09T14:52:04.653Z"
   },
   {
    "duration": 14,
    "start_time": "2024-11-09T14:52:26.542Z"
   },
   {
    "duration": 28,
    "start_time": "2024-11-09T15:13:31.484Z"
   },
   {
    "duration": 19,
    "start_time": "2024-11-09T15:14:30.545Z"
   },
   {
    "duration": 12,
    "start_time": "2024-11-09T15:30:39.173Z"
   },
   {
    "duration": 9,
    "start_time": "2024-11-09T15:30:44.024Z"
   },
   {
    "duration": 1236,
    "start_time": "2024-11-09T15:30:49.751Z"
   },
   {
    "duration": 38,
    "start_time": "2024-11-09T15:30:50.989Z"
   },
   {
    "duration": 11,
    "start_time": "2024-11-09T15:30:51.029Z"
   },
   {
    "duration": 41,
    "start_time": "2024-11-09T15:30:51.041Z"
   },
   {
    "duration": 33,
    "start_time": "2024-11-09T15:30:51.084Z"
   },
   {
    "duration": 38,
    "start_time": "2024-11-09T15:30:51.119Z"
   },
   {
    "duration": 113,
    "start_time": "2024-11-09T15:30:51.159Z"
   },
   {
    "duration": 286,
    "start_time": "2024-11-09T15:30:51.274Z"
   },
   {
    "duration": 303,
    "start_time": "2024-11-09T15:30:51.562Z"
   },
   {
    "duration": 285,
    "start_time": "2024-11-09T15:30:51.866Z"
   },
   {
    "duration": 393,
    "start_time": "2024-11-09T15:30:52.153Z"
   },
   {
    "duration": 276,
    "start_time": "2024-11-09T15:30:52.548Z"
   },
   {
    "duration": 412,
    "start_time": "2024-11-09T15:30:52.827Z"
   },
   {
    "duration": 137,
    "start_time": "2024-11-09T15:30:53.242Z"
   },
   {
    "duration": 143,
    "start_time": "2024-11-09T15:30:53.380Z"
   },
   {
    "duration": 4,
    "start_time": "2024-11-09T15:30:53.525Z"
   },
   {
    "duration": 227,
    "start_time": "2024-11-09T15:30:53.542Z"
   },
   {
    "duration": 5,
    "start_time": "2024-11-09T15:30:53.770Z"
   },
   {
    "duration": 227,
    "start_time": "2024-11-09T15:30:53.777Z"
   },
   {
    "duration": 135,
    "start_time": "2024-11-09T15:30:54.006Z"
   },
   {
    "duration": 7,
    "start_time": "2024-11-09T15:30:54.143Z"
   },
   {
    "duration": 69,
    "start_time": "2024-11-09T15:30:54.152Z"
   },
   {
    "duration": 11,
    "start_time": "2024-11-09T15:30:54.223Z"
   },
   {
    "duration": 9,
    "start_time": "2024-11-09T15:30:54.235Z"
   },
   {
    "duration": 8,
    "start_time": "2024-11-09T15:30:54.246Z"
   },
   {
    "duration": 30,
    "start_time": "2024-11-09T15:30:54.255Z"
   },
   {
    "duration": 13,
    "start_time": "2024-11-09T15:30:54.287Z"
   },
   {
    "duration": 81,
    "start_time": "2024-11-11T11:45:12.249Z"
   },
   {
    "duration": 1405,
    "start_time": "2024-11-11T11:49:00.881Z"
   },
   {
    "duration": 1282,
    "start_time": "2024-11-11T11:49:32.373Z"
   },
   {
    "duration": 100,
    "start_time": "2024-11-11T11:49:33.657Z"
   },
   {
    "duration": 3,
    "start_time": "2024-11-11T11:49:33.759Z"
   },
   {
    "duration": 17,
    "start_time": "2024-11-11T11:49:33.764Z"
   },
   {
    "duration": 13,
    "start_time": "2024-11-11T11:49:33.784Z"
   },
   {
    "duration": 33,
    "start_time": "2024-11-11T11:49:33.798Z"
   },
   {
    "duration": 225,
    "start_time": "2024-11-11T11:49:33.832Z"
   },
   {
    "duration": 288,
    "start_time": "2024-11-11T11:49:34.058Z"
   },
   {
    "duration": 296,
    "start_time": "2024-11-11T11:49:34.348Z"
   },
   {
    "duration": 280,
    "start_time": "2024-11-11T11:49:34.646Z"
   },
   {
    "duration": 369,
    "start_time": "2024-11-11T11:49:34.928Z"
   },
   {
    "duration": 273,
    "start_time": "2024-11-11T11:49:35.299Z"
   },
   {
    "duration": 411,
    "start_time": "2024-11-11T11:49:35.574Z"
   },
   {
    "duration": 135,
    "start_time": "2024-11-11T11:49:35.988Z"
   },
   {
    "duration": 134,
    "start_time": "2024-11-11T11:49:36.125Z"
   },
   {
    "duration": 5,
    "start_time": "2024-11-11T11:49:36.260Z"
   },
   {
    "duration": 275,
    "start_time": "2024-11-11T11:49:36.266Z"
   },
   {
    "duration": 4,
    "start_time": "2024-11-11T11:49:36.543Z"
   },
   {
    "duration": 222,
    "start_time": "2024-11-11T11:49:36.548Z"
   },
   {
    "duration": 140,
    "start_time": "2024-11-11T11:49:36.771Z"
   },
   {
    "duration": 6,
    "start_time": "2024-11-11T11:49:36.913Z"
   },
   {
    "duration": 44,
    "start_time": "2024-11-11T11:49:36.920Z"
   },
   {
    "duration": 10,
    "start_time": "2024-11-11T11:49:36.966Z"
   },
   {
    "duration": 9,
    "start_time": "2024-11-11T11:49:36.977Z"
   },
   {
    "duration": 19,
    "start_time": "2024-11-11T11:49:36.987Z"
   },
   {
    "duration": 52,
    "start_time": "2024-11-11T11:49:37.007Z"
   },
   {
    "duration": 13,
    "start_time": "2024-11-11T11:49:37.061Z"
   },
   {
    "duration": 38,
    "start_time": "2024-11-11T11:50:17.216Z"
   },
   {
    "duration": 42,
    "start_time": "2024-11-11T11:50:31.043Z"
   },
   {
    "duration": 1138,
    "start_time": "2024-11-11T11:53:45.782Z"
   },
   {
    "duration": 1126,
    "start_time": "2024-11-11T11:55:08.608Z"
   },
   {
    "duration": 1204,
    "start_time": "2024-11-11T11:55:57.458Z"
   },
   {
    "duration": 47,
    "start_time": "2024-11-11T11:55:58.664Z"
   },
   {
    "duration": 3,
    "start_time": "2024-11-11T11:55:58.712Z"
   },
   {
    "duration": 20,
    "start_time": "2024-11-11T11:55:58.717Z"
   },
   {
    "duration": 13,
    "start_time": "2024-11-11T11:55:58.738Z"
   },
   {
    "duration": 15,
    "start_time": "2024-11-11T11:55:58.753Z"
   },
   {
    "duration": 83,
    "start_time": "2024-11-11T11:55:58.770Z"
   },
   {
    "duration": 272,
    "start_time": "2024-11-11T11:55:58.854Z"
   },
   {
    "duration": 310,
    "start_time": "2024-11-11T11:55:59.128Z"
   },
   {
    "duration": 277,
    "start_time": "2024-11-11T11:55:59.441Z"
   },
   {
    "duration": 367,
    "start_time": "2024-11-11T11:55:59.719Z"
   },
   {
    "duration": 281,
    "start_time": "2024-11-11T11:56:00.088Z"
   },
   {
    "duration": 395,
    "start_time": "2024-11-11T11:56:00.371Z"
   },
   {
    "duration": 133,
    "start_time": "2024-11-11T11:56:00.767Z"
   },
   {
    "duration": 136,
    "start_time": "2024-11-11T11:56:00.901Z"
   },
   {
    "duration": 5,
    "start_time": "2024-11-11T11:56:01.038Z"
   },
   {
    "duration": 241,
    "start_time": "2024-11-11T11:56:01.044Z"
   },
   {
    "duration": 4,
    "start_time": "2024-11-11T11:56:01.287Z"
   },
   {
    "duration": 209,
    "start_time": "2024-11-11T11:56:01.298Z"
   },
   {
    "duration": 142,
    "start_time": "2024-11-11T11:56:01.509Z"
   },
   {
    "duration": 6,
    "start_time": "2024-11-11T11:56:01.652Z"
   },
   {
    "duration": 81,
    "start_time": "2024-11-11T11:56:01.660Z"
   },
   {
    "duration": 17,
    "start_time": "2024-11-11T11:56:01.742Z"
   },
   {
    "duration": 20,
    "start_time": "2024-11-11T11:56:01.760Z"
   },
   {
    "duration": 48,
    "start_time": "2024-11-11T11:56:01.781Z"
   },
   {
    "duration": 64,
    "start_time": "2024-11-11T11:56:01.831Z"
   },
   {
    "duration": 28,
    "start_time": "2024-11-11T11:56:01.897Z"
   },
   {
    "duration": 43,
    "start_time": "2024-11-11T11:56:46.276Z"
   },
   {
    "duration": 6,
    "start_time": "2024-11-11T11:59:40.484Z"
   },
   {
    "duration": 1225,
    "start_time": "2024-11-11T11:59:45.905Z"
   },
   {
    "duration": 46,
    "start_time": "2024-11-11T11:59:47.132Z"
   },
   {
    "duration": 3,
    "start_time": "2024-11-11T11:59:47.180Z"
   },
   {
    "duration": 17,
    "start_time": "2024-11-11T11:59:47.184Z"
   },
   {
    "duration": 12,
    "start_time": "2024-11-11T11:59:47.203Z"
   },
   {
    "duration": 18,
    "start_time": "2024-11-11T11:59:47.217Z"
   },
   {
    "duration": 93,
    "start_time": "2024-11-11T11:59:47.236Z"
   },
   {
    "duration": 6,
    "start_time": "2024-11-11T11:59:47.330Z"
   },
   {
    "duration": 307,
    "start_time": "2024-11-11T11:59:47.338Z"
   },
   {
    "duration": 283,
    "start_time": "2024-11-11T11:59:47.649Z"
   },
   {
    "duration": 192,
    "start_time": "2024-11-11T11:59:47.934Z"
   },
   {
    "duration": 316,
    "start_time": "2024-11-11T11:59:48.128Z"
   },
   {
    "duration": 330,
    "start_time": "2024-11-11T11:59:48.445Z"
   },
   {
    "duration": 0,
    "start_time": "2024-11-11T11:59:48.777Z"
   },
   {
    "duration": 0,
    "start_time": "2024-11-11T11:59:48.778Z"
   },
   {
    "duration": 0,
    "start_time": "2024-11-11T11:59:48.779Z"
   },
   {
    "duration": 0,
    "start_time": "2024-11-11T11:59:48.780Z"
   },
   {
    "duration": 0,
    "start_time": "2024-11-11T11:59:48.782Z"
   },
   {
    "duration": 0,
    "start_time": "2024-11-11T11:59:48.783Z"
   },
   {
    "duration": 0,
    "start_time": "2024-11-11T11:59:48.784Z"
   },
   {
    "duration": 0,
    "start_time": "2024-11-11T11:59:48.785Z"
   },
   {
    "duration": 0,
    "start_time": "2024-11-11T11:59:48.798Z"
   },
   {
    "duration": 0,
    "start_time": "2024-11-11T11:59:48.799Z"
   },
   {
    "duration": 0,
    "start_time": "2024-11-11T11:59:48.800Z"
   },
   {
    "duration": 0,
    "start_time": "2024-11-11T11:59:48.801Z"
   },
   {
    "duration": 0,
    "start_time": "2024-11-11T11:59:48.802Z"
   },
   {
    "duration": 0,
    "start_time": "2024-11-11T11:59:48.803Z"
   },
   {
    "duration": 0,
    "start_time": "2024-11-11T11:59:48.804Z"
   },
   {
    "duration": 181,
    "start_time": "2024-11-11T12:02:07.970Z"
   },
   {
    "duration": 1188,
    "start_time": "2024-11-11T12:02:20.441Z"
   },
   {
    "duration": 46,
    "start_time": "2024-11-11T12:02:21.631Z"
   },
   {
    "duration": 3,
    "start_time": "2024-11-11T12:02:21.679Z"
   },
   {
    "duration": 21,
    "start_time": "2024-11-11T12:02:21.684Z"
   },
   {
    "duration": 13,
    "start_time": "2024-11-11T12:02:21.706Z"
   },
   {
    "duration": 20,
    "start_time": "2024-11-11T12:02:21.720Z"
   },
   {
    "duration": 92,
    "start_time": "2024-11-11T12:02:21.742Z"
   },
   {
    "duration": 6,
    "start_time": "2024-11-11T12:02:21.835Z"
   },
   {
    "duration": 337,
    "start_time": "2024-11-11T12:02:21.843Z"
   },
   {
    "duration": 287,
    "start_time": "2024-11-11T12:02:22.183Z"
   },
   {
    "duration": 196,
    "start_time": "2024-11-11T12:02:22.472Z"
   },
   {
    "duration": 318,
    "start_time": "2024-11-11T12:02:22.670Z"
   },
   {
    "duration": 187,
    "start_time": "2024-11-11T12:02:22.997Z"
   },
   {
    "duration": 432,
    "start_time": "2024-11-11T12:02:23.186Z"
   },
   {
    "duration": 0,
    "start_time": "2024-11-11T12:02:23.620Z"
   },
   {
    "duration": 0,
    "start_time": "2024-11-11T12:02:23.621Z"
   },
   {
    "duration": 0,
    "start_time": "2024-11-11T12:02:23.623Z"
   },
   {
    "duration": 0,
    "start_time": "2024-11-11T12:02:23.624Z"
   },
   {
    "duration": 0,
    "start_time": "2024-11-11T12:02:23.625Z"
   },
   {
    "duration": 0,
    "start_time": "2024-11-11T12:02:23.626Z"
   },
   {
    "duration": 0,
    "start_time": "2024-11-11T12:02:23.627Z"
   },
   {
    "duration": 0,
    "start_time": "2024-11-11T12:02:23.628Z"
   },
   {
    "duration": 0,
    "start_time": "2024-11-11T12:02:23.629Z"
   },
   {
    "duration": 0,
    "start_time": "2024-11-11T12:02:23.630Z"
   },
   {
    "duration": 0,
    "start_time": "2024-11-11T12:02:23.631Z"
   },
   {
    "duration": 0,
    "start_time": "2024-11-11T12:02:23.632Z"
   },
   {
    "duration": 0,
    "start_time": "2024-11-11T12:02:23.633Z"
   },
   {
    "duration": 0,
    "start_time": "2024-11-11T12:02:23.634Z"
   },
   {
    "duration": 323,
    "start_time": "2024-11-11T12:02:42.859Z"
   },
   {
    "duration": 149,
    "start_time": "2024-11-11T12:02:47.284Z"
   },
   {
    "duration": 207,
    "start_time": "2024-11-11T12:02:54.196Z"
   },
   {
    "duration": 4,
    "start_time": "2024-11-11T12:03:00.043Z"
   },
   {
    "duration": 140,
    "start_time": "2024-11-11T12:03:02.112Z"
   },
   {
    "duration": 4,
    "start_time": "2024-11-11T12:03:05.963Z"
   },
   {
    "duration": 220,
    "start_time": "2024-11-11T12:03:10.550Z"
   },
   {
    "duration": 130,
    "start_time": "2024-11-11T12:03:12.778Z"
   },
   {
    "duration": 7,
    "start_time": "2024-11-11T12:03:14.453Z"
   },
   {
    "duration": 25,
    "start_time": "2024-11-11T12:03:15.562Z"
   },
   {
    "duration": 16,
    "start_time": "2024-11-11T12:03:18.403Z"
   },
   {
    "duration": 9,
    "start_time": "2024-11-11T12:03:21.562Z"
   },
   {
    "duration": 8,
    "start_time": "2024-11-11T12:03:23.466Z"
   },
   {
    "duration": 25,
    "start_time": "2024-11-11T12:03:24.564Z"
   },
   {
    "duration": 14,
    "start_time": "2024-11-11T12:03:26.818Z"
   },
   {
    "duration": 1247,
    "start_time": "2024-11-11T12:04:24.988Z"
   },
   {
    "duration": 46,
    "start_time": "2024-11-11T12:04:26.237Z"
   },
   {
    "duration": 4,
    "start_time": "2024-11-11T12:04:26.285Z"
   },
   {
    "duration": 59,
    "start_time": "2024-11-11T12:04:26.291Z"
   },
   {
    "duration": 30,
    "start_time": "2024-11-11T12:04:26.351Z"
   },
   {
    "duration": 28,
    "start_time": "2024-11-11T12:04:26.383Z"
   },
   {
    "duration": 100,
    "start_time": "2024-11-11T12:04:26.413Z"
   },
   {
    "duration": 6,
    "start_time": "2024-11-11T12:04:26.515Z"
   },
   {
    "duration": 338,
    "start_time": "2024-11-11T12:04:26.522Z"
   },
   {
    "duration": 267,
    "start_time": "2024-11-11T12:04:26.862Z"
   },
   {
    "duration": 192,
    "start_time": "2024-11-11T12:04:27.130Z"
   },
   {
    "duration": 278,
    "start_time": "2024-11-11T12:04:27.323Z"
   },
   {
    "duration": 188,
    "start_time": "2024-11-11T12:04:27.603Z"
   },
   {
    "duration": 292,
    "start_time": "2024-11-11T12:04:27.792Z"
   },
   {
    "duration": 149,
    "start_time": "2024-11-11T12:04:28.086Z"
   },
   {
    "duration": 150,
    "start_time": "2024-11-11T12:04:28.237Z"
   },
   {
    "duration": 14,
    "start_time": "2024-11-11T12:04:28.390Z"
   },
   {
    "duration": 232,
    "start_time": "2024-11-11T12:04:28.408Z"
   },
   {
    "duration": 4,
    "start_time": "2024-11-11T12:04:28.642Z"
   },
   {
    "duration": 234,
    "start_time": "2024-11-11T12:04:28.647Z"
   },
   {
    "duration": 149,
    "start_time": "2024-11-11T12:04:28.883Z"
   },
   {
    "duration": 6,
    "start_time": "2024-11-11T12:04:29.034Z"
   },
   {
    "duration": 29,
    "start_time": "2024-11-11T12:04:29.041Z"
   },
   {
    "duration": 27,
    "start_time": "2024-11-11T12:04:29.072Z"
   },
   {
    "duration": 9,
    "start_time": "2024-11-11T12:04:29.100Z"
   },
   {
    "duration": 9,
    "start_time": "2024-11-11T12:04:29.111Z"
   },
   {
    "duration": 31,
    "start_time": "2024-11-11T12:04:29.122Z"
   },
   {
    "duration": 16,
    "start_time": "2024-11-11T12:04:29.156Z"
   },
   {
    "duration": 195,
    "start_time": "2024-11-11T12:06:47.487Z"
   },
   {
    "duration": 193,
    "start_time": "2024-11-11T12:08:28.758Z"
   },
   {
    "duration": 199,
    "start_time": "2024-11-11T12:09:47.540Z"
   },
   {
    "duration": 191,
    "start_time": "2024-11-11T12:10:03.754Z"
   },
   {
    "duration": 314,
    "start_time": "2024-11-11T12:10:55.773Z"
   },
   {
    "duration": 316,
    "start_time": "2024-11-11T12:12:49.597Z"
   },
   {
    "duration": 224,
    "start_time": "2024-11-11T12:13:30.978Z"
   },
   {
    "duration": 220,
    "start_time": "2024-11-11T12:13:41.922Z"
   },
   {
    "duration": 295,
    "start_time": "2024-11-11T12:14:01.551Z"
   },
   {
    "duration": 210,
    "start_time": "2024-11-11T12:14:13.558Z"
   },
   {
    "duration": 377,
    "start_time": "2024-11-11T12:14:25.122Z"
   },
   {
    "duration": 296,
    "start_time": "2024-11-11T12:15:35.756Z"
   },
   {
    "duration": 305,
    "start_time": "2024-11-11T12:15:45.961Z"
   },
   {
    "duration": 145,
    "start_time": "2024-11-11T12:16:02.614Z"
   },
   {
    "duration": 145,
    "start_time": "2024-11-11T12:16:08.041Z"
   },
   {
    "duration": 144,
    "start_time": "2024-11-11T12:16:16.009Z"
   },
   {
    "duration": 152,
    "start_time": "2024-11-11T12:16:56.517Z"
   },
   {
    "duration": 159,
    "start_time": "2024-11-11T12:17:13.000Z"
   },
   {
    "duration": 161,
    "start_time": "2024-11-11T12:18:20.492Z"
   },
   {
    "duration": 172,
    "start_time": "2024-11-11T12:19:00.263Z"
   },
   {
    "duration": 164,
    "start_time": "2024-11-11T12:19:13.747Z"
   },
   {
    "duration": 54,
    "start_time": "2024-11-11T12:21:22.828Z"
   },
   {
    "duration": 295,
    "start_time": "2024-11-11T12:27:38.545Z"
   },
   {
    "duration": 436,
    "start_time": "2024-11-11T12:27:50.085Z"
   }
  ],
  "kernelspec": {
   "display_name": "Python [conda env:base] *",
   "language": "python",
   "name": "conda-base-py"
  },
  "language_info": {
   "codemirror_mode": {
    "name": "ipython",
    "version": 3
   },
   "file_extension": ".py",
   "mimetype": "text/x-python",
   "name": "python",
   "nbconvert_exporter": "python",
   "pygments_lexer": "ipython3",
   "version": "3.12.7"
  },
  "toc": {
   "base_numbering": 1,
   "nav_menu": {},
   "number_sections": true,
   "sideBar": true,
   "skip_h1_title": true,
   "title_cell": "Table of Contents",
   "title_sidebar": "Contents",
   "toc_cell": false,
   "toc_position": {},
   "toc_section_display": true,
   "toc_window_display": false
  }
 },
 "nbformat": 4,
 "nbformat_minor": 4
}
