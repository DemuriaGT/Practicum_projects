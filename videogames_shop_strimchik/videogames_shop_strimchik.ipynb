{
 "cells": [
  {
   "cell_type": "markdown",
   "metadata": {},
   "source": [
    "# Анализ данных о продажах компьютерных игр для интернет-магазина «Стримчик».\n",
    "\n",
    "**Описание проекта:** Интернет-магазин «Стримчик», продающий игры по всему миру, стремится выявить закономерности, определяющие успешность игр. Это позволит сделать ставку на потенциально популярные продукты и эффективно планировать рекламные кампании. В рамках проекта мы анализируем исторические данные о продажах игр, оценки пользователей и экспертов, жанры и платформы, чтобы определить ключевые факторы успеха.\n",
    "\n",
    "**Цель исследования:** Выявление закономерностей, определяющих успешность компьютерных игр, для планирования рекламных кампаний и стратегий продаж на 2017 год на основе данных до 2016 года.\n",
    "\n",
    "**Ход исследования:**\n",
    "\n",
    "- **Подготовка данных:** Загрузка и изучение общей информации из предоставленного датасета.\n",
    "- **Предобработка данных:** Обработка пропущенных значений, корректировка типов данных, устранение дубликатов и других аномалий.\n",
    "- **Исследовательский анализ данных:** Изучение основных параметров игр, их распределения, зависимости продаж от различных характеристик, таких как платформа, жанр и возрастной рейтинг ESRB.\n",
    "- **Составление портрета пользователя каждого региона:** Анализ предпочтений пользователей в разных регионах для более точного таргетирования рекламных кампаний.\n",
    "- **Проверка гипотез:** \n",
    "  - Сравнение средних пользовательских рейтингов платформ Xbox One и PC.\n",
    "  - Сравнение средних пользовательских рейтингов жанров Action и Sports.\n",
    "\n",
    "**Общий вывод:** Резюмирование полученных результатов, формулировка ключевых выводов и рекомендаций для планирования рекламных кампаний и стратегий продаж на 2017 год.\n",
    "\n",
    "С помощью данного исследования мы стремимся предоставить всесторонний анализ данных о продажах компьютерных игр, что станет основой для принятия обоснованных решений и улучшения бизнес-показателей интернет-магазина «Стримчик»."
   ]
  },
  {
   "cell_type": "markdown",
   "metadata": {},
   "source": [
    "## Шаг 1. Откроем файл с данными и изучим общую информацию"
   ]
  },
  {
   "cell_type": "code",
   "execution_count": 1,
   "metadata": {},
   "outputs": [],
   "source": [
    "import pandas as pd\n",
    "import matplotlib.pyplot as plt\n",
    "from scipy import stats as st\n",
    "import seaborn as sb"
   ]
  },
  {
   "cell_type": "code",
   "execution_count": 2,
   "metadata": {},
   "outputs": [],
   "source": [
    "games_data = pd.read_csv('/datasets/games.csv')"
   ]
  },
  {
   "cell_type": "code",
   "execution_count": 3,
   "metadata": {},
   "outputs": [
    {
     "name": "stdout",
     "output_type": "stream",
     "text": [
      "<class 'pandas.core.frame.DataFrame'>\n",
      "RangeIndex: 16715 entries, 0 to 16714\n",
      "Data columns (total 11 columns):\n",
      " #   Column           Non-Null Count  Dtype  \n",
      "---  ------           --------------  -----  \n",
      " 0   Name             16713 non-null  object \n",
      " 1   Platform         16715 non-null  object \n",
      " 2   Year_of_Release  16446 non-null  float64\n",
      " 3   Genre            16713 non-null  object \n",
      " 4   NA_sales         16715 non-null  float64\n",
      " 5   EU_sales         16715 non-null  float64\n",
      " 6   JP_sales         16715 non-null  float64\n",
      " 7   Other_sales      16715 non-null  float64\n",
      " 8   Critic_Score     8137 non-null   float64\n",
      " 9   User_Score       10014 non-null  object \n",
      " 10  Rating           9949 non-null   object \n",
      "dtypes: float64(6), object(5)\n",
      "memory usage: 1.4+ MB\n"
     ]
    }
   ],
   "source": [
    "games_data.info()"
   ]
  },
  {
   "cell_type": "markdown",
   "metadata": {},
   "source": [
    "Есть некоторые пропущенные данные в столбцах \"Year_of_Release\", \"Critic_Score\", \"User_Score\" и \"Rating\". Также стоит отметить, что оценки пользователей представлены в строковом формате, что может потребовать преобразования для дальнейшего анализа."
   ]
  },
  {
   "cell_type": "code",
   "execution_count": 4,
   "metadata": {},
   "outputs": [
    {
     "data": {
      "text/html": [
       "<div>\n",
       "<style scoped>\n",
       "    .dataframe tbody tr th:only-of-type {\n",
       "        vertical-align: middle;\n",
       "    }\n",
       "\n",
       "    .dataframe tbody tr th {\n",
       "        vertical-align: top;\n",
       "    }\n",
       "\n",
       "    .dataframe thead th {\n",
       "        text-align: right;\n",
       "    }\n",
       "</style>\n",
       "<table border=\"1\" class=\"dataframe\">\n",
       "  <thead>\n",
       "    <tr style=\"text-align: right;\">\n",
       "      <th></th>\n",
       "      <th>Name</th>\n",
       "      <th>Platform</th>\n",
       "      <th>Year_of_Release</th>\n",
       "      <th>Genre</th>\n",
       "      <th>NA_sales</th>\n",
       "      <th>EU_sales</th>\n",
       "      <th>JP_sales</th>\n",
       "      <th>Other_sales</th>\n",
       "      <th>Critic_Score</th>\n",
       "      <th>User_Score</th>\n",
       "      <th>Rating</th>\n",
       "    </tr>\n",
       "  </thead>\n",
       "  <tbody>\n",
       "    <tr>\n",
       "      <th>0</th>\n",
       "      <td>Wii Sports</td>\n",
       "      <td>Wii</td>\n",
       "      <td>2006.0</td>\n",
       "      <td>Sports</td>\n",
       "      <td>41.36</td>\n",
       "      <td>28.96</td>\n",
       "      <td>3.77</td>\n",
       "      <td>8.45</td>\n",
       "      <td>76.0</td>\n",
       "      <td>8</td>\n",
       "      <td>E</td>\n",
       "    </tr>\n",
       "    <tr>\n",
       "      <th>1</th>\n",
       "      <td>Super Mario Bros.</td>\n",
       "      <td>NES</td>\n",
       "      <td>1985.0</td>\n",
       "      <td>Platform</td>\n",
       "      <td>29.08</td>\n",
       "      <td>3.58</td>\n",
       "      <td>6.81</td>\n",
       "      <td>0.77</td>\n",
       "      <td>NaN</td>\n",
       "      <td>NaN</td>\n",
       "      <td>NaN</td>\n",
       "    </tr>\n",
       "    <tr>\n",
       "      <th>2</th>\n",
       "      <td>Mario Kart Wii</td>\n",
       "      <td>Wii</td>\n",
       "      <td>2008.0</td>\n",
       "      <td>Racing</td>\n",
       "      <td>15.68</td>\n",
       "      <td>12.76</td>\n",
       "      <td>3.79</td>\n",
       "      <td>3.29</td>\n",
       "      <td>82.0</td>\n",
       "      <td>8.3</td>\n",
       "      <td>E</td>\n",
       "    </tr>\n",
       "    <tr>\n",
       "      <th>3</th>\n",
       "      <td>Wii Sports Resort</td>\n",
       "      <td>Wii</td>\n",
       "      <td>2009.0</td>\n",
       "      <td>Sports</td>\n",
       "      <td>15.61</td>\n",
       "      <td>10.93</td>\n",
       "      <td>3.28</td>\n",
       "      <td>2.95</td>\n",
       "      <td>80.0</td>\n",
       "      <td>8</td>\n",
       "      <td>E</td>\n",
       "    </tr>\n",
       "    <tr>\n",
       "      <th>4</th>\n",
       "      <td>Pokemon Red/Pokemon Blue</td>\n",
       "      <td>GB</td>\n",
       "      <td>1996.0</td>\n",
       "      <td>Role-Playing</td>\n",
       "      <td>11.27</td>\n",
       "      <td>8.89</td>\n",
       "      <td>10.22</td>\n",
       "      <td>1.00</td>\n",
       "      <td>NaN</td>\n",
       "      <td>NaN</td>\n",
       "      <td>NaN</td>\n",
       "    </tr>\n",
       "  </tbody>\n",
       "</table>\n",
       "</div>"
      ],
      "text/plain": [
       "                       Name Platform  Year_of_Release         Genre  NA_sales  \\\n",
       "0                Wii Sports      Wii           2006.0        Sports     41.36   \n",
       "1         Super Mario Bros.      NES           1985.0      Platform     29.08   \n",
       "2            Mario Kart Wii      Wii           2008.0        Racing     15.68   \n",
       "3         Wii Sports Resort      Wii           2009.0        Sports     15.61   \n",
       "4  Pokemon Red/Pokemon Blue       GB           1996.0  Role-Playing     11.27   \n",
       "\n",
       "   EU_sales  JP_sales  Other_sales  Critic_Score User_Score Rating  \n",
       "0     28.96      3.77         8.45          76.0          8      E  \n",
       "1      3.58      6.81         0.77           NaN        NaN    NaN  \n",
       "2     12.76      3.79         3.29          82.0        8.3      E  \n",
       "3     10.93      3.28         2.95          80.0          8      E  \n",
       "4      8.89     10.22         1.00           NaN        NaN    NaN  "
      ]
     },
     "execution_count": 4,
     "metadata": {},
     "output_type": "execute_result"
    }
   ],
   "source": [
    "games_data.head()"
   ]
  },
  {
   "cell_type": "markdown",
   "metadata": {},
   "source": [
    "Сохраним размерность датасета до фильтрации"
   ]
  },
  {
   "cell_type": "code",
   "execution_count": 5,
   "metadata": {},
   "outputs": [
    {
     "name": "stdout",
     "output_type": "stream",
     "text": [
      "Изначальная размерность (16715, 11)\n"
     ]
    }
   ],
   "source": [
    "data_shape = games_data.shape\n",
    "print(\"Изначальная размерность\", data_shape)"
   ]
  },
  {
   "cell_type": "markdown",
   "metadata": {},
   "source": [
    "## Шаг 2. Подготовим данные"
   ]
  },
  {
   "cell_type": "markdown",
   "metadata": {},
   "source": [
    "### Заменим названия столбцов (приведем к нижнему регистру);"
   ]
  },
  {
   "cell_type": "code",
   "execution_count": 6,
   "metadata": {},
   "outputs": [
    {
     "data": {
      "text/html": [
       "<div>\n",
       "<style scoped>\n",
       "    .dataframe tbody tr th:only-of-type {\n",
       "        vertical-align: middle;\n",
       "    }\n",
       "\n",
       "    .dataframe tbody tr th {\n",
       "        vertical-align: top;\n",
       "    }\n",
       "\n",
       "    .dataframe thead th {\n",
       "        text-align: right;\n",
       "    }\n",
       "</style>\n",
       "<table border=\"1\" class=\"dataframe\">\n",
       "  <thead>\n",
       "    <tr style=\"text-align: right;\">\n",
       "      <th></th>\n",
       "      <th>name</th>\n",
       "      <th>platform</th>\n",
       "      <th>year_of_release</th>\n",
       "      <th>genre</th>\n",
       "      <th>na_sales</th>\n",
       "      <th>eu_sales</th>\n",
       "      <th>jp_sales</th>\n",
       "      <th>other_sales</th>\n",
       "      <th>critic_score</th>\n",
       "      <th>user_score</th>\n",
       "      <th>rating</th>\n",
       "    </tr>\n",
       "  </thead>\n",
       "  <tbody>\n",
       "    <tr>\n",
       "      <th>0</th>\n",
       "      <td>Wii Sports</td>\n",
       "      <td>Wii</td>\n",
       "      <td>2006.0</td>\n",
       "      <td>Sports</td>\n",
       "      <td>41.36</td>\n",
       "      <td>28.96</td>\n",
       "      <td>3.77</td>\n",
       "      <td>8.45</td>\n",
       "      <td>76.0</td>\n",
       "      <td>8</td>\n",
       "      <td>E</td>\n",
       "    </tr>\n",
       "    <tr>\n",
       "      <th>1</th>\n",
       "      <td>Super Mario Bros.</td>\n",
       "      <td>NES</td>\n",
       "      <td>1985.0</td>\n",
       "      <td>Platform</td>\n",
       "      <td>29.08</td>\n",
       "      <td>3.58</td>\n",
       "      <td>6.81</td>\n",
       "      <td>0.77</td>\n",
       "      <td>NaN</td>\n",
       "      <td>NaN</td>\n",
       "      <td>NaN</td>\n",
       "    </tr>\n",
       "    <tr>\n",
       "      <th>2</th>\n",
       "      <td>Mario Kart Wii</td>\n",
       "      <td>Wii</td>\n",
       "      <td>2008.0</td>\n",
       "      <td>Racing</td>\n",
       "      <td>15.68</td>\n",
       "      <td>12.76</td>\n",
       "      <td>3.79</td>\n",
       "      <td>3.29</td>\n",
       "      <td>82.0</td>\n",
       "      <td>8.3</td>\n",
       "      <td>E</td>\n",
       "    </tr>\n",
       "    <tr>\n",
       "      <th>3</th>\n",
       "      <td>Wii Sports Resort</td>\n",
       "      <td>Wii</td>\n",
       "      <td>2009.0</td>\n",
       "      <td>Sports</td>\n",
       "      <td>15.61</td>\n",
       "      <td>10.93</td>\n",
       "      <td>3.28</td>\n",
       "      <td>2.95</td>\n",
       "      <td>80.0</td>\n",
       "      <td>8</td>\n",
       "      <td>E</td>\n",
       "    </tr>\n",
       "    <tr>\n",
       "      <th>4</th>\n",
       "      <td>Pokemon Red/Pokemon Blue</td>\n",
       "      <td>GB</td>\n",
       "      <td>1996.0</td>\n",
       "      <td>Role-Playing</td>\n",
       "      <td>11.27</td>\n",
       "      <td>8.89</td>\n",
       "      <td>10.22</td>\n",
       "      <td>1.00</td>\n",
       "      <td>NaN</td>\n",
       "      <td>NaN</td>\n",
       "      <td>NaN</td>\n",
       "    </tr>\n",
       "    <tr>\n",
       "      <th>5</th>\n",
       "      <td>Tetris</td>\n",
       "      <td>GB</td>\n",
       "      <td>1989.0</td>\n",
       "      <td>Puzzle</td>\n",
       "      <td>23.20</td>\n",
       "      <td>2.26</td>\n",
       "      <td>4.22</td>\n",
       "      <td>0.58</td>\n",
       "      <td>NaN</td>\n",
       "      <td>NaN</td>\n",
       "      <td>NaN</td>\n",
       "    </tr>\n",
       "    <tr>\n",
       "      <th>6</th>\n",
       "      <td>New Super Mario Bros.</td>\n",
       "      <td>DS</td>\n",
       "      <td>2006.0</td>\n",
       "      <td>Platform</td>\n",
       "      <td>11.28</td>\n",
       "      <td>9.14</td>\n",
       "      <td>6.50</td>\n",
       "      <td>2.88</td>\n",
       "      <td>89.0</td>\n",
       "      <td>8.5</td>\n",
       "      <td>E</td>\n",
       "    </tr>\n",
       "    <tr>\n",
       "      <th>7</th>\n",
       "      <td>Wii Play</td>\n",
       "      <td>Wii</td>\n",
       "      <td>2006.0</td>\n",
       "      <td>Misc</td>\n",
       "      <td>13.96</td>\n",
       "      <td>9.18</td>\n",
       "      <td>2.93</td>\n",
       "      <td>2.84</td>\n",
       "      <td>58.0</td>\n",
       "      <td>6.6</td>\n",
       "      <td>E</td>\n",
       "    </tr>\n",
       "    <tr>\n",
       "      <th>8</th>\n",
       "      <td>New Super Mario Bros. Wii</td>\n",
       "      <td>Wii</td>\n",
       "      <td>2009.0</td>\n",
       "      <td>Platform</td>\n",
       "      <td>14.44</td>\n",
       "      <td>6.94</td>\n",
       "      <td>4.70</td>\n",
       "      <td>2.24</td>\n",
       "      <td>87.0</td>\n",
       "      <td>8.4</td>\n",
       "      <td>E</td>\n",
       "    </tr>\n",
       "    <tr>\n",
       "      <th>9</th>\n",
       "      <td>Duck Hunt</td>\n",
       "      <td>NES</td>\n",
       "      <td>1984.0</td>\n",
       "      <td>Shooter</td>\n",
       "      <td>26.93</td>\n",
       "      <td>0.63</td>\n",
       "      <td>0.28</td>\n",
       "      <td>0.47</td>\n",
       "      <td>NaN</td>\n",
       "      <td>NaN</td>\n",
       "      <td>NaN</td>\n",
       "    </tr>\n",
       "    <tr>\n",
       "      <th>10</th>\n",
       "      <td>Nintendogs</td>\n",
       "      <td>DS</td>\n",
       "      <td>2005.0</td>\n",
       "      <td>Simulation</td>\n",
       "      <td>9.05</td>\n",
       "      <td>10.95</td>\n",
       "      <td>1.93</td>\n",
       "      <td>2.74</td>\n",
       "      <td>NaN</td>\n",
       "      <td>NaN</td>\n",
       "      <td>NaN</td>\n",
       "    </tr>\n",
       "    <tr>\n",
       "      <th>11</th>\n",
       "      <td>Mario Kart DS</td>\n",
       "      <td>DS</td>\n",
       "      <td>2005.0</td>\n",
       "      <td>Racing</td>\n",
       "      <td>9.71</td>\n",
       "      <td>7.47</td>\n",
       "      <td>4.13</td>\n",
       "      <td>1.90</td>\n",
       "      <td>91.0</td>\n",
       "      <td>8.6</td>\n",
       "      <td>E</td>\n",
       "    </tr>\n",
       "    <tr>\n",
       "      <th>12</th>\n",
       "      <td>Pokemon Gold/Pokemon Silver</td>\n",
       "      <td>GB</td>\n",
       "      <td>1999.0</td>\n",
       "      <td>Role-Playing</td>\n",
       "      <td>9.00</td>\n",
       "      <td>6.18</td>\n",
       "      <td>7.20</td>\n",
       "      <td>0.71</td>\n",
       "      <td>NaN</td>\n",
       "      <td>NaN</td>\n",
       "      <td>NaN</td>\n",
       "    </tr>\n",
       "    <tr>\n",
       "      <th>13</th>\n",
       "      <td>Wii Fit</td>\n",
       "      <td>Wii</td>\n",
       "      <td>2007.0</td>\n",
       "      <td>Sports</td>\n",
       "      <td>8.92</td>\n",
       "      <td>8.03</td>\n",
       "      <td>3.60</td>\n",
       "      <td>2.15</td>\n",
       "      <td>80.0</td>\n",
       "      <td>7.7</td>\n",
       "      <td>E</td>\n",
       "    </tr>\n",
       "    <tr>\n",
       "      <th>14</th>\n",
       "      <td>Kinect Adventures!</td>\n",
       "      <td>X360</td>\n",
       "      <td>2010.0</td>\n",
       "      <td>Misc</td>\n",
       "      <td>15.00</td>\n",
       "      <td>4.89</td>\n",
       "      <td>0.24</td>\n",
       "      <td>1.69</td>\n",
       "      <td>61.0</td>\n",
       "      <td>6.3</td>\n",
       "      <td>E</td>\n",
       "    </tr>\n",
       "  </tbody>\n",
       "</table>\n",
       "</div>"
      ],
      "text/plain": [
       "                           name platform  year_of_release         genre  \\\n",
       "0                    Wii Sports      Wii           2006.0        Sports   \n",
       "1             Super Mario Bros.      NES           1985.0      Platform   \n",
       "2                Mario Kart Wii      Wii           2008.0        Racing   \n",
       "3             Wii Sports Resort      Wii           2009.0        Sports   \n",
       "4      Pokemon Red/Pokemon Blue       GB           1996.0  Role-Playing   \n",
       "5                        Tetris       GB           1989.0        Puzzle   \n",
       "6         New Super Mario Bros.       DS           2006.0      Platform   \n",
       "7                      Wii Play      Wii           2006.0          Misc   \n",
       "8     New Super Mario Bros. Wii      Wii           2009.0      Platform   \n",
       "9                     Duck Hunt      NES           1984.0       Shooter   \n",
       "10                   Nintendogs       DS           2005.0    Simulation   \n",
       "11                Mario Kart DS       DS           2005.0        Racing   \n",
       "12  Pokemon Gold/Pokemon Silver       GB           1999.0  Role-Playing   \n",
       "13                      Wii Fit      Wii           2007.0        Sports   \n",
       "14           Kinect Adventures!     X360           2010.0          Misc   \n",
       "\n",
       "    na_sales  eu_sales  jp_sales  other_sales  critic_score user_score rating  \n",
       "0      41.36     28.96      3.77         8.45          76.0          8      E  \n",
       "1      29.08      3.58      6.81         0.77           NaN        NaN    NaN  \n",
       "2      15.68     12.76      3.79         3.29          82.0        8.3      E  \n",
       "3      15.61     10.93      3.28         2.95          80.0          8      E  \n",
       "4      11.27      8.89     10.22         1.00           NaN        NaN    NaN  \n",
       "5      23.20      2.26      4.22         0.58           NaN        NaN    NaN  \n",
       "6      11.28      9.14      6.50         2.88          89.0        8.5      E  \n",
       "7      13.96      9.18      2.93         2.84          58.0        6.6      E  \n",
       "8      14.44      6.94      4.70         2.24          87.0        8.4      E  \n",
       "9      26.93      0.63      0.28         0.47           NaN        NaN    NaN  \n",
       "10      9.05     10.95      1.93         2.74           NaN        NaN    NaN  \n",
       "11      9.71      7.47      4.13         1.90          91.0        8.6      E  \n",
       "12      9.00      6.18      7.20         0.71           NaN        NaN    NaN  \n",
       "13      8.92      8.03      3.60         2.15          80.0        7.7      E  \n",
       "14     15.00      4.89      0.24         1.69          61.0        6.3      E  "
      ]
     },
     "execution_count": 6,
     "metadata": {},
     "output_type": "execute_result"
    }
   ],
   "source": [
    "games_data.columns = games_data.columns.str.lower()\n",
    "games_data.head(15)"
   ]
  },
  {
   "cell_type": "markdown",
   "metadata": {},
   "source": [
    "### Преобразуем данные в нужные типы."
   ]
  },
  {
   "cell_type": "markdown",
   "metadata": {},
   "source": [
    "Столбец \"year_of_release\" приведем к целочисленному типу, т.к. год не имеет смысла в виде дробного числа:"
   ]
  },
  {
   "cell_type": "code",
   "execution_count": 7,
   "metadata": {},
   "outputs": [
    {
     "data": {
      "text/plain": [
       "dtype('int32')"
      ]
     },
     "execution_count": 7,
     "metadata": {},
     "output_type": "execute_result"
    }
   ],
   "source": [
    "#games_data['year_of_release'] = games_data['year_of_release'].astype('Int64')\n",
    "games_data = games_data.dropna(subset=['year_of_release'])\n",
    "games_data['year_of_release'] = games_data['year_of_release'].astype('int32')\n",
    "games_data['year_of_release'].dtype"
   ]
  },
  {
   "cell_type": "markdown",
   "metadata": {},
   "source": [
    "Приведем столбец \"user_score\" к типу float. Но прежде, посмотрим уникальные значения:"
   ]
  },
  {
   "cell_type": "code",
   "execution_count": 8,
   "metadata": {},
   "outputs": [
    {
     "data": {
      "text/plain": [
       "array(['8', nan, '8.3', '8.5', '6.6', '8.4', '8.6', '7.7', '6.3', '7.4',\n",
       "       '8.2', '9', '7.9', '8.1', '8.7', '7.1', '3.4', '5.3', '4.8', '3.2',\n",
       "       '8.9', '6.4', '7.8', '7.5', '2.6', '7.2', '9.2', '7', '7.3', '4.3',\n",
       "       '7.6', '5.7', '5', '9.1', '6.5', 'tbd', '8.8', '6.9', '9.4', '6.8',\n",
       "       '6.1', '6.7', '5.4', '4', '4.9', '4.5', '9.3', '6.2', '4.2', '6',\n",
       "       '3.7', '4.1', '5.8', '5.6', '5.5', '4.4', '4.6', '5.9', '3.9',\n",
       "       '3.1', '2.9', '5.2', '3.3', '4.7', '5.1', '3.5', '2.5', '1.9', '3',\n",
       "       '2.7', '2.2', '2', '9.5', '2.1', '3.6', '2.8', '1.8', '3.8', '0',\n",
       "       '1.6', '9.6', '2.4', '1.7', '1.1', '0.3', '1.5', '0.7', '1.2',\n",
       "       '2.3', '0.5', '1.3', '0.2', '0.6', '1.4', '0.9', '1', '9.7'],\n",
       "      dtype=object)"
      ]
     },
     "execution_count": 8,
     "metadata": {},
     "output_type": "execute_result"
    }
   ],
   "source": [
    "games_data['user_score'].unique()"
   ]
  },
  {
   "cell_type": "markdown",
   "metadata": {},
   "source": [
    "В столбце, помимо числовых значений, присутсвуют \"nan\" - для пропущенных значений, а так же \"tbd\", что скорей всего обозначает \"to be determined\" — то есть оценку еще не определили. Чтобы у нас не возникло проблем с преобразованием, воспользуемся методом \"to_numeric\", с параметром ошибок \"coerce\". Так мы автоматически преобразуем все нечисловые значения в NaN."
   ]
  },
  {
   "cell_type": "code",
   "execution_count": 9,
   "metadata": {},
   "outputs": [
    {
     "data": {
      "text/plain": [
       "dtype('float64')"
      ]
     },
     "execution_count": 9,
     "metadata": {},
     "output_type": "execute_result"
    }
   ],
   "source": [
    "games_data['user_score'] = pd.to_numeric(games_data['user_score'].replace('tbd', None), errors='coerce')\n",
    "games_data['user_score'].dtype"
   ]
  },
  {
   "cell_type": "markdown",
   "metadata": {},
   "source": [
    "### Обработаем пропуски:"
   ]
  },
  {
   "cell_type": "code",
   "execution_count": 10,
   "metadata": {},
   "outputs": [
    {
     "data": {
      "text/plain": [
       "name                  2\n",
       "platform              0\n",
       "year_of_release       0\n",
       "genre                 2\n",
       "na_sales              0\n",
       "eu_sales              0\n",
       "jp_sales              0\n",
       "other_sales           0\n",
       "critic_score       8463\n",
       "user_score         7836\n",
       "rating             6678\n",
       "dtype: int64"
      ]
     },
     "execution_count": 10,
     "metadata": {},
     "output_type": "execute_result"
    }
   ],
   "source": [
    "games_data.isnull().sum()"
   ]
  },
  {
   "cell_type": "markdown",
   "metadata": {},
   "source": [
    "<b>Визуализируем:"
   ]
  },
  {
   "cell_type": "code",
   "execution_count": 11,
   "metadata": {},
   "outputs": [
    {
     "data": {
      "image/png": "[encoded data removed]",
      "text/plain": [
       "<Figure size 720x432 with 1 Axes>"
      ]
     },
     "metadata": {
      "needs_background": "light"
     },
     "output_type": "display_data"
    }
   ],
   "source": [
    "plt.figure(figsize=(10, 6))\n",
    "sb.heatmap(games_data.isnull(), cbar=False, cmap=\"viridis\")\n",
    "plt.title(\"Тепловая карта пропусков в данных\")\n",
    "plt.show()"
   ]
  },
  {
   "cell_type": "markdown",
   "metadata": {},
   "source": [
    "Удалим пропуски в столбцах, в которых невозможно восполнить значения логически. А именно в: \"name\", \"year_of_release\", \"genre\""
   ]
  },
  {
   "cell_type": "code",
   "execution_count": 12,
   "metadata": {},
   "outputs": [
    {
     "data": {
      "text/plain": [
       "name               0\n",
       "year_of_release    0\n",
       "genre              0\n",
       "dtype: int64"
      ]
     },
     "execution_count": 12,
     "metadata": {},
     "output_type": "execute_result"
    }
   ],
   "source": [
    "games_data = games_data.dropna(subset = ['name']).reset_index(drop=True)\n",
    "games_data = games_data.dropna(subset = ['year_of_release']).reset_index(drop=True)\n",
    "games_data = games_data.dropna(subset = ['genre']).reset_index(drop=True)\n",
    "games_data[['name', 'year_of_release', 'genre']].isnull().sum()"
   ]
  },
  {
   "cell_type": "markdown",
   "metadata": {},
   "source": [
    "Причин для пропусков в столбцах \"critic_score\", \"user_score\" и \"rating\" может быть несколько.\n",
    "- Менее известные, низкобюджетные игры  могут не получать достаточного внимания со стороны критиков и игроков. \n",
    "- Релиз исключительно в определенных регионах, где меньшее количество критиков, особенно в случае нишевых продуктов или игр, предназначенных для специфической аудитории. \n",
    "- Год релиза. Возможно, рецензенты не брались возвращаться к оценке старых игр, поэтому они и числятся без оценок и рейтинга.\n",
    "- Релиз на непопулярных платформах.\n",
    "- Технические причины."
   ]
  },
  {
   "cell_type": "markdown",
   "metadata": {},
   "source": [
    "Предлагаю пока оставить пропуски."
   ]
  },
  {
   "cell_type": "markdown",
   "metadata": {},
   "source": [
    "### Посчитаем суммарные продажи во всех регионах и запишем их в отдельный столбец."
   ]
  },
  {
   "cell_type": "code",
   "execution_count": 13,
   "metadata": {},
   "outputs": [
    {
     "data": {
      "text/html": [
       "<div>\n",
       "<style scoped>\n",
       "    .dataframe tbody tr th:only-of-type {\n",
       "        vertical-align: middle;\n",
       "    }\n",
       "\n",
       "    .dataframe tbody tr th {\n",
       "        vertical-align: top;\n",
       "    }\n",
       "\n",
       "    .dataframe thead th {\n",
       "        text-align: right;\n",
       "    }\n",
       "</style>\n",
       "<table border=\"1\" class=\"dataframe\">\n",
       "  <thead>\n",
       "    <tr style=\"text-align: right;\">\n",
       "      <th></th>\n",
       "      <th>name</th>\n",
       "      <th>platform</th>\n",
       "      <th>year_of_release</th>\n",
       "      <th>genre</th>\n",
       "      <th>na_sales</th>\n",
       "      <th>eu_sales</th>\n",
       "      <th>jp_sales</th>\n",
       "      <th>other_sales</th>\n",
       "      <th>critic_score</th>\n",
       "      <th>user_score</th>\n",
       "      <th>rating</th>\n",
       "      <th>total_sales</th>\n",
       "    </tr>\n",
       "  </thead>\n",
       "  <tbody>\n",
       "    <tr>\n",
       "      <th>0</th>\n",
       "      <td>Wii Sports</td>\n",
       "      <td>Wii</td>\n",
       "      <td>2006</td>\n",
       "      <td>Sports</td>\n",
       "      <td>41.36</td>\n",
       "      <td>28.96</td>\n",
       "      <td>3.77</td>\n",
       "      <td>8.45</td>\n",
       "      <td>76.0</td>\n",
       "      <td>8.0</td>\n",
       "      <td>E</td>\n",
       "      <td>74.09</td>\n",
       "    </tr>\n",
       "    <tr>\n",
       "      <th>1</th>\n",
       "      <td>Super Mario Bros.</td>\n",
       "      <td>NES</td>\n",
       "      <td>1985</td>\n",
       "      <td>Platform</td>\n",
       "      <td>29.08</td>\n",
       "      <td>3.58</td>\n",
       "      <td>6.81</td>\n",
       "      <td>0.77</td>\n",
       "      <td>NaN</td>\n",
       "      <td>NaN</td>\n",
       "      <td>NaN</td>\n",
       "      <td>39.47</td>\n",
       "    </tr>\n",
       "    <tr>\n",
       "      <th>2</th>\n",
       "      <td>Mario Kart Wii</td>\n",
       "      <td>Wii</td>\n",
       "      <td>2008</td>\n",
       "      <td>Racing</td>\n",
       "      <td>15.68</td>\n",
       "      <td>12.76</td>\n",
       "      <td>3.79</td>\n",
       "      <td>3.29</td>\n",
       "      <td>82.0</td>\n",
       "      <td>8.3</td>\n",
       "      <td>E</td>\n",
       "      <td>32.23</td>\n",
       "    </tr>\n",
       "    <tr>\n",
       "      <th>3</th>\n",
       "      <td>Wii Sports Resort</td>\n",
       "      <td>Wii</td>\n",
       "      <td>2009</td>\n",
       "      <td>Sports</td>\n",
       "      <td>15.61</td>\n",
       "      <td>10.93</td>\n",
       "      <td>3.28</td>\n",
       "      <td>2.95</td>\n",
       "      <td>80.0</td>\n",
       "      <td>8.0</td>\n",
       "      <td>E</td>\n",
       "      <td>29.82</td>\n",
       "    </tr>\n",
       "    <tr>\n",
       "      <th>4</th>\n",
       "      <td>Pokemon Red/Pokemon Blue</td>\n",
       "      <td>GB</td>\n",
       "      <td>1996</td>\n",
       "      <td>Role-Playing</td>\n",
       "      <td>11.27</td>\n",
       "      <td>8.89</td>\n",
       "      <td>10.22</td>\n",
       "      <td>1.00</td>\n",
       "      <td>NaN</td>\n",
       "      <td>NaN</td>\n",
       "      <td>NaN</td>\n",
       "      <td>30.38</td>\n",
       "    </tr>\n",
       "  </tbody>\n",
       "</table>\n",
       "</div>"
      ],
      "text/plain": [
       "                       name platform  year_of_release         genre  na_sales  \\\n",
       "0                Wii Sports      Wii             2006        Sports     41.36   \n",
       "1         Super Mario Bros.      NES             1985      Platform     29.08   \n",
       "2            Mario Kart Wii      Wii             2008        Racing     15.68   \n",
       "3         Wii Sports Resort      Wii             2009        Sports     15.61   \n",
       "4  Pokemon Red/Pokemon Blue       GB             1996  Role-Playing     11.27   \n",
       "\n",
       "   eu_sales  jp_sales  other_sales  critic_score  user_score rating  \\\n",
       "0     28.96      3.77         8.45          76.0         8.0      E   \n",
       "1      3.58      6.81         0.77           NaN         NaN    NaN   \n",
       "2     12.76      3.79         3.29          82.0         8.3      E   \n",
       "3     10.93      3.28         2.95          80.0         8.0      E   \n",
       "4      8.89     10.22         1.00           NaN         NaN    NaN   \n",
       "\n",
       "   total_sales  \n",
       "0        74.09  \n",
       "1        39.47  \n",
       "2        32.23  \n",
       "3        29.82  \n",
       "4        30.38  "
      ]
     },
     "execution_count": 13,
     "metadata": {},
     "output_type": "execute_result"
    }
   ],
   "source": [
    "#games_data['total_sales'] = games_data['na_sales'] + games_data['eu_sales'] + games_data['jp_sales'] + games_data['other_sales']\n",
    "games_data['total_sales'] = games_data[['na_sales', 'eu_sales', 'jp_sales']].sum(axis=1)\n",
    "games_data.head()"
   ]
  },
  {
   "cell_type": "markdown",
   "metadata": {},
   "source": [
    "<b>Промежуточный итог:</b>\n",
    "- Заменили названия столбцов для последующего удобства.\n",
    "- Изменили типы в столбцах \"year_of_release\" и \"user_score\" на целочисленный и вещественное число соответственно.\n",
    "- Разобрались с пропусками.\n",
    "- Добавили новый столбец с суммарными продажами."
   ]
  },
  {
   "cell_type": "markdown",
   "metadata": {},
   "source": [
    "## Шаг 3. Проведем исследовательский анализ данных"
   ]
  },
  {
   "cell_type": "markdown",
   "metadata": {},
   "source": [
    "### Посмотрим, сколько игр выпускалось в разные годы. Важны ли данные за все периоды?"
   ]
  },
  {
   "cell_type": "code",
   "execution_count": 14,
   "metadata": {},
   "outputs": [
    {
     "data": {
      "image/png": "[encoded data removed]",
      "text/plain": [
       "<Figure size 1008x432 with 1 Axes>"
      ]
     },
     "metadata": {
      "needs_background": "light"
     },
     "output_type": "display_data"
    }
   ],
   "source": [
    "# Кол-во выпущенных игр по годам\n",
    "games_per_year =  games_data['year_of_release'].value_counts().sort_index()\n",
    "\n",
    "# Визуализируем, для наглядности\n",
    "games_per_year.plot(\n",
    "    kind = 'bar',\n",
    "    title = 'Количество игр, выпущенных по годам',\n",
    "    grid = True,\n",
    "    xlabel = 'Год выпуска',\n",
    "    ylabel = 'Количество игр',\n",
    "    figsize = (14, 6)\n",
    ")\n",
    "plt.show()"
   ]
  },
  {
   "cell_type": "markdown",
   "metadata": {},
   "source": [
    "<p>Видно, что количество игр начало стремительно расти с середины 90-х годов, достигнув пика в конце 2000-х на отметке около 1400 игр, а затем начало снижаться.</p>\n",
    "\n",
    "<p>В период с 2013 по 2016 годы количество выпущенных игр находится на высоком уровне, несмотря на небольшое снижение к концу этого периода. Этот период отражает текущие тренды и может быть наиболее полезен для анализа.\n",
    "Таким образом, наиболее актуальным периодом для анализа я бы предложил выбрать период с 2013 по 2016 годы. Это позволит нам сосредоточиться на современных тенденциях в игровой индустрии и получить более точные прогнозы на 2017 год.</p>"
   ]
  },
  {
   "cell_type": "markdown",
   "metadata": {},
   "source": [
    "### Посмотрим, как менялись продажи по платформам. Выберем платформы с наибольшими суммарными продажами и построим распределение по годам. За какой характерный срок появляются новые и исчезают старые платформы?"
   ]
  },
  {
   "cell_type": "markdown",
   "metadata": {},
   "source": [
    "Сгруппируем данные по платформам и посчитаем суммарные продажи для каждой:"
   ]
  },
  {
   "cell_type": "code",
   "execution_count": 15,
   "metadata": {},
   "outputs": [
    {
     "data": {
      "text/plain": [
       "platform\n",
       "PS2     1043.09\n",
       "X360     876.36\n",
       "Wii      813.47\n",
       "PS3      796.75\n",
       "DS       743.74\n",
       "PS       686.89\n",
       "GBA      305.27\n",
       "PS4      265.79\n",
       "PSP      248.77\n",
       "GB       246.27\n",
       "NES      245.74\n",
       "3DS      244.54\n",
       "XB       243.09\n",
       "PC       233.88\n",
       "N64      213.70\n",
       "SNES     196.82\n",
       "GC       191.60\n",
       "XOne     145.05\n",
       "2600      85.64\n",
       "WiiU      76.24\n",
       "PSV       47.38\n",
       "SAT       33.52\n",
       "GEN       27.46\n",
       "DC        15.68\n",
       "SCD        1.81\n",
       "NG         1.44\n",
       "WS         1.42\n",
       "TG16       0.16\n",
       "3DO        0.10\n",
       "GG         0.04\n",
       "PCFX       0.03\n",
       "Name: total_sales, dtype: float64"
      ]
     },
     "execution_count": 15,
     "metadata": {},
     "output_type": "execute_result"
    }
   ],
   "source": [
    "platform_sales = games_data.groupby('platform')['total_sales'].sum().sort_values(ascending=False)\n",
    "platform_sales"
   ]
  },
  {
   "cell_type": "markdown",
   "metadata": {},
   "source": [
    "Отберем платформы с наибольшими суммарными продажами. Пусть это будет топ 18:"
   ]
  },
  {
   "cell_type": "code",
   "execution_count": 16,
   "metadata": {},
   "outputs": [
    {
     "data": {
      "image/png": "[encoded data removed]",
      "text/plain": [
       "<Figure size 1008x432 with 1 Axes>"
      ]
     },
     "metadata": {
      "needs_background": "light"
     },
     "output_type": "display_data"
    }
   ],
   "source": [
    "# Топ 18 платформ\n",
    "top_platform_sales = platform_sales.head(18).index\n",
    "\n",
    "# Теперь построим распределение продаж по годам для этих платформ\n",
    "platform_yearly_sales = games_data[games_data['platform'].isin(top_platform_sales)].pivot_table(\n",
    "    index='year_of_release', columns='platform', values='total_sales', aggfunc='sum')\n",
    "\n",
    "# Визуализируем\n",
    "platform_yearly_sales.plot(\n",
    "    kind = 'line',\n",
    "    figsize = (14, 6),\n",
    "    marker = 'o',\n",
    "    title = 'Распределение продаж по годам для топ-18 платформ',\n",
    "    xlabel = 'Год выпуска',\n",
    "    ylabel = 'Суммарные продажи',\n",
    "    grid = True\n",
    ")\n",
    "\n",
    "plt.legend(title='Platform', bbox_to_anchor=(1.05, 1), loc='upper left') # Перемещаем легенду за пределы графика\n",
    "plt.show()"
   ]
  },
  {
   "cell_type": "markdown",
   "metadata": {},
   "source": [
    "- Playstation вырвался в лидеры еще начиная с 95го года и достиг пика в 98м. После чего, в 2000м году передал эстафету своему \"потомку\".\n",
    "- PlayStation 2 и Nintendo DS демонстрируют длительные периоды доминирования с высокими продажами, особенно в начале и середине 2000-х годов.\n",
    "- PlayStation 3, Xbox 360, и Wii достигают пика в продажах в период с 2006 по 2010 годы, после чего их популярность начинает снижаться.\n",
    "- Новые платформы, такие как PlayStation 4 и Xbox One, показывают рост, особенно ближе к концу периода. Поэтому целесообразно выбрать в качестве актуального периода тот, в котором старое поколение платформ сменяется новым.\n",
    "- Можем заметить, что большинство платформ имеют жизненный цикл около 10 лет, после чего продажи начинают снижаться."
   ]
  },
  {
   "cell_type": "markdown",
   "metadata": {},
   "source": [
    "### Возьмем данные за соответствующий актуальный период. "
   ]
  },
  {
   "cell_type": "markdown",
   "metadata": {},
   "source": [
    "Мы уже условились на том, что нашим актуальным периодом будет: 2013 - 2016 гг."
   ]
  },
  {
   "cell_type": "code",
   "execution_count": 17,
   "metadata": {},
   "outputs": [
    {
     "data": {
      "text/html": [
       "<div>\n",
       "<style scoped>\n",
       "    .dataframe tbody tr th:only-of-type {\n",
       "        vertical-align: middle;\n",
       "    }\n",
       "\n",
       "    .dataframe tbody tr th {\n",
       "        vertical-align: top;\n",
       "    }\n",
       "\n",
       "    .dataframe thead th {\n",
       "        text-align: right;\n",
       "    }\n",
       "</style>\n",
       "<table border=\"1\" class=\"dataframe\">\n",
       "  <thead>\n",
       "    <tr style=\"text-align: right;\">\n",
       "      <th></th>\n",
       "      <th>name</th>\n",
       "      <th>platform</th>\n",
       "      <th>year_of_release</th>\n",
       "      <th>genre</th>\n",
       "      <th>na_sales</th>\n",
       "      <th>eu_sales</th>\n",
       "      <th>jp_sales</th>\n",
       "      <th>other_sales</th>\n",
       "      <th>critic_score</th>\n",
       "      <th>user_score</th>\n",
       "      <th>rating</th>\n",
       "      <th>total_sales</th>\n",
       "    </tr>\n",
       "  </thead>\n",
       "  <tbody>\n",
       "    <tr>\n",
       "      <th>0</th>\n",
       "      <td>Grand Theft Auto V</td>\n",
       "      <td>PS3</td>\n",
       "      <td>2013</td>\n",
       "      <td>Action</td>\n",
       "      <td>7.02</td>\n",
       "      <td>9.09</td>\n",
       "      <td>0.98</td>\n",
       "      <td>3.96</td>\n",
       "      <td>97.0</td>\n",
       "      <td>8.2</td>\n",
       "      <td>M</td>\n",
       "      <td>17.09</td>\n",
       "    </tr>\n",
       "    <tr>\n",
       "      <th>1</th>\n",
       "      <td>Grand Theft Auto V</td>\n",
       "      <td>X360</td>\n",
       "      <td>2013</td>\n",
       "      <td>Action</td>\n",
       "      <td>9.66</td>\n",
       "      <td>5.14</td>\n",
       "      <td>0.06</td>\n",
       "      <td>1.41</td>\n",
       "      <td>97.0</td>\n",
       "      <td>8.1</td>\n",
       "      <td>M</td>\n",
       "      <td>14.86</td>\n",
       "    </tr>\n",
       "    <tr>\n",
       "      <th>2</th>\n",
       "      <td>Call of Duty: Black Ops 3</td>\n",
       "      <td>PS4</td>\n",
       "      <td>2015</td>\n",
       "      <td>Shooter</td>\n",
       "      <td>6.03</td>\n",
       "      <td>5.86</td>\n",
       "      <td>0.36</td>\n",
       "      <td>2.38</td>\n",
       "      <td>NaN</td>\n",
       "      <td>NaN</td>\n",
       "      <td>NaN</td>\n",
       "      <td>12.25</td>\n",
       "    </tr>\n",
       "    <tr>\n",
       "      <th>3</th>\n",
       "      <td>Pokemon X/Pokemon Y</td>\n",
       "      <td>3DS</td>\n",
       "      <td>2013</td>\n",
       "      <td>Role-Playing</td>\n",
       "      <td>5.28</td>\n",
       "      <td>4.19</td>\n",
       "      <td>4.35</td>\n",
       "      <td>0.78</td>\n",
       "      <td>NaN</td>\n",
       "      <td>NaN</td>\n",
       "      <td>NaN</td>\n",
       "      <td>13.82</td>\n",
       "    </tr>\n",
       "    <tr>\n",
       "      <th>4</th>\n",
       "      <td>Grand Theft Auto V</td>\n",
       "      <td>PS4</td>\n",
       "      <td>2014</td>\n",
       "      <td>Action</td>\n",
       "      <td>3.96</td>\n",
       "      <td>6.31</td>\n",
       "      <td>0.38</td>\n",
       "      <td>1.97</td>\n",
       "      <td>97.0</td>\n",
       "      <td>8.3</td>\n",
       "      <td>M</td>\n",
       "      <td>10.65</td>\n",
       "    </tr>\n",
       "  </tbody>\n",
       "</table>\n",
       "</div>"
      ],
      "text/plain": [
       "                        name platform  year_of_release         genre  \\\n",
       "0         Grand Theft Auto V      PS3             2013        Action   \n",
       "1         Grand Theft Auto V     X360             2013        Action   \n",
       "2  Call of Duty: Black Ops 3      PS4             2015       Shooter   \n",
       "3        Pokemon X/Pokemon Y      3DS             2013  Role-Playing   \n",
       "4         Grand Theft Auto V      PS4             2014        Action   \n",
       "\n",
       "   na_sales  eu_sales  jp_sales  other_sales  critic_score  user_score rating  \\\n",
       "0      7.02      9.09      0.98         3.96          97.0         8.2      M   \n",
       "1      9.66      5.14      0.06         1.41          97.0         8.1      M   \n",
       "2      6.03      5.86      0.36         2.38           NaN         NaN    NaN   \n",
       "3      5.28      4.19      4.35         0.78           NaN         NaN    NaN   \n",
       "4      3.96      6.31      0.38         1.97          97.0         8.3      M   \n",
       "\n",
       "   total_sales  \n",
       "0        17.09  \n",
       "1        14.86  \n",
       "2        12.25  \n",
       "3        13.82  \n",
       "4        10.65  "
      ]
     },
     "execution_count": 17,
     "metadata": {},
     "output_type": "execute_result"
    }
   ],
   "source": [
    "#actual_data = games_data.query('year_of_release >= 2009').reset_index(drop=True)\n",
    "actual_data = games_data.query('year_of_release >= 2013').reset_index(drop=True)\n",
    "actual_data.head()"
   ]
  },
  {
   "cell_type": "markdown",
   "metadata": {},
   "source": [
    "### Какие платформы лидируют по продажам, растут или падают? Выберем несколько потенциально прибыльных платформ."
   ]
  },
  {
   "cell_type": "code",
   "execution_count": 18,
   "metadata": {},
   "outputs": [
    {
     "data": {
      "image/png": "[encoded data removed]",
      "text/plain": [
       "<Figure size 720x432 with 1 Axes>"
      ]
     },
     "metadata": {
      "needs_background": "light"
     },
     "output_type": "display_data"
    }
   ],
   "source": [
    "platform_sales_actual = actual_data.groupby('platform')['total_sales'].sum().sort_values(ascending=False)\n",
    "platform_sales_actual\n",
    "\n",
    "# Визуализируем суммарные продажи по платформам\n",
    "plt.figure(figsize=(10, 6))\n",
    "platform_sales_actual.plot(\n",
    "    kind = 'bar', \n",
    "    title = 'Суммарные продажи по платформам',\n",
    "    xlabel = 'Суммарные продажи (млн)',\n",
    "    ylabel = 'Платформа',\n",
    "    grid = True\n",
    ")\n",
    "plt.show()"
   ]
  },
  {
   "cell_type": "markdown",
   "metadata": {},
   "source": [
    "Сопоставив текущие объемы продаж с трендами роста и жизненным циклом платформы, я бы рассматривал PS4, XOne и 3DS, как потенциально прибыльные."
   ]
  },
  {
   "cell_type": "markdown",
   "metadata": {},
   "source": [
    "### Построим график «ящик с усами» по глобальным продажам игр в разбивке по платформам."
   ]
  },
  {
   "cell_type": "code",
   "execution_count": 19,
   "metadata": {},
   "outputs": [
    {
     "data": {
      "text/html": [
       "<div>\n",
       "<style scoped>\n",
       "    .dataframe tbody tr th:only-of-type {\n",
       "        vertical-align: middle;\n",
       "    }\n",
       "\n",
       "    .dataframe tbody tr th {\n",
       "        vertical-align: top;\n",
       "    }\n",
       "\n",
       "    .dataframe thead th {\n",
       "        text-align: right;\n",
       "    }\n",
       "</style>\n",
       "<table border=\"1\" class=\"dataframe\">\n",
       "  <thead>\n",
       "    <tr style=\"text-align: right;\">\n",
       "      <th></th>\n",
       "      <th>count</th>\n",
       "      <th>mean</th>\n",
       "      <th>std</th>\n",
       "      <th>min</th>\n",
       "      <th>25%</th>\n",
       "      <th>50%</th>\n",
       "      <th>75%</th>\n",
       "      <th>max</th>\n",
       "    </tr>\n",
       "    <tr>\n",
       "      <th>platform</th>\n",
       "      <th></th>\n",
       "      <th></th>\n",
       "      <th></th>\n",
       "      <th></th>\n",
       "      <th></th>\n",
       "      <th></th>\n",
       "      <th></th>\n",
       "      <th></th>\n",
       "    </tr>\n",
       "  </thead>\n",
       "  <tbody>\n",
       "    <tr>\n",
       "      <th>3DS</th>\n",
       "      <td>303.0</td>\n",
       "      <td>0.452046</td>\n",
       "      <td>1.307354</td>\n",
       "      <td>0.01</td>\n",
       "      <td>0.040</td>\n",
       "      <td>0.09</td>\n",
       "      <td>0.2650</td>\n",
       "      <td>13.82</td>\n",
       "    </tr>\n",
       "    <tr>\n",
       "      <th>DS</th>\n",
       "      <td>8.0</td>\n",
       "      <td>0.177500</td>\n",
       "      <td>0.158182</td>\n",
       "      <td>0.03</td>\n",
       "      <td>0.060</td>\n",
       "      <td>0.14</td>\n",
       "      <td>0.2300</td>\n",
       "      <td>0.47</td>\n",
       "    </tr>\n",
       "    <tr>\n",
       "      <th>PC</th>\n",
       "      <td>189.0</td>\n",
       "      <td>0.192963</td>\n",
       "      <td>0.323022</td>\n",
       "      <td>0.01</td>\n",
       "      <td>0.030</td>\n",
       "      <td>0.07</td>\n",
       "      <td>0.2100</td>\n",
       "      <td>2.82</td>\n",
       "    </tr>\n",
       "    <tr>\n",
       "      <th>PS3</th>\n",
       "      <td>345.0</td>\n",
       "      <td>0.448290</td>\n",
       "      <td>1.196301</td>\n",
       "      <td>0.01</td>\n",
       "      <td>0.040</td>\n",
       "      <td>0.14</td>\n",
       "      <td>0.4300</td>\n",
       "      <td>17.09</td>\n",
       "    </tr>\n",
       "    <tr>\n",
       "      <th>PS4</th>\n",
       "      <td>392.0</td>\n",
       "      <td>0.678036</td>\n",
       "      <td>1.355221</td>\n",
       "      <td>0.01</td>\n",
       "      <td>0.050</td>\n",
       "      <td>0.17</td>\n",
       "      <td>0.6125</td>\n",
       "      <td>12.25</td>\n",
       "    </tr>\n",
       "    <tr>\n",
       "      <th>PSP</th>\n",
       "      <td>67.0</td>\n",
       "      <td>0.051642</td>\n",
       "      <td>0.058558</td>\n",
       "      <td>0.01</td>\n",
       "      <td>0.015</td>\n",
       "      <td>0.02</td>\n",
       "      <td>0.0700</td>\n",
       "      <td>0.24</td>\n",
       "    </tr>\n",
       "    <tr>\n",
       "      <th>PSV</th>\n",
       "      <td>358.0</td>\n",
       "      <td>0.083045</td>\n",
       "      <td>0.132121</td>\n",
       "      <td>0.01</td>\n",
       "      <td>0.020</td>\n",
       "      <td>0.04</td>\n",
       "      <td>0.1000</td>\n",
       "      <td>1.72</td>\n",
       "    </tr>\n",
       "    <tr>\n",
       "      <th>Wii</th>\n",
       "      <td>23.0</td>\n",
       "      <td>0.545217</td>\n",
       "      <td>0.835093</td>\n",
       "      <td>0.01</td>\n",
       "      <td>0.045</td>\n",
       "      <td>0.17</td>\n",
       "      <td>0.6950</td>\n",
       "      <td>3.27</td>\n",
       "    </tr>\n",
       "    <tr>\n",
       "      <th>WiiU</th>\n",
       "      <td>115.0</td>\n",
       "      <td>0.521217</td>\n",
       "      <td>0.965390</td>\n",
       "      <td>0.01</td>\n",
       "      <td>0.060</td>\n",
       "      <td>0.19</td>\n",
       "      <td>0.5450</td>\n",
       "      <td>6.58</td>\n",
       "    </tr>\n",
       "    <tr>\n",
       "      <th>X360</th>\n",
       "      <td>186.0</td>\n",
       "      <td>0.670376</td>\n",
       "      <td>1.517190</td>\n",
       "      <td>0.01</td>\n",
       "      <td>0.070</td>\n",
       "      <td>0.24</td>\n",
       "      <td>0.7275</td>\n",
       "      <td>14.86</td>\n",
       "    </tr>\n",
       "    <tr>\n",
       "      <th>XOne</th>\n",
       "      <td>247.0</td>\n",
       "      <td>0.587247</td>\n",
       "      <td>0.942412</td>\n",
       "      <td>0.01</td>\n",
       "      <td>0.050</td>\n",
       "      <td>0.20</td>\n",
       "      <td>0.6250</td>\n",
       "      <td>6.71</td>\n",
       "    </tr>\n",
       "  </tbody>\n",
       "</table>\n",
       "</div>"
      ],
      "text/plain": [
       "          count      mean       std   min    25%   50%     75%    max\n",
       "platform                                                             \n",
       "3DS       303.0  0.452046  1.307354  0.01  0.040  0.09  0.2650  13.82\n",
       "DS          8.0  0.177500  0.158182  0.03  0.060  0.14  0.2300   0.47\n",
       "PC        189.0  0.192963  0.323022  0.01  0.030  0.07  0.2100   2.82\n",
       "PS3       345.0  0.448290  1.196301  0.01  0.040  0.14  0.4300  17.09\n",
       "PS4       392.0  0.678036  1.355221  0.01  0.050  0.17  0.6125  12.25\n",
       "PSP        67.0  0.051642  0.058558  0.01  0.015  0.02  0.0700   0.24\n",
       "PSV       358.0  0.083045  0.132121  0.01  0.020  0.04  0.1000   1.72\n",
       "Wii        23.0  0.545217  0.835093  0.01  0.045  0.17  0.6950   3.27\n",
       "WiiU      115.0  0.521217  0.965390  0.01  0.060  0.19  0.5450   6.58\n",
       "X360      186.0  0.670376  1.517190  0.01  0.070  0.24  0.7275  14.86\n",
       "XOne      247.0  0.587247  0.942412  0.01  0.050  0.20  0.6250   6.71"
      ]
     },
     "execution_count": 19,
     "metadata": {},
     "output_type": "execute_result"
    }
   ],
   "source": [
    "actual_data.groupby('platform')['total_sales'].describe()"
   ]
  },
  {
   "cell_type": "code",
   "execution_count": 21,
   "metadata": {},
   "outputs": [
    {
     "data": {
      "image/png": "[encoded data removed]",
      "text/plain": [
       "<Figure size 432x288 with 1 Axes>"
      ]
     },
     "metadata": {
      "needs_background": "light"
     },
     "output_type": "display_data"
    }
   ],
   "source": [
    "# Определяем топ-5 платформ по суммарным продажам\n",
    "top_5_platforms = actual_data.groupby('platform')['total_sales'].sum().sort_values(ascending=False).head(5).index\n",
    "\n",
    "# Фильтруем данные только для топ-5 платформ\n",
    "filtered_data = actual_data[actual_data['platform'].isin(top_5_platforms)]\n",
    "\n",
    "# Построение \"ящика с усами\" для топ-5 платформ\n",
    "filtered_data.boxplot(column='total_sales', by='platform')\n",
    "plt.title('Распределение глобальных продаж игр по платформам (2013-2016)')\n",
    "plt.suptitle('')\n",
    "plt.xlabel('Платформа')\n",
    "plt.ylabel('Суммарные продажи (млн)')\n",
    "plt.ylim(0, 1.75)  # Ограничиваем выбросы по оси Y\n",
    "plt.show()"
   ]
  },
  {
   "cell_type": "markdown",
   "metadata": {},
   "source": [
    "- Как мы видим, на диаграмме размаха много выбросов по каждой платформе. Скорей всего это особо успешные игры, которые сильно выделяются на фоне других по продажам.\n",
    "- Однако, если мы хотим посмотреть на типичный объем продаж, нам следует обращать внимание на медианные значения. Платформы с высокой медианной более успешны, а именно: \n",
    "    - X360 - 0.24 млн. копий\n",
    "    - XOne - 0.20 млн. копий\n",
    "    - PS4 - 0.17 млн. копий\n",
    "    - PS3 - 0.14 млн. копий\n",
    "    - 3DS - 0.09 млн. копий\n",
    "    "
   ]
  },
  {
   "cell_type": "markdown",
   "metadata": {},
   "source": [
    "### Посмотрим, как влияют на продажи внутри одной популярной платформы отзывы пользователей и критиков. Построим диаграмму рассеяния и посчитаем корреляцию между отзывами и продажами."
   ]
  },
  {
   "cell_type": "markdown",
   "metadata": {},
   "source": [
    "В качестве популярной платформы выберем, например PlayStation 4."
   ]
  },
  {
   "cell_type": "markdown",
   "metadata": {},
   "source": [
    "Отфльтруем данные для нашей платформы"
   ]
  },
  {
   "cell_type": "code",
   "execution_count": 22,
   "metadata": {},
   "outputs": [
    {
     "data": {
      "text/html": [
       "<div>\n",
       "<style scoped>\n",
       "    .dataframe tbody tr th:only-of-type {\n",
       "        vertical-align: middle;\n",
       "    }\n",
       "\n",
       "    .dataframe tbody tr th {\n",
       "        vertical-align: top;\n",
       "    }\n",
       "\n",
       "    .dataframe thead th {\n",
       "        text-align: right;\n",
       "    }\n",
       "</style>\n",
       "<table border=\"1\" class=\"dataframe\">\n",
       "  <thead>\n",
       "    <tr style=\"text-align: right;\">\n",
       "      <th></th>\n",
       "      <th>name</th>\n",
       "      <th>platform</th>\n",
       "      <th>year_of_release</th>\n",
       "      <th>genre</th>\n",
       "      <th>na_sales</th>\n",
       "      <th>eu_sales</th>\n",
       "      <th>jp_sales</th>\n",
       "      <th>other_sales</th>\n",
       "      <th>critic_score</th>\n",
       "      <th>user_score</th>\n",
       "      <th>rating</th>\n",
       "      <th>total_sales</th>\n",
       "    </tr>\n",
       "  </thead>\n",
       "  <tbody>\n",
       "    <tr>\n",
       "      <th>2</th>\n",
       "      <td>Call of Duty: Black Ops 3</td>\n",
       "      <td>PS4</td>\n",
       "      <td>2015</td>\n",
       "      <td>Shooter</td>\n",
       "      <td>6.03</td>\n",
       "      <td>5.86</td>\n",
       "      <td>0.36</td>\n",
       "      <td>2.38</td>\n",
       "      <td>NaN</td>\n",
       "      <td>NaN</td>\n",
       "      <td>NaN</td>\n",
       "      <td>12.25</td>\n",
       "    </tr>\n",
       "    <tr>\n",
       "      <th>4</th>\n",
       "      <td>Grand Theft Auto V</td>\n",
       "      <td>PS4</td>\n",
       "      <td>2014</td>\n",
       "      <td>Action</td>\n",
       "      <td>3.96</td>\n",
       "      <td>6.31</td>\n",
       "      <td>0.38</td>\n",
       "      <td>1.97</td>\n",
       "      <td>97.0</td>\n",
       "      <td>8.3</td>\n",
       "      <td>M</td>\n",
       "      <td>10.65</td>\n",
       "    </tr>\n",
       "    <tr>\n",
       "      <th>9</th>\n",
       "      <td>FIFA 16</td>\n",
       "      <td>PS4</td>\n",
       "      <td>2015</td>\n",
       "      <td>Sports</td>\n",
       "      <td>1.12</td>\n",
       "      <td>6.12</td>\n",
       "      <td>0.06</td>\n",
       "      <td>1.28</td>\n",
       "      <td>82.0</td>\n",
       "      <td>4.3</td>\n",
       "      <td>E</td>\n",
       "      <td>7.30</td>\n",
       "    </tr>\n",
       "    <tr>\n",
       "      <th>10</th>\n",
       "      <td>Star Wars Battlefront (2015)</td>\n",
       "      <td>PS4</td>\n",
       "      <td>2015</td>\n",
       "      <td>Shooter</td>\n",
       "      <td>2.99</td>\n",
       "      <td>3.49</td>\n",
       "      <td>0.22</td>\n",
       "      <td>1.28</td>\n",
       "      <td>NaN</td>\n",
       "      <td>NaN</td>\n",
       "      <td>NaN</td>\n",
       "      <td>6.70</td>\n",
       "    </tr>\n",
       "    <tr>\n",
       "      <th>11</th>\n",
       "      <td>Call of Duty: Advanced Warfare</td>\n",
       "      <td>PS4</td>\n",
       "      <td>2014</td>\n",
       "      <td>Shooter</td>\n",
       "      <td>2.81</td>\n",
       "      <td>3.48</td>\n",
       "      <td>0.14</td>\n",
       "      <td>1.23</td>\n",
       "      <td>83.0</td>\n",
       "      <td>5.7</td>\n",
       "      <td>M</td>\n",
       "      <td>6.43</td>\n",
       "    </tr>\n",
       "  </tbody>\n",
       "</table>\n",
       "</div>"
      ],
      "text/plain": [
       "                              name platform  year_of_release    genre  \\\n",
       "2        Call of Duty: Black Ops 3      PS4             2015  Shooter   \n",
       "4               Grand Theft Auto V      PS4             2014   Action   \n",
       "9                          FIFA 16      PS4             2015   Sports   \n",
       "10    Star Wars Battlefront (2015)      PS4             2015  Shooter   \n",
       "11  Call of Duty: Advanced Warfare      PS4             2014  Shooter   \n",
       "\n",
       "    na_sales  eu_sales  jp_sales  other_sales  critic_score  user_score  \\\n",
       "2       6.03      5.86      0.36         2.38           NaN         NaN   \n",
       "4       3.96      6.31      0.38         1.97          97.0         8.3   \n",
       "9       1.12      6.12      0.06         1.28          82.0         4.3   \n",
       "10      2.99      3.49      0.22         1.28           NaN         NaN   \n",
       "11      2.81      3.48      0.14         1.23          83.0         5.7   \n",
       "\n",
       "   rating  total_sales  \n",
       "2     NaN        12.25  \n",
       "4       M        10.65  \n",
       "9       E         7.30  \n",
       "10    NaN         6.70  \n",
       "11      M         6.43  "
      ]
     },
     "execution_count": 22,
     "metadata": {},
     "output_type": "execute_result"
    }
   ],
   "source": [
    "ps4_data = actual_data.query('platform == \"PS4\"')\n",
    "ps4_data.head()"
   ]
  },
  {
   "cell_type": "markdown",
   "metadata": {},
   "source": [
    "Избавимся от пропусков в важных столбцах:"
   ]
  },
  {
   "cell_type": "code",
   "execution_count": 23,
   "metadata": {
    "scrolled": true
   },
   "outputs": [
    {
     "data": {
      "text/html": [
       "<div>\n",
       "<style scoped>\n",
       "    .dataframe tbody tr th:only-of-type {\n",
       "        vertical-align: middle;\n",
       "    }\n",
       "\n",
       "    .dataframe tbody tr th {\n",
       "        vertical-align: top;\n",
       "    }\n",
       "\n",
       "    .dataframe thead th {\n",
       "        text-align: right;\n",
       "    }\n",
       "</style>\n",
       "<table border=\"1\" class=\"dataframe\">\n",
       "  <thead>\n",
       "    <tr style=\"text-align: right;\">\n",
       "      <th></th>\n",
       "      <th>name</th>\n",
       "      <th>platform</th>\n",
       "      <th>year_of_release</th>\n",
       "      <th>genre</th>\n",
       "      <th>na_sales</th>\n",
       "      <th>eu_sales</th>\n",
       "      <th>jp_sales</th>\n",
       "      <th>other_sales</th>\n",
       "      <th>critic_score</th>\n",
       "      <th>user_score</th>\n",
       "      <th>rating</th>\n",
       "      <th>total_sales</th>\n",
       "    </tr>\n",
       "  </thead>\n",
       "  <tbody>\n",
       "    <tr>\n",
       "      <th>4</th>\n",
       "      <td>Grand Theft Auto V</td>\n",
       "      <td>PS4</td>\n",
       "      <td>2014</td>\n",
       "      <td>Action</td>\n",
       "      <td>3.96</td>\n",
       "      <td>6.31</td>\n",
       "      <td>0.38</td>\n",
       "      <td>1.97</td>\n",
       "      <td>97.0</td>\n",
       "      <td>8.3</td>\n",
       "      <td>M</td>\n",
       "      <td>10.65</td>\n",
       "    </tr>\n",
       "    <tr>\n",
       "      <th>9</th>\n",
       "      <td>FIFA 16</td>\n",
       "      <td>PS4</td>\n",
       "      <td>2015</td>\n",
       "      <td>Sports</td>\n",
       "      <td>1.12</td>\n",
       "      <td>6.12</td>\n",
       "      <td>0.06</td>\n",
       "      <td>1.28</td>\n",
       "      <td>82.0</td>\n",
       "      <td>4.3</td>\n",
       "      <td>E</td>\n",
       "      <td>7.30</td>\n",
       "    </tr>\n",
       "    <tr>\n",
       "      <th>11</th>\n",
       "      <td>Call of Duty: Advanced Warfare</td>\n",
       "      <td>PS4</td>\n",
       "      <td>2014</td>\n",
       "      <td>Shooter</td>\n",
       "      <td>2.81</td>\n",
       "      <td>3.48</td>\n",
       "      <td>0.14</td>\n",
       "      <td>1.23</td>\n",
       "      <td>83.0</td>\n",
       "      <td>5.7</td>\n",
       "      <td>M</td>\n",
       "      <td>6.43</td>\n",
       "    </tr>\n",
       "    <tr>\n",
       "      <th>12</th>\n",
       "      <td>FIFA 17</td>\n",
       "      <td>PS4</td>\n",
       "      <td>2016</td>\n",
       "      <td>Sports</td>\n",
       "      <td>0.66</td>\n",
       "      <td>5.75</td>\n",
       "      <td>0.08</td>\n",
       "      <td>1.11</td>\n",
       "      <td>85.0</td>\n",
       "      <td>5.0</td>\n",
       "      <td>E</td>\n",
       "      <td>6.49</td>\n",
       "    </tr>\n",
       "    <tr>\n",
       "      <th>15</th>\n",
       "      <td>Fallout 4</td>\n",
       "      <td>PS4</td>\n",
       "      <td>2015</td>\n",
       "      <td>Role-Playing</td>\n",
       "      <td>2.53</td>\n",
       "      <td>3.27</td>\n",
       "      <td>0.24</td>\n",
       "      <td>1.13</td>\n",
       "      <td>87.0</td>\n",
       "      <td>6.5</td>\n",
       "      <td>M</td>\n",
       "      <td>6.04</td>\n",
       "    </tr>\n",
       "  </tbody>\n",
       "</table>\n",
       "</div>"
      ],
      "text/plain": [
       "                              name platform  year_of_release         genre  \\\n",
       "4               Grand Theft Auto V      PS4             2014        Action   \n",
       "9                          FIFA 16      PS4             2015        Sports   \n",
       "11  Call of Duty: Advanced Warfare      PS4             2014       Shooter   \n",
       "12                         FIFA 17      PS4             2016        Sports   \n",
       "15                       Fallout 4      PS4             2015  Role-Playing   \n",
       "\n",
       "    na_sales  eu_sales  jp_sales  other_sales  critic_score  user_score  \\\n",
       "4       3.96      6.31      0.38         1.97          97.0         8.3   \n",
       "9       1.12      6.12      0.06         1.28          82.0         4.3   \n",
       "11      2.81      3.48      0.14         1.23          83.0         5.7   \n",
       "12      0.66      5.75      0.08         1.11          85.0         5.0   \n",
       "15      2.53      3.27      0.24         1.13          87.0         6.5   \n",
       "\n",
       "   rating  total_sales  \n",
       "4       M        10.65  \n",
       "9       E         7.30  \n",
       "11      M         6.43  \n",
       "12      E         6.49  \n",
       "15      M         6.04  "
      ]
     },
     "execution_count": 23,
     "metadata": {},
     "output_type": "execute_result"
    }
   ],
   "source": [
    "ps4_data = ps4_data.dropna(subset=['critic_score', 'user_score', 'total_sales'])\n",
    "ps4_data.head()"
   ]
  },
  {
   "cell_type": "markdown",
   "metadata": {},
   "source": [
    "Теперь построим диаграммы с оценками критиков и игроков:"
   ]
  },
  {
   "cell_type": "code",
   "execution_count": 24,
   "metadata": {},
   "outputs": [
    {
     "data": {
      "image/png": "[encoded data removed]",
      "text/plain": [
       "<Figure size 864x432 with 1 Axes>"
      ]
     },
     "metadata": {
      "needs_background": "light"
     },
     "output_type": "display_data"
    },
    {
     "name": "stdout",
     "output_type": "stream",
     "text": [
      "Корреляция между оценками критиков и продажами: 0.405325399594284\n"
     ]
    },
    {
     "data": {
      "image/png": "[encoded data removed]",
      "text/plain": [
       "<Figure size 864x432 with 1 Axes>"
      ]
     },
     "metadata": {
      "needs_background": "light"
     },
     "output_type": "display_data"
    },
    {
     "name": "stdout",
     "output_type": "stream",
     "text": [
      "Корреляция между оценками пользователей и продажами: -0.028159260630114112\n"
     ]
    }
   ],
   "source": [
    "# Диаграмма рассеяния для оценки критиков и продаж\n",
    "#plt.subplot(1,2,1)\n",
    "ps4_data.plot(\n",
    "    kind = 'scatter',\n",
    "    x = 'critic_score',\n",
    "    xlabel = 'Оценка критиков',\n",
    "    y = 'total_sales',\n",
    "    ylabel = 'Суммарные продажи (млн)',\n",
    "    alpha = 0.5,\n",
    "    title = 'Зависимость продаж от оценки критиков (PS4)',\n",
    "    grid = True,\n",
    "    color = 'blue',\n",
    "    figsize=(12, 6)    \n",
    ")\n",
    "plt.show()\n",
    "\n",
    "# Рассчитаем корреляцию\n",
    "critic_corr = ps4_data['critic_score'].corr(ps4_data['total_sales'])\n",
    "print('Корреляция между оценками критиков и продажами:', critic_corr)\n",
    "\n",
    "# Диаграмма рассеяния для оценки пользователей и продаж\n",
    "#plt.subplot(1,2,2)\n",
    "ps4_data.plot(\n",
    "    kind = 'scatter',\n",
    "    x = 'user_score',\n",
    "    xlabel = 'Оценка пользователей',\n",
    "    y = 'total_sales',\n",
    "    ylabel = 'Суммарные продажи (млн)',\n",
    "    alpha = 0.5,\n",
    "    title = 'Зависимость продаж от оценки пользователей  (PS4)',\n",
    "    grid = True,\n",
    "    color = 'green',\n",
    "    figsize=(12, 6)\n",
    ")\n",
    "plt.show()\n",
    "\n",
    "# Рассчитаем корреляцию\n",
    "user_corr = ps4_data['user_score'].corr(ps4_data['total_sales'])\n",
    "print('Корреляция между оценками пользователей и продажами:', user_corr)"
   ]
  },
  {
   "cell_type": "markdown",
   "metadata": {},
   "source": [
    "Исходя из представленного выше, можем судить о том, что оценки критиков имеют некоторое влияние на продажи, в то время, как оценки пользователей совсем на них не влияют, по крайней мере на платформе PS4 в период 2013-2016."
   ]
  },
  {
   "cell_type": "markdown",
   "metadata": {},
   "source": [
    "##### Соотнесем выводы с продажами игр на других платформах."
   ]
  },
  {
   "cell_type": "markdown",
   "metadata": {},
   "source": [
    "Построим корреляции для других популярных платформ. Для этого смастерим функцию."
   ]
  },
  {
   "cell_type": "code",
   "execution_count": 25,
   "metadata": {},
   "outputs": [
    {
     "data": {
      "image/png": "[encoded data removed]",
      "text/plain": [
       "<Figure size 432x288 with 1 Axes>"
      ]
     },
     "metadata": {
      "needs_background": "light"
     },
     "output_type": "display_data"
    },
    {
     "name": "stdout",
     "output_type": "stream",
     "text": [
      "Корреляция: 0.3375139894933373\n"
     ]
    },
    {
     "data": {
      "image/png": "[encoded data removed]",
      "text/plain": [
       "<Figure size 432x288 with 1 Axes>"
      ]
     },
     "metadata": {
      "needs_background": "light"
     },
     "output_type": "display_data"
    },
    {
     "name": "stdout",
     "output_type": "stream",
     "text": [
      "Корреляция: -0.005167775353059386\n"
     ]
    },
    {
     "data": {
      "image/png": "[encoded data removed]",
      "text/plain": [
       "<Figure size 432x288 with 1 Axes>"
      ]
     },
     "metadata": {
      "needs_background": "light"
     },
     "output_type": "display_data"
    },
    {
     "name": "stdout",
     "output_type": "stream",
     "text": [
      "Корреляция: 0.3745905320498915\n"
     ]
    },
    {
     "data": {
      "image/png": "[encoded data removed]",
      "text/plain": [
       "<Figure size 432x288 with 1 Axes>"
      ]
     },
     "metadata": {
      "needs_background": "light"
     },
     "output_type": "display_data"
    },
    {
     "name": "stdout",
     "output_type": "stream",
     "text": [
      "Корреляция: 0.4161681276062978\n"
     ]
    },
    {
     "data": {
      "image/png": "[encoded data removed]",
      "text/plain": [
       "<Figure size 432x288 with 1 Axes>"
      ]
     },
     "metadata": {
      "needs_background": "light"
     },
     "output_type": "display_data"
    },
    {
     "name": "stdout",
     "output_type": "stream",
     "text": [
      "Корреляция: 0.3504305787216835\n"
     ]
    },
    {
     "data": {
      "image/png": "[encoded data removed]",
      "text/plain": [
       "<Figure size 432x288 with 1 Axes>"
      ]
     },
     "metadata": {
      "needs_background": "light"
     },
     "output_type": "display_data"
    },
    {
     "name": "stdout",
     "output_type": "stream",
     "text": [
      "Корреляция: -0.009245415670703395\n"
     ]
    }
   ],
   "source": [
    "# Функция для расчета корреляции и построения графиков для указанной платформы\n",
    "def analyze_platform(data, platform_name):\n",
    "    platform_data = data[(data['platform'] == platform_name)]\n",
    "           \n",
    "    # Диаграмма рассеяния для оценки критиков и продаж\n",
    "    platform_data.plot(\n",
    "        kind = 'scatter',\n",
    "        x = 'critic_score',\n",
    "        xlabel = 'Оценка критиков',\n",
    "        y = 'total_sales',\n",
    "        ylabel = 'Суммарные продажи (млн)',\n",
    "        alpha = 0.5,\n",
    "        title = f'Зависимость продаж от оценки критиков ({platform_name})',\n",
    "        grid = True,\n",
    "        color = 'blue'\n",
    "    )\n",
    "    plt.show()\n",
    "    \n",
    "    # Диаграмма рассеяния для оценки пользователей и продаж\n",
    "    critic_corr = platform_data['critic_score'].corr(platform_data['total_sales'])\n",
    "    print('Корреляция:', critic_corr)\n",
    "    \n",
    "    platform_data.plot(\n",
    "        kind = 'scatter',\n",
    "        x = 'user_score',\n",
    "        xlabel = 'Оценка пользователей',\n",
    "        y = 'total_sales',\n",
    "        ylabel = 'Суммарные продажи (млн)',\n",
    "        alpha = 0.5,\n",
    "        title = f'Зависимость продаж от оценки пользователей ({platform_name})',\n",
    "        grid = True,\n",
    "        color = 'green'\n",
    "    )\n",
    "    plt.show()\n",
    "    \n",
    "    # Рассчитываем корреляцию\n",
    "    user_corr = platform_data['user_score'].corr(platform_data['total_sales'])\n",
    "    print('Корреляция:', user_corr)\n",
    "\n",
    "    return critic_corr, user_corr\n",
    "\n",
    "# Проведем анализ для PS3\n",
    "critic_corr_ps3, user_corr_ps3 = analyze_platform(actual_data, 'PS3')\n",
    "\n",
    "# Проведем анализ для Wii U\n",
    "critic_corr_wiiu, user_corr_wiiu = analyze_platform(actual_data, 'WiiU')\n",
    "\n",
    "# Проведем анализ для Xbox 360\n",
    "critic_corr_x360, user_corr_x360 = analyze_platform(actual_data, 'X360')"
   ]
  },
  {
   "cell_type": "markdown",
   "metadata": {},
   "source": [
    "- Оценки критиков оказывают умеренное влияние на продажи на всех платформах.\n",
    "- Оценки пользователей варьируются в значимости от платформы к платформе, с наибольшей важностью на \"WiiU\", где корреляция оказалась самой высокой, по сравнению с другими платформами."
   ]
  },
  {
   "cell_type": "markdown",
   "metadata": {},
   "source": [
    "### Посмотрим на общее распределение игр по жанрам. "
   ]
  },
  {
   "cell_type": "markdown",
   "metadata": {},
   "source": [
    "Расчитаем суммарные продажи для каждого жанра и построим график:"
   ]
  },
  {
   "cell_type": "code",
   "execution_count": 26,
   "metadata": {},
   "outputs": [
    {
     "name": "stdout",
     "output_type": "stream",
     "text": [
      "genre\n",
      "Action          284.67\n",
      "Shooter         204.21\n",
      "Role-Playing    134.41\n",
      "Sports          131.20\n",
      "Misc             56.73\n",
      "Platform         38.51\n",
      "Racing           35.45\n",
      "Fighting         31.75\n",
      "Adventure        21.21\n",
      "Simulation       20.30\n",
      "Strategy          9.27\n",
      "Puzzle            3.01\n",
      "Name: total_sales, dtype: float64\n"
     ]
    },
    {
     "data": {
      "image/png": "[encoded data removed]",
      "text/plain": [
       "<Figure size 720x432 with 1 Axes>"
      ]
     },
     "metadata": {
      "needs_background": "light"
     },
     "output_type": "display_data"
    }
   ],
   "source": [
    "genre_sales = actual_data.groupby('genre')['total_sales'].sum().sort_values(ascending=False)\n",
    "print(genre_sales)\n",
    "\n",
    "genre_sales.plot(\n",
    "    kind = 'bar',\n",
    "    title = 'Распределение продаж по жанрам (2013-2016)',\n",
    "    xlabel = 'Жанр',\n",
    "    ylabel = 'Суммарные продажи (млн)',\n",
    "    grid = True,\n",
    "    figsize = (10,6)\n",
    ")\n",
    "plt.show()"
   ]
  },
  {
   "cell_type": "markdown",
   "metadata": {},
   "source": [
    "Видно, что \"Action\" является самым прибыльным жанром, с суммарными продажами 810 млн. копий. Жанры \"Shooter\" и \"Sports\" входят в топ-3 с продажами 549 и 465 млн. копий соответственно.\n",
    "Самые низкие продажи у жанров \"Puzzle\" и \"Strategy\", и неудивительно, это довольно нишевые игры, и направлены на узкую целевую аудиторию. Разрыв между самымы прибыльными и неприбыльными жанрами огромен — 300-700 млн. копий."
   ]
  },
  {
   "cell_type": "markdown",
   "metadata": {},
   "source": [
    "Высокие продажи могут быть вызваны не успехом, а просто огромным количеством игр. Вполне могут быть жанры, где игр немного, но при этом продажи сопоставимы с продажами Экшена. Чтобы проверить это, стоит рассмотреть средние или медианные продажи."
   ]
  },
  {
   "cell_type": "code",
   "execution_count": 27,
   "metadata": {},
   "outputs": [
    {
     "name": "stdout",
     "output_type": "stream",
     "text": [
      "genre\n",
      "Shooter         0.410\n",
      "Sports          0.205\n",
      "Platform        0.190\n",
      "Role-Playing    0.120\n",
      "Fighting        0.115\n",
      "Action          0.100\n",
      "Racing          0.100\n",
      "Simulation      0.095\n",
      "Misc            0.090\n",
      "Strategy        0.070\n",
      "Puzzle          0.060\n",
      "Adventure       0.030\n",
      "Name: total_sales, dtype: float64\n"
     ]
    },
    {
     "data": {
      "image/png": "[encoded data removed]",
      "text/plain": [
       "<Figure size 720x432 with 1 Axes>"
      ]
     },
     "metadata": {
      "needs_background": "light"
     },
     "output_type": "display_data"
    }
   ],
   "source": [
    "genre_median_sales = actual_data.groupby('genre')['total_sales'].median().sort_values(ascending=False)\n",
    "print(genre_median_sales)\n",
    "\n",
    "genre_median_sales.plot(\n",
    "    kind = 'bar',\n",
    "    title = 'Распределение продаж по жанрам (2013-2016)',\n",
    "    xlabel = 'Жанр',\n",
    "    ylabel = 'Суммарные продажи (млн)',\n",
    "    grid = True,\n",
    "    figsize = (10,6)\n",
    ")\n",
    "plt.show()"
   ]
  },
  {
   "cell_type": "markdown",
   "metadata": {},
   "source": [
    "<p>В таком случае, у нас сильно меняется картина! Action ушел аж на 6-ю позицию! А Platform вышел на 3-ю!</p>\n",
    "<p>Самым успешным жанром стал Shooter. Он сильно отрывается по продажам от своих соседей, достигая отметки в 400 тыс. продаваемых копий. Что примерно составляет продажи спортивнвых игр и платформеров вместе вхятых!</p>\n",
    "<p>Конец графика тоже изменился, его закрывают Strategy, Puzzle и Adventure."
   ]
  },
  {
   "cell_type": "markdown",
   "metadata": {},
   "source": [
    "<b>Промежуточный итог:</b>\n",
    "<p>В последние годы (2013-2016) количество выпущенных игр немного снизилось по сравнению с предыдущим пиком, что может указывать на насыщение рынка или сужение ассортимента выпускаемых игр. Тем не менее, этот период все еще отражает современные тенденции на рынке видеоигр.</p>\n",
    "<p>Платформы с наибольшими продажами, такие как PlayStation 4, Xbox One, продемонстрировали устойчивый рост и лидируют по суммарным продажам в последние годы. В то же время, такие платформы как Wii и Nintendo DS начали терять популярность.\n",
    "PS4 и XOne, имеют высокий потенциал для дальнейшего роста, т.к. находятся в начале или середине своего жизненного цикла.</p>\n",
    "<p>Жанры Action, Shooter, и Sports занимают лидирующие позиции по суммарным продажам, что делает их основными категориями для дальнейшего маркетингового анализа.\n",
    "Жанры Puzzle и Strategy показали низкие продажи, что указывает на более узкую аудиторию или ограниченный спрос на эти типы игр.\n",
    "</p>\n",
    "<p>Оценки критиков оказывают умеренное влияние на продажи игр на платформах PlayStation 4 и Xbox One, что подтверждает их значимость при продвижении игр.\n",
    "Оценки пользователей, напротив, имеют слабое влияние на продажи, особенно на PlayStation 4 и Xbox One, что указывает на меньшую роль пользовательских оценок в решении о покупке.</p>\n"
   ]
  },
  {
   "cell_type": "markdown",
   "metadata": {},
   "source": [
    "## Шаг 4. Составим портрет пользователя каждого региона"
   ]
  },
  {
   "cell_type": "markdown",
   "metadata": {},
   "source": [
    "### Определим для пользователя каждого региона (NA, EU, JP):"
   ]
  },
  {
   "cell_type": "markdown",
   "metadata": {},
   "source": [
    "#### Самые популярные платформы (топ-5). Опишем различия в долях продаж."
   ]
  },
  {
   "cell_type": "markdown",
   "metadata": {},
   "source": [
    "Чтобы определить самые популярные платформы и жанры для каждого региона, создадим функцию"
   ]
  },
  {
   "cell_type": "code",
   "execution_count": 33,
   "metadata": {},
   "outputs": [
    {
     "name": "stdout",
     "output_type": "stream",
     "text": [
      "Топ платформ Сев. Америки \n",
      " platform\n",
      "PS4     108.74\n",
      "XOne     93.12\n",
      "X360     81.66\n",
      "PS3      63.50\n",
      "3DS      38.20\n",
      "Name: na_sales, dtype: float64 \n",
      "\n",
      "Топ платформ Европы \n",
      " platform\n",
      "PS4     141.09\n",
      "PS3      67.81\n",
      "XOne     51.59\n",
      "X360     42.52\n",
      "3DS      30.96\n",
      "Name: eu_sales, dtype: float64 \n",
      "\n",
      "Топ платформ Японии \n",
      " platform\n",
      "3DS     67.81\n",
      "PS3     23.35\n",
      "PSV     18.59\n",
      "PS4     15.96\n",
      "WiiU    10.88\n",
      "Name: jp_sales, dtype: float64\n"
     ]
    },
    {
     "data": {
      "text/plain": [
       "<function matplotlib.pyplot.show(close=None, block=None)>"
      ]
     },
     "execution_count": 33,
     "metadata": {},
     "output_type": "execute_result"
    },
    {
     "data": {
      "image/png": "[encoded data removed]",
      "text/plain": [
       "<Figure size 1296x432 with 3 Axes>"
      ]
     },
     "metadata": {
      "needs_background": "light"
     },
     "output_type": "display_data"
    }
   ],
   "source": [
    "# Будем работать с топ-5\n",
    "def top_platforms(data, region_sales):\n",
    "    top_platforms = data.groupby('platform')[region_sales].sum().sort_values(ascending=False).head(5)\n",
    "    \n",
    "    return top_platforms\n",
    "\n",
    "top_platforms_na = top_platforms(actual_data, 'na_sales')\n",
    "print('Топ платформ Сев. Америки \\n',top_platforms_na, '\\n')\n",
    "\n",
    "top_platforms_eu = top_platforms(actual_data, 'eu_sales')\n",
    "print('Топ платформ Европы \\n', top_platforms_eu, '\\n')\n",
    "\n",
    "top_platforms_jp = top_platforms(actual_data, 'jp_sales')\n",
    "print('Топ платформ Японии \\n', top_platforms_jp)\n",
    "\n",
    "# Построим графики\n",
    "plt.figure(figsize=(18, 6))\n",
    "\n",
    "plt.subplot(1, 3, 1)\n",
    "top_platforms_na.plot(\n",
    "    kind = 'bar', \n",
    "    title = 'Топ платформ Сев. Америки',\n",
    "    xlabel = 'Платформы',\n",
    "    ylabel = 'Суммарные продажи (млн)',\n",
    "    color = 'blue',\n",
    "    grid = True\n",
    ")\n",
    "\n",
    "plt.subplot(1, 3, 2)\n",
    "top_platforms_eu.plot(\n",
    "    kind = 'bar', \n",
    "    title = 'Топ платформ Европы',\n",
    "    xlabel = 'Платформы',\n",
    "    ylabel = 'Суммарные продажи (млн)',\n",
    "    color = 'green',\n",
    "    grid = True\n",
    ")\n",
    "\n",
    "plt.subplot(1, 3, 3)\n",
    "top_platforms_jp.plot(\n",
    "    kind = 'bar', \n",
    "    title = 'Топ платформ Японии',\n",
    "    xlabel = 'Платформы',\n",
    "    ylabel = 'Суммарные продажи (млн)',\n",
    "    color = 'red',\n",
    "    grid = True\n",
    ")\n",
    "\n",
    "plt.show"
   ]
  },
  {
   "cell_type": "markdown",
   "metadata": {},
   "source": [
    "<b>Как видим, результаты сильно отличаются, что свидетельствует, что в данных регионах есть свои особенности и предпочтения.</b>\n",
    "- в Сев. Америке лидирует PS4, не сильно отстает XOne. Видно, что в Америке больше, чем в Европе популярны Xbox.\n",
    "- в Европе также лидерует платформа PS4. Но в Европе, в отличии от Америки более популярны платформы фирмы Sony.\n",
    "- в Японии продажи еще ниже, чем в Европе. Можно заметить, что японцы предпочитают мобильность судя по тому, что в лидерах оказалась Nintendo 3DS. Так же стоит отметить, что в топе только отечественные платформы."
   ]
  },
  {
   "cell_type": "markdown",
   "metadata": {},
   "source": [
    "#### Самые популярные жанры (топ-5). Поясним разницу."
   ]
  },
  {
   "cell_type": "code",
   "execution_count": 29,
   "metadata": {},
   "outputs": [
    {
     "name": "stdout",
     "output_type": "stream",
     "text": [
      "Топ жанры в Сев. Америке \n",
      " genre\n",
      "Action          126.05\n",
      "Shooter         109.74\n",
      "Sports           65.27\n",
      "Role-Playing     46.40\n",
      "Misc             27.49\n",
      "Name: na_sales, dtype: float64 \n",
      "\n",
      "Топ жанры в Европе \n",
      " genre\n",
      "Action          118.13\n",
      "Shooter          87.86\n",
      "Sports           60.52\n",
      "Role-Playing     36.97\n",
      "Racing           20.19\n",
      "Name: eu_sales, dtype: float64 \n",
      "\n",
      "Топ жанры в Японии \n",
      " genre\n",
      "Role-Playing    51.04\n",
      "Action          40.49\n",
      "Misc             9.20\n",
      "Fighting         7.65\n",
      "Shooter          6.61\n",
      "Name: jp_sales, dtype: float64\n"
     ]
    },
    {
     "data": {
      "text/plain": [
       "<function matplotlib.pyplot.show(close=None, block=None)>"
      ]
     },
     "execution_count": 29,
     "metadata": {},
     "output_type": "execute_result"
    },
    {
     "data": {
      "image/png": "[encoded data removed]",
      "text/plain": [
       "<Figure size 1296x432 with 3 Axes>"
      ]
     },
     "metadata": {
      "needs_background": "light"
     },
     "output_type": "display_data"
    }
   ],
   "source": [
    "def top_genres(data, region_sales):\n",
    "    top_genres = data.groupby('genre')[region_sales].sum().sort_values(ascending=False).head(5)\n",
    "    \n",
    "    return top_genres\n",
    "\n",
    "top_genres_na = top_genres(actual_data, 'na_sales')\n",
    "print('Топ жанры в Сев. Америке \\n', top_genres_na, '\\n')\n",
    "\n",
    "top_genres_eu = top_genres(actual_data, 'eu_sales')\n",
    "print('Топ жанры в Европе \\n', top_genres_eu, '\\n')\n",
    "\n",
    "top_genres_jp = top_genres(actual_data, 'jp_sales')\n",
    "print('Топ жанры в Японии \\n', top_genres_jp)\n",
    "\n",
    "# Построим графики\n",
    "plt.figure(figsize=(18, 6))\n",
    "\n",
    "plt.subplot(1, 3, 1)\n",
    "top_genres_na.plot(\n",
    "    kind = 'bar', \n",
    "    title = 'Топ жанры в Сев. Америке',\n",
    "    xlabel = 'Рейтинг ESRB',\n",
    "    ylabel = 'Суммарные продажи (млн)',\n",
    "    color = 'blue',\n",
    "    grid = True\n",
    ")\n",
    "\n",
    "plt.subplot(1, 3, 2)\n",
    "top_genres_eu.plot(\n",
    "    kind = 'bar', \n",
    "    title = 'Топ жанры в Европе',\n",
    "    xlabel = 'Рейтинг ESRB',\n",
    "    ylabel = 'Суммарные продажи (млн)',\n",
    "    color = 'green',\n",
    "    grid = True\n",
    ")\n",
    "\n",
    "plt.subplot(1, 3, 3)\n",
    "top_genres_jp.plot(\n",
    "    kind = 'bar', \n",
    "    title = 'Топ жанры в Японии',\n",
    "    xlabel = 'Рейтинг ESRB',\n",
    "    ylabel = 'Суммарные продажи (млн)',\n",
    "    color = 'red',\n",
    "    grid = True\n",
    ")\n",
    "\n",
    "plt.show"
   ]
  },
  {
   "cell_type": "markdown",
   "metadata": {},
   "source": [
    "<b>Америка и Европа очень близки по духу — в обоих регионах лидирующее место занимает \"Action\", тогда как в Японии \"Role-Playing\" сильно опережает все остальные жанры (кроме экшена), что подчеркивает традиционную популярность ролевых игр в Японии."
   ]
  },
  {
   "cell_type": "markdown",
   "metadata": {},
   "source": [
    "#### Влияет ли рейтинг ESRB на продажи в отдельном регионе?"
   ]
  },
  {
   "cell_type": "markdown",
   "metadata": {},
   "source": [
    "Чтобы проанализировать влияние рейтинга ESRB на продажи в регионе создадим функцию."
   ]
  },
  {
   "cell_type": "code",
   "execution_count": 30,
   "metadata": {},
   "outputs": [
    {
     "name": "stdout",
     "output_type": "stream",
     "text": [
      "Влияние рейтинга ESRB для Сев. Америки \n",
      " rating\n",
      "M       165.21\n",
      "E        79.05\n",
      "E10+     54.24\n",
      "T        49.79\n",
      "Name: na_sales, dtype: float64 \n",
      "\n",
      "Влияние рейтинга ESRB для Европы \n",
      " rating\n",
      "M       165.21\n",
      "E        79.05\n",
      "E10+     54.24\n",
      "T        49.79\n",
      "Name: na_sales, dtype: float64 \n",
      "\n",
      "Влияние рейтинга ESRB для Японии \n",
      " rating\n",
      "M       165.21\n",
      "E        79.05\n",
      "E10+     54.24\n",
      "T        49.79\n",
      "Name: na_sales, dtype: float64 \n",
      "\n"
     ]
    },
    {
     "data": {
      "image/png": "[encoded data removed]",
      "text/plain": [
       "<Figure size 1296x432 with 3 Axes>"
      ]
     },
     "metadata": {
      "needs_background": "light"
     },
     "output_type": "display_data"
    }
   ],
   "source": [
    "def esrb_sales(data, region_sales):\n",
    "    esrb_sales = data.groupby('rating')[region_sales].sum().sort_values(ascending=False)\n",
    "    return esrb_sales\n",
    "\n",
    "esrb_sales_na = esrb_sales(actual_data, 'na_sales')\n",
    "print('Влияние рейтинга ESRB для Сев. Америки \\n', esrb_sales_na, '\\n')\n",
    "\n",
    "esrb_sales_eu = esrb_sales(actual_data, 'eu_sales')\n",
    "print('Влияние рейтинга ESRB для Европы \\n', esrb_sales_na, '\\n')\n",
    "\n",
    "esrb_sales_jp = esrb_sales(actual_data, 'jp_sales')\n",
    "print('Влияние рейтинга ESRB для Японии \\n', esrb_sales_na, '\\n')\n",
    "\n",
    "# Построим графики влияния рейтинга ESRB на продажи в каждом регионе\n",
    "plt.figure(figsize=(18, 6))\n",
    "\n",
    "plt.subplot(1, 3, 1)\n",
    "esrb_sales_na.plot(\n",
    "    kind = 'bar', \n",
    "    title = 'Влияние рейтинга ESRB на продажи в Сев. Америке',\n",
    "    xlabel = 'Рейтинг ESRB',\n",
    "    ylabel = 'Суммарные продажи (млн)',\n",
    "    color = 'blue',\n",
    "    grid = True\n",
    ")\n",
    "\n",
    "plt.subplot(1, 3, 2)\n",
    "esrb_sales_eu.plot(\n",
    "    kind = 'bar', \n",
    "    title = 'Влияние рейтинга ESRB на продажи в Европе',\n",
    "    xlabel = 'Рейтинг ESRB',\n",
    "    ylabel = 'Суммарные продажи (млн)',\n",
    "    color = 'green',\n",
    "    grid = True\n",
    ")\n",
    "\n",
    "plt.subplot(1, 3, 3)\n",
    "esrb_sales_jp.plot(\n",
    "    kind = 'bar', \n",
    "    title = 'Влияние рейтинга ESRB на продажи в Японии',\n",
    "    xlabel = 'Рейтинг ESRB',\n",
    "    ylabel = 'Суммарные продажи (млн)',\n",
    "    color = 'red',\n",
    "    grid = True\n",
    ")\n",
    "\n",
    "plt.show()"
   ]
  },
  {
   "cell_type": "markdown",
   "metadata": {},
   "source": [
    "<p>Америка и Европа опять близки по духу — доминирует рейтинг \"M\" (mature), и немного отставая, следом идет рейтинг \"E\" (everyone).  Это подтверждает сильный спрос на экшен и спортивные игры, который мы наблюдали ранее.\n",
    "В Японии же ситуация другая — преобладают игры с рейтингом \"T\" (teen), что указывает на аудиторию подростков. Примечательно, что игры с рейтингом \"М\" лишь на 3-й позиции.</p> \n",
    "<p>Рейтинг ESRB оказывает значительное влияние на продажи игр в разных регионах, и это влияние различается в зависимости от культурных предпочтений и демографии игроков.</p>"
   ]
  },
  {
   "cell_type": "markdown",
   "metadata": {},
   "source": [
    "<b>Промежуточный итог:</b>\n",
    "<p>С помощью анализа мы смогли сформировать портрет пользователей в разных регионах. В Северной Америке и Европе доминируют взрослые и семейные игры на консолях PlayStation и Xbox, тогда как в Японии предпочтение отдается портативным устройствам и ролевым играм. Рейтинг ESRB играет важную роль в выборе игр пользователями, и его влияние значительно варьируется в зависимости от региона.</p> "
   ]
  },
  {
   "cell_type": "markdown",
   "metadata": {},
   "source": [
    "## Шаг 5. Проверим гипотезы"
   ]
  },
  {
   "cell_type": "markdown",
   "metadata": {},
   "source": [
    "### Средние пользовательские рейтинги платформ Xbox One и PC одинаковые;"
   ]
  },
  {
   "cell_type": "markdown",
   "metadata": {},
   "source": [
    "Сформируем нулевыую  и альтернативную гипотезы:\n",
    "- <b>Нулевая гипотеза:</b> Средние пользовательские рейтинги платформ Xbox One и PC равны.\n",
    "- <b>Альтернативная гипотеза:</b> Средние пользовательские рейтинги на платформах Xbox One и PC различаются."
   ]
  },
  {
   "cell_type": "markdown",
   "metadata": {},
   "source": [
    "Будем проверять двустороннюю гипотезу"
   ]
  },
  {
   "cell_type": "code",
   "execution_count": 31,
   "metadata": {},
   "outputs": [
    {
     "name": "stdout",
     "output_type": "stream",
     "text": [
      "pvalue: 0.16097023533449153\n",
      "Не получилось отвергнуть нулевую гипотезу\n"
     ]
    }
   ],
   "source": [
    "# Фильтрация данных для платформ Xbox One и PC\n",
    "xone_data = actual_data.query('platform == \"XOne\"')\n",
    "pc_data = actual_data.query('platform == \"PC\"')\n",
    "\n",
    "# Уберем пропуски, т.к. с ними выдает ошибку\n",
    "xone_user_scores = xone_data['user_score'].dropna()\n",
    "pc_user_scores = pc_data['user_score'].dropna()\n",
    "\n",
    "alpha = 0.05 # назначим уровень стат. значимости\n",
    "\n",
    "result = st.ttest_ind(xone_user_scores, pc_user_scores, equal_var=False) # будем проверять неравность\n",
    "print('pvalue:', result.pvalue)\n",
    "\n",
    "if result.pvalue < alpha:\n",
    "    print('Отвергаем нулевую гипотезу')\n",
    "else:\n",
    "    print('Не получилось отвергнуть нулевую гипотезу')"
   ]
  },
  {
   "cell_type": "markdown",
   "metadata": {},
   "source": [
    "Выходит, что средние пользовательские рейтинги на платформах Xbox One и PC не имеют статистически значимых различий. Средние оценки пользователей на этих платформах можно считать примерно равными."
   ]
  },
  {
   "cell_type": "markdown",
   "metadata": {},
   "source": [
    "### Средние пользовательские рейтинги жанров Action (англ. «действие», экшен-игры) и Sports (англ. «спортивные соревнования») разные."
   ]
  },
  {
   "cell_type": "markdown",
   "metadata": {},
   "source": [
    "Сформируем нулевую  и альтернативную гипотезы:\n",
    "- <b>Нулевая гипотеза:</b> Средние пользовательские рейтинги жанров Action и Sports одинаковые.\n",
    "- <b>Альтернативная гипотеза:</b> Средние пользовательские рейтинги жанров Action и Sports различаются."
   ]
  },
  {
   "cell_type": "code",
   "execution_count": 32,
   "metadata": {},
   "outputs": [
    {
     "name": "stdout",
     "output_type": "stream",
     "text": [
      "p-value: 1.0\n",
      "Не получилось отвергнуть нулевую гипотезу\n"
     ]
    }
   ],
   "source": [
    "# Фильтрация данных для жанров Action и Sports\n",
    "action_data = actual_data.query('genre == \"Action\"')\n",
    "sports_data = actual_data.query('genre == \"Sports\"')\n",
    "\n",
    "# Уберем пропуски, т.к. с ними выдает ошибку\n",
    "action_user_scores = action_data['user_score'].dropna()\n",
    "sports_user_scores = action_data['user_score'].dropna()\n",
    "\n",
    "alpha = 0.05 # назначим уровень стат. значимости\n",
    "\n",
    "result = st.ttest_ind(action_user_scores, sports_user_scores, equal_var=False) # будем проверять неравность\n",
    "print(\"p-value:\", result.pvalue)\n",
    "\n",
    "if result.pvalue < alpha:\n",
    "    print('Отвергаем нулевую гипотезу')\n",
    "else:\n",
    "    print('Не получилось отвергнуть нулевую гипотезу')"
   ]
  },
  {
   "cell_type": "markdown",
   "metadata": {},
   "source": [
    "Таким образом, мы не обнаружили доказательств того, что оценки пользователей различаются между этими жанрами."
   ]
  },
  {
   "cell_type": "markdown",
   "metadata": {},
   "source": [
    "<b>Промежуточный итог:</b>\n",
    "<p>Средние пользовательские оценки для платформ Xbox One и PC являются примерно одинаковыми, что может свидетельствовать о сходстве игр, представленных на этих платформах, или о схожих предпочтениях их пользователей.</p>\n",
    "<p>Средние пользовательские оценки для жанров Action и Sports также не различаются, что указывает на равное восприятие этих жанров игроками.</p>\n",
    "<p>Эти результаты могут указывать на то, что пользовательские оценки, в рассматриваемых случаях, являются достаточно стабильными и не зависят от конкретной платформы или жанра.</p>\n",
    "<p>В обоих случаях мы воспользовались двухвыборочным t-тестом для независимых выборок. Он является подходящим инструментом для сравнения средних значений двух групп, особенно когда нет строгого предположения о равенстве дисперсий. Этот критерий позволил нам объективно оценить, существуют ли статистически значимые различия в средних пользовательских рейтингах между платформами и жанрами.</p>"
   ]
  },
  {
   "cell_type": "markdown",
   "metadata": {},
   "source": [
    "# Общий вывод"
   ]
  },
  {
   "cell_type": "markdown",
   "metadata": {},
   "source": [
    "1. Исследовательский анализ данных.\n",
    "- Изменение продаж по платформам: Лидирующие платформы, такие как PlayStation 4, Xbox One, и PlayStation 3, демонстрируют стабильные продажи, в то время как платформы, такие как Wii и Nintendo DS, теряют популярность. Платформы, находящиеся на пике жизненного цикла, показывают наибольший потенциал для дальнейшего роста.\n",
    "- Жанры с наибольшими продажами: Жанры Shooter, Sports и Platform занимают лидирующие позиции по суммарным медианным продажам, что свидетельствует о высоком спросе на динамичные и спортивные игры. Жанры Adventure, Puzzle и Strategy показали низкие продажи, что указывает на более узкую аудиторию.\n",
    "- Влияние оценок на продажи: Оценки критиков оказывают умеренное влияние на продажи игр, в то время как оценки пользователей показали слабое влияние. Это может говорить о важности профессиональной критики при продвижении игр на рынке. Интересно отметить,что данная тенденция не работает с платформой WiiU.\n",
    "\n",
    "2. Составление портрета пользователя каждого региона.\n",
    "- Северная Америка: Платформы PS4, Xbox One, а так же жанры Action и Shooter занимают лидирующие позиции. Игры с рейтингом \"M\" (mature) и \"E\" (everyone) наиболее популярны, что указывает на широкий спектр целевой аудитории.\n",
    "- Европа: PlayStation 4 и жанры Action и Shooter лидируют. Рейтинг \"M\" также занимает первое место по продажам, что подчеркивает популярность взрослого контента.\n",
    "- Япония: Портативные платформы, такие как Nintendo 3DS, доминируют, а жанр Role-Playing (RPG) значительно превосходит другие жанры по продажам. Игры с рейтингом \"Т\" являются самыми продаваемыми, что отражает значительное количество игр, ориентированных на подростковую аудиторию.\n",
    "\n",
    "3. Проверка гипотез.\n",
    "- Гипотеза 1 (Средние пользовательские рейтинги платформ Xbox One и PC одинаковые): Не было обнаружено статистически значимых различий в средних пользовательских рейтингах между платформами, что может свидетельствовать о схожести предпочтений пользователей на этих платформах.\n",
    "- Гипотеза 2 (Средние пользовательские рейтинги жанров Action и Sports разные): Также не было обнаружено значимых различий между средними пользовательскими рейтингами жанров, что указывает на равное восприятие этих жанров среди пользователей."
   ]
  },
  {
   "cell_type": "markdown",
   "metadata": {},
   "source": [
    "Проект позволил выявить ключевые факторы, влияющие на успех видеоигр в разных регионах и на разных платформах. Полученные данные подчеркивают важность платформ на пике жизненного цикла, жанров с высоким спросом и значимость профессиональных оценок критиков. Результаты анализа могут быть использованы для прогнозирования продаж и планирования маркетинговых кампаний, ориентированных на конкретные регионы и платформы."
   ]
  },
  {
   "cell_type": "code",
   "execution_count": null,
   "metadata": {},
   "outputs": [],
   "source": []
  }
 ],
 "metadata": {
  "ExecuteTimeLog": [
   {
    "duration": 80,
    "start_time": "2024-08-29T11:13:05.200Z"
   },
   {
    "duration": 632,
    "start_time": "2024-08-29T11:32:59.235Z"
   },
   {
    "duration": 22,
    "start_time": "2024-08-29T11:33:09.818Z"
   },
   {
    "duration": 23,
    "start_time": "2024-08-29T11:33:36.165Z"
   },
   {
    "duration": 78,
    "start_time": "2024-08-29T11:38:59.289Z"
   },
   {
    "duration": 16,
    "start_time": "2024-08-29T11:41:18.314Z"
   },
   {
    "duration": 6,
    "start_time": "2024-08-29T11:41:56.356Z"
   },
   {
    "duration": 8,
    "start_time": "2024-08-29T11:51:04.906Z"
   },
   {
    "duration": 20,
    "start_time": "2024-08-29T11:51:19.766Z"
   },
   {
    "duration": 16,
    "start_time": "2024-08-29T11:51:35.043Z"
   },
   {
    "duration": 17,
    "start_time": "2024-08-29T11:52:05.633Z"
   },
   {
    "duration": 17,
    "start_time": "2024-08-29T11:52:29.124Z"
   },
   {
    "duration": 3,
    "start_time": "2024-08-29T12:01:41.875Z"
   },
   {
    "duration": 423,
    "start_time": "2024-08-29T12:01:56.961Z"
   },
   {
    "duration": 57,
    "start_time": "2024-08-29T12:01:57.386Z"
   },
   {
    "duration": 17,
    "start_time": "2024-08-29T12:01:57.445Z"
   },
   {
    "duration": 23,
    "start_time": "2024-08-29T12:01:57.463Z"
   },
   {
    "duration": 16,
    "start_time": "2024-08-29T12:01:57.488Z"
   },
   {
    "duration": 28,
    "start_time": "2024-08-29T12:01:57.506Z"
   },
   {
    "duration": 6,
    "start_time": "2024-08-29T12:01:57.561Z"
   },
   {
    "duration": 8,
    "start_time": "2024-08-29T12:09:44.157Z"
   },
   {
    "duration": 6,
    "start_time": "2024-08-29T12:10:12.203Z"
   },
   {
    "duration": 4,
    "start_time": "2024-08-29T12:10:20.188Z"
   },
   {
    "duration": 6,
    "start_time": "2024-08-29T12:10:24.131Z"
   },
   {
    "duration": 7,
    "start_time": "2024-08-29T12:10:35.904Z"
   },
   {
    "duration": 9,
    "start_time": "2024-08-29T12:11:39.624Z"
   },
   {
    "duration": 68,
    "start_time": "2024-08-29T12:13:57.424Z"
   },
   {
    "duration": 4,
    "start_time": "2024-08-29T12:14:11.805Z"
   },
   {
    "duration": 8,
    "start_time": "2024-08-29T12:14:17.881Z"
   },
   {
    "duration": 6,
    "start_time": "2024-08-29T12:14:27.212Z"
   },
   {
    "duration": 404,
    "start_time": "2024-08-29T12:14:51.087Z"
   },
   {
    "duration": 59,
    "start_time": "2024-08-29T12:14:51.493Z"
   },
   {
    "duration": 17,
    "start_time": "2024-08-29T12:14:51.554Z"
   },
   {
    "duration": 24,
    "start_time": "2024-08-29T12:14:51.574Z"
   },
   {
    "duration": 17,
    "start_time": "2024-08-29T12:14:51.601Z"
   },
   {
    "duration": 28,
    "start_time": "2024-08-29T12:14:51.620Z"
   },
   {
    "duration": 12,
    "start_time": "2024-08-29T12:14:51.650Z"
   },
   {
    "duration": 45,
    "start_time": "2024-08-29T12:14:51.664Z"
   },
   {
    "duration": 20,
    "start_time": "2024-08-29T12:14:51.711Z"
   },
   {
    "duration": 90,
    "start_time": "2024-08-29T12:18:56.296Z"
   },
   {
    "duration": 10,
    "start_time": "2024-08-29T12:19:33.218Z"
   },
   {
    "duration": 12,
    "start_time": "2024-08-29T12:19:40.544Z"
   },
   {
    "duration": 3,
    "start_time": "2024-08-29T12:20:04.135Z"
   },
   {
    "duration": 4,
    "start_time": "2024-08-29T12:20:10.444Z"
   },
   {
    "duration": 16,
    "start_time": "2024-08-29T12:20:12.723Z"
   },
   {
    "duration": 3,
    "start_time": "2024-08-29T12:22:14.803Z"
   },
   {
    "duration": 9,
    "start_time": "2024-08-29T12:22:27.685Z"
   },
   {
    "duration": 11,
    "start_time": "2024-08-29T12:22:37.229Z"
   },
   {
    "duration": 6,
    "start_time": "2024-08-29T12:22:53.101Z"
   },
   {
    "duration": 7,
    "start_time": "2024-08-29T13:42:37.691Z"
   },
   {
    "duration": 400,
    "start_time": "2024-08-29T13:42:55.575Z"
   },
   {
    "duration": 56,
    "start_time": "2024-08-29T13:42:55.977Z"
   },
   {
    "duration": 17,
    "start_time": "2024-08-29T13:42:56.034Z"
   },
   {
    "duration": 27,
    "start_time": "2024-08-29T13:42:56.053Z"
   },
   {
    "duration": 15,
    "start_time": "2024-08-29T13:42:56.082Z"
   },
   {
    "duration": 21,
    "start_time": "2024-08-29T13:42:56.098Z"
   },
   {
    "duration": 7,
    "start_time": "2024-08-29T13:42:56.121Z"
   },
   {
    "duration": 10,
    "start_time": "2024-08-29T13:42:56.129Z"
   },
   {
    "duration": 14,
    "start_time": "2024-08-29T13:45:49.941Z"
   },
   {
    "duration": 72,
    "start_time": "2024-08-29T13:53:47.470Z"
   },
   {
    "duration": 66,
    "start_time": "2024-08-29T13:54:15.030Z"
   },
   {
    "duration": 3,
    "start_time": "2024-08-29T13:54:26.770Z"
   },
   {
    "duration": 3,
    "start_time": "2024-08-29T13:55:00.934Z"
   },
   {
    "duration": 28,
    "start_time": "2024-08-29T14:08:32.435Z"
   },
   {
    "duration": 10,
    "start_time": "2024-08-29T14:09:07.162Z"
   },
   {
    "duration": 9,
    "start_time": "2024-08-29T14:09:29.875Z"
   },
   {
    "duration": 466,
    "start_time": "2024-08-29T14:13:52.287Z"
   },
   {
    "duration": 69,
    "start_time": "2024-08-29T14:13:52.755Z"
   },
   {
    "duration": 17,
    "start_time": "2024-08-29T14:13:52.826Z"
   },
   {
    "duration": 34,
    "start_time": "2024-08-29T14:13:52.845Z"
   },
   {
    "duration": 4,
    "start_time": "2024-08-29T14:13:52.881Z"
   },
   {
    "duration": 16,
    "start_time": "2024-08-29T14:13:52.886Z"
   },
   {
    "duration": 11,
    "start_time": "2024-08-29T14:13:52.904Z"
   },
   {
    "duration": 9,
    "start_time": "2024-08-29T14:13:52.917Z"
   },
   {
    "duration": 15,
    "start_time": "2024-08-29T14:13:52.927Z"
   },
   {
    "duration": 29,
    "start_time": "2024-08-29T14:13:52.944Z"
   },
   {
    "duration": 14,
    "start_time": "2024-08-29T14:13:52.976Z"
   },
   {
    "duration": 2,
    "start_time": "2024-08-29T14:14:13.230Z"
   },
   {
    "duration": 64,
    "start_time": "2024-08-29T14:15:25.338Z"
   },
   {
    "duration": 8,
    "start_time": "2024-08-29T14:15:52.206Z"
   },
   {
    "duration": 468,
    "start_time": "2024-08-29T14:15:58.470Z"
   },
   {
    "duration": 62,
    "start_time": "2024-08-29T14:15:58.940Z"
   },
   {
    "duration": 16,
    "start_time": "2024-08-29T14:15:59.004Z"
   },
   {
    "duration": 21,
    "start_time": "2024-08-29T14:15:59.022Z"
   },
   {
    "duration": 4,
    "start_time": "2024-08-29T14:15:59.045Z"
   },
   {
    "duration": 19,
    "start_time": "2024-08-29T14:15:59.066Z"
   },
   {
    "duration": 6,
    "start_time": "2024-08-29T14:15:59.087Z"
   },
   {
    "duration": 6,
    "start_time": "2024-08-29T14:15:59.095Z"
   },
   {
    "duration": 10,
    "start_time": "2024-08-29T14:15:59.102Z"
   },
   {
    "duration": 11,
    "start_time": "2024-08-29T14:15:59.113Z"
   },
   {
    "duration": 57,
    "start_time": "2024-08-29T14:15:59.126Z"
   },
   {
    "duration": 66,
    "start_time": "2024-08-29T14:15:59.185Z"
   },
   {
    "duration": 7,
    "start_time": "2024-08-29T14:16:10.737Z"
   },
   {
    "duration": 9,
    "start_time": "2024-08-29T14:16:14.002Z"
   },
   {
    "duration": 451,
    "start_time": "2024-08-29T14:16:31.145Z"
   },
   {
    "duration": 55,
    "start_time": "2024-08-29T14:16:31.598Z"
   },
   {
    "duration": 27,
    "start_time": "2024-08-29T14:16:31.655Z"
   },
   {
    "duration": 20,
    "start_time": "2024-08-29T14:16:31.684Z"
   },
   {
    "duration": 3,
    "start_time": "2024-08-29T14:16:31.706Z"
   },
   {
    "duration": 35,
    "start_time": "2024-08-29T14:16:31.711Z"
   },
   {
    "duration": 6,
    "start_time": "2024-08-29T14:16:31.748Z"
   },
   {
    "duration": 21,
    "start_time": "2024-08-29T14:16:31.756Z"
   },
   {
    "duration": 15,
    "start_time": "2024-08-29T14:16:31.779Z"
   },
   {
    "duration": 19,
    "start_time": "2024-08-29T14:16:31.795Z"
   },
   {
    "duration": 19,
    "start_time": "2024-08-29T14:19:25.269Z"
   },
   {
    "duration": 25,
    "start_time": "2024-08-29T14:20:13.929Z"
   },
   {
    "duration": 444,
    "start_time": "2024-08-29T14:20:20.630Z"
   },
   {
    "duration": 67,
    "start_time": "2024-08-29T14:20:21.077Z"
   },
   {
    "duration": 22,
    "start_time": "2024-08-29T14:20:21.147Z"
   },
   {
    "duration": 23,
    "start_time": "2024-08-29T14:20:21.171Z"
   },
   {
    "duration": 16,
    "start_time": "2024-08-29T14:20:21.196Z"
   },
   {
    "duration": 27,
    "start_time": "2024-08-29T14:20:21.214Z"
   },
   {
    "duration": 8,
    "start_time": "2024-08-29T14:20:21.243Z"
   },
   {
    "duration": 15,
    "start_time": "2024-08-29T14:20:21.252Z"
   },
   {
    "duration": 16,
    "start_time": "2024-08-29T14:20:21.268Z"
   },
   {
    "duration": 10,
    "start_time": "2024-08-29T14:20:21.286Z"
   },
   {
    "duration": 26,
    "start_time": "2024-08-29T14:20:21.298Z"
   },
   {
    "duration": 23,
    "start_time": "2024-08-29T14:21:08.820Z"
   },
   {
    "duration": 38,
    "start_time": "2024-08-29T14:36:22.248Z"
   },
   {
    "duration": 25,
    "start_time": "2024-08-29T14:37:03.245Z"
   },
   {
    "duration": 22,
    "start_time": "2024-08-29T14:37:07.455Z"
   },
   {
    "duration": 11,
    "start_time": "2024-08-29T14:45:07.035Z"
   },
   {
    "duration": 23,
    "start_time": "2024-08-29T14:45:19.188Z"
   },
   {
    "duration": 23,
    "start_time": "2024-08-29T14:45:29.769Z"
   },
   {
    "duration": 25,
    "start_time": "2024-08-29T14:46:48.185Z"
   },
   {
    "duration": 510,
    "start_time": "2024-08-29T14:53:39.930Z"
   },
   {
    "duration": 6,
    "start_time": "2024-08-29T14:55:18.240Z"
   },
   {
    "duration": 7,
    "start_time": "2024-08-29T14:55:27.387Z"
   },
   {
    "duration": 10,
    "start_time": "2024-08-29T14:55:42.648Z"
   },
   {
    "duration": 68,
    "start_time": "2024-08-29T14:57:38.382Z"
   },
   {
    "duration": 388,
    "start_time": "2024-08-29T14:57:43.232Z"
   },
   {
    "duration": 67,
    "start_time": "2024-08-29T14:58:00.323Z"
   },
   {
    "duration": 76,
    "start_time": "2024-08-29T14:58:10.287Z"
   },
   {
    "duration": 91,
    "start_time": "2024-08-29T14:58:27.035Z"
   },
   {
    "duration": 428,
    "start_time": "2024-08-29T14:59:01.701Z"
   },
   {
    "duration": 420,
    "start_time": "2024-08-29T14:59:11.829Z"
   },
   {
    "duration": 353,
    "start_time": "2024-08-29T14:59:29.072Z"
   },
   {
    "duration": 8,
    "start_time": "2024-08-29T15:15:52.013Z"
   },
   {
    "duration": 173,
    "start_time": "2024-08-29T15:18:26.322Z"
   },
   {
    "duration": 29,
    "start_time": "2024-08-29T15:19:11.820Z"
   },
   {
    "duration": 22,
    "start_time": "2024-08-29T15:19:18.893Z"
   },
   {
    "duration": 99,
    "start_time": "2024-08-29T15:19:56.463Z"
   },
   {
    "duration": 555,
    "start_time": "2024-08-29T15:20:43.027Z"
   },
   {
    "duration": 634,
    "start_time": "2024-08-29T15:21:01.475Z"
   },
   {
    "duration": 673,
    "start_time": "2024-08-29T15:21:19.481Z"
   },
   {
    "duration": 18,
    "start_time": "2024-08-29T15:22:52.721Z"
   },
   {
    "duration": 30,
    "start_time": "2024-08-29T15:22:57.239Z"
   },
   {
    "duration": 22,
    "start_time": "2024-08-29T15:23:18.620Z"
   },
   {
    "duration": 19,
    "start_time": "2024-08-29T15:24:28.957Z"
   },
   {
    "duration": 12,
    "start_time": "2024-08-29T15:25:28.358Z"
   },
   {
    "duration": 180,
    "start_time": "2024-08-29T15:26:20.600Z"
   },
   {
    "duration": 636,
    "start_time": "2024-08-29T15:28:51.120Z"
   },
   {
    "duration": 669,
    "start_time": "2024-08-29T15:29:23.615Z"
   },
   {
    "duration": 101,
    "start_time": "2024-08-29T15:31:25.631Z"
   },
   {
    "duration": 32,
    "start_time": "2024-08-29T15:33:46.424Z"
   },
   {
    "duration": 392,
    "start_time": "2024-08-29T15:33:54.244Z"
   },
   {
    "duration": 33,
    "start_time": "2024-08-29T15:34:22.088Z"
   },
   {
    "duration": 28,
    "start_time": "2024-08-29T15:35:47.460Z"
   },
   {
    "duration": 69,
    "start_time": "2024-08-29T15:35:51.108Z"
   },
   {
    "duration": 24,
    "start_time": "2024-08-29T15:36:01.374Z"
   },
   {
    "duration": 18,
    "start_time": "2024-08-29T15:36:08.281Z"
   },
   {
    "duration": 18,
    "start_time": "2024-08-29T15:36:20.110Z"
   },
   {
    "duration": 18,
    "start_time": "2024-08-29T15:36:23.479Z"
   },
   {
    "duration": 33,
    "start_time": "2024-08-29T15:37:08.523Z"
   },
   {
    "duration": 781,
    "start_time": "2024-08-29T15:37:14.541Z"
   },
   {
    "duration": 67,
    "start_time": "2024-08-29T15:37:15.325Z"
   },
   {
    "duration": 18,
    "start_time": "2024-08-29T15:37:15.393Z"
   },
   {
    "duration": 36,
    "start_time": "2024-08-29T15:37:15.412Z"
   },
   {
    "duration": 18,
    "start_time": "2024-08-29T15:37:15.451Z"
   },
   {
    "duration": 33,
    "start_time": "2024-08-29T15:37:15.478Z"
   },
   {
    "duration": 11,
    "start_time": "2024-08-29T15:37:15.513Z"
   },
   {
    "duration": 8,
    "start_time": "2024-08-29T15:37:15.526Z"
   },
   {
    "duration": 28,
    "start_time": "2024-08-29T15:37:15.536Z"
   },
   {
    "duration": 18,
    "start_time": "2024-08-29T15:37:15.570Z"
   },
   {
    "duration": 44,
    "start_time": "2024-08-29T15:37:15.589Z"
   },
   {
    "duration": 36,
    "start_time": "2024-08-29T15:37:15.635Z"
   },
   {
    "duration": 505,
    "start_time": "2024-08-29T15:37:15.676Z"
   },
   {
    "duration": 13,
    "start_time": "2024-08-29T15:37:16.185Z"
   },
   {
    "duration": 125,
    "start_time": "2024-08-29T15:37:16.200Z"
   },
   {
    "duration": 26,
    "start_time": "2024-08-29T15:39:06.381Z"
   },
   {
    "duration": 110,
    "start_time": "2024-08-29T15:39:17.828Z"
   },
   {
    "duration": 26,
    "start_time": "2024-08-29T15:39:21.393Z"
   },
   {
    "duration": 30,
    "start_time": "2024-08-29T15:39:35.624Z"
   },
   {
    "duration": 71,
    "start_time": "2024-08-29T15:39:45.214Z"
   },
   {
    "duration": 35,
    "start_time": "2024-08-29T15:39:49.811Z"
   },
   {
    "duration": 25,
    "start_time": "2024-08-29T15:40:08.373Z"
   },
   {
    "duration": 384,
    "start_time": "2024-08-29T15:40:15.410Z"
   },
   {
    "duration": 6,
    "start_time": "2024-08-29T15:42:27.036Z"
   },
   {
    "duration": 423,
    "start_time": "2024-08-29T15:42:58.007Z"
   },
   {
    "duration": 330,
    "start_time": "2024-08-29T15:43:15.874Z"
   },
   {
    "duration": 342,
    "start_time": "2024-08-29T15:44:57.758Z"
   },
   {
    "duration": 341,
    "start_time": "2024-08-29T15:55:03.570Z"
   },
   {
    "duration": 316,
    "start_time": "2024-08-29T15:55:16.676Z"
   },
   {
    "duration": 450,
    "start_time": "2024-08-29T15:57:42.432Z"
   },
   {
    "duration": 28,
    "start_time": "2024-08-29T16:07:38.587Z"
   },
   {
    "duration": 20,
    "start_time": "2024-08-29T16:09:04.406Z"
   },
   {
    "duration": 18,
    "start_time": "2024-08-29T16:09:27.476Z"
   },
   {
    "duration": 19,
    "start_time": "2024-08-29T16:09:50.743Z"
   },
   {
    "duration": 10,
    "start_time": "2024-08-29T16:14:33.192Z"
   },
   {
    "duration": 6,
    "start_time": "2024-08-29T16:16:00.538Z"
   },
   {
    "duration": 402,
    "start_time": "2024-08-29T16:19:50.636Z"
   },
   {
    "duration": 25,
    "start_time": "2024-08-29T16:26:48.352Z"
   },
   {
    "duration": 11,
    "start_time": "2024-08-29T16:26:50.753Z"
   },
   {
    "duration": 22,
    "start_time": "2024-08-29T16:27:30.566Z"
   },
   {
    "duration": 7,
    "start_time": "2024-08-29T16:27:33.533Z"
   },
   {
    "duration": 50,
    "start_time": "2024-08-30T10:50:05.316Z"
   },
   {
    "duration": 1447,
    "start_time": "2024-08-30T10:50:09.064Z"
   },
   {
    "duration": 237,
    "start_time": "2024-08-30T10:50:10.513Z"
   },
   {
    "duration": 17,
    "start_time": "2024-08-30T10:50:10.751Z"
   },
   {
    "duration": 16,
    "start_time": "2024-08-30T10:50:10.770Z"
   },
   {
    "duration": 3,
    "start_time": "2024-08-30T10:50:10.789Z"
   },
   {
    "duration": 36,
    "start_time": "2024-08-30T10:50:10.794Z"
   },
   {
    "duration": 7,
    "start_time": "2024-08-30T10:50:10.831Z"
   },
   {
    "duration": 5,
    "start_time": "2024-08-30T10:50:10.840Z"
   },
   {
    "duration": 9,
    "start_time": "2024-08-30T10:50:10.847Z"
   },
   {
    "duration": 12,
    "start_time": "2024-08-30T10:50:10.857Z"
   },
   {
    "duration": 21,
    "start_time": "2024-08-30T10:50:10.870Z"
   },
   {
    "duration": 46,
    "start_time": "2024-08-30T10:50:10.893Z"
   },
   {
    "duration": 338,
    "start_time": "2024-08-30T10:50:10.940Z"
   },
   {
    "duration": 8,
    "start_time": "2024-08-30T10:50:11.280Z"
   },
   {
    "duration": 537,
    "start_time": "2024-08-30T10:50:11.289Z"
   },
   {
    "duration": 67,
    "start_time": "2024-08-30T10:50:11.828Z"
   },
   {
    "duration": 6,
    "start_time": "2024-08-30T10:50:11.897Z"
   },
   {
    "duration": 357,
    "start_time": "2024-08-30T10:50:30.444Z"
   },
   {
    "duration": 217,
    "start_time": "2024-08-30T10:53:31.707Z"
   },
   {
    "duration": 68,
    "start_time": "2024-08-30T10:54:43.043Z"
   },
   {
    "duration": 8,
    "start_time": "2024-08-30T10:54:52.422Z"
   },
   {
    "duration": 655,
    "start_time": "2024-08-30T10:55:41.205Z"
   },
   {
    "duration": 762,
    "start_time": "2024-08-30T10:56:04.670Z"
   },
   {
    "duration": 664,
    "start_time": "2024-08-30T10:56:37.146Z"
   },
   {
    "duration": 104,
    "start_time": "2024-08-30T10:59:09.149Z"
   },
   {
    "duration": 12,
    "start_time": "2024-08-30T11:01:16.750Z"
   },
   {
    "duration": 1699,
    "start_time": "2024-08-30T11:01:25.435Z"
   },
   {
    "duration": 687,
    "start_time": "2024-08-30T11:01:32.806Z"
   },
   {
    "duration": 652,
    "start_time": "2024-08-30T11:03:42.091Z"
   },
   {
    "duration": 762,
    "start_time": "2024-08-30T11:03:48.541Z"
   },
   {
    "duration": 35,
    "start_time": "2024-08-30T11:08:43.820Z"
   },
   {
    "duration": 179,
    "start_time": "2024-08-30T11:09:01.142Z"
   },
   {
    "duration": 39,
    "start_time": "2024-08-30T11:09:13.343Z"
   },
   {
    "duration": 226,
    "start_time": "2024-08-30T11:11:26.354Z"
   },
   {
    "duration": 117,
    "start_time": "2024-08-30T11:11:55.319Z"
   },
   {
    "duration": 254,
    "start_time": "2024-08-30T11:13:25.182Z"
   },
   {
    "duration": 317,
    "start_time": "2024-08-30T11:15:02.777Z"
   },
   {
    "duration": 237,
    "start_time": "2024-08-30T11:15:29.284Z"
   },
   {
    "duration": 250,
    "start_time": "2024-08-30T11:15:48.782Z"
   },
   {
    "duration": 224,
    "start_time": "2024-08-30T11:16:01.759Z"
   },
   {
    "duration": 244,
    "start_time": "2024-08-30T11:16:13.689Z"
   },
   {
    "duration": 228,
    "start_time": "2024-08-30T11:16:27.923Z"
   },
   {
    "duration": 29,
    "start_time": "2024-08-30T11:40:07.209Z"
   },
   {
    "duration": 119,
    "start_time": "2024-08-30T11:40:30.466Z"
   },
   {
    "duration": 5,
    "start_time": "2024-08-30T11:41:29.204Z"
   },
   {
    "duration": 17,
    "start_time": "2024-08-30T11:42:09.307Z"
   },
   {
    "duration": 47,
    "start_time": "2024-08-30T11:42:57.974Z"
   },
   {
    "duration": 15,
    "start_time": "2024-08-30T11:43:20.599Z"
   },
   {
    "duration": 72,
    "start_time": "2024-08-30T11:44:08.845Z"
   },
   {
    "duration": 109,
    "start_time": "2024-08-30T11:47:29.349Z"
   },
   {
    "duration": 1170,
    "start_time": "2024-08-30T11:47:47.319Z"
   },
   {
    "duration": 394,
    "start_time": "2024-08-30T11:48:14.214Z"
   },
   {
    "duration": 232,
    "start_time": "2024-08-30T11:50:41.310Z"
   },
   {
    "duration": 246,
    "start_time": "2024-08-30T11:51:34.865Z"
   },
   {
    "duration": 239,
    "start_time": "2024-08-30T11:52:01.947Z"
   },
   {
    "duration": 232,
    "start_time": "2024-08-30T11:52:10.628Z"
   },
   {
    "duration": 412,
    "start_time": "2024-08-30T11:52:55.185Z"
   },
   {
    "duration": 342,
    "start_time": "2024-08-30T11:53:03.785Z"
   },
   {
    "duration": 329,
    "start_time": "2024-08-30T11:53:17.977Z"
   },
   {
    "duration": 626,
    "start_time": "2024-08-30T11:54:48.446Z"
   },
   {
    "duration": 59,
    "start_time": "2024-08-30T11:54:49.073Z"
   },
   {
    "duration": 14,
    "start_time": "2024-08-30T11:54:49.133Z"
   },
   {
    "duration": 16,
    "start_time": "2024-08-30T11:54:49.148Z"
   },
   {
    "duration": 3,
    "start_time": "2024-08-30T11:54:49.166Z"
   },
   {
    "duration": 16,
    "start_time": "2024-08-30T11:54:49.170Z"
   },
   {
    "duration": 50,
    "start_time": "2024-08-30T11:54:49.187Z"
   },
   {
    "duration": 5,
    "start_time": "2024-08-30T11:54:49.238Z"
   },
   {
    "duration": 17,
    "start_time": "2024-08-30T11:54:49.244Z"
   },
   {
    "duration": 9,
    "start_time": "2024-08-30T11:54:49.262Z"
   },
   {
    "duration": 21,
    "start_time": "2024-08-30T11:54:49.272Z"
   },
   {
    "duration": 15,
    "start_time": "2024-08-30T11:54:49.294Z"
   },
   {
    "duration": 360,
    "start_time": "2024-08-30T11:54:49.311Z"
   },
   {
    "duration": 8,
    "start_time": "2024-08-30T11:54:49.673Z"
   },
   {
    "duration": 368,
    "start_time": "2024-08-30T11:54:49.682Z"
   },
   {
    "duration": 58,
    "start_time": "2024-08-30T11:54:50.051Z"
   },
   {
    "duration": 6,
    "start_time": "2024-08-30T11:54:50.111Z"
   },
   {
    "duration": 49,
    "start_time": "2024-08-30T11:54:50.118Z"
   },
   {
    "duration": 284,
    "start_time": "2024-08-30T11:54:50.169Z"
   },
   {
    "duration": 16,
    "start_time": "2024-08-30T11:54:50.455Z"
   },
   {
    "duration": 18,
    "start_time": "2024-08-30T11:54:50.472Z"
   },
   {
    "duration": 365,
    "start_time": "2024-08-30T11:54:50.491Z"
   },
   {
    "duration": 368,
    "start_time": "2024-08-30T11:55:23.408Z"
   },
   {
    "duration": 335,
    "start_time": "2024-08-30T11:56:27.409Z"
   },
   {
    "duration": 338,
    "start_time": "2024-08-30T11:57:17.377Z"
   },
   {
    "duration": 408,
    "start_time": "2024-08-30T11:57:28.269Z"
   },
   {
    "duration": 4,
    "start_time": "2024-08-30T11:57:33.494Z"
   },
   {
    "duration": 347,
    "start_time": "2024-08-30T11:57:39.033Z"
   },
   {
    "duration": 477,
    "start_time": "2024-08-30T11:58:09.389Z"
   },
   {
    "duration": 340,
    "start_time": "2024-08-30T11:58:36.667Z"
   },
   {
    "duration": 69,
    "start_time": "2024-08-30T12:01:50.563Z"
   },
   {
    "duration": 8,
    "start_time": "2024-08-30T12:09:03.713Z"
   },
   {
    "duration": 292,
    "start_time": "2024-08-30T12:09:14.885Z"
   },
   {
    "duration": 273,
    "start_time": "2024-08-30T12:09:33.010Z"
   },
   {
    "duration": 351,
    "start_time": "2024-08-30T12:09:41.066Z"
   },
   {
    "duration": 332,
    "start_time": "2024-08-30T12:10:04.818Z"
   },
   {
    "duration": 56,
    "start_time": "2024-08-30T12:10:33.286Z"
   },
   {
    "duration": 47,
    "start_time": "2024-08-30T12:10:38.497Z"
   },
   {
    "duration": 320,
    "start_time": "2024-08-30T12:10:41.269Z"
   },
   {
    "duration": 329,
    "start_time": "2024-08-30T12:11:12.998Z"
   },
   {
    "duration": 336,
    "start_time": "2024-08-30T12:12:10.463Z"
   },
   {
    "duration": 373,
    "start_time": "2024-08-30T12:15:27.630Z"
   },
   {
    "duration": 316,
    "start_time": "2024-08-30T12:16:44.590Z"
   },
   {
    "duration": 67,
    "start_time": "2024-08-30T12:40:14.777Z"
   },
   {
    "duration": 53,
    "start_time": "2024-08-30T12:40:54.383Z"
   },
   {
    "duration": 34,
    "start_time": "2024-08-30T12:40:59.730Z"
   },
   {
    "duration": 768,
    "start_time": "2024-08-30T12:41:08.244Z"
   },
   {
    "duration": 273,
    "start_time": "2024-08-30T12:42:05.114Z"
   },
   {
    "duration": 817,
    "start_time": "2024-08-30T12:42:21.691Z"
   },
   {
    "duration": 873,
    "start_time": "2024-08-30T12:43:35.683Z"
   },
   {
    "duration": 847,
    "start_time": "2024-08-30T12:44:13.303Z"
   },
   {
    "duration": 933,
    "start_time": "2024-08-30T12:44:29.670Z"
   },
   {
    "duration": 830,
    "start_time": "2024-08-30T12:44:48.571Z"
   },
   {
    "duration": 923,
    "start_time": "2024-08-30T12:45:09.667Z"
   },
   {
    "duration": 846,
    "start_time": "2024-08-30T12:46:09.066Z"
   },
   {
    "duration": 876,
    "start_time": "2024-08-30T12:46:23.800Z"
   },
   {
    "duration": 871,
    "start_time": "2024-08-30T12:46:59.487Z"
   },
   {
    "duration": 128,
    "start_time": "2024-08-30T12:48:01.991Z"
   },
   {
    "duration": 858,
    "start_time": "2024-08-30T12:48:13.658Z"
   },
   {
    "duration": 916,
    "start_time": "2024-08-30T12:48:30.826Z"
   },
   {
    "duration": 807,
    "start_time": "2024-08-30T12:48:51.445Z"
   },
   {
    "duration": 907,
    "start_time": "2024-08-30T12:49:13.225Z"
   },
   {
    "duration": 834,
    "start_time": "2024-08-30T12:49:45.237Z"
   },
   {
    "duration": 911,
    "start_time": "2024-08-30T12:50:19.790Z"
   },
   {
    "duration": 866,
    "start_time": "2024-08-30T12:50:49.642Z"
   },
   {
    "duration": 896,
    "start_time": "2024-08-30T12:51:20.672Z"
   },
   {
    "duration": 810,
    "start_time": "2024-08-30T12:52:18.530Z"
   },
   {
    "duration": 8,
    "start_time": "2024-08-30T13:08:38.942Z"
   },
   {
    "duration": 7,
    "start_time": "2024-08-30T13:08:44.594Z"
   },
   {
    "duration": 6,
    "start_time": "2024-08-30T13:09:04.844Z"
   },
   {
    "duration": 196,
    "start_time": "2024-08-30T13:11:08.835Z"
   },
   {
    "duration": 253,
    "start_time": "2024-08-30T13:11:27.480Z"
   },
   {
    "duration": 201,
    "start_time": "2024-08-30T13:11:41.032Z"
   },
   {
    "duration": 16,
    "start_time": "2024-08-30T13:43:08.207Z"
   },
   {
    "duration": 611,
    "start_time": "2024-08-30T13:43:35.690Z"
   },
   {
    "duration": 60,
    "start_time": "2024-08-30T13:43:36.303Z"
   },
   {
    "duration": 15,
    "start_time": "2024-08-30T13:43:36.365Z"
   },
   {
    "duration": 16,
    "start_time": "2024-08-30T13:43:36.381Z"
   },
   {
    "duration": 2,
    "start_time": "2024-08-30T13:43:36.399Z"
   },
   {
    "duration": 31,
    "start_time": "2024-08-30T13:43:36.403Z"
   },
   {
    "duration": 16,
    "start_time": "2024-08-30T13:43:36.435Z"
   },
   {
    "duration": 5,
    "start_time": "2024-08-30T13:43:36.452Z"
   },
   {
    "duration": 9,
    "start_time": "2024-08-30T13:43:36.459Z"
   },
   {
    "duration": 8,
    "start_time": "2024-08-30T13:43:36.470Z"
   },
   {
    "duration": 23,
    "start_time": "2024-08-30T13:43:36.479Z"
   },
   {
    "duration": 16,
    "start_time": "2024-08-30T13:43:36.525Z"
   },
   {
    "duration": 365,
    "start_time": "2024-08-30T13:43:36.542Z"
   },
   {
    "duration": 16,
    "start_time": "2024-08-30T13:43:36.910Z"
   },
   {
    "duration": 446,
    "start_time": "2024-08-30T13:43:36.928Z"
   },
   {
    "duration": 71,
    "start_time": "2024-08-30T13:43:37.375Z"
   },
   {
    "duration": 6,
    "start_time": "2024-08-30T13:43:37.448Z"
   },
   {
    "duration": 70,
    "start_time": "2024-08-30T13:43:37.456Z"
   },
   {
    "duration": 248,
    "start_time": "2024-08-30T13:43:37.527Z"
   },
   {
    "duration": 18,
    "start_time": "2024-08-30T13:43:37.776Z"
   },
   {
    "duration": 30,
    "start_time": "2024-08-30T13:43:37.796Z"
   },
   {
    "duration": 359,
    "start_time": "2024-08-30T13:43:37.828Z"
   },
   {
    "duration": 887,
    "start_time": "2024-08-30T13:43:38.189Z"
   },
   {
    "duration": 224,
    "start_time": "2024-08-30T13:43:39.078Z"
   },
   {
    "duration": 637,
    "start_time": "2024-08-30T13:44:18.339Z"
   },
   {
    "duration": 60,
    "start_time": "2024-08-30T13:44:18.977Z"
   },
   {
    "duration": 16,
    "start_time": "2024-08-30T13:44:19.039Z"
   },
   {
    "duration": 24,
    "start_time": "2024-08-30T13:44:19.056Z"
   },
   {
    "duration": 3,
    "start_time": "2024-08-30T13:44:19.083Z"
   },
   {
    "duration": 40,
    "start_time": "2024-08-30T13:44:19.087Z"
   },
   {
    "duration": 22,
    "start_time": "2024-08-30T13:44:19.128Z"
   },
   {
    "duration": 14,
    "start_time": "2024-08-30T13:44:19.152Z"
   },
   {
    "duration": 14,
    "start_time": "2024-08-30T13:44:19.167Z"
   },
   {
    "duration": 9,
    "start_time": "2024-08-30T13:44:19.183Z"
   },
   {
    "duration": 23,
    "start_time": "2024-08-30T13:44:19.193Z"
   },
   {
    "duration": 20,
    "start_time": "2024-08-30T13:44:19.218Z"
   },
   {
    "duration": 354,
    "start_time": "2024-08-30T13:44:19.239Z"
   },
   {
    "duration": 12,
    "start_time": "2024-08-30T13:44:19.597Z"
   },
   {
    "duration": 422,
    "start_time": "2024-08-30T13:44:19.612Z"
   },
   {
    "duration": 71,
    "start_time": "2024-08-30T13:44:20.036Z"
   },
   {
    "duration": 7,
    "start_time": "2024-08-30T13:44:20.109Z"
   },
   {
    "duration": 44,
    "start_time": "2024-08-30T13:44:20.126Z"
   },
   {
    "duration": 292,
    "start_time": "2024-08-30T13:44:20.172Z"
   },
   {
    "duration": 18,
    "start_time": "2024-08-30T13:44:20.465Z"
   },
   {
    "duration": 32,
    "start_time": "2024-08-30T13:44:20.484Z"
   },
   {
    "duration": 352,
    "start_time": "2024-08-30T13:44:20.518Z"
   },
   {
    "duration": 882,
    "start_time": "2024-08-30T13:44:20.871Z"
   },
   {
    "duration": 215,
    "start_time": "2024-08-30T13:44:21.755Z"
   },
   {
    "duration": 923,
    "start_time": "2024-08-30T13:45:33.675Z"
   },
   {
    "duration": 900,
    "start_time": "2024-08-30T13:46:15.185Z"
   },
   {
    "duration": 19,
    "start_time": "2024-08-30T14:49:25.437Z"
   },
   {
    "duration": 13,
    "start_time": "2024-08-30T14:49:48.414Z"
   },
   {
    "duration": 19,
    "start_time": "2024-08-30T14:49:54.991Z"
   },
   {
    "duration": 18,
    "start_time": "2024-08-30T14:53:45.355Z"
   },
   {
    "duration": 18,
    "start_time": "2024-08-30T14:55:25.358Z"
   },
   {
    "duration": 12,
    "start_time": "2024-08-30T14:56:34.026Z"
   },
   {
    "duration": 14,
    "start_time": "2024-08-30T14:57:11.488Z"
   },
   {
    "duration": 14,
    "start_time": "2024-08-30T14:57:30.600Z"
   },
   {
    "duration": 13,
    "start_time": "2024-08-30T14:57:45.834Z"
   },
   {
    "duration": 18,
    "start_time": "2024-08-30T14:59:03.522Z"
   },
   {
    "duration": 15,
    "start_time": "2024-08-30T14:59:18.530Z"
   },
   {
    "duration": 16,
    "start_time": "2024-08-30T14:59:33.630Z"
   },
   {
    "duration": 12,
    "start_time": "2024-08-30T14:59:43.016Z"
   },
   {
    "duration": 12,
    "start_time": "2024-08-30T15:02:13.913Z"
   },
   {
    "duration": 18,
    "start_time": "2024-08-30T15:12:55.315Z"
   },
   {
    "duration": 12,
    "start_time": "2024-08-30T15:13:17.383Z"
   },
   {
    "duration": 12,
    "start_time": "2024-08-30T15:13:37.967Z"
   },
   {
    "duration": 13,
    "start_time": "2024-08-30T15:13:52.138Z"
   },
   {
    "duration": 12,
    "start_time": "2024-08-30T15:21:40.340Z"
   },
   {
    "duration": 13,
    "start_time": "2024-08-30T15:23:48.883Z"
   },
   {
    "duration": 13,
    "start_time": "2024-08-30T15:24:05.263Z"
   },
   {
    "duration": 13,
    "start_time": "2024-08-30T15:24:43.022Z"
   },
   {
    "duration": 13,
    "start_time": "2024-08-30T15:25:29.512Z"
   },
   {
    "duration": 539,
    "start_time": "2024-08-30T15:34:51.430Z"
   },
   {
    "duration": 520,
    "start_time": "2024-08-30T15:42:40.542Z"
   },
   {
    "duration": 359,
    "start_time": "2024-08-30T15:42:52.986Z"
   },
   {
    "duration": 347,
    "start_time": "2024-08-30T15:43:06.196Z"
   },
   {
    "duration": 140,
    "start_time": "2024-08-30T15:43:54.434Z"
   },
   {
    "duration": 47,
    "start_time": "2024-08-30T15:46:30.053Z"
   },
   {
    "duration": 140,
    "start_time": "2024-08-30T15:46:39.650Z"
   },
   {
    "duration": 220,
    "start_time": "2024-08-30T15:46:57.463Z"
   },
   {
    "duration": 339,
    "start_time": "2024-08-30T15:48:49.660Z"
   },
   {
    "duration": 372,
    "start_time": "2024-08-30T15:49:08.667Z"
   },
   {
    "duration": 289,
    "start_time": "2024-08-30T15:49:36.080Z"
   },
   {
    "duration": 376,
    "start_time": "2024-08-30T15:49:45.868Z"
   },
   {
    "duration": 342,
    "start_time": "2024-08-30T15:50:03.118Z"
   },
   {
    "duration": 417,
    "start_time": "2024-08-30T15:51:22.665Z"
   },
   {
    "duration": 371,
    "start_time": "2024-08-30T15:52:06.794Z"
   },
   {
    "duration": 357,
    "start_time": "2024-08-30T15:54:51.401Z"
   },
   {
    "duration": 343,
    "start_time": "2024-08-30T15:55:03.412Z"
   },
   {
    "duration": 852,
    "start_time": "2024-08-30T15:56:35.296Z"
   },
   {
    "duration": 792,
    "start_time": "2024-08-30T15:56:53.219Z"
   },
   {
    "duration": 305,
    "start_time": "2024-08-30T15:57:37.499Z"
   },
   {
    "duration": 406,
    "start_time": "2024-08-30T15:58:28.040Z"
   },
   {
    "duration": 349,
    "start_time": "2024-08-30T15:58:57.374Z"
   },
   {
    "duration": 339,
    "start_time": "2024-08-30T16:00:21.862Z"
   },
   {
    "duration": 496,
    "start_time": "2024-08-30T16:00:58.007Z"
   },
   {
    "duration": 344,
    "start_time": "2024-08-30T16:01:27.413Z"
   },
   {
    "duration": 479,
    "start_time": "2024-08-30T16:38:33.739Z"
   },
   {
    "duration": 40,
    "start_time": "2024-08-30T16:47:18.230Z"
   },
   {
    "duration": 10,
    "start_time": "2024-08-30T16:47:24.250Z"
   },
   {
    "duration": 11,
    "start_time": "2024-08-30T16:47:42.404Z"
   },
   {
    "duration": 16,
    "start_time": "2024-08-30T16:50:26.683Z"
   },
   {
    "duration": 15,
    "start_time": "2024-08-30T16:50:42.021Z"
   },
   {
    "duration": 16,
    "start_time": "2024-08-30T16:50:50.256Z"
   },
   {
    "duration": 11,
    "start_time": "2024-08-30T16:51:56.353Z"
   },
   {
    "duration": 11,
    "start_time": "2024-08-30T16:53:51.801Z"
   },
   {
    "duration": 59,
    "start_time": "2024-08-30T17:00:19.849Z"
   },
   {
    "duration": 23,
    "start_time": "2024-08-30T17:01:19.371Z"
   },
   {
    "duration": 1024,
    "start_time": "2024-08-30T17:05:49.123Z"
   },
   {
    "duration": 11,
    "start_time": "2024-08-30T17:06:18.199Z"
   },
   {
    "duration": 11,
    "start_time": "2024-08-30T17:07:02.583Z"
   },
   {
    "duration": 1305,
    "start_time": "2024-08-31T09:07:49.828Z"
   },
   {
    "duration": 191,
    "start_time": "2024-08-31T09:07:51.135Z"
   },
   {
    "duration": 17,
    "start_time": "2024-08-31T09:07:51.328Z"
   },
   {
    "duration": 66,
    "start_time": "2024-08-31T09:07:51.348Z"
   },
   {
    "duration": 3,
    "start_time": "2024-08-31T09:07:51.415Z"
   },
   {
    "duration": 30,
    "start_time": "2024-08-31T09:07:51.420Z"
   },
   {
    "duration": 8,
    "start_time": "2024-08-31T09:07:51.452Z"
   },
   {
    "duration": 6,
    "start_time": "2024-08-31T09:07:51.461Z"
   },
   {
    "duration": 10,
    "start_time": "2024-08-31T09:07:51.469Z"
   },
   {
    "duration": 18,
    "start_time": "2024-08-31T09:07:51.482Z"
   },
   {
    "duration": 23,
    "start_time": "2024-08-31T09:07:51.502Z"
   },
   {
    "duration": 18,
    "start_time": "2024-08-31T09:07:51.546Z"
   },
   {
    "duration": 391,
    "start_time": "2024-08-31T09:07:51.565Z"
   },
   {
    "duration": 9,
    "start_time": "2024-08-31T09:07:51.958Z"
   },
   {
    "duration": 420,
    "start_time": "2024-08-31T09:07:51.968Z"
   },
   {
    "duration": 19,
    "start_time": "2024-08-31T09:07:52.390Z"
   },
   {
    "duration": 7,
    "start_time": "2024-08-31T09:07:52.411Z"
   },
   {
    "duration": 48,
    "start_time": "2024-08-31T09:07:52.419Z"
   },
   {
    "duration": 268,
    "start_time": "2024-08-31T09:07:52.468Z"
   },
   {
    "duration": 22,
    "start_time": "2024-08-31T09:07:52.737Z"
   },
   {
    "duration": 41,
    "start_time": "2024-08-31T09:07:52.761Z"
   },
   {
    "duration": 395,
    "start_time": "2024-08-31T09:07:52.803Z"
   },
   {
    "duration": 970,
    "start_time": "2024-08-31T09:07:53.200Z"
   },
   {
    "duration": 210,
    "start_time": "2024-08-31T09:07:54.171Z"
   },
   {
    "duration": 13,
    "start_time": "2024-08-31T09:07:54.382Z"
   },
   {
    "duration": 407,
    "start_time": "2024-08-31T09:07:54.396Z"
   },
   {
    "duration": 404,
    "start_time": "2024-08-31T09:07:54.805Z"
   },
   {
    "duration": 11,
    "start_time": "2024-08-31T09:07:55.211Z"
   },
   {
    "duration": 27,
    "start_time": "2024-08-31T09:07:55.224Z"
   },
   {
    "duration": 120,
    "start_time": "2024-08-31T09:10:42.728Z"
   },
   {
    "duration": 28,
    "start_time": "2024-08-31T09:10:48.847Z"
   },
   {
    "duration": 29,
    "start_time": "2024-08-31T09:11:14.804Z"
   },
   {
    "duration": 28,
    "start_time": "2024-08-31T09:11:42.878Z"
   },
   {
    "duration": 1224,
    "start_time": "2024-08-31T09:12:39.798Z"
   },
   {
    "duration": 1140,
    "start_time": "2024-08-31T09:13:19.494Z"
   },
   {
    "duration": 56,
    "start_time": "2024-08-31T09:13:20.635Z"
   },
   {
    "duration": 16,
    "start_time": "2024-08-31T09:13:20.693Z"
   },
   {
    "duration": 36,
    "start_time": "2024-08-31T09:13:20.711Z"
   },
   {
    "duration": 24,
    "start_time": "2024-08-31T09:13:20.749Z"
   },
   {
    "duration": 42,
    "start_time": "2024-08-31T09:13:20.774Z"
   },
   {
    "duration": 9,
    "start_time": "2024-08-31T09:13:20.818Z"
   },
   {
    "duration": 5,
    "start_time": "2024-08-31T09:13:20.829Z"
   },
   {
    "duration": 33,
    "start_time": "2024-08-31T09:13:20.835Z"
   },
   {
    "duration": 10,
    "start_time": "2024-08-31T09:13:20.870Z"
   },
   {
    "duration": 23,
    "start_time": "2024-08-31T09:13:20.882Z"
   },
   {
    "duration": 1203,
    "start_time": "2024-08-31T09:13:20.906Z"
   },
   {
    "duration": 15,
    "start_time": "2024-08-31T09:13:22.110Z"
   },
   {
    "duration": 369,
    "start_time": "2024-08-31T09:13:22.128Z"
   },
   {
    "duration": 8,
    "start_time": "2024-08-31T09:13:22.498Z"
   },
   {
    "duration": 433,
    "start_time": "2024-08-31T09:13:22.508Z"
   },
   {
    "duration": 20,
    "start_time": "2024-08-31T09:13:22.942Z"
   },
   {
    "duration": 7,
    "start_time": "2024-08-31T09:13:22.964Z"
   },
   {
    "duration": 52,
    "start_time": "2024-08-31T09:13:22.973Z"
   },
   {
    "duration": 263,
    "start_time": "2024-08-31T09:13:23.027Z"
   },
   {
    "duration": 17,
    "start_time": "2024-08-31T09:13:23.292Z"
   },
   {
    "duration": 16,
    "start_time": "2024-08-31T09:13:23.311Z"
   },
   {
    "duration": 387,
    "start_time": "2024-08-31T09:13:23.346Z"
   },
   {
    "duration": 939,
    "start_time": "2024-08-31T09:13:23.745Z"
   },
   {
    "duration": 212,
    "start_time": "2024-08-31T09:13:24.686Z"
   },
   {
    "duration": 12,
    "start_time": "2024-08-31T09:13:24.900Z"
   },
   {
    "duration": 395,
    "start_time": "2024-08-31T09:13:24.914Z"
   },
   {
    "duration": 383,
    "start_time": "2024-08-31T09:13:25.311Z"
   },
   {
    "duration": 11,
    "start_time": "2024-08-31T09:13:25.696Z"
   },
   {
    "duration": 35,
    "start_time": "2024-08-31T09:13:25.709Z"
   },
   {
    "duration": 1193,
    "start_time": "2024-08-31T09:14:55.360Z"
   },
   {
    "duration": 19,
    "start_time": "2024-08-31T09:15:11.319Z"
   },
   {
    "duration": 1235,
    "start_time": "2024-08-31T09:16:02.939Z"
   },
   {
    "duration": 118,
    "start_time": "2024-08-31T09:16:46.527Z"
   },
   {
    "duration": 12,
    "start_time": "2024-08-31T09:17:00.834Z"
   },
   {
    "duration": 12,
    "start_time": "2024-08-31T09:17:08.747Z"
   },
   {
    "duration": 10,
    "start_time": "2024-08-31T09:17:17.531Z"
   },
   {
    "duration": 1196,
    "start_time": "2024-08-31T09:17:24.215Z"
   },
   {
    "duration": 60,
    "start_time": "2024-08-31T09:17:25.413Z"
   },
   {
    "duration": 18,
    "start_time": "2024-08-31T09:17:25.475Z"
   },
   {
    "duration": 18,
    "start_time": "2024-08-31T09:17:25.495Z"
   },
   {
    "duration": 34,
    "start_time": "2024-08-31T09:17:25.516Z"
   },
   {
    "duration": 56,
    "start_time": "2024-08-31T09:17:25.552Z"
   },
   {
    "duration": 30,
    "start_time": "2024-08-31T09:17:25.610Z"
   },
   {
    "duration": 51,
    "start_time": "2024-08-31T09:17:25.642Z"
   },
   {
    "duration": 30,
    "start_time": "2024-08-31T09:17:25.695Z"
   },
   {
    "duration": 25,
    "start_time": "2024-08-31T09:17:25.727Z"
   },
   {
    "duration": 26,
    "start_time": "2024-08-31T09:17:25.754Z"
   },
   {
    "duration": 11,
    "start_time": "2024-08-31T09:17:25.782Z"
   },
   {
    "duration": 17,
    "start_time": "2024-08-31T09:17:25.795Z"
   },
   {
    "duration": 378,
    "start_time": "2024-08-31T09:17:25.815Z"
   },
   {
    "duration": 9,
    "start_time": "2024-08-31T09:17:26.194Z"
   },
   {
    "duration": 457,
    "start_time": "2024-08-31T09:17:26.204Z"
   },
   {
    "duration": 21,
    "start_time": "2024-08-31T09:17:26.662Z"
   },
   {
    "duration": 10,
    "start_time": "2024-08-31T09:17:26.685Z"
   },
   {
    "duration": 43,
    "start_time": "2024-08-31T09:17:26.697Z"
   },
   {
    "duration": 277,
    "start_time": "2024-08-31T09:17:26.741Z"
   },
   {
    "duration": 17,
    "start_time": "2024-08-31T09:17:27.020Z"
   },
   {
    "duration": 16,
    "start_time": "2024-08-31T09:17:27.046Z"
   },
   {
    "duration": 362,
    "start_time": "2024-08-31T09:17:27.064Z"
   },
   {
    "duration": 987,
    "start_time": "2024-08-31T09:17:27.427Z"
   },
   {
    "duration": 238,
    "start_time": "2024-08-31T09:17:28.416Z"
   },
   {
    "duration": 14,
    "start_time": "2024-08-31T09:17:28.656Z"
   },
   {
    "duration": 391,
    "start_time": "2024-08-31T09:17:28.672Z"
   },
   {
    "duration": 388,
    "start_time": "2024-08-31T09:17:29.065Z"
   },
   {
    "duration": 12,
    "start_time": "2024-08-31T09:17:29.455Z"
   },
   {
    "duration": 11,
    "start_time": "2024-08-31T09:17:29.469Z"
   },
   {
    "duration": 1106,
    "start_time": "2024-08-31T09:17:39.166Z"
   },
   {
    "duration": 59,
    "start_time": "2024-08-31T09:17:40.274Z"
   },
   {
    "duration": 17,
    "start_time": "2024-08-31T09:17:40.334Z"
   },
   {
    "duration": 20,
    "start_time": "2024-08-31T09:17:40.352Z"
   },
   {
    "duration": 3,
    "start_time": "2024-08-31T09:17:40.374Z"
   },
   {
    "duration": 20,
    "start_time": "2024-08-31T09:17:40.379Z"
   },
   {
    "duration": 14,
    "start_time": "2024-08-31T09:17:40.400Z"
   },
   {
    "duration": 6,
    "start_time": "2024-08-31T09:17:40.416Z"
   },
   {
    "duration": 34,
    "start_time": "2024-08-31T09:17:40.424Z"
   },
   {
    "duration": 34,
    "start_time": "2024-08-31T09:17:40.460Z"
   },
   {
    "duration": 30,
    "start_time": "2024-08-31T09:17:40.497Z"
   },
   {
    "duration": 36,
    "start_time": "2024-08-31T09:17:40.529Z"
   },
   {
    "duration": 366,
    "start_time": "2024-08-31T09:17:40.567Z"
   },
   {
    "duration": 10,
    "start_time": "2024-08-31T09:17:40.936Z"
   },
   {
    "duration": 417,
    "start_time": "2024-08-31T09:17:40.948Z"
   },
   {
    "duration": 19,
    "start_time": "2024-08-31T09:17:41.367Z"
   },
   {
    "duration": 59,
    "start_time": "2024-08-31T09:17:41.388Z"
   },
   {
    "duration": 38,
    "start_time": "2024-08-31T09:17:41.449Z"
   },
   {
    "duration": 274,
    "start_time": "2024-08-31T09:17:41.489Z"
   },
   {
    "duration": 19,
    "start_time": "2024-08-31T09:17:41.764Z"
   },
   {
    "duration": 22,
    "start_time": "2024-08-31T09:17:41.785Z"
   },
   {
    "duration": 393,
    "start_time": "2024-08-31T09:17:41.809Z"
   },
   {
    "duration": 975,
    "start_time": "2024-08-31T09:17:42.204Z"
   },
   {
    "duration": 215,
    "start_time": "2024-08-31T09:17:43.181Z"
   },
   {
    "duration": 13,
    "start_time": "2024-08-31T09:17:43.398Z"
   },
   {
    "duration": 402,
    "start_time": "2024-08-31T09:17:43.412Z"
   },
   {
    "duration": 387,
    "start_time": "2024-08-31T09:17:43.816Z"
   },
   {
    "duration": 11,
    "start_time": "2024-08-31T09:17:44.205Z"
   },
   {
    "duration": 39,
    "start_time": "2024-08-31T09:17:44.217Z"
   },
   {
    "duration": 27,
    "start_time": "2024-08-31T09:19:29.544Z"
   },
   {
    "duration": 38,
    "start_time": "2024-08-31T09:19:34.605Z"
   },
   {
    "duration": 18,
    "start_time": "2024-08-31T09:20:11.493Z"
   },
   {
    "duration": 132,
    "start_time": "2024-08-31T09:21:00.406Z"
   },
   {
    "duration": 14,
    "start_time": "2024-08-31T09:21:09.658Z"
   },
   {
    "duration": 1141,
    "start_time": "2024-08-31T09:21:14.674Z"
   },
   {
    "duration": 57,
    "start_time": "2024-08-31T09:21:15.817Z"
   },
   {
    "duration": 18,
    "start_time": "2024-08-31T09:21:15.876Z"
   },
   {
    "duration": 23,
    "start_time": "2024-08-31T09:21:15.896Z"
   },
   {
    "duration": 4,
    "start_time": "2024-08-31T09:21:15.921Z"
   },
   {
    "duration": 48,
    "start_time": "2024-08-31T09:21:15.926Z"
   },
   {
    "duration": 8,
    "start_time": "2024-08-31T09:21:15.976Z"
   },
   {
    "duration": 31,
    "start_time": "2024-08-31T09:21:15.986Z"
   },
   {
    "duration": 36,
    "start_time": "2024-08-31T09:21:16.019Z"
   },
   {
    "duration": 9,
    "start_time": "2024-08-31T09:21:16.056Z"
   },
   {
    "duration": 23,
    "start_time": "2024-08-31T09:21:16.067Z"
   },
   {
    "duration": 14,
    "start_time": "2024-08-31T09:21:16.092Z"
   },
   {
    "duration": 45,
    "start_time": "2024-08-31T09:21:16.108Z"
   },
   {
    "duration": 405,
    "start_time": "2024-08-31T09:21:16.155Z"
   },
   {
    "duration": 10,
    "start_time": "2024-08-31T09:21:16.562Z"
   },
   {
    "duration": 428,
    "start_time": "2024-08-31T09:21:16.573Z"
   },
   {
    "duration": 25,
    "start_time": "2024-08-31T09:21:17.003Z"
   },
   {
    "duration": 8,
    "start_time": "2024-08-31T09:21:17.030Z"
   },
   {
    "duration": 53,
    "start_time": "2024-08-31T09:21:17.040Z"
   },
   {
    "duration": 249,
    "start_time": "2024-08-31T09:21:17.094Z"
   },
   {
    "duration": 19,
    "start_time": "2024-08-31T09:21:17.346Z"
   },
   {
    "duration": 17,
    "start_time": "2024-08-31T09:21:17.367Z"
   },
   {
    "duration": 395,
    "start_time": "2024-08-31T09:21:17.386Z"
   },
   {
    "duration": 1067,
    "start_time": "2024-08-31T09:21:17.782Z"
   },
   {
    "duration": 209,
    "start_time": "2024-08-31T09:21:18.851Z"
   },
   {
    "duration": 14,
    "start_time": "2024-08-31T09:21:19.062Z"
   },
   {
    "duration": 412,
    "start_time": "2024-08-31T09:21:19.077Z"
   },
   {
    "duration": 426,
    "start_time": "2024-08-31T09:21:19.492Z"
   },
   {
    "duration": 12,
    "start_time": "2024-08-31T09:21:19.920Z"
   },
   {
    "duration": 21,
    "start_time": "2024-08-31T09:21:19.933Z"
   },
   {
    "duration": 139,
    "start_time": "2024-08-31T09:22:04.381Z"
   },
   {
    "duration": 41,
    "start_time": "2024-08-31T09:22:10.542Z"
   },
   {
    "duration": 28,
    "start_time": "2024-08-31T09:23:06.819Z"
   },
   {
    "duration": 33,
    "start_time": "2024-08-31T09:25:01.994Z"
   },
   {
    "duration": 17,
    "start_time": "2024-08-31T09:26:10.895Z"
   },
   {
    "duration": 1134,
    "start_time": "2024-08-31T09:27:43.705Z"
   },
   {
    "duration": 58,
    "start_time": "2024-08-31T09:27:44.841Z"
   },
   {
    "duration": 16,
    "start_time": "2024-08-31T09:27:44.901Z"
   },
   {
    "duration": 17,
    "start_time": "2024-08-31T09:27:44.919Z"
   },
   {
    "duration": 8,
    "start_time": "2024-08-31T09:27:44.938Z"
   },
   {
    "duration": 18,
    "start_time": "2024-08-31T09:27:44.947Z"
   },
   {
    "duration": 6,
    "start_time": "2024-08-31T09:27:44.967Z"
   },
   {
    "duration": 7,
    "start_time": "2024-08-31T09:27:44.975Z"
   },
   {
    "duration": 23,
    "start_time": "2024-08-31T09:27:44.983Z"
   },
   {
    "duration": 47,
    "start_time": "2024-08-31T09:27:45.009Z"
   },
   {
    "duration": 43,
    "start_time": "2024-08-31T09:27:45.058Z"
   },
   {
    "duration": 31,
    "start_time": "2024-08-31T09:27:45.102Z"
   },
   {
    "duration": 376,
    "start_time": "2024-08-31T09:27:45.134Z"
   },
   {
    "duration": 8,
    "start_time": "2024-08-31T09:27:45.512Z"
   },
   {
    "duration": 432,
    "start_time": "2024-08-31T09:27:45.521Z"
   },
   {
    "duration": 20,
    "start_time": "2024-08-31T09:27:45.954Z"
   },
   {
    "duration": 8,
    "start_time": "2024-08-31T09:27:45.975Z"
   },
   {
    "duration": 52,
    "start_time": "2024-08-31T09:27:45.985Z"
   },
   {
    "duration": 270,
    "start_time": "2024-08-31T09:27:46.046Z"
   },
   {
    "duration": 18,
    "start_time": "2024-08-31T09:27:46.317Z"
   },
   {
    "duration": 18,
    "start_time": "2024-08-31T09:27:46.346Z"
   },
   {
    "duration": 389,
    "start_time": "2024-08-31T09:27:46.365Z"
   },
   {
    "duration": 981,
    "start_time": "2024-08-31T09:27:46.756Z"
   },
   {
    "duration": 222,
    "start_time": "2024-08-31T09:27:47.739Z"
   },
   {
    "duration": 13,
    "start_time": "2024-08-31T09:27:47.963Z"
   },
   {
    "duration": 452,
    "start_time": "2024-08-31T09:27:47.977Z"
   },
   {
    "duration": 421,
    "start_time": "2024-08-31T09:27:48.431Z"
   },
   {
    "duration": 11,
    "start_time": "2024-08-31T09:27:48.855Z"
   },
   {
    "duration": 23,
    "start_time": "2024-08-31T09:27:48.868Z"
   },
   {
    "duration": 25,
    "start_time": "2024-08-31T09:29:35.776Z"
   },
   {
    "duration": 25,
    "start_time": "2024-08-31T09:29:45.090Z"
   },
   {
    "duration": 105,
    "start_time": "2024-08-31T09:29:49.109Z"
   },
   {
    "duration": 25,
    "start_time": "2024-08-31T09:29:52.418Z"
   },
   {
    "duration": 39,
    "start_time": "2024-08-31T09:29:59.245Z"
   },
   {
    "duration": 26,
    "start_time": "2024-08-31T09:33:41.618Z"
   },
   {
    "duration": 37,
    "start_time": "2024-08-31T09:33:54.976Z"
   },
   {
    "duration": 36,
    "start_time": "2024-08-31T09:34:07.037Z"
   },
   {
    "duration": 50,
    "start_time": "2024-08-31T09:39:47.668Z"
   },
   {
    "duration": 40,
    "start_time": "2024-08-31T09:41:44.119Z"
   },
   {
    "duration": 55,
    "start_time": "2024-08-31T09:42:03.746Z"
   },
   {
    "duration": 18,
    "start_time": "2024-08-31T09:43:19.721Z"
   },
   {
    "duration": 14,
    "start_time": "2024-08-31T09:44:58.393Z"
   },
   {
    "duration": 17,
    "start_time": "2024-08-31T09:45:05.928Z"
   },
   {
    "duration": 21,
    "start_time": "2024-08-31T09:45:35.900Z"
   },
   {
    "duration": 653,
    "start_time": "2024-08-31T09:45:40.919Z"
   },
   {
    "duration": 40,
    "start_time": "2024-08-31T09:45:49.378Z"
   },
   {
    "duration": 19,
    "start_time": "2024-08-31T09:48:24.331Z"
   },
   {
    "duration": 45,
    "start_time": "2024-08-31T09:48:52.395Z"
   },
   {
    "duration": 25,
    "start_time": "2024-08-31T09:48:59.441Z"
   },
   {
    "duration": 41,
    "start_time": "2024-08-31T15:17:24.210Z"
   },
   {
    "duration": 1073,
    "start_time": "2024-08-31T15:17:28.640Z"
   },
   {
    "duration": 180,
    "start_time": "2024-08-31T15:17:29.714Z"
   },
   {
    "duration": 13,
    "start_time": "2024-08-31T15:17:29.895Z"
   },
   {
    "duration": 15,
    "start_time": "2024-08-31T15:17:29.909Z"
   },
   {
    "duration": 3,
    "start_time": "2024-08-31T15:17:29.926Z"
   },
   {
    "duration": 20,
    "start_time": "2024-08-31T15:17:29.931Z"
   },
   {
    "duration": 97,
    "start_time": "2024-08-31T15:17:29.953Z"
   },
   {
    "duration": 0,
    "start_time": "2024-08-31T15:17:30.053Z"
   },
   {
    "duration": 0,
    "start_time": "2024-08-31T15:17:30.054Z"
   },
   {
    "duration": 0,
    "start_time": "2024-08-31T15:17:30.055Z"
   },
   {
    "duration": 0,
    "start_time": "2024-08-31T15:17:30.057Z"
   },
   {
    "duration": 0,
    "start_time": "2024-08-31T15:17:30.058Z"
   },
   {
    "duration": 0,
    "start_time": "2024-08-31T15:17:30.059Z"
   },
   {
    "duration": 0,
    "start_time": "2024-08-31T15:17:30.060Z"
   },
   {
    "duration": 0,
    "start_time": "2024-08-31T15:17:30.062Z"
   },
   {
    "duration": 0,
    "start_time": "2024-08-31T15:17:30.063Z"
   },
   {
    "duration": 0,
    "start_time": "2024-08-31T15:17:30.064Z"
   },
   {
    "duration": 0,
    "start_time": "2024-08-31T15:17:30.065Z"
   },
   {
    "duration": 0,
    "start_time": "2024-08-31T15:17:30.066Z"
   },
   {
    "duration": 0,
    "start_time": "2024-08-31T15:17:30.067Z"
   },
   {
    "duration": 0,
    "start_time": "2024-08-31T15:17:30.068Z"
   },
   {
    "duration": 0,
    "start_time": "2024-08-31T15:17:30.069Z"
   },
   {
    "duration": 0,
    "start_time": "2024-08-31T15:17:30.071Z"
   },
   {
    "duration": 0,
    "start_time": "2024-08-31T15:17:30.072Z"
   },
   {
    "duration": 0,
    "start_time": "2024-08-31T15:17:30.073Z"
   },
   {
    "duration": 0,
    "start_time": "2024-08-31T15:17:30.074Z"
   },
   {
    "duration": 0,
    "start_time": "2024-08-31T15:17:30.107Z"
   },
   {
    "duration": 0,
    "start_time": "2024-08-31T15:17:30.108Z"
   },
   {
    "duration": 0,
    "start_time": "2024-08-31T15:17:30.109Z"
   },
   {
    "duration": 975,
    "start_time": "2024-08-31T15:29:09.512Z"
   },
   {
    "duration": 49,
    "start_time": "2024-08-31T15:29:10.488Z"
   },
   {
    "duration": 13,
    "start_time": "2024-08-31T15:29:10.538Z"
   },
   {
    "duration": 14,
    "start_time": "2024-08-31T15:29:10.552Z"
   },
   {
    "duration": 3,
    "start_time": "2024-08-31T15:29:10.568Z"
   },
   {
    "duration": 19,
    "start_time": "2024-08-31T15:29:10.572Z"
   },
   {
    "duration": 93,
    "start_time": "2024-08-31T15:29:10.593Z"
   },
   {
    "duration": 0,
    "start_time": "2024-08-31T15:29:10.688Z"
   },
   {
    "duration": 0,
    "start_time": "2024-08-31T15:29:10.689Z"
   },
   {
    "duration": 0,
    "start_time": "2024-08-31T15:29:10.689Z"
   },
   {
    "duration": 0,
    "start_time": "2024-08-31T15:29:10.690Z"
   },
   {
    "duration": 0,
    "start_time": "2024-08-31T15:29:10.691Z"
   },
   {
    "duration": 0,
    "start_time": "2024-08-31T15:29:10.692Z"
   },
   {
    "duration": 0,
    "start_time": "2024-08-31T15:29:10.707Z"
   },
   {
    "duration": 0,
    "start_time": "2024-08-31T15:29:10.708Z"
   },
   {
    "duration": 0,
    "start_time": "2024-08-31T15:29:10.708Z"
   },
   {
    "duration": 0,
    "start_time": "2024-08-31T15:29:10.709Z"
   },
   {
    "duration": 0,
    "start_time": "2024-08-31T15:29:10.710Z"
   },
   {
    "duration": 0,
    "start_time": "2024-08-31T15:29:10.711Z"
   },
   {
    "duration": 0,
    "start_time": "2024-08-31T15:29:10.712Z"
   },
   {
    "duration": 0,
    "start_time": "2024-08-31T15:29:10.712Z"
   },
   {
    "duration": 0,
    "start_time": "2024-08-31T15:29:10.713Z"
   },
   {
    "duration": 0,
    "start_time": "2024-08-31T15:29:10.714Z"
   },
   {
    "duration": 0,
    "start_time": "2024-08-31T15:29:10.715Z"
   },
   {
    "duration": 0,
    "start_time": "2024-08-31T15:29:10.716Z"
   },
   {
    "duration": 0,
    "start_time": "2024-08-31T15:29:10.717Z"
   },
   {
    "duration": 0,
    "start_time": "2024-08-31T15:29:10.718Z"
   },
   {
    "duration": 0,
    "start_time": "2024-08-31T15:29:10.719Z"
   },
   {
    "duration": 0,
    "start_time": "2024-08-31T15:29:10.719Z"
   },
   {
    "duration": 12,
    "start_time": "2024-08-31T15:30:11.007Z"
   },
   {
    "duration": 450,
    "start_time": "2024-08-31T15:31:36.709Z"
   },
   {
    "duration": 4,
    "start_time": "2024-08-31T15:31:46.682Z"
   },
   {
    "duration": 8,
    "start_time": "2024-08-31T15:34:58.879Z"
   },
   {
    "duration": 981,
    "start_time": "2024-08-31T15:35:04.659Z"
   },
   {
    "duration": 51,
    "start_time": "2024-08-31T15:35:05.641Z"
   },
   {
    "duration": 12,
    "start_time": "2024-08-31T15:35:05.693Z"
   },
   {
    "duration": 19,
    "start_time": "2024-08-31T15:35:05.706Z"
   },
   {
    "duration": 3,
    "start_time": "2024-08-31T15:35:05.727Z"
   },
   {
    "duration": 56,
    "start_time": "2024-08-31T15:35:05.731Z"
   },
   {
    "duration": 116,
    "start_time": "2024-08-31T15:35:05.789Z"
   },
   {
    "duration": 11,
    "start_time": "2024-08-31T15:35:05.906Z"
   },
   {
    "duration": 12,
    "start_time": "2024-08-31T15:35:05.918Z"
   },
   {
    "duration": 33,
    "start_time": "2024-08-31T15:35:05.931Z"
   },
   {
    "duration": 29,
    "start_time": "2024-08-31T15:35:05.965Z"
   },
   {
    "duration": 14,
    "start_time": "2024-08-31T15:35:05.996Z"
   },
   {
    "duration": 295,
    "start_time": "2024-08-31T15:35:06.012Z"
   },
   {
    "duration": 7,
    "start_time": "2024-08-31T15:35:06.309Z"
   },
   {
    "duration": 340,
    "start_time": "2024-08-31T15:35:06.317Z"
   },
   {
    "duration": 19,
    "start_time": "2024-08-31T15:35:06.659Z"
   },
   {
    "duration": 19,
    "start_time": "2024-08-31T15:35:06.679Z"
   },
   {
    "duration": 49,
    "start_time": "2024-08-31T15:35:06.699Z"
   },
   {
    "duration": 204,
    "start_time": "2024-08-31T15:35:06.749Z"
   },
   {
    "duration": 13,
    "start_time": "2024-08-31T15:35:06.955Z"
   },
   {
    "duration": 30,
    "start_time": "2024-08-31T15:35:06.969Z"
   },
   {
    "duration": 294,
    "start_time": "2024-08-31T15:35:07.001Z"
   },
   {
    "duration": 757,
    "start_time": "2024-08-31T15:35:07.296Z"
   },
   {
    "duration": 171,
    "start_time": "2024-08-31T15:35:08.055Z"
   },
   {
    "duration": 10,
    "start_time": "2024-08-31T15:35:08.228Z"
   },
   {
    "duration": 340,
    "start_time": "2024-08-31T15:35:08.239Z"
   },
   {
    "duration": 302,
    "start_time": "2024-08-31T15:35:08.580Z"
   },
   {
    "duration": 9,
    "start_time": "2024-08-31T15:35:08.883Z"
   },
   {
    "duration": 15,
    "start_time": "2024-08-31T15:35:08.893Z"
   },
   {
    "duration": 95,
    "start_time": "2024-08-31T15:38:44.997Z"
   },
   {
    "duration": 65,
    "start_time": "2024-08-31T15:38:57.906Z"
   },
   {
    "duration": 2,
    "start_time": "2024-08-31T15:39:27.675Z"
   },
   {
    "duration": 68,
    "start_time": "2024-08-31T15:39:35.186Z"
   },
   {
    "duration": 7,
    "start_time": "2024-08-31T15:39:58.120Z"
   },
   {
    "duration": 100,
    "start_time": "2024-08-31T15:42:44.060Z"
   },
   {
    "duration": 3,
    "start_time": "2024-08-31T15:42:51.396Z"
   },
   {
    "duration": 13,
    "start_time": "2024-08-31T15:43:18.513Z"
   },
   {
    "duration": 546,
    "start_time": "2024-08-31T15:43:22.759Z"
   },
   {
    "duration": 7,
    "start_time": "2024-08-31T15:47:15.632Z"
   },
   {
    "duration": 64,
    "start_time": "2024-08-31T15:48:32.493Z"
   },
   {
    "duration": 19,
    "start_time": "2024-08-31T15:49:30.627Z"
   },
   {
    "duration": 298,
    "start_time": "2024-08-31T15:51:51.525Z"
   },
   {
    "duration": 13,
    "start_time": "2024-08-31T15:56:00.509Z"
   },
   {
    "duration": 984,
    "start_time": "2024-08-31T15:57:18.156Z"
   },
   {
    "duration": 50,
    "start_time": "2024-08-31T15:57:19.142Z"
   },
   {
    "duration": 13,
    "start_time": "2024-08-31T15:57:19.194Z"
   },
   {
    "duration": 14,
    "start_time": "2024-08-31T15:57:19.209Z"
   },
   {
    "duration": 3,
    "start_time": "2024-08-31T15:57:19.224Z"
   },
   {
    "duration": 38,
    "start_time": "2024-08-31T15:57:19.228Z"
   },
   {
    "duration": 78,
    "start_time": "2024-08-31T15:57:19.268Z"
   },
   {
    "duration": 3,
    "start_time": "2024-08-31T15:57:19.348Z"
   },
   {
    "duration": 8,
    "start_time": "2024-08-31T15:57:19.352Z"
   },
   {
    "duration": 12,
    "start_time": "2024-08-31T15:57:19.362Z"
   },
   {
    "duration": 520,
    "start_time": "2024-08-31T15:57:19.376Z"
   },
   {
    "duration": 18,
    "start_time": "2024-08-31T15:57:19.898Z"
   },
   {
    "duration": 64,
    "start_time": "2024-08-31T15:57:19.917Z"
   },
   {
    "duration": 267,
    "start_time": "2024-08-31T15:57:19.983Z"
   },
   {
    "duration": 7,
    "start_time": "2024-08-31T15:57:20.251Z"
   },
   {
    "duration": 325,
    "start_time": "2024-08-31T15:57:20.260Z"
   },
   {
    "duration": 14,
    "start_time": "2024-08-31T15:57:20.587Z"
   },
   {
    "duration": 6,
    "start_time": "2024-08-31T15:57:20.602Z"
   },
   {
    "duration": 47,
    "start_time": "2024-08-31T15:57:20.609Z"
   },
   {
    "duration": 189,
    "start_time": "2024-08-31T15:57:20.657Z"
   },
   {
    "duration": 13,
    "start_time": "2024-08-31T15:57:20.847Z"
   },
   {
    "duration": 18,
    "start_time": "2024-08-31T15:57:20.862Z"
   },
   {
    "duration": 338,
    "start_time": "2024-08-31T15:57:20.881Z"
   },
   {
    "duration": 748,
    "start_time": "2024-08-31T15:57:21.220Z"
   },
   {
    "duration": 180,
    "start_time": "2024-08-31T15:57:21.969Z"
   },
   {
    "duration": 10,
    "start_time": "2024-08-31T15:57:22.150Z"
   },
   {
    "duration": 309,
    "start_time": "2024-08-31T15:57:22.161Z"
   },
   {
    "duration": 375,
    "start_time": "2024-08-31T15:57:22.473Z"
   },
   {
    "duration": 8,
    "start_time": "2024-08-31T15:57:22.850Z"
   },
   {
    "duration": 19,
    "start_time": "2024-08-31T15:57:22.860Z"
   },
   {
    "duration": 4,
    "start_time": "2024-08-31T16:01:23.557Z"
   },
   {
    "duration": 140,
    "start_time": "2024-08-31T16:01:30.279Z"
   },
   {
    "duration": 146,
    "start_time": "2024-08-31T16:01:38.827Z"
   },
   {
    "duration": 140,
    "start_time": "2024-08-31T16:01:45.089Z"
   },
   {
    "duration": 135,
    "start_time": "2024-08-31T16:01:50.698Z"
   },
   {
    "duration": 132,
    "start_time": "2024-08-31T16:04:45.920Z"
   },
   {
    "duration": 140,
    "start_time": "2024-08-31T16:05:09.723Z"
   },
   {
    "duration": 30,
    "start_time": "2024-08-31T16:07:52.586Z"
   },
   {
    "duration": 65,
    "start_time": "2024-08-31T16:08:28.637Z"
   },
   {
    "duration": 25,
    "start_time": "2024-08-31T16:08:31.707Z"
   },
   {
    "duration": 28,
    "start_time": "2024-08-31T16:08:52.821Z"
   },
   {
    "duration": 148,
    "start_time": "2024-08-31T16:09:57.073Z"
   },
   {
    "duration": 131,
    "start_time": "2024-08-31T16:19:19.020Z"
   },
   {
    "duration": 140,
    "start_time": "2024-08-31T16:19:28.148Z"
   },
   {
    "duration": 140,
    "start_time": "2024-08-31T16:19:34.156Z"
   },
   {
    "duration": 4,
    "start_time": "2024-08-31T16:24:57.413Z"
   },
   {
    "duration": 232,
    "start_time": "2024-08-31T16:25:29.562Z"
   },
   {
    "duration": 94,
    "start_time": "2024-08-31T16:25:54.483Z"
   },
   {
    "duration": 164,
    "start_time": "2024-08-31T16:25:58.923Z"
   },
   {
    "duration": 1014,
    "start_time": "2024-08-31T16:56:22.271Z"
   },
   {
    "duration": 51,
    "start_time": "2024-08-31T16:56:23.287Z"
   },
   {
    "duration": 11,
    "start_time": "2024-08-31T16:56:23.339Z"
   },
   {
    "duration": 103,
    "start_time": "2024-08-31T16:56:23.352Z"
   },
   {
    "duration": 145,
    "start_time": "2024-08-31T16:56:23.456Z"
   },
   {
    "duration": 23,
    "start_time": "2024-08-31T16:56:23.603Z"
   },
   {
    "duration": 16,
    "start_time": "2024-08-31T16:56:23.627Z"
   },
   {
    "duration": 28,
    "start_time": "2024-08-31T16:56:23.644Z"
   },
   {
    "duration": 22,
    "start_time": "2024-08-31T16:56:23.673Z"
   },
   {
    "duration": 8,
    "start_time": "2024-08-31T16:56:23.696Z"
   },
   {
    "duration": 507,
    "start_time": "2024-08-31T16:56:23.705Z"
   },
   {
    "duration": 17,
    "start_time": "2024-08-31T16:56:24.213Z"
   },
   {
    "duration": 13,
    "start_time": "2024-08-31T16:56:24.231Z"
   },
   {
    "duration": 280,
    "start_time": "2024-08-31T16:56:24.246Z"
   },
   {
    "duration": 7,
    "start_time": "2024-08-31T16:56:24.527Z"
   },
   {
    "duration": 338,
    "start_time": "2024-08-31T16:56:24.535Z"
   },
   {
    "duration": 15,
    "start_time": "2024-08-31T16:56:24.874Z"
   },
   {
    "duration": 137,
    "start_time": "2024-08-31T16:56:24.890Z"
   },
   {
    "duration": 28,
    "start_time": "2024-08-31T16:56:25.028Z"
   },
   {
    "duration": 205,
    "start_time": "2024-08-31T16:56:25.057Z"
   },
   {
    "duration": 34,
    "start_time": "2024-08-31T16:56:25.263Z"
   },
   {
    "duration": 202,
    "start_time": "2024-08-31T16:56:25.307Z"
   },
   {
    "duration": 14,
    "start_time": "2024-08-31T16:56:25.510Z"
   },
   {
    "duration": 68,
    "start_time": "2024-08-31T16:56:25.525Z"
   },
   {
    "duration": 282,
    "start_time": "2024-08-31T16:56:25.595Z"
   },
   {
    "duration": 751,
    "start_time": "2024-08-31T16:56:25.879Z"
   },
   {
    "duration": 155,
    "start_time": "2024-08-31T16:56:26.631Z"
   },
   {
    "duration": 171,
    "start_time": "2024-08-31T16:56:26.788Z"
   },
   {
    "duration": 9,
    "start_time": "2024-08-31T16:56:26.960Z"
   },
   {
    "duration": 375,
    "start_time": "2024-08-31T16:56:26.970Z"
   },
   {
    "duration": 297,
    "start_time": "2024-08-31T16:56:27.346Z"
   },
   {
    "duration": 8,
    "start_time": "2024-08-31T16:56:27.644Z"
   },
   {
    "duration": 15,
    "start_time": "2024-08-31T16:56:27.654Z"
   },
   {
    "duration": 290,
    "start_time": "2024-08-31T17:01:09.125Z"
   },
   {
    "duration": 104,
    "start_time": "2024-08-31T17:05:05.143Z"
   },
   {
    "duration": 23,
    "start_time": "2024-08-31T17:05:36.647Z"
   },
   {
    "duration": 25,
    "start_time": "2024-08-31T17:05:45.710Z"
   },
   {
    "duration": 6,
    "start_time": "2024-08-31T17:06:25.189Z"
   },
   {
    "duration": 25,
    "start_time": "2024-08-31T17:07:40.886Z"
   },
   {
    "duration": 1000,
    "start_time": "2024-08-31T17:10:27.598Z"
   },
   {
    "duration": 51,
    "start_time": "2024-08-31T17:10:28.600Z"
   },
   {
    "duration": 12,
    "start_time": "2024-08-31T17:10:28.652Z"
   },
   {
    "duration": 13,
    "start_time": "2024-08-31T17:10:28.666Z"
   },
   {
    "duration": 11,
    "start_time": "2024-08-31T17:10:28.680Z"
   },
   {
    "duration": 25,
    "start_time": "2024-08-31T17:10:28.692Z"
   },
   {
    "duration": 11,
    "start_time": "2024-08-31T17:10:28.718Z"
   },
   {
    "duration": 7,
    "start_time": "2024-08-31T17:10:28.730Z"
   },
   {
    "duration": 12,
    "start_time": "2024-08-31T17:10:28.738Z"
   },
   {
    "duration": 11,
    "start_time": "2024-08-31T17:10:28.751Z"
   },
   {
    "duration": 544,
    "start_time": "2024-08-31T17:10:28.763Z"
   },
   {
    "duration": 16,
    "start_time": "2024-08-31T17:10:29.308Z"
   },
   {
    "duration": 13,
    "start_time": "2024-08-31T17:10:29.325Z"
   },
   {
    "duration": 287,
    "start_time": "2024-08-31T17:10:29.339Z"
   },
   {
    "duration": 7,
    "start_time": "2024-08-31T17:10:29.627Z"
   },
   {
    "duration": 334,
    "start_time": "2024-08-31T17:10:29.635Z"
   },
   {
    "duration": 20,
    "start_time": "2024-08-31T17:10:29.971Z"
   },
   {
    "duration": 149,
    "start_time": "2024-08-31T17:10:29.992Z"
   },
   {
    "duration": 27,
    "start_time": "2024-08-31T17:10:30.143Z"
   },
   {
    "duration": 327,
    "start_time": "2024-08-31T17:10:30.171Z"
   },
   {
    "duration": 209,
    "start_time": "2024-08-31T17:10:30.499Z"
   },
   {
    "duration": 12,
    "start_time": "2024-08-31T17:10:30.710Z"
   },
   {
    "duration": 28,
    "start_time": "2024-08-31T17:10:30.723Z"
   },
   {
    "duration": 277,
    "start_time": "2024-08-31T17:10:30.752Z"
   },
   {
    "duration": 742,
    "start_time": "2024-08-31T17:10:31.030Z"
   },
   {
    "duration": 163,
    "start_time": "2024-08-31T17:10:31.774Z"
   },
   {
    "duration": 171,
    "start_time": "2024-08-31T17:10:31.939Z"
   },
   {
    "duration": 13,
    "start_time": "2024-08-31T17:10:32.113Z"
   },
   {
    "duration": 385,
    "start_time": "2024-08-31T17:10:32.127Z"
   },
   {
    "duration": 325,
    "start_time": "2024-08-31T17:10:32.513Z"
   },
   {
    "duration": 9,
    "start_time": "2024-08-31T17:10:32.839Z"
   },
   {
    "duration": 22,
    "start_time": "2024-08-31T17:10:32.850Z"
   },
   {
    "duration": 995,
    "start_time": "2024-08-31T17:12:16.065Z"
   },
   {
    "duration": 50,
    "start_time": "2024-08-31T17:12:17.061Z"
   },
   {
    "duration": 16,
    "start_time": "2024-08-31T17:12:17.113Z"
   },
   {
    "duration": 24,
    "start_time": "2024-08-31T17:12:17.131Z"
   },
   {
    "duration": 3,
    "start_time": "2024-08-31T17:12:17.156Z"
   },
   {
    "duration": 37,
    "start_time": "2024-08-31T17:12:17.160Z"
   },
   {
    "duration": 16,
    "start_time": "2024-08-31T17:12:17.198Z"
   },
   {
    "duration": 14,
    "start_time": "2024-08-31T17:12:17.216Z"
   },
   {
    "duration": 13,
    "start_time": "2024-08-31T17:12:17.231Z"
   },
   {
    "duration": 10,
    "start_time": "2024-08-31T17:12:17.246Z"
   },
   {
    "duration": 534,
    "start_time": "2024-08-31T17:12:17.257Z"
   },
   {
    "duration": 18,
    "start_time": "2024-08-31T17:12:17.793Z"
   },
   {
    "duration": 12,
    "start_time": "2024-08-31T17:12:17.812Z"
   },
   {
    "duration": 275,
    "start_time": "2024-08-31T17:12:17.825Z"
   },
   {
    "duration": 9,
    "start_time": "2024-08-31T17:12:18.101Z"
   },
   {
    "duration": 390,
    "start_time": "2024-08-31T17:12:18.111Z"
   },
   {
    "duration": 15,
    "start_time": "2024-08-31T17:12:18.503Z"
   },
   {
    "duration": 185,
    "start_time": "2024-08-31T17:12:18.519Z"
   },
   {
    "duration": 27,
    "start_time": "2024-08-31T17:12:18.706Z"
   },
   {
    "duration": 209,
    "start_time": "2024-08-31T17:12:18.734Z"
   },
   {
    "duration": 199,
    "start_time": "2024-08-31T17:12:18.944Z"
   },
   {
    "duration": 13,
    "start_time": "2024-08-31T17:12:19.144Z"
   },
   {
    "duration": 24,
    "start_time": "2024-08-31T17:12:19.158Z"
   },
   {
    "duration": 339,
    "start_time": "2024-08-31T17:12:19.183Z"
   },
   {
    "duration": 735,
    "start_time": "2024-08-31T17:12:19.523Z"
   },
   {
    "duration": 175,
    "start_time": "2024-08-31T17:12:20.260Z"
   },
   {
    "duration": 178,
    "start_time": "2024-08-31T17:12:20.436Z"
   },
   {
    "duration": 9,
    "start_time": "2024-08-31T17:12:20.617Z"
   },
   {
    "duration": 364,
    "start_time": "2024-08-31T17:12:20.627Z"
   },
   {
    "duration": 316,
    "start_time": "2024-08-31T17:12:20.992Z"
   },
   {
    "duration": 8,
    "start_time": "2024-08-31T17:12:21.309Z"
   },
   {
    "duration": 35,
    "start_time": "2024-08-31T17:12:21.318Z"
   },
   {
    "duration": 303,
    "start_time": "2024-08-31T17:18:32.149Z"
   }
  ],
  "kernelspec": {
   "display_name": "Python [conda env:base] *",
   "language": "python",
   "name": "conda-base-py"
  },
  "language_info": {
   "codemirror_mode": {
    "name": "ipython",
    "version": 3
   },
   "file_extension": ".py",
   "mimetype": "text/x-python",
   "name": "python",
   "nbconvert_exporter": "python",
   "pygments_lexer": "ipython3",
   "version": "3.12.7"
  },
  "toc": {
   "base_numbering": 1,
   "nav_menu": {},
   "number_sections": true,
   "sideBar": true,
   "skip_h1_title": true,
   "title_cell": "Table of Contents",
   "title_sidebar": "Contents",
   "toc_cell": false,
   "toc_position": {},
   "toc_section_display": true,
   "toc_window_display": false
  }
 },
 "nbformat": 4,
 "nbformat_minor": 4
}
