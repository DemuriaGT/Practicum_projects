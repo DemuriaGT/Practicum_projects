{
 "cells": [
  {
   "cell_type": "markdown",
   "id": "3520e52c-863c-4b0d-95dc-07ebff7e8f80",
   "metadata": {},
   "source": [
    "# Анализ данных пользователей сервиса аренды самокатов GoFast.\n",
    "\n",
    "**Описание проекта:** В современном мире городской мобильности сервисы аренды самокатов становятся всё более популярными. GoFast — один из таких сервисов, предоставляющий пользователям возможность арендовать самокаты через мобильное приложение. Для улучшения бизнес-показателей и повышения удовлетворённости клиентов необходимо проанализировать данные о пользователях и их поездках. В рамках данного проекта мы изучим данные из нескольких городов, чтобы выявить ключевые факторы, влияющие на использование сервиса, и проверить гипотезы, которые могут способствовать росту бизнеса.\n",
    "\n",
    "**Цель исследования:** Анализ данных пользователей и поездок для выявления ключевых факторов, влияющих на использование сервиса GoFast, и проверка гипотез, направленных на улучшение бизнес-показателей.\n",
    "\n",
    "**Ход исследования:**\n",
    "\n",
    "- **Подготовка данных:** Загрузка и изучение общей информации из предоставленного датасета.\n",
    "- **Предобработка данных:** Обработка пропущенных значений, корректировка типов данных, устранение дубликатов и других аномалий.\n",
    "- **Анализ данных:** Изучение основных параметров пользователей и поездок, их распределения, зависимости использования сервиса от различных характеристик, а также проверка гипотез.\n",
    "- **Проверка гипотез:** Анализ влияния подписки Ultra на частоту и стоимость поездок, сравнение поведения пользователей с подпиской и без неё.\n",
    "\n",
    "**Общий вывод:** Резюмирование полученных результатов, формулировка ключевых выводов и рекомендаций для улучшения бизнес-показателей сервиса GoFast.\n",
    "\n",
    "С помощью данного исследования мы стремимся предоставить всесторонний анализ использования сервиса аренды самокатов, что станет основой для дальнейших улучшений и разработки стратегий роста бизнеса."
   ]
  },
  {
   "cell_type": "code",
   "execution_count": 1,
   "id": "72576667",
   "metadata": {},
   "outputs": [],
   "source": [
    "import pandas as pd\n",
    "import matplotlib.pyplot as plt\n",
    "import numpy as np\n",
    "from scipy import stats as st"
   ]
  },
  {
   "cell_type": "markdown",
   "id": "c42cbe00",
   "metadata": {},
   "source": [
    "## Шаг 1. Загрузка данных"
   ]
  },
  {
   "cell_type": "markdown",
   "id": "4809f0cb",
   "metadata": {},
   "source": [
    "##### Считаем CSV-файлы с данными с помощью библиотеки pandas и сохраним их в датафреймы. Выведем первые строки каждого набора данных."
   ]
  },
  {
   "cell_type": "code",
   "execution_count": 2,
   "id": "eff9f206",
   "metadata": {},
   "outputs": [
    {
     "data": {
      "text/html": [
       "<div>\n",
       "<style scoped>\n",
       "    .dataframe tbody tr th:only-of-type {\n",
       "        vertical-align: middle;\n",
       "    }\n",
       "\n",
       "    .dataframe tbody tr th {\n",
       "        vertical-align: top;\n",
       "    }\n",
       "\n",
       "    .dataframe thead th {\n",
       "        text-align: right;\n",
       "    }\n",
       "</style>\n",
       "<table border=\"1\" class=\"dataframe\">\n",
       "  <thead>\n",
       "    <tr style=\"text-align: right;\">\n",
       "      <th></th>\n",
       "      <th>user_id</th>\n",
       "      <th>name</th>\n",
       "      <th>age</th>\n",
       "      <th>city</th>\n",
       "      <th>subscription_type</th>\n",
       "    </tr>\n",
       "  </thead>\n",
       "  <tbody>\n",
       "    <tr>\n",
       "      <th>0</th>\n",
       "      <td>1</td>\n",
       "      <td>Кира</td>\n",
       "      <td>22</td>\n",
       "      <td>Тюмень</td>\n",
       "      <td>ultra</td>\n",
       "    </tr>\n",
       "    <tr>\n",
       "      <th>1</th>\n",
       "      <td>2</td>\n",
       "      <td>Станислав</td>\n",
       "      <td>31</td>\n",
       "      <td>Омск</td>\n",
       "      <td>ultra</td>\n",
       "    </tr>\n",
       "    <tr>\n",
       "      <th>2</th>\n",
       "      <td>3</td>\n",
       "      <td>Алексей</td>\n",
       "      <td>20</td>\n",
       "      <td>Москва</td>\n",
       "      <td>ultra</td>\n",
       "    </tr>\n",
       "    <tr>\n",
       "      <th>3</th>\n",
       "      <td>4</td>\n",
       "      <td>Константин</td>\n",
       "      <td>26</td>\n",
       "      <td>Ростов-на-Дону</td>\n",
       "      <td>ultra</td>\n",
       "    </tr>\n",
       "    <tr>\n",
       "      <th>4</th>\n",
       "      <td>5</td>\n",
       "      <td>Адель</td>\n",
       "      <td>28</td>\n",
       "      <td>Омск</td>\n",
       "      <td>ultra</td>\n",
       "    </tr>\n",
       "  </tbody>\n",
       "</table>\n",
       "</div>"
      ],
      "text/plain": [
       "   user_id        name  age            city subscription_type\n",
       "0        1        Кира   22          Тюмень             ultra\n",
       "1        2   Станислав   31            Омск             ultra\n",
       "2        3     Алексей   20          Москва             ultra\n",
       "3        4  Константин   26  Ростов-на-Дону             ultra\n",
       "4        5       Адель   28            Омск             ultra"
      ]
     },
     "execution_count": 2,
     "metadata": {},
     "output_type": "execute_result"
    }
   ],
   "source": [
    "users_data = pd.read_csv('/datasets/users_go.csv')\n",
    "users_data.head()"
   ]
  },
  {
   "cell_type": "code",
   "execution_count": 3,
   "id": "bab3bb00",
   "metadata": {
    "scrolled": true
   },
   "outputs": [
    {
     "data": {
      "text/html": [
       "<div>\n",
       "<style scoped>\n",
       "    .dataframe tbody tr th:only-of-type {\n",
       "        vertical-align: middle;\n",
       "    }\n",
       "\n",
       "    .dataframe tbody tr th {\n",
       "        vertical-align: top;\n",
       "    }\n",
       "\n",
       "    .dataframe thead th {\n",
       "        text-align: right;\n",
       "    }\n",
       "</style>\n",
       "<table border=\"1\" class=\"dataframe\">\n",
       "  <thead>\n",
       "    <tr style=\"text-align: right;\">\n",
       "      <th></th>\n",
       "      <th>user_id</th>\n",
       "      <th>distance</th>\n",
       "      <th>duration</th>\n",
       "      <th>date</th>\n",
       "    </tr>\n",
       "  </thead>\n",
       "  <tbody>\n",
       "    <tr>\n",
       "      <th>0</th>\n",
       "      <td>1</td>\n",
       "      <td>4409.919140</td>\n",
       "      <td>25.599769</td>\n",
       "      <td>2021-01-01</td>\n",
       "    </tr>\n",
       "    <tr>\n",
       "      <th>1</th>\n",
       "      <td>1</td>\n",
       "      <td>2617.592153</td>\n",
       "      <td>15.816871</td>\n",
       "      <td>2021-01-18</td>\n",
       "    </tr>\n",
       "    <tr>\n",
       "      <th>2</th>\n",
       "      <td>1</td>\n",
       "      <td>754.159807</td>\n",
       "      <td>6.232113</td>\n",
       "      <td>2021-04-20</td>\n",
       "    </tr>\n",
       "    <tr>\n",
       "      <th>3</th>\n",
       "      <td>1</td>\n",
       "      <td>2694.783254</td>\n",
       "      <td>18.511000</td>\n",
       "      <td>2021-08-11</td>\n",
       "    </tr>\n",
       "    <tr>\n",
       "      <th>4</th>\n",
       "      <td>1</td>\n",
       "      <td>4028.687306</td>\n",
       "      <td>26.265803</td>\n",
       "      <td>2021-08-28</td>\n",
       "    </tr>\n",
       "  </tbody>\n",
       "</table>\n",
       "</div>"
      ],
      "text/plain": [
       "   user_id     distance   duration        date\n",
       "0        1  4409.919140  25.599769  2021-01-01\n",
       "1        1  2617.592153  15.816871  2021-01-18\n",
       "2        1   754.159807   6.232113  2021-04-20\n",
       "3        1  2694.783254  18.511000  2021-08-11\n",
       "4        1  4028.687306  26.265803  2021-08-28"
      ]
     },
     "execution_count": 3,
     "metadata": {},
     "output_type": "execute_result"
    }
   ],
   "source": [
    "rides_data = pd.read_csv('/datasets/rides_go.csv')\n",
    "rides_data.head()"
   ]
  },
  {
   "cell_type": "code",
   "execution_count": 4,
   "id": "0e87500a",
   "metadata": {
    "scrolled": true
   },
   "outputs": [
    {
     "data": {
      "text/html": [
       "<div>\n",
       "<style scoped>\n",
       "    .dataframe tbody tr th:only-of-type {\n",
       "        vertical-align: middle;\n",
       "    }\n",
       "\n",
       "    .dataframe tbody tr th {\n",
       "        vertical-align: top;\n",
       "    }\n",
       "\n",
       "    .dataframe thead th {\n",
       "        text-align: right;\n",
       "    }\n",
       "</style>\n",
       "<table border=\"1\" class=\"dataframe\">\n",
       "  <thead>\n",
       "    <tr style=\"text-align: right;\">\n",
       "      <th></th>\n",
       "      <th>subscription_type</th>\n",
       "      <th>minute_price</th>\n",
       "      <th>start_ride_price</th>\n",
       "      <th>subscription_fee</th>\n",
       "    </tr>\n",
       "  </thead>\n",
       "  <tbody>\n",
       "    <tr>\n",
       "      <th>0</th>\n",
       "      <td>free</td>\n",
       "      <td>8</td>\n",
       "      <td>50</td>\n",
       "      <td>0</td>\n",
       "    </tr>\n",
       "    <tr>\n",
       "      <th>1</th>\n",
       "      <td>ultra</td>\n",
       "      <td>6</td>\n",
       "      <td>0</td>\n",
       "      <td>199</td>\n",
       "    </tr>\n",
       "  </tbody>\n",
       "</table>\n",
       "</div>"
      ],
      "text/plain": [
       "  subscription_type  minute_price  start_ride_price  subscription_fee\n",
       "0              free             8                50                 0\n",
       "1             ultra             6                 0               199"
      ]
     },
     "execution_count": 4,
     "metadata": {},
     "output_type": "execute_result"
    }
   ],
   "source": [
    "subs_data = pd.read_csv('/datasets/subscriptions_go.csv')\n",
    "subs_data.head()"
   ]
  },
  {
   "cell_type": "markdown",
   "id": "61a93e60",
   "metadata": {},
   "source": [
    "##### Изучим общую информацию о каждом датафрейме."
   ]
  },
  {
   "cell_type": "code",
   "execution_count": 5,
   "id": "b6ff54c1",
   "metadata": {
    "scrolled": true
   },
   "outputs": [
    {
     "name": "stdout",
     "output_type": "stream",
     "text": [
      "<class 'pandas.core.frame.DataFrame'>\n",
      "RangeIndex: 1565 entries, 0 to 1564\n",
      "Data columns (total 5 columns):\n",
      " #   Column             Non-Null Count  Dtype \n",
      "---  ------             --------------  ----- \n",
      " 0   user_id            1565 non-null   int64 \n",
      " 1   name               1565 non-null   object\n",
      " 2   age                1565 non-null   int64 \n",
      " 3   city               1565 non-null   object\n",
      " 4   subscription_type  1565 non-null   object\n",
      "dtypes: int64(2), object(3)\n",
      "memory usage: 61.3+ KB\n"
     ]
    }
   ],
   "source": [
    "users_data.info()"
   ]
  },
  {
   "cell_type": "code",
   "execution_count": 6,
   "id": "a3ea2d34",
   "metadata": {
    "scrolled": true
   },
   "outputs": [
    {
     "name": "stdout",
     "output_type": "stream",
     "text": [
      "<class 'pandas.core.frame.DataFrame'>\n",
      "RangeIndex: 18068 entries, 0 to 18067\n",
      "Data columns (total 4 columns):\n",
      " #   Column    Non-Null Count  Dtype  \n",
      "---  ------    --------------  -----  \n",
      " 0   user_id   18068 non-null  int64  \n",
      " 1   distance  18068 non-null  float64\n",
      " 2   duration  18068 non-null  float64\n",
      " 3   date      18068 non-null  object \n",
      "dtypes: float64(2), int64(1), object(1)\n",
      "memory usage: 564.8+ KB\n"
     ]
    }
   ],
   "source": [
    "rides_data.info()"
   ]
  },
  {
   "cell_type": "code",
   "execution_count": 7,
   "id": "09295757",
   "metadata": {},
   "outputs": [
    {
     "name": "stdout",
     "output_type": "stream",
     "text": [
      "<class 'pandas.core.frame.DataFrame'>\n",
      "RangeIndex: 2 entries, 0 to 1\n",
      "Data columns (total 4 columns):\n",
      " #   Column             Non-Null Count  Dtype \n",
      "---  ------             --------------  ----- \n",
      " 0   subscription_type  2 non-null      object\n",
      " 1   minute_price       2 non-null      int64 \n",
      " 2   start_ride_price   2 non-null      int64 \n",
      " 3   subscription_fee   2 non-null      int64 \n",
      "dtypes: int64(3), object(1)\n",
      "memory usage: 192.0+ bytes\n"
     ]
    }
   ],
   "source": [
    "subs_data.info()"
   ]
  },
  {
   "cell_type": "markdown",
   "id": "e7461afd",
   "metadata": {},
   "source": [
    "Как видно, данные целые и без пропусков."
   ]
  },
  {
   "cell_type": "markdown",
   "id": "e95ebca7",
   "metadata": {},
   "source": [
    "## Шаг 2. Предобработка данных"
   ]
  },
  {
   "cell_type": "markdown",
   "id": "3d30b703",
   "metadata": {},
   "source": [
    "### Приведем столбец date к типу даты pandas."
   ]
  },
  {
   "cell_type": "code",
   "execution_count": 8,
   "id": "4d17476b",
   "metadata": {},
   "outputs": [
    {
     "name": "stdout",
     "output_type": "stream",
     "text": [
      "<class 'pandas.core.frame.DataFrame'>\n",
      "RangeIndex: 18068 entries, 0 to 18067\n",
      "Data columns (total 4 columns):\n",
      " #   Column    Non-Null Count  Dtype         \n",
      "---  ------    --------------  -----         \n",
      " 0   user_id   18068 non-null  int64         \n",
      " 1   distance  18068 non-null  float64       \n",
      " 2   duration  18068 non-null  float64       \n",
      " 3   date      18068 non-null  datetime64[ns]\n",
      "dtypes: datetime64[ns](1), float64(2), int64(1)\n",
      "memory usage: 564.8 KB\n"
     ]
    }
   ],
   "source": [
    "rides_data['date'] = pd.to_datetime(rides_data['date'])\n",
    "rides_data.info()"
   ]
  },
  {
   "cell_type": "markdown",
   "id": "9e23b5f3",
   "metadata": {},
   "source": [
    "### Создадим новый столбец с номером месяца на основе столбца date."
   ]
  },
  {
   "cell_type": "code",
   "execution_count": 9,
   "id": "e0242356",
   "metadata": {},
   "outputs": [
    {
     "data": {
      "text/html": [
       "<div>\n",
       "<style scoped>\n",
       "    .dataframe tbody tr th:only-of-type {\n",
       "        vertical-align: middle;\n",
       "    }\n",
       "\n",
       "    .dataframe tbody tr th {\n",
       "        vertical-align: top;\n",
       "    }\n",
       "\n",
       "    .dataframe thead th {\n",
       "        text-align: right;\n",
       "    }\n",
       "</style>\n",
       "<table border=\"1\" class=\"dataframe\">\n",
       "  <thead>\n",
       "    <tr style=\"text-align: right;\">\n",
       "      <th></th>\n",
       "      <th>user_id</th>\n",
       "      <th>distance</th>\n",
       "      <th>duration</th>\n",
       "      <th>date</th>\n",
       "      <th>month</th>\n",
       "    </tr>\n",
       "  </thead>\n",
       "  <tbody>\n",
       "    <tr>\n",
       "      <th>0</th>\n",
       "      <td>1</td>\n",
       "      <td>4409.919140</td>\n",
       "      <td>25.599769</td>\n",
       "      <td>2021-01-01</td>\n",
       "      <td>1</td>\n",
       "    </tr>\n",
       "    <tr>\n",
       "      <th>1</th>\n",
       "      <td>1</td>\n",
       "      <td>2617.592153</td>\n",
       "      <td>15.816871</td>\n",
       "      <td>2021-01-18</td>\n",
       "      <td>1</td>\n",
       "    </tr>\n",
       "    <tr>\n",
       "      <th>2</th>\n",
       "      <td>1</td>\n",
       "      <td>754.159807</td>\n",
       "      <td>6.232113</td>\n",
       "      <td>2021-04-20</td>\n",
       "      <td>4</td>\n",
       "    </tr>\n",
       "    <tr>\n",
       "      <th>3</th>\n",
       "      <td>1</td>\n",
       "      <td>2694.783254</td>\n",
       "      <td>18.511000</td>\n",
       "      <td>2021-08-11</td>\n",
       "      <td>8</td>\n",
       "    </tr>\n",
       "    <tr>\n",
       "      <th>4</th>\n",
       "      <td>1</td>\n",
       "      <td>4028.687306</td>\n",
       "      <td>26.265803</td>\n",
       "      <td>2021-08-28</td>\n",
       "      <td>8</td>\n",
       "    </tr>\n",
       "  </tbody>\n",
       "</table>\n",
       "</div>"
      ],
      "text/plain": [
       "   user_id     distance   duration       date  month\n",
       "0        1  4409.919140  25.599769 2021-01-01      1\n",
       "1        1  2617.592153  15.816871 2021-01-18      1\n",
       "2        1   754.159807   6.232113 2021-04-20      4\n",
       "3        1  2694.783254  18.511000 2021-08-11      8\n",
       "4        1  4028.687306  26.265803 2021-08-28      8"
      ]
     },
     "execution_count": 9,
     "metadata": {},
     "output_type": "execute_result"
    }
   ],
   "source": [
    "rides_data['month'] = rides_data['date'].dt.month\n",
    "rides_data.head()"
   ]
  },
  {
   "cell_type": "markdown",
   "id": "90dd4de3",
   "metadata": {},
   "source": [
    "### Проверим наличие пропущенных значений и дубликатов в датафреймах. Обработаем их, если такие значения присутствуют."
   ]
  },
  {
   "cell_type": "code",
   "execution_count": 10,
   "id": "25588db1",
   "metadata": {
    "scrolled": true
   },
   "outputs": [
    {
     "name": "stdout",
     "output_type": "stream",
     "text": [
      "user_id              0\n",
      "name                 0\n",
      "age                  0\n",
      "city                 0\n",
      "subscription_type    0\n",
      "dtype: int64\n",
      "\n",
      "user_id     0\n",
      "distance    0\n",
      "duration    0\n",
      "date        0\n",
      "month       0\n",
      "dtype: int64\n",
      "\n",
      "subscription_type    0\n",
      "minute_price         0\n",
      "start_ride_price     0\n",
      "subscription_fee     0\n",
      "dtype: int64\n"
     ]
    }
   ],
   "source": [
    "users_miss = users_data.isnull().sum()\n",
    "print(users_miss)\n",
    "print()\n",
    "rides_miss = rides_data.isnull().sum()\n",
    "print(rides_miss)\n",
    "print()\n",
    "subs_miss = subs_data.isnull().sum()\n",
    "print(subs_miss)"
   ]
  },
  {
   "cell_type": "markdown",
   "id": "f92324e9",
   "metadata": {},
   "source": [
    "Как видим, пропущенных значений в датафреймах нет."
   ]
  },
  {
   "cell_type": "markdown",
   "id": "beda90ea",
   "metadata": {},
   "source": [
    "Теперь проверим дубликаты:"
   ]
  },
  {
   "cell_type": "code",
   "execution_count": 11,
   "id": "f220077b",
   "metadata": {},
   "outputs": [
    {
     "name": "stdout",
     "output_type": "stream",
     "text": [
      "Дубликатов в датафрейме users_data:  31\n",
      "Дубликатов в датафрейме rides_data:  0\n",
      "Дубликатов в датафрейме subs_data:  0\n"
     ]
    }
   ],
   "source": [
    "users_dups = users_data.duplicated().sum()\n",
    "print('Дубликатов в датафрейме users_data: ', users_dups)\n",
    "rides_dups = rides_data.duplicated().sum()\n",
    "print('Дубликатов в датафрейме rides_data: ', rides_dups)\n",
    "subs_dups = subs_data.duplicated().sum()\n",
    "print('Дубликатов в датафрейме subs_data: ', subs_dups)\n"
   ]
  },
  {
   "cell_type": "markdown",
   "id": "97d41cde",
   "metadata": {},
   "source": [
    "Можем поближе посмотреть строки с дубликатами:"
   ]
  },
  {
   "cell_type": "code",
   "execution_count": 12,
   "id": "8b28f38a",
   "metadata": {
    "scrolled": true
   },
   "outputs": [
    {
     "data": {
      "text/html": [
       "<div>\n",
       "<style scoped>\n",
       "    .dataframe tbody tr th:only-of-type {\n",
       "        vertical-align: middle;\n",
       "    }\n",
       "\n",
       "    .dataframe tbody tr th {\n",
       "        vertical-align: top;\n",
       "    }\n",
       "\n",
       "    .dataframe thead th {\n",
       "        text-align: right;\n",
       "    }\n",
       "</style>\n",
       "<table border=\"1\" class=\"dataframe\">\n",
       "  <thead>\n",
       "    <tr style=\"text-align: right;\">\n",
       "      <th></th>\n",
       "      <th>user_id</th>\n",
       "      <th>name</th>\n",
       "      <th>age</th>\n",
       "      <th>city</th>\n",
       "      <th>subscription_type</th>\n",
       "    </tr>\n",
       "  </thead>\n",
       "  <tbody>\n",
       "    <tr>\n",
       "      <th>1534</th>\n",
       "      <td>293</td>\n",
       "      <td>Агата</td>\n",
       "      <td>26</td>\n",
       "      <td>Краснодар</td>\n",
       "      <td>ultra</td>\n",
       "    </tr>\n",
       "    <tr>\n",
       "      <th>1535</th>\n",
       "      <td>16</td>\n",
       "      <td>Амалия</td>\n",
       "      <td>27</td>\n",
       "      <td>Краснодар</td>\n",
       "      <td>ultra</td>\n",
       "    </tr>\n",
       "    <tr>\n",
       "      <th>1536</th>\n",
       "      <td>909</td>\n",
       "      <td>Константин</td>\n",
       "      <td>20</td>\n",
       "      <td>Екатеринбург</td>\n",
       "      <td>free</td>\n",
       "    </tr>\n",
       "    <tr>\n",
       "      <th>1537</th>\n",
       "      <td>403</td>\n",
       "      <td>Полина</td>\n",
       "      <td>19</td>\n",
       "      <td>Сочи</td>\n",
       "      <td>ultra</td>\n",
       "    </tr>\n",
       "    <tr>\n",
       "      <th>1538</th>\n",
       "      <td>908</td>\n",
       "      <td>Рустам</td>\n",
       "      <td>30</td>\n",
       "      <td>Тюмень</td>\n",
       "      <td>free</td>\n",
       "    </tr>\n",
       "    <tr>\n",
       "      <th>1539</th>\n",
       "      <td>43</td>\n",
       "      <td>Стефания</td>\n",
       "      <td>22</td>\n",
       "      <td>Омск</td>\n",
       "      <td>ultra</td>\n",
       "    </tr>\n",
       "    <tr>\n",
       "      <th>1540</th>\n",
       "      <td>127</td>\n",
       "      <td>Павел</td>\n",
       "      <td>25</td>\n",
       "      <td>Пятигорск</td>\n",
       "      <td>ultra</td>\n",
       "    </tr>\n",
       "    <tr>\n",
       "      <th>1541</th>\n",
       "      <td>659</td>\n",
       "      <td>Злата</td>\n",
       "      <td>27</td>\n",
       "      <td>Ростов-на-Дону</td>\n",
       "      <td>ultra</td>\n",
       "    </tr>\n",
       "    <tr>\n",
       "      <th>1542</th>\n",
       "      <td>204</td>\n",
       "      <td>Руслан</td>\n",
       "      <td>30</td>\n",
       "      <td>Пятигорск</td>\n",
       "      <td>ultra</td>\n",
       "    </tr>\n",
       "    <tr>\n",
       "      <th>1543</th>\n",
       "      <td>153</td>\n",
       "      <td>Герман</td>\n",
       "      <td>23</td>\n",
       "      <td>Москва</td>\n",
       "      <td>ultra</td>\n",
       "    </tr>\n",
       "    <tr>\n",
       "      <th>1544</th>\n",
       "      <td>1245</td>\n",
       "      <td>Регина</td>\n",
       "      <td>27</td>\n",
       "      <td>Пятигорск</td>\n",
       "      <td>free</td>\n",
       "    </tr>\n",
       "    <tr>\n",
       "      <th>1545</th>\n",
       "      <td>807</td>\n",
       "      <td>Александр</td>\n",
       "      <td>28</td>\n",
       "      <td>Екатеринбург</td>\n",
       "      <td>free</td>\n",
       "    </tr>\n",
       "    <tr>\n",
       "      <th>1546</th>\n",
       "      <td>924</td>\n",
       "      <td>Мария</td>\n",
       "      <td>23</td>\n",
       "      <td>Пятигорск</td>\n",
       "      <td>free</td>\n",
       "    </tr>\n",
       "    <tr>\n",
       "      <th>1547</th>\n",
       "      <td>635</td>\n",
       "      <td>Герман</td>\n",
       "      <td>21</td>\n",
       "      <td>Москва</td>\n",
       "      <td>ultra</td>\n",
       "    </tr>\n",
       "    <tr>\n",
       "      <th>1548</th>\n",
       "      <td>136</td>\n",
       "      <td>Марсель</td>\n",
       "      <td>25</td>\n",
       "      <td>Тюмень</td>\n",
       "      <td>ultra</td>\n",
       "    </tr>\n",
       "    <tr>\n",
       "      <th>1549</th>\n",
       "      <td>108</td>\n",
       "      <td>Влада</td>\n",
       "      <td>29</td>\n",
       "      <td>Тюмень</td>\n",
       "      <td>ultra</td>\n",
       "    </tr>\n",
       "    <tr>\n",
       "      <th>1550</th>\n",
       "      <td>737</td>\n",
       "      <td>Мелания</td>\n",
       "      <td>27</td>\n",
       "      <td>Ростов-на-Дону</td>\n",
       "      <td>free</td>\n",
       "    </tr>\n",
       "    <tr>\n",
       "      <th>1551</th>\n",
       "      <td>666</td>\n",
       "      <td>Зарина</td>\n",
       "      <td>29</td>\n",
       "      <td>Москва</td>\n",
       "      <td>ultra</td>\n",
       "    </tr>\n",
       "    <tr>\n",
       "      <th>1552</th>\n",
       "      <td>297</td>\n",
       "      <td>Егор</td>\n",
       "      <td>33</td>\n",
       "      <td>Пятигорск</td>\n",
       "      <td>ultra</td>\n",
       "    </tr>\n",
       "    <tr>\n",
       "      <th>1553</th>\n",
       "      <td>121</td>\n",
       "      <td>Алина</td>\n",
       "      <td>25</td>\n",
       "      <td>Пятигорск</td>\n",
       "      <td>ultra</td>\n",
       "    </tr>\n",
       "    <tr>\n",
       "      <th>1554</th>\n",
       "      <td>1198</td>\n",
       "      <td>Демид</td>\n",
       "      <td>29</td>\n",
       "      <td>Ростов-на-Дону</td>\n",
       "      <td>free</td>\n",
       "    </tr>\n",
       "    <tr>\n",
       "      <th>1555</th>\n",
       "      <td>72</td>\n",
       "      <td>Никита</td>\n",
       "      <td>25</td>\n",
       "      <td>Москва</td>\n",
       "      <td>ultra</td>\n",
       "    </tr>\n",
       "    <tr>\n",
       "      <th>1556</th>\n",
       "      <td>422</td>\n",
       "      <td>Кирилл</td>\n",
       "      <td>27</td>\n",
       "      <td>Сочи</td>\n",
       "      <td>ultra</td>\n",
       "    </tr>\n",
       "    <tr>\n",
       "      <th>1557</th>\n",
       "      <td>611</td>\n",
       "      <td>Владимир</td>\n",
       "      <td>28</td>\n",
       "      <td>Омск</td>\n",
       "      <td>ultra</td>\n",
       "    </tr>\n",
       "    <tr>\n",
       "      <th>1558</th>\n",
       "      <td>1237</td>\n",
       "      <td>Евгения</td>\n",
       "      <td>23</td>\n",
       "      <td>Тюмень</td>\n",
       "      <td>free</td>\n",
       "    </tr>\n",
       "    <tr>\n",
       "      <th>1559</th>\n",
       "      <td>209</td>\n",
       "      <td>Андрей</td>\n",
       "      <td>23</td>\n",
       "      <td>Омск</td>\n",
       "      <td>ultra</td>\n",
       "    </tr>\n",
       "    <tr>\n",
       "      <th>1560</th>\n",
       "      <td>829</td>\n",
       "      <td>Федор</td>\n",
       "      <td>29</td>\n",
       "      <td>Пятигорск</td>\n",
       "      <td>free</td>\n",
       "    </tr>\n",
       "    <tr>\n",
       "      <th>1561</th>\n",
       "      <td>809</td>\n",
       "      <td>Юрий</td>\n",
       "      <td>26</td>\n",
       "      <td>Сочи</td>\n",
       "      <td>free</td>\n",
       "    </tr>\n",
       "    <tr>\n",
       "      <th>1562</th>\n",
       "      <td>307</td>\n",
       "      <td>Ясмина</td>\n",
       "      <td>19</td>\n",
       "      <td>Краснодар</td>\n",
       "      <td>ultra</td>\n",
       "    </tr>\n",
       "    <tr>\n",
       "      <th>1563</th>\n",
       "      <td>47</td>\n",
       "      <td>Юрий</td>\n",
       "      <td>28</td>\n",
       "      <td>Тюмень</td>\n",
       "      <td>ultra</td>\n",
       "    </tr>\n",
       "    <tr>\n",
       "      <th>1564</th>\n",
       "      <td>1045</td>\n",
       "      <td>Артемий</td>\n",
       "      <td>28</td>\n",
       "      <td>Ростов-на-Дону</td>\n",
       "      <td>free</td>\n",
       "    </tr>\n",
       "  </tbody>\n",
       "</table>\n",
       "</div>"
      ],
      "text/plain": [
       "      user_id        name  age            city subscription_type\n",
       "1534      293       Агата   26       Краснодар             ultra\n",
       "1535       16      Амалия   27       Краснодар             ultra\n",
       "1536      909  Константин   20    Екатеринбург              free\n",
       "1537      403      Полина   19            Сочи             ultra\n",
       "1538      908      Рустам   30          Тюмень              free\n",
       "1539       43    Стефания   22            Омск             ultra\n",
       "1540      127       Павел   25       Пятигорск             ultra\n",
       "1541      659       Злата   27  Ростов-на-Дону             ultra\n",
       "1542      204      Руслан   30       Пятигорск             ultra\n",
       "1543      153      Герман   23          Москва             ultra\n",
       "1544     1245      Регина   27       Пятигорск              free\n",
       "1545      807   Александр   28    Екатеринбург              free\n",
       "1546      924       Мария   23       Пятигорск              free\n",
       "1547      635      Герман   21          Москва             ultra\n",
       "1548      136     Марсель   25          Тюмень             ultra\n",
       "1549      108       Влада   29          Тюмень             ultra\n",
       "1550      737     Мелания   27  Ростов-на-Дону              free\n",
       "1551      666      Зарина   29          Москва             ultra\n",
       "1552      297        Егор   33       Пятигорск             ultra\n",
       "1553      121       Алина   25       Пятигорск             ultra\n",
       "1554     1198       Демид   29  Ростов-на-Дону              free\n",
       "1555       72      Никита   25          Москва             ultra\n",
       "1556      422      Кирилл   27            Сочи             ultra\n",
       "1557      611    Владимир   28            Омск             ultra\n",
       "1558     1237     Евгения   23          Тюмень              free\n",
       "1559      209      Андрей   23            Омск             ultra\n",
       "1560      829       Федор   29       Пятигорск              free\n",
       "1561      809        Юрий   26            Сочи              free\n",
       "1562      307      Ясмина   19       Краснодар             ultra\n",
       "1563       47        Юрий   28          Тюмень             ultra\n",
       "1564     1045     Артемий   28  Ростов-на-Дону              free"
      ]
     },
     "execution_count": 12,
     "metadata": {},
     "output_type": "execute_result"
    }
   ],
   "source": [
    "users_data[users_data.duplicated()]"
   ]
  },
  {
   "cell_type": "markdown",
   "id": "c73fe02b",
   "metadata": {},
   "source": [
    "Удалим дубликаты и сбросим индексы."
   ]
  },
  {
   "cell_type": "code",
   "execution_count": 13,
   "id": "1c4b17a3",
   "metadata": {},
   "outputs": [
    {
     "data": {
      "text/plain": [
       "0"
      ]
     },
     "execution_count": 13,
     "metadata": {},
     "output_type": "execute_result"
    }
   ],
   "source": [
    "users_data = users_data.drop_duplicates()\n",
    "users_data.reset_index(drop=True, inplace=True)\n",
    "users_data.duplicated().sum()"
   ]
  },
  {
   "cell_type": "markdown",
   "id": "facdf611",
   "metadata": {},
   "source": [
    "<b>Промежуточный итог:</b> Данные оказались целыми и без пропусков, но имелись дубликаты в данных с информацией о пользователях, в кол-ве 31шт. Избавился от дубликатов. Привел столбец в датой к нужному типу данных, и добавил столбец с месяцем. Данные готовы для перехода к следующему этапу."
   ]
  },
  {
   "cell_type": "markdown",
   "id": "212593c7",
   "metadata": {},
   "source": [
    "## Шаг 3. Исследовательский анализ данных"
   ]
  },
  {
   "cell_type": "markdown",
   "id": "f3e3f74d",
   "metadata": {},
   "source": [
    "На данном этапе, будем описывать и визуализировать общую информацию о пользователях и поездках. В частности:\n",
    "- частоту встречаемости городов;\n",
    "- соотношение пользователей с подпиской и без подписки;\n",
    "- возраст пользователей;\n",
    "- расстояние, которое пользователь преодолел за одну поездку;\n",
    "- продолжительность поездок."
   ]
  },
  {
   "cell_type": "markdown",
   "id": "4f0094bf",
   "metadata": {},
   "source": [
    "### Частота встречаемости городов;"
   ]
  },
  {
   "cell_type": "code",
   "execution_count": 14,
   "id": "85a5f5dd",
   "metadata": {},
   "outputs": [
    {
     "data": {
      "text/plain": [
       "Пятигорск         219\n",
       "Екатеринбург      204\n",
       "Ростов-на-Дону    198\n",
       "Краснодар         193\n",
       "Сочи              189\n",
       "Омск              183\n",
       "Тюмень            180\n",
       "Москва            168\n",
       "Name: city, dtype: int64"
      ]
     },
     "execution_count": 14,
     "metadata": {},
     "output_type": "execute_result"
    }
   ],
   "source": [
    "city_counts = users_data['city'].value_counts()\n",
    "city_counts"
   ]
  },
  {
   "cell_type": "markdown",
   "id": "5197e526",
   "metadata": {},
   "source": [
    "Построим график:"
   ]
  },
  {
   "cell_type": "code",
   "execution_count": 15,
   "id": "7716e1f1",
   "metadata": {},
   "outputs": [
    {
     "data": {
      "image/png": "[encoded data removed]",
      "text/plain": [
       "<Figure size 720x432 with 1 Axes>"
      ]
     },
     "metadata": {
      "needs_background": "light"
     },
     "output_type": "display_data"
    }
   ],
   "source": [
    "city_counts.plot(\n",
    "    kind='bar', \n",
    "    figsize = (10,6), \n",
    "    title = 'Частота встречаемости городов',\n",
    "    ylabel = 'Количество пользователей',\n",
    "    xlabel = 'Город'\n",
    ")\n",
    "plt.show()"
   ]
  },
  {
   "cell_type": "markdown",
   "id": "c81b2a2f",
   "metadata": {},
   "source": [
    "Видно, что чаще всего в данных встречается г. Пятигорск. Москва же находится на последнем месте по частоте встречаемости."
   ]
  },
  {
   "cell_type": "markdown",
   "id": "33d48186",
   "metadata": {},
   "source": [
    "### Соотношение пользователей с подпиской и без подписки;"
   ]
  },
  {
   "cell_type": "code",
   "execution_count": 16,
   "id": "cc47b387",
   "metadata": {},
   "outputs": [
    {
     "data": {
      "text/plain": [
       "free     835\n",
       "ultra    699\n",
       "Name: subscription_type, dtype: int64"
      ]
     },
     "execution_count": 16,
     "metadata": {},
     "output_type": "execute_result"
    }
   ],
   "source": [
    "subs_counts = users_data['subscription_type'].value_counts()\n",
    "subs_counts"
   ]
  },
  {
   "cell_type": "markdown",
   "id": "0777815c",
   "metadata": {},
   "source": [
    "Построим круговую диаграмму:"
   ]
  },
  {
   "cell_type": "code",
   "execution_count": 17,
   "id": "5e922d78",
   "metadata": {},
   "outputs": [
    {
     "data": {
      "image/png": "[encoded data removed]",
      "text/plain": [
       "<Figure size 720x432 with 1 Axes>"
      ]
     },
     "metadata": {},
     "output_type": "display_data"
    }
   ],
   "source": [
    "subs_counts.plot(\n",
    "    kind='pie', \n",
    "    figsize = (10,6), \n",
    "    title ='Соотношение пользователей по типу подписки', \n",
    "    autopct='%1.1f%%'\n",
    ") # очень хотелось процентики на пироге, потому последний аргумент пришлось погуглить :)\n",
    "plt.show()"
   ]
  },
  {
   "cell_type": "markdown",
   "id": "b518c0ce",
   "metadata": {},
   "source": [
    "Видно, что количество пользователей без подписки превышает кол-во подписчиков на 5%."
   ]
  },
  {
   "cell_type": "markdown",
   "id": "4b1efe2a",
   "metadata": {},
   "source": [
    "### Возраст пользователей;"
   ]
  },
  {
   "cell_type": "markdown",
   "id": "57c0e406",
   "metadata": {},
   "source": [
    "Воспользуемся методом describe() для получения статистики по столбцу age, который содержит данные о возрасте пользователей."
   ]
  },
  {
   "cell_type": "code",
   "execution_count": 18,
   "id": "bc786c0b",
   "metadata": {},
   "outputs": [
    {
     "data": {
      "text/plain": [
       "count    1534.000000\n",
       "mean       24.903520\n",
       "std         4.572367\n",
       "min        12.000000\n",
       "25%        22.000000\n",
       "50%        25.000000\n",
       "75%        28.000000\n",
       "max        43.000000\n",
       "Name: age, dtype: float64"
      ]
     },
     "execution_count": 18,
     "metadata": {},
     "output_type": "execute_result"
    }
   ],
   "source": [
    "ages = users_data['age']\n",
    "ages.describe()"
   ]
  },
  {
   "cell_type": "markdown",
   "id": "14146de2",
   "metadata": {},
   "source": [
    "Построим диаграмму размаха:"
   ]
  },
  {
   "cell_type": "code",
   "execution_count": 19,
   "id": "536a681b",
   "metadata": {},
   "outputs": [
    {
     "data": {
      "image/png": "[encoded data removed]",
      "text/plain": [
       "<Figure size 432x288 with 1 Axes>"
      ]
     },
     "metadata": {
      "needs_background": "light"
     },
     "output_type": "display_data"
    }
   ],
   "source": [
    "users_data.boxplot('age')\n",
    "plt.title('Диаграмма размаха возраста пользователей')\n",
    "plt.ylabel('Возраст')\n",
    "plt.show()"
   ]
  },
  {
   "cell_type": "markdown",
   "id": "2ffbc42d",
   "metadata": {},
   "source": [
    "Построим гистограмму:"
   ]
  },
  {
   "cell_type": "code",
   "execution_count": 20,
   "id": "ee736f89",
   "metadata": {},
   "outputs": [
    {
     "data": {
      "image/png": "[encoded data removed]",
      "text/plain": [
       "<Figure size 720x432 with 1 Axes>"
      ]
     },
     "metadata": {
      "needs_background": "light"
     },
     "output_type": "display_data"
    }
   ],
   "source": [
    "ages.plot(\n",
    "    kind = 'hist',\n",
    "    bins = 30,\n",
    "    figsize = (10,6),\n",
    "    title = 'Распределение возраста пользователей',\n",
    "    #xlabel = 'Возраст',\n",
    "    grid = True\n",
    ")\n",
    "plt.xlabel('Возраст')\n",
    "plt.ylabel('Частота')\n",
    "plt.show()"
   ]
  },
  {
   "cell_type": "markdown",
   "id": "dc51656f",
   "metadata": {},
   "source": [
    "Видно, что среднее значение возраста не сильно отличается от медианного — 24.9 и 25 соответственно. Возраст пользователей лежит в диапазоне от 13 до 37 лет. Встречается несколько точек выброса, снизу — около 12 лет и сверху — около 40 лет и старше."
   ]
  },
  {
   "cell_type": "markdown",
   "id": "e7d4798b",
   "metadata": {},
   "source": [
    "### Расстояние, которое пользователь преодолел за одну поездку;"
   ]
  },
  {
   "cell_type": "markdown",
   "id": "e1112ac2",
   "metadata": {},
   "source": [
    "Воспользуемся методом describe() для получения статистики по столбцу distance, который содержит данные о расстоянии."
   ]
  },
  {
   "cell_type": "code",
   "execution_count": 21,
   "id": "7d16166a",
   "metadata": {
    "scrolled": true
   },
   "outputs": [
    {
     "data": {
      "text/plain": [
       "count    18068.000000\n",
       "mean      3070.659976\n",
       "std       1116.831209\n",
       "min          0.855683\n",
       "25%       2543.226360\n",
       "50%       3133.609994\n",
       "75%       3776.222735\n",
       "max       7211.007745\n",
       "Name: distance, dtype: float64"
      ]
     },
     "execution_count": 21,
     "metadata": {},
     "output_type": "execute_result"
    }
   ],
   "source": [
    "distances = rides_data['distance']\n",
    "distances.describe()"
   ]
  },
  {
   "cell_type": "code",
   "execution_count": 22,
   "id": "3468502f",
   "metadata": {},
   "outputs": [
    {
     "data": {
      "image/png": "[encoded data removed]",
      "text/plain": [
       "<Figure size 432x288 with 1 Axes>"
      ]
     },
     "metadata": {
      "needs_background": "light"
     },
     "output_type": "display_data"
    }
   ],
   "source": [
    "rides_data.boxplot('distance')\n",
    "plt.title('Диаграмма размаха для расстояний за одну поездку')\n",
    "plt.ylabel('Расстояние (м)')\n",
    "plt.show()"
   ]
  },
  {
   "cell_type": "markdown",
   "id": "302f3b0a",
   "metadata": {},
   "source": [
    "Построим гистограмму, чтобы увидеть распределение расстояний, которые проеодолевают пользователи за одну поездку:"
   ]
  },
  {
   "cell_type": "code",
   "execution_count": 23,
   "id": "3093dac8",
   "metadata": {},
   "outputs": [
    {
     "data": {
      "image/png": "[encoded data removed]",
      "text/plain": [
       "<Figure size 720x432 with 1 Axes>"
      ]
     },
     "metadata": {
      "needs_background": "light"
     },
     "output_type": "display_data"
    }
   ],
   "source": [
    "distances.plot(\n",
    "    kind='hist', \n",
    "    bins=100, \n",
    "    figsize=(10,6), \n",
    "    title='Распределение расстояний за одну поездку',\n",
    "    #xlabel='Расстояние (м)',\n",
    "    grid = True\n",
    ")\n",
    "plt.xlabel('Расстояние (м)')\n",
    "plt.ylabel('Частота')\n",
    "plt.show()"
   ]
  },
  {
   "cell_type": "markdown",
   "id": "4e129f0b",
   "metadata": {},
   "source": [
    "Видно, что среднее растояние, которое преодолевают пользователи за одну поездку около 3000 метров. Основная масса значений сосредоточена в диапазоне от 2500 до 4000 метров — это общая тенденция. Присутствует приличное количество выбросов ниже отметки 900 м. и выше отметки 5600 м. Большое кол-во пользователей совершают поездки длиннее или короче среднего значения."
   ]
  },
  {
   "cell_type": "markdown",
   "id": "cd5b635a",
   "metadata": {},
   "source": [
    "### Продолжительность поездок."
   ]
  },
  {
   "cell_type": "code",
   "execution_count": 24,
   "id": "4e3d77cd",
   "metadata": {},
   "outputs": [
    {
     "data": {
      "text/plain": [
       "count    18068.000000\n",
       "mean        17.805011\n",
       "std          6.091051\n",
       "min          0.500000\n",
       "25%         13.597563\n",
       "50%         17.678395\n",
       "75%         21.724800\n",
       "max         40.823963\n",
       "Name: duration, dtype: float64"
      ]
     },
     "execution_count": 24,
     "metadata": {},
     "output_type": "execute_result"
    }
   ],
   "source": [
    "durations = rides_data['duration']\n",
    "durations.describe()"
   ]
  },
  {
   "cell_type": "markdown",
   "id": "b5df6ef2",
   "metadata": {},
   "source": [
    "Построим диаграмму размаха:"
   ]
  },
  {
   "cell_type": "code",
   "execution_count": 25,
   "id": "e3582bcc",
   "metadata": {},
   "outputs": [
    {
     "data": {
      "image/png": "[encoded data removed]",
      "text/plain": [
       "<Figure size 432x288 with 1 Axes>"
      ]
     },
     "metadata": {
      "needs_background": "light"
     },
     "output_type": "display_data"
    }
   ],
   "source": [
    "rides_data.boxplot('duration')\n",
    "plt.title('Диаграмма размаха для продолжительности поездок')\n",
    "plt.ylabel('Продолжительность (мин)')\n",
    "plt.show()"
   ]
  },
  {
   "cell_type": "markdown",
   "id": "912d6779",
   "metadata": {},
   "source": [
    "Построим гистограмму:"
   ]
  },
  {
   "cell_type": "code",
   "execution_count": 26,
   "id": "6d505df9",
   "metadata": {},
   "outputs": [
    {
     "data": {
      "image/png": "[encoded data removed]",
      "text/plain": [
       "<Figure size 720x432 with 1 Axes>"
      ]
     },
     "metadata": {
      "needs_background": "light"
     },
     "output_type": "display_data"
    }
   ],
   "source": [
    "durations.plot(\n",
    "    kind='hist',\n",
    "    bins=30,\n",
    "    figsize=(10, 6),\n",
    "    title='Распределение продолжительности поездок',\n",
    "    #xlabel='Продолжительность (мин)',\n",
    "    grid=True\n",
    ")\n",
    "plt.xlabel('Продолжительность (мин)')\n",
    "plt.ylabel('Частота')\n",
    "plt.show()"
   ]
  },
  {
   "cell_type": "markdown",
   "id": "05d9cd49",
   "metadata": {},
   "source": [
    "Видно, что средняя (как и медианная) продолжительность поездки составляет около 17 минут. Общая тенденция лежит в диапазоне 10-25 минут. Имеются малое кол-во выбросов снизу — на отметке ниже 2 мин. и приличное кол-во выбросов сверху — выше 34 мин."
   ]
  },
  {
   "cell_type": "markdown",
   "id": "0b551534",
   "metadata": {},
   "source": [
    "<b>Промежуточный итог:</b>\n",
    "- Чаще всего в данных встречается г. Пятигорск. Москва же находится на последнем месте по частоте встречаемости.\n",
    "- Количество пользователей без подписки превышает кол-во подписчиков на 5%.\n",
    "- Средний возраст пользователей 25 лет. Приложением в своей массе пользуются пользователи в возрасте от 13 до 37 лет. Выбросов не много.\n",
    "- Среднее растояние, которое преодолевают пользователи за одну поездку — около 3000 метров. Основная масса значений сосредоточена в диапазоне от 2500 до 4000 метров — это общая тенденция. Выбросов много, особенно в правом хвосте.\n",
    "- Средняя продолжительность поездки составляет около 17 минут. Общая тенденция лежит в диапазоне 10-25 минут. Выбросов много в правом хвосте."
   ]
  },
  {
   "cell_type": "markdown",
   "id": "4ef51331",
   "metadata": {},
   "source": [
    "## Шаг 4. Объединение данных"
   ]
  },
  {
   "cell_type": "markdown",
   "id": "5ce2bc42",
   "metadata": {},
   "source": [
    "### Объединим данные о пользователях, поездках и подписках в один датафрейм. Для этого воспользуемся методом merge()."
   ]
  },
  {
   "cell_type": "markdown",
   "id": "402bbc3d",
   "metadata": {},
   "source": [
    "Посмотрим исходную размерность датасетов:"
   ]
  },
  {
   "cell_type": "code",
   "execution_count": 27,
   "id": "d806b1dc",
   "metadata": {},
   "outputs": [
    {
     "name": "stdout",
     "output_type": "stream",
     "text": [
      "Размерность users_data: (1534, 5)\n",
      "Размерность rides_data: (18068, 5)\n",
      "Размерность subs_data: (2, 4)\n"
     ]
    }
   ],
   "source": [
    "print(\"Размерность users_data:\", users_data.shape)\n",
    "print(\"Размерность rides_data:\", rides_data.shape)\n",
    "print(\"Размерность subs_data:\", subs_data.shape)"
   ]
  },
  {
   "cell_type": "markdown",
   "id": "baf75670",
   "metadata": {},
   "source": [
    "Для начала объединим users_data и rides_data по столбцу user_id, так как этот столбец является общим для этих двух датафреймов."
   ]
  },
  {
   "cell_type": "code",
   "execution_count": 28,
   "id": "e47ab009",
   "metadata": {},
   "outputs": [],
   "source": [
    "merged_data = pd.merge(users_data, rides_data, on='user_id')"
   ]
  },
  {
   "cell_type": "markdown",
   "id": "86413b5b",
   "metadata": {},
   "source": [
    "Затем добавим данные из subs_data, основываясь на типе подписки subscription_type."
   ]
  },
  {
   "cell_type": "code",
   "execution_count": 29,
   "id": "31ebb499",
   "metadata": {},
   "outputs": [
    {
     "data": {
      "text/html": [
       "<div>\n",
       "<style scoped>\n",
       "    .dataframe tbody tr th:only-of-type {\n",
       "        vertical-align: middle;\n",
       "    }\n",
       "\n",
       "    .dataframe tbody tr th {\n",
       "        vertical-align: top;\n",
       "    }\n",
       "\n",
       "    .dataframe thead th {\n",
       "        text-align: right;\n",
       "    }\n",
       "</style>\n",
       "<table border=\"1\" class=\"dataframe\">\n",
       "  <thead>\n",
       "    <tr style=\"text-align: right;\">\n",
       "      <th></th>\n",
       "      <th>user_id</th>\n",
       "      <th>name</th>\n",
       "      <th>age</th>\n",
       "      <th>city</th>\n",
       "      <th>subscription_type</th>\n",
       "      <th>distance</th>\n",
       "      <th>duration</th>\n",
       "      <th>date</th>\n",
       "      <th>month</th>\n",
       "      <th>minute_price</th>\n",
       "      <th>start_ride_price</th>\n",
       "      <th>subscription_fee</th>\n",
       "    </tr>\n",
       "  </thead>\n",
       "  <tbody>\n",
       "    <tr>\n",
       "      <th>0</th>\n",
       "      <td>1</td>\n",
       "      <td>Кира</td>\n",
       "      <td>22</td>\n",
       "      <td>Тюмень</td>\n",
       "      <td>ultra</td>\n",
       "      <td>4409.919140</td>\n",
       "      <td>25.599769</td>\n",
       "      <td>2021-01-01</td>\n",
       "      <td>1</td>\n",
       "      <td>6</td>\n",
       "      <td>0</td>\n",
       "      <td>199</td>\n",
       "    </tr>\n",
       "    <tr>\n",
       "      <th>1</th>\n",
       "      <td>1</td>\n",
       "      <td>Кира</td>\n",
       "      <td>22</td>\n",
       "      <td>Тюмень</td>\n",
       "      <td>ultra</td>\n",
       "      <td>2617.592153</td>\n",
       "      <td>15.816871</td>\n",
       "      <td>2021-01-18</td>\n",
       "      <td>1</td>\n",
       "      <td>6</td>\n",
       "      <td>0</td>\n",
       "      <td>199</td>\n",
       "    </tr>\n",
       "    <tr>\n",
       "      <th>2</th>\n",
       "      <td>1</td>\n",
       "      <td>Кира</td>\n",
       "      <td>22</td>\n",
       "      <td>Тюмень</td>\n",
       "      <td>ultra</td>\n",
       "      <td>754.159807</td>\n",
       "      <td>6.232113</td>\n",
       "      <td>2021-04-20</td>\n",
       "      <td>4</td>\n",
       "      <td>6</td>\n",
       "      <td>0</td>\n",
       "      <td>199</td>\n",
       "    </tr>\n",
       "    <tr>\n",
       "      <th>3</th>\n",
       "      <td>1</td>\n",
       "      <td>Кира</td>\n",
       "      <td>22</td>\n",
       "      <td>Тюмень</td>\n",
       "      <td>ultra</td>\n",
       "      <td>2694.783254</td>\n",
       "      <td>18.511000</td>\n",
       "      <td>2021-08-11</td>\n",
       "      <td>8</td>\n",
       "      <td>6</td>\n",
       "      <td>0</td>\n",
       "      <td>199</td>\n",
       "    </tr>\n",
       "    <tr>\n",
       "      <th>4</th>\n",
       "      <td>1</td>\n",
       "      <td>Кира</td>\n",
       "      <td>22</td>\n",
       "      <td>Тюмень</td>\n",
       "      <td>ultra</td>\n",
       "      <td>4028.687306</td>\n",
       "      <td>26.265803</td>\n",
       "      <td>2021-08-28</td>\n",
       "      <td>8</td>\n",
       "      <td>6</td>\n",
       "      <td>0</td>\n",
       "      <td>199</td>\n",
       "    </tr>\n",
       "  </tbody>\n",
       "</table>\n",
       "</div>"
      ],
      "text/plain": [
       "   user_id  name  age    city subscription_type     distance   duration  \\\n",
       "0        1  Кира   22  Тюмень             ultra  4409.919140  25.599769   \n",
       "1        1  Кира   22  Тюмень             ultra  2617.592153  15.816871   \n",
       "2        1  Кира   22  Тюмень             ultra   754.159807   6.232113   \n",
       "3        1  Кира   22  Тюмень             ultra  2694.783254  18.511000   \n",
       "4        1  Кира   22  Тюмень             ultra  4028.687306  26.265803   \n",
       "\n",
       "        date  month  minute_price  start_ride_price  subscription_fee  \n",
       "0 2021-01-01      1             6                 0               199  \n",
       "1 2021-01-18      1             6                 0               199  \n",
       "2 2021-04-20      4             6                 0               199  \n",
       "3 2021-08-11      8             6                 0               199  \n",
       "4 2021-08-28      8             6                 0               199  "
      ]
     },
     "execution_count": 29,
     "metadata": {},
     "output_type": "execute_result"
    }
   ],
   "source": [
    "final_data = pd.merge(merged_data, subs_data, on='subscription_type')\n",
    "final_data.head()"
   ]
  },
  {
   "cell_type": "markdown",
   "id": "482a661b",
   "metadata": {},
   "source": [
    "Теперь посмотрим размерность после объединения:"
   ]
  },
  {
   "cell_type": "code",
   "execution_count": 30,
   "id": "eaeac39f",
   "metadata": {},
   "outputs": [
    {
     "name": "stdout",
     "output_type": "stream",
     "text": [
      "Размерность final_data после объединения: (18068, 12)\n"
     ]
    }
   ],
   "source": [
    "print(\"Размерность final_data после объединения:\", final_data.shape)"
   ]
  },
  {
   "cell_type": "markdown",
   "id": "cf884537",
   "metadata": {},
   "source": [
    "И проверим на пропуски и дубликаты объединенный датасет:"
   ]
  },
  {
   "cell_type": "code",
   "execution_count": 31,
   "id": "0d915d66",
   "metadata": {},
   "outputs": [
    {
     "name": "stdout",
     "output_type": "stream",
     "text": [
      "Количество пропусков в final_data: user_id              0\n",
      "name                 0\n",
      "age                  0\n",
      "city                 0\n",
      "subscription_type    0\n",
      "distance             0\n",
      "duration             0\n",
      "date                 0\n",
      "month                0\n",
      "minute_price         0\n",
      "start_ride_price     0\n",
      "subscription_fee     0\n",
      "dtype: int64\n",
      "Количество дубликатов в final_data: 0\n"
     ]
    }
   ],
   "source": [
    "print(\"Количество пропусков в final_data:\", final_data.isnull().sum())\n",
    "print(\"Количество дубликатов в final_data:\", final_data.duplicated().sum())"
   ]
  },
  {
   "cell_type": "markdown",
   "id": "7afdd071",
   "metadata": {},
   "source": [
    "Вот что у нас получилось"
   ]
  },
  {
   "cell_type": "markdown",
   "id": "4c52672a",
   "metadata": {},
   "source": [
    "Как видим, объединение действительно прошло корректно"
   ]
  },
  {
   "cell_type": "markdown",
   "id": "a587c48b",
   "metadata": {},
   "source": [
    "### Создадим ещё два датафрейма из датафрейма, созданного на этапе 4.1:\n",
    "- c данными о пользователях без подписки;\n",
    "- с данными о пользователях с подпиской."
   ]
  },
  {
   "cell_type": "markdown",
   "id": "b96ab356",
   "metadata": {},
   "source": [
    "Чтобы это реализовать будем использовать фильтрацию по столбцу subscription_type."
   ]
  },
  {
   "cell_type": "code",
   "execution_count": 32,
   "id": "64fc4a10",
   "metadata": {},
   "outputs": [
    {
     "data": {
      "text/html": [
       "<div>\n",
       "<style scoped>\n",
       "    .dataframe tbody tr th:only-of-type {\n",
       "        vertical-align: middle;\n",
       "    }\n",
       "\n",
       "    .dataframe tbody tr th {\n",
       "        vertical-align: top;\n",
       "    }\n",
       "\n",
       "    .dataframe thead th {\n",
       "        text-align: right;\n",
       "    }\n",
       "</style>\n",
       "<table border=\"1\" class=\"dataframe\">\n",
       "  <thead>\n",
       "    <tr style=\"text-align: right;\">\n",
       "      <th></th>\n",
       "      <th>user_id</th>\n",
       "      <th>name</th>\n",
       "      <th>age</th>\n",
       "      <th>city</th>\n",
       "      <th>subscription_type</th>\n",
       "      <th>distance</th>\n",
       "      <th>duration</th>\n",
       "      <th>date</th>\n",
       "      <th>month</th>\n",
       "      <th>minute_price</th>\n",
       "      <th>start_ride_price</th>\n",
       "      <th>subscription_fee</th>\n",
       "    </tr>\n",
       "  </thead>\n",
       "  <tbody>\n",
       "    <tr>\n",
       "      <th>6500</th>\n",
       "      <td>700</td>\n",
       "      <td>Айдар</td>\n",
       "      <td>22</td>\n",
       "      <td>Омск</td>\n",
       "      <td>free</td>\n",
       "      <td>2515.690719</td>\n",
       "      <td>14.944286</td>\n",
       "      <td>2021-01-02</td>\n",
       "      <td>1</td>\n",
       "      <td>8</td>\n",
       "      <td>50</td>\n",
       "      <td>0</td>\n",
       "    </tr>\n",
       "    <tr>\n",
       "      <th>6501</th>\n",
       "      <td>700</td>\n",
       "      <td>Айдар</td>\n",
       "      <td>22</td>\n",
       "      <td>Омск</td>\n",
       "      <td>free</td>\n",
       "      <td>846.932642</td>\n",
       "      <td>16.234663</td>\n",
       "      <td>2021-02-01</td>\n",
       "      <td>2</td>\n",
       "      <td>8</td>\n",
       "      <td>50</td>\n",
       "      <td>0</td>\n",
       "    </tr>\n",
       "    <tr>\n",
       "      <th>6502</th>\n",
       "      <td>700</td>\n",
       "      <td>Айдар</td>\n",
       "      <td>22</td>\n",
       "      <td>Омск</td>\n",
       "      <td>free</td>\n",
       "      <td>4004.434142</td>\n",
       "      <td>20.016628</td>\n",
       "      <td>2021-02-04</td>\n",
       "      <td>2</td>\n",
       "      <td>8</td>\n",
       "      <td>50</td>\n",
       "      <td>0</td>\n",
       "    </tr>\n",
       "    <tr>\n",
       "      <th>6503</th>\n",
       "      <td>700</td>\n",
       "      <td>Айдар</td>\n",
       "      <td>22</td>\n",
       "      <td>Омск</td>\n",
       "      <td>free</td>\n",
       "      <td>1205.911290</td>\n",
       "      <td>9.782872</td>\n",
       "      <td>2021-02-10</td>\n",
       "      <td>2</td>\n",
       "      <td>8</td>\n",
       "      <td>50</td>\n",
       "      <td>0</td>\n",
       "    </tr>\n",
       "    <tr>\n",
       "      <th>6504</th>\n",
       "      <td>700</td>\n",
       "      <td>Айдар</td>\n",
       "      <td>22</td>\n",
       "      <td>Омск</td>\n",
       "      <td>free</td>\n",
       "      <td>3047.379435</td>\n",
       "      <td>17.427673</td>\n",
       "      <td>2021-02-14</td>\n",
       "      <td>2</td>\n",
       "      <td>8</td>\n",
       "      <td>50</td>\n",
       "      <td>0</td>\n",
       "    </tr>\n",
       "  </tbody>\n",
       "</table>\n",
       "</div>"
      ],
      "text/plain": [
       "      user_id   name  age  city subscription_type     distance   duration  \\\n",
       "6500      700  Айдар   22  Омск              free  2515.690719  14.944286   \n",
       "6501      700  Айдар   22  Омск              free   846.932642  16.234663   \n",
       "6502      700  Айдар   22  Омск              free  4004.434142  20.016628   \n",
       "6503      700  Айдар   22  Омск              free  1205.911290   9.782872   \n",
       "6504      700  Айдар   22  Омск              free  3047.379435  17.427673   \n",
       "\n",
       "           date  month  minute_price  start_ride_price  subscription_fee  \n",
       "6500 2021-01-02      1             8                50                 0  \n",
       "6501 2021-02-01      2             8                50                 0  \n",
       "6502 2021-02-04      2             8                50                 0  \n",
       "6503 2021-02-10      2             8                50                 0  \n",
       "6504 2021-02-14      2             8                50                 0  "
      ]
     },
     "execution_count": 32,
     "metadata": {},
     "output_type": "execute_result"
    }
   ],
   "source": [
    "free_users_data = final_data[final_data['subscription_type'] == 'free']\n",
    "free_users_data.head()"
   ]
  },
  {
   "cell_type": "code",
   "execution_count": 33,
   "id": "a13e7c1a",
   "metadata": {},
   "outputs": [
    {
     "data": {
      "text/html": [
       "<div>\n",
       "<style scoped>\n",
       "    .dataframe tbody tr th:only-of-type {\n",
       "        vertical-align: middle;\n",
       "    }\n",
       "\n",
       "    .dataframe tbody tr th {\n",
       "        vertical-align: top;\n",
       "    }\n",
       "\n",
       "    .dataframe thead th {\n",
       "        text-align: right;\n",
       "    }\n",
       "</style>\n",
       "<table border=\"1\" class=\"dataframe\">\n",
       "  <thead>\n",
       "    <tr style=\"text-align: right;\">\n",
       "      <th></th>\n",
       "      <th>user_id</th>\n",
       "      <th>name</th>\n",
       "      <th>age</th>\n",
       "      <th>city</th>\n",
       "      <th>subscription_type</th>\n",
       "      <th>distance</th>\n",
       "      <th>duration</th>\n",
       "      <th>date</th>\n",
       "      <th>month</th>\n",
       "      <th>minute_price</th>\n",
       "      <th>start_ride_price</th>\n",
       "      <th>subscription_fee</th>\n",
       "    </tr>\n",
       "  </thead>\n",
       "  <tbody>\n",
       "    <tr>\n",
       "      <th>0</th>\n",
       "      <td>1</td>\n",
       "      <td>Кира</td>\n",
       "      <td>22</td>\n",
       "      <td>Тюмень</td>\n",
       "      <td>ultra</td>\n",
       "      <td>4409.919140</td>\n",
       "      <td>25.599769</td>\n",
       "      <td>2021-01-01</td>\n",
       "      <td>1</td>\n",
       "      <td>6</td>\n",
       "      <td>0</td>\n",
       "      <td>199</td>\n",
       "    </tr>\n",
       "    <tr>\n",
       "      <th>1</th>\n",
       "      <td>1</td>\n",
       "      <td>Кира</td>\n",
       "      <td>22</td>\n",
       "      <td>Тюмень</td>\n",
       "      <td>ultra</td>\n",
       "      <td>2617.592153</td>\n",
       "      <td>15.816871</td>\n",
       "      <td>2021-01-18</td>\n",
       "      <td>1</td>\n",
       "      <td>6</td>\n",
       "      <td>0</td>\n",
       "      <td>199</td>\n",
       "    </tr>\n",
       "    <tr>\n",
       "      <th>2</th>\n",
       "      <td>1</td>\n",
       "      <td>Кира</td>\n",
       "      <td>22</td>\n",
       "      <td>Тюмень</td>\n",
       "      <td>ultra</td>\n",
       "      <td>754.159807</td>\n",
       "      <td>6.232113</td>\n",
       "      <td>2021-04-20</td>\n",
       "      <td>4</td>\n",
       "      <td>6</td>\n",
       "      <td>0</td>\n",
       "      <td>199</td>\n",
       "    </tr>\n",
       "    <tr>\n",
       "      <th>3</th>\n",
       "      <td>1</td>\n",
       "      <td>Кира</td>\n",
       "      <td>22</td>\n",
       "      <td>Тюмень</td>\n",
       "      <td>ultra</td>\n",
       "      <td>2694.783254</td>\n",
       "      <td>18.511000</td>\n",
       "      <td>2021-08-11</td>\n",
       "      <td>8</td>\n",
       "      <td>6</td>\n",
       "      <td>0</td>\n",
       "      <td>199</td>\n",
       "    </tr>\n",
       "    <tr>\n",
       "      <th>4</th>\n",
       "      <td>1</td>\n",
       "      <td>Кира</td>\n",
       "      <td>22</td>\n",
       "      <td>Тюмень</td>\n",
       "      <td>ultra</td>\n",
       "      <td>4028.687306</td>\n",
       "      <td>26.265803</td>\n",
       "      <td>2021-08-28</td>\n",
       "      <td>8</td>\n",
       "      <td>6</td>\n",
       "      <td>0</td>\n",
       "      <td>199</td>\n",
       "    </tr>\n",
       "  </tbody>\n",
       "</table>\n",
       "</div>"
      ],
      "text/plain": [
       "   user_id  name  age    city subscription_type     distance   duration  \\\n",
       "0        1  Кира   22  Тюмень             ultra  4409.919140  25.599769   \n",
       "1        1  Кира   22  Тюмень             ultra  2617.592153  15.816871   \n",
       "2        1  Кира   22  Тюмень             ultra   754.159807   6.232113   \n",
       "3        1  Кира   22  Тюмень             ultra  2694.783254  18.511000   \n",
       "4        1  Кира   22  Тюмень             ultra  4028.687306  26.265803   \n",
       "\n",
       "        date  month  minute_price  start_ride_price  subscription_fee  \n",
       "0 2021-01-01      1             6                 0               199  \n",
       "1 2021-01-18      1             6                 0               199  \n",
       "2 2021-04-20      4             6                 0               199  \n",
       "3 2021-08-11      8             6                 0               199  \n",
       "4 2021-08-28      8             6                 0               199  "
      ]
     },
     "execution_count": 33,
     "metadata": {},
     "output_type": "execute_result"
    }
   ],
   "source": [
    "ultra_users_data = final_data[final_data['subscription_type'] == 'ultra']\n",
    "ultra_users_data.head()"
   ]
  },
  {
   "cell_type": "markdown",
   "id": "592b6a66",
   "metadata": {},
   "source": [
    "### Визуализируем информацию о расстоянии и времени поездок для пользователей обеих категорий."
   ]
  },
  {
   "cell_type": "markdown",
   "id": "81aae226",
   "metadata": {},
   "source": [
    "<b>Распределение расстояний для пользователей без подписки:"
   ]
  },
  {
   "cell_type": "code",
   "execution_count": 34,
   "id": "1c9f507c",
   "metadata": {},
   "outputs": [
    {
     "data": {
      "image/png": "[encoded data removed]",
      "text/plain": [
       "<Figure size 720x432 with 1 Axes>"
      ]
     },
     "metadata": {
      "needs_background": "light"
     },
     "output_type": "display_data"
    }
   ],
   "source": [
    "free_users_data['distance'].plot(\n",
    "    kind = 'hist',\n",
    "    bins = 100,\n",
    "    figsize = (10,6),\n",
    "    grid = True,\n",
    "    title = 'Распределение расстояний для пользователей без подписки:'\n",
    ")\n",
    "plt.xlabel('Расстояние (м)')\n",
    "plt.ylabel('Частота')\n",
    "plt.show()"
   ]
  },
  {
   "cell_type": "markdown",
   "id": "facb244e",
   "metadata": {},
   "source": [
    "Видно, что большинство пользователей преодолевает расстояния от 2000 до 5000 метров за одну поездку. Можно выделить несколько пиков — 2500 м и 3500 м. Видно резкий всплеск значений до 1000м. Имеется правый хвост, что говорит о наличии очень длинных растояний."
   ]
  },
  {
   "cell_type": "markdown",
   "id": "8b784f88",
   "metadata": {},
   "source": [
    "<b>Распределение расстояний для пользователей c подпиской:"
   ]
  },
  {
   "cell_type": "code",
   "execution_count": 35,
   "id": "d7d80e01",
   "metadata": {},
   "outputs": [
    {
     "data": {
      "image/png": "[encoded data removed]",
      "text/plain": [
       "<Figure size 720x432 with 1 Axes>"
      ]
     },
     "metadata": {
      "needs_background": "light"
     },
     "output_type": "display_data"
    }
   ],
   "source": [
    "ultra_users_data['distance'].plot(\n",
    "    kind = 'hist',\n",
    "    bins = 100,\n",
    "    figsize = (10,6),\n",
    "    grid = True,\n",
    "    title = 'Распределение расстояний для пользователей c подпиской:'\n",
    ")\n",
    "plt.xlabel('Расстояние (м)')\n",
    "plt.ylabel('Частота')\n",
    "plt.show()"
   ]
  },
  {
   "cell_type": "markdown",
   "id": "e96ea328",
   "metadata": {},
   "source": [
    "Распределение расстояний сосредоточено в пределах 2500-4000 метров. Пик на этом графике один и явный, в отличие от предыдущего, на отметке около 3000 метров. Имеется резкий всплеск значений около 1000м. Также видно, что отсутствуют такие дальние расстояния, как у пользователей без подписки."
   ]
  },
  {
   "cell_type": "markdown",
   "id": "d02a742b",
   "metadata": {},
   "source": [
    "<b>Диаграмма размаха для расстояний пользователей без подписки"
   ]
  },
  {
   "cell_type": "code",
   "execution_count": 36,
   "id": "062ed692",
   "metadata": {},
   "outputs": [
    {
     "data": {
      "image/png": "[encoded data removed]",
      "text/plain": [
       "<Figure size 432x288 with 1 Axes>"
      ]
     },
     "metadata": {
      "needs_background": "light"
     },
     "output_type": "display_data"
    }
   ],
   "source": [
    "free_users_data.boxplot('distance')\n",
    "plt.title('Диаграмма размаха для расстояний пользователей без подписки')\n",
    "plt.ylabel('Расстояние (м)')\n",
    "plt.show()"
   ]
  },
  {
   "cell_type": "markdown",
   "id": "66fdb4f9",
   "metadata": {},
   "source": [
    "Видно, что у пользователей без подписки есть несколько выбросов на больших расстояниях, что может говорить о том, что некоторые из них совершают редкие, но очень длинные поездки."
   ]
  },
  {
   "cell_type": "markdown",
   "id": "3f0d2ffa",
   "metadata": {},
   "source": [
    "<b>Диаграмма размаха для расстояний пользователей с подпиской"
   ]
  },
  {
   "cell_type": "code",
   "execution_count": 37,
   "id": "0faa9d9e",
   "metadata": {},
   "outputs": [
    {
     "data": {
      "image/png": "[encoded data removed]",
      "text/plain": [
       "<Figure size 432x288 with 1 Axes>"
      ]
     },
     "metadata": {
      "needs_background": "light"
     },
     "output_type": "display_data"
    }
   ],
   "source": [
    "ultra_users_data.boxplot('distance')\n",
    "plt.title('Диаграмма размаха для расстояний пользователей с подпиской')\n",
    "plt.ylabel('Расстояние (м)')\n",
    "plt.show()"
   ]
  },
  {
   "cell_type": "markdown",
   "id": "598097ff",
   "metadata": {},
   "source": [
    "У пользователей с подпиской диаграмма размаха также демонстрирует наличие выбросов, но они расположены и в нижней части диапазона, что указывает на наличие довольно коротких поездок."
   ]
  },
  {
   "cell_type": "markdown",
   "id": "d4cd8bb9",
   "metadata": {},
   "source": [
    "<b>Распределение времени поездок для пользователей без подписки"
   ]
  },
  {
   "cell_type": "code",
   "execution_count": 38,
   "id": "7902cebc",
   "metadata": {},
   "outputs": [
    {
     "data": {
      "image/png": "[encoded data removed]",
      "text/plain": [
       "<Figure size 720x432 with 1 Axes>"
      ]
     },
     "metadata": {
      "needs_background": "light"
     },
     "output_type": "display_data"
    }
   ],
   "source": [
    "free_users_data['duration'].plot(\n",
    "    kind = 'hist',\n",
    "    bins = 30,\n",
    "    figsize = (10,6),\n",
    "    grid = True,\n",
    "    title = 'Распределение времени поездок для пользователей без подписки'\n",
    ")\n",
    "plt.xlabel('Время поездки (мин)')\n",
    "plt.ylabel('Частота')\n",
    "plt.show()"
   ]
  },
  {
   "cell_type": "markdown",
   "id": "201761b8",
   "metadata": {},
   "source": [
    "График имеет почти равномерное распределение с пиком около 20 мин. Большинство поездок занимает от 10 до 25 минут."
   ]
  },
  {
   "cell_type": "markdown",
   "id": "439702e7",
   "metadata": {},
   "source": [
    "<b>Распределение времени поездок для пользователей с подпиской"
   ]
  },
  {
   "cell_type": "code",
   "execution_count": 39,
   "id": "15f7ca91",
   "metadata": {},
   "outputs": [
    {
     "data": {
      "image/png": "[encoded data removed]",
      "text/plain": [
       "<Figure size 720x432 with 1 Axes>"
      ]
     },
     "metadata": {
      "needs_background": "light"
     },
     "output_type": "display_data"
    }
   ],
   "source": [
    "ultra_users_data['duration'].plot(\n",
    "    kind = 'hist',\n",
    "    bins = 30,\n",
    "    figsize = (10,6),\n",
    "    grid = True,\n",
    "    title = 'Распределение времени поездок для пользователей с подпиской'\n",
    ")\n",
    "plt.xlabel('Время поездки (мин)')\n",
    "plt.ylabel('Частота')\n",
    "plt.show()"
   ]
  },
  {
   "cell_type": "markdown",
   "id": "e1b13f8f",
   "metadata": {},
   "source": [
    "Здесь же видно, что распределение немного концентрированое с пиком около 18 минут. Также видно длинный правый хвост, который говорит нам о наличии выбросов."
   ]
  },
  {
   "cell_type": "markdown",
   "id": "9fbf0948",
   "metadata": {},
   "source": [
    "<b>Диаграмма размаха для времени поездок пользователей без подписки"
   ]
  },
  {
   "cell_type": "code",
   "execution_count": 40,
   "id": "9efde1bd",
   "metadata": {},
   "outputs": [
    {
     "data": {
      "image/png": "[encoded data removed]",
      "text/plain": [
       "<Figure size 432x288 with 1 Axes>"
      ]
     },
     "metadata": {
      "needs_background": "light"
     },
     "output_type": "display_data"
    }
   ],
   "source": [
    "free_users_data.boxplot('duration')\n",
    "plt.title('Диаграмма размаха для времени поездок пользователей без подписки')\n",
    "plt.ylabel('Время поездки (мин)')\n",
    "plt.show()"
   ]
  },
  {
   "cell_type": "markdown",
   "id": "652fd6da",
   "metadata": {},
   "source": [
    "<b>Диаграмма размаха для времени поездок пользователей с подпиской"
   ]
  },
  {
   "cell_type": "code",
   "execution_count": 41,
   "id": "740821e7",
   "metadata": {},
   "outputs": [
    {
     "data": {
      "image/png": "[encoded data removed]",
      "text/plain": [
       "<Figure size 432x288 with 1 Axes>"
      ]
     },
     "metadata": {
      "needs_background": "light"
     },
     "output_type": "display_data"
    }
   ],
   "source": [
    "ultra_users_data.boxplot('duration')\n",
    "plt.title('Диаграмма размаха для времени поездок пользователей с подпиской')\n",
    "plt.ylabel('Время поездки (мин)')\n",
    "plt.show()"
   ]
  },
  {
   "cell_type": "markdown",
   "id": "50b9ec44",
   "metadata": {},
   "source": [
    "Диаграммы размаха для обеих групп показывают, что время поездок и расстояния имеют выбросы. Но пользователи с подпиской имеют больше выбросов в сторону долгих поездок."
   ]
  },
  {
   "cell_type": "markdown",
   "id": "60adfd68",
   "metadata": {},
   "source": [
    "<b>Совместим графики распределений для более наглядного сравнения"
   ]
  },
  {
   "cell_type": "code",
   "execution_count": 42,
   "id": "43bc26b9",
   "metadata": {},
   "outputs": [
    {
     "data": {
      "image/png": "[encoded data removed]",
      "text/plain": [
       "<Figure size 1008x432 with 2 Axes>"
      ]
     },
     "metadata": {
      "needs_background": "light"
     },
     "output_type": "display_data"
    },
    {
     "data": {
      "image/png": "[encoded data removed]",
      "text/plain": [
       "<Figure size 1008x432 with 2 Axes>"
      ]
     },
     "metadata": {
      "needs_background": "light"
     },
     "output_type": "display_data"
    },
    {
     "data": {
      "image/png": "[encoded data removed]",
      "text/plain": [
       "<Figure size 1008x432 with 2 Axes>"
      ]
     },
     "metadata": {
      "needs_background": "light"
     },
     "output_type": "display_data"
    },
    {
     "data": {
      "image/png": "[encoded data removed]",
      "text/plain": [
       "<Figure size 1008x432 with 2 Axes>"
      ]
     },
     "metadata": {
      "needs_background": "light"
     },
     "output_type": "display_data"
    }
   ],
   "source": [
    "# Визуализация расстояний для пользователей без подписки\n",
    "plt.figure(figsize=(14, 6))\n",
    "\n",
    "plt.subplot(1, 2, 1)\n",
    "free_users_data['distance'].plot(\n",
    "    kind = 'hist',\n",
    "    bins = 100,\n",
    "    grid = True,\n",
    "    title = 'Распределение расстояний для пользователей без подписки:'\n",
    ")\n",
    "plt.xlabel('Расстояние (м)')\n",
    "plt.ylabel('Частота')\n",
    "\n",
    "plt.subplot(1, 2, 2)\n",
    "ultra_users_data['distance'].plot(\n",
    "    kind = 'hist', \n",
    "    bins = 100,\n",
    "    grid = True,\n",
    "    title = 'Распределение расстояний для пользователей с подпиской'\n",
    "\n",
    ")\n",
    "plt.xlabel('Расстояние (м)')\n",
    "plt.ylabel('Частота')\n",
    "\n",
    "plt.show()\n",
    "\n",
    "# Визуализация времени поездок для пользователей без подписки и с подпиской\n",
    "plt.figure(figsize=(14, 6))\n",
    "\n",
    "plt.subplot(1, 2, 1)\n",
    "free_users_data['duration'].plot(\n",
    "    kind = 'hist', \n",
    "    bins = 30,\n",
    "    grid = True,\n",
    "    title = 'Распределение времени поездок для пользователей без подписки'\n",
    ")\n",
    "plt.xlabel('Время поездки (мин)')\n",
    "plt.ylabel('Частота')\n",
    "\n",
    "plt.subplot(1, 2, 2)\n",
    "ultra_users_data['duration'].plot(\n",
    "    kind = 'hist',\n",
    "    bins = 30, \n",
    "    grid = True,\n",
    "    title = 'Распределение времени поездок для пользователей с подпиской'\n",
    ")\n",
    "plt.xlabel('Время поездки (мин)')\n",
    "plt.ylabel('Частота')\n",
    "\n",
    "plt.show()\n",
    "\n",
    "# Построение боксплотов для расстояния\n",
    "plt.figure(figsize=(14, 6))\n",
    "plt.subplot(1, 2, 1)\n",
    "free_users_data.boxplot('distance')\n",
    "plt.title('Диаграмма размаха для расстояний пользователей без подписки')\n",
    "plt.ylabel('Расстояние (м)')\n",
    "\n",
    "plt.subplot(1, 2, 2)\n",
    "ultra_users_data.boxplot('distance')\n",
    "plt.title('Диаграмма размаха для расстояний пользователей с подпиской')\n",
    "plt.ylabel('Расстояние (м)')\n",
    "\n",
    "plt.show()\n",
    "\n",
    "# Построение боксплотов для времени поездки\n",
    "plt.figure(figsize=(14, 6))\n",
    "plt.subplot(1, 2, 1)\n",
    "free_users_data.boxplot('duration')\n",
    "plt.title('Диаграмма размаха для времени поездок пользователей без подписки')\n",
    "plt.ylabel('Время поездки (мин)')\n",
    "\n",
    "plt.subplot(1, 2, 2)\n",
    "ultra_users_data.boxplot('duration')\n",
    "plt.title('Диаграмма размаха для времени поездок пользователей с подпиской')\n",
    "plt.ylabel('Время поездки (мин)')\n",
    "\n",
    "plt.show()"
   ]
  },
  {
   "cell_type": "markdown",
   "id": "7361b7bf",
   "metadata": {},
   "source": [
    "<b>Промежуточный итог:</b>\n",
    "- Мы объединили датафреймы, и на их основе создали два датафрейма, которые отображают пользователей с подпиской и без. Визуализируя распределение расстояний и времени поездок мы выяснили, что пользователи без подписки, вероятно, реже используют сервис, но совершают более длинные поездки, в то время как пользователи с подпиской используют сервис чаще, но их поездки в среднем короче и регулярнее."
   ]
  },
  {
   "cell_type": "markdown",
   "id": "402d620f",
   "metadata": {},
   "source": [
    "## Шаг 5. Подсчёт выручки"
   ]
  },
  {
   "cell_type": "markdown",
   "id": "6c1957d3",
   "metadata": {},
   "source": [
    "### Создадим датафрейм с агрегированными данными о поездках на основе датафрейма с объединёнными данными из шага 4: найдем суммарное расстояние, количество поездок и суммарное время для каждого пользователя за каждый месяц."
   ]
  },
  {
   "cell_type": "code",
   "execution_count": 43,
   "id": "fd6439d0",
   "metadata": {},
   "outputs": [
    {
     "data": {
      "text/html": [
       "<div>\n",
       "<style scoped>\n",
       "    .dataframe tbody tr th:only-of-type {\n",
       "        vertical-align: middle;\n",
       "    }\n",
       "\n",
       "    .dataframe tbody tr th {\n",
       "        vertical-align: top;\n",
       "    }\n",
       "\n",
       "    .dataframe thead th {\n",
       "        text-align: right;\n",
       "    }\n",
       "</style>\n",
       "<table border=\"1\" class=\"dataframe\">\n",
       "  <thead>\n",
       "    <tr style=\"text-align: right;\">\n",
       "      <th></th>\n",
       "      <th></th>\n",
       "      <th>distance</th>\n",
       "      <th>duration</th>\n",
       "      <th>trip_count</th>\n",
       "    </tr>\n",
       "    <tr>\n",
       "      <th>user_id</th>\n",
       "      <th>month</th>\n",
       "      <th></th>\n",
       "      <th></th>\n",
       "      <th></th>\n",
       "    </tr>\n",
       "  </thead>\n",
       "  <tbody>\n",
       "    <tr>\n",
       "      <th rowspan=\"5\" valign=\"top\">1</th>\n",
       "      <th>1</th>\n",
       "      <td>7027.511294</td>\n",
       "      <td>41.416640</td>\n",
       "      <td>2</td>\n",
       "    </tr>\n",
       "    <tr>\n",
       "      <th>4</th>\n",
       "      <td>754.159807</td>\n",
       "      <td>6.232113</td>\n",
       "      <td>1</td>\n",
       "    </tr>\n",
       "    <tr>\n",
       "      <th>8</th>\n",
       "      <td>6723.470560</td>\n",
       "      <td>44.776802</td>\n",
       "      <td>2</td>\n",
       "    </tr>\n",
       "    <tr>\n",
       "      <th>10</th>\n",
       "      <td>5809.911100</td>\n",
       "      <td>31.578017</td>\n",
       "      <td>2</td>\n",
       "    </tr>\n",
       "    <tr>\n",
       "      <th>11</th>\n",
       "      <td>7003.499363</td>\n",
       "      <td>53.397424</td>\n",
       "      <td>3</td>\n",
       "    </tr>\n",
       "  </tbody>\n",
       "</table>\n",
       "</div>"
      ],
      "text/plain": [
       "                  distance   duration  trip_count\n",
       "user_id month                                    \n",
       "1       1      7027.511294  41.416640           2\n",
       "        4       754.159807   6.232113           1\n",
       "        8      6723.470560  44.776802           2\n",
       "        10     5809.911100  31.578017           2\n",
       "        11     7003.499363  53.397424           3"
      ]
     },
     "execution_count": 43,
     "metadata": {},
     "output_type": "execute_result"
    }
   ],
   "source": [
    "aggregated_data = final_data.groupby(['user_id', 'month']).agg({\n",
    "    'distance': 'sum',        # Суммарное расстояние\n",
    "    'duration': 'sum',        # Суммарное время поездок\n",
    "    'user_id': 'count'        # Количество поездок (считаем количество записей для каждого пользователя за каждый месяц)\n",
    "}).rename(columns={'user_id': 'trip_count'}) # Переименуем колонку с количеством поездок\n",
    "aggregated_data.head()"
   ]
  },
  {
   "cell_type": "markdown",
   "id": "4969cad9",
   "metadata": {},
   "source": [
    "### В этот же датафрейм добавим столбец с помесячной выручкой, которую принёс каждый пользователь. Для этого обратимся к информации об условиях оплаты для подписчиков и тех, у кого нет подписки. Продолжительность каждой поездки в каждой строке исходного датафрейма для подсчёта стоимости округляется до следующего целого числа: например, значения 25.3, 25.5 и 26.0 должны быть преобразованы к 26."
   ]
  },
  {
   "cell_type": "code",
   "execution_count": 44,
   "id": "d509ac5a",
   "metadata": {},
   "outputs": [
    {
     "data": {
      "text/html": [
       "<div>\n",
       "<style scoped>\n",
       "    .dataframe tbody tr th:only-of-type {\n",
       "        vertical-align: middle;\n",
       "    }\n",
       "\n",
       "    .dataframe tbody tr th {\n",
       "        vertical-align: top;\n",
       "    }\n",
       "\n",
       "    .dataframe thead th {\n",
       "        text-align: right;\n",
       "    }\n",
       "</style>\n",
       "<table border=\"1\" class=\"dataframe\">\n",
       "  <thead>\n",
       "    <tr style=\"text-align: right;\">\n",
       "      <th></th>\n",
       "      <th>user_id</th>\n",
       "      <th>name</th>\n",
       "      <th>age</th>\n",
       "      <th>city</th>\n",
       "      <th>subscription_type</th>\n",
       "      <th>distance</th>\n",
       "      <th>duration</th>\n",
       "      <th>date</th>\n",
       "      <th>month</th>\n",
       "      <th>minute_price</th>\n",
       "      <th>start_ride_price</th>\n",
       "      <th>subscription_fee</th>\n",
       "    </tr>\n",
       "  </thead>\n",
       "  <tbody>\n",
       "    <tr>\n",
       "      <th>0</th>\n",
       "      <td>1</td>\n",
       "      <td>Кира</td>\n",
       "      <td>22</td>\n",
       "      <td>Тюмень</td>\n",
       "      <td>ultra</td>\n",
       "      <td>4409.919140</td>\n",
       "      <td>25.599769</td>\n",
       "      <td>2021-01-01</td>\n",
       "      <td>1</td>\n",
       "      <td>6</td>\n",
       "      <td>0</td>\n",
       "      <td>199</td>\n",
       "    </tr>\n",
       "    <tr>\n",
       "      <th>1</th>\n",
       "      <td>1</td>\n",
       "      <td>Кира</td>\n",
       "      <td>22</td>\n",
       "      <td>Тюмень</td>\n",
       "      <td>ultra</td>\n",
       "      <td>2617.592153</td>\n",
       "      <td>15.816871</td>\n",
       "      <td>2021-01-18</td>\n",
       "      <td>1</td>\n",
       "      <td>6</td>\n",
       "      <td>0</td>\n",
       "      <td>199</td>\n",
       "    </tr>\n",
       "    <tr>\n",
       "      <th>2</th>\n",
       "      <td>1</td>\n",
       "      <td>Кира</td>\n",
       "      <td>22</td>\n",
       "      <td>Тюмень</td>\n",
       "      <td>ultra</td>\n",
       "      <td>754.159807</td>\n",
       "      <td>6.232113</td>\n",
       "      <td>2021-04-20</td>\n",
       "      <td>4</td>\n",
       "      <td>6</td>\n",
       "      <td>0</td>\n",
       "      <td>199</td>\n",
       "    </tr>\n",
       "    <tr>\n",
       "      <th>3</th>\n",
       "      <td>1</td>\n",
       "      <td>Кира</td>\n",
       "      <td>22</td>\n",
       "      <td>Тюмень</td>\n",
       "      <td>ultra</td>\n",
       "      <td>2694.783254</td>\n",
       "      <td>18.511000</td>\n",
       "      <td>2021-08-11</td>\n",
       "      <td>8</td>\n",
       "      <td>6</td>\n",
       "      <td>0</td>\n",
       "      <td>199</td>\n",
       "    </tr>\n",
       "    <tr>\n",
       "      <th>4</th>\n",
       "      <td>1</td>\n",
       "      <td>Кира</td>\n",
       "      <td>22</td>\n",
       "      <td>Тюмень</td>\n",
       "      <td>ultra</td>\n",
       "      <td>4028.687306</td>\n",
       "      <td>26.265803</td>\n",
       "      <td>2021-08-28</td>\n",
       "      <td>8</td>\n",
       "      <td>6</td>\n",
       "      <td>0</td>\n",
       "      <td>199</td>\n",
       "    </tr>\n",
       "  </tbody>\n",
       "</table>\n",
       "</div>"
      ],
      "text/plain": [
       "   user_id  name  age    city subscription_type     distance   duration  \\\n",
       "0        1  Кира   22  Тюмень             ultra  4409.919140  25.599769   \n",
       "1        1  Кира   22  Тюмень             ultra  2617.592153  15.816871   \n",
       "2        1  Кира   22  Тюмень             ultra   754.159807   6.232113   \n",
       "3        1  Кира   22  Тюмень             ultra  2694.783254  18.511000   \n",
       "4        1  Кира   22  Тюмень             ultra  4028.687306  26.265803   \n",
       "\n",
       "        date  month  minute_price  start_ride_price  subscription_fee  \n",
       "0 2021-01-01      1             6                 0               199  \n",
       "1 2021-01-18      1             6                 0               199  \n",
       "2 2021-04-20      4             6                 0               199  \n",
       "3 2021-08-11      8             6                 0               199  \n",
       "4 2021-08-28      8             6                 0               199  "
      ]
     },
     "execution_count": 44,
     "metadata": {},
     "output_type": "execute_result"
    }
   ],
   "source": [
    "final_data.head()"
   ]
  },
  {
   "cell_type": "markdown",
   "id": "cb2f2455",
   "metadata": {},
   "source": [
    "<b>Округляем продолжительность поездок до следующего целого числа"
   ]
  },
  {
   "cell_type": "code",
   "execution_count": 45,
   "id": "5f0fc508",
   "metadata": {},
   "outputs": [
    {
     "data": {
      "text/plain": [
       "0    26.0\n",
       "1    16.0\n",
       "2     7.0\n",
       "3    19.0\n",
       "4    27.0\n",
       "Name: duration, dtype: float64"
      ]
     },
     "execution_count": 45,
     "metadata": {},
     "output_type": "execute_result"
    }
   ],
   "source": [
    "final_data['duration'] = np.ceil(final_data['duration'])\n",
    "final_data['duration'].head()"
   ]
  },
  {
   "cell_type": "markdown",
   "id": "14e6ebf0",
   "metadata": {},
   "source": [
    "<b>Рассчитываем стоимость каждой поездки:"
   ]
  },
  {
   "cell_type": "code",
   "execution_count": 46,
   "id": "5ad64143",
   "metadata": {
    "scrolled": true
   },
   "outputs": [
    {
     "data": {
      "text/html": [
       "<div>\n",
       "<style scoped>\n",
       "    .dataframe tbody tr th:only-of-type {\n",
       "        vertical-align: middle;\n",
       "    }\n",
       "\n",
       "    .dataframe tbody tr th {\n",
       "        vertical-align: top;\n",
       "    }\n",
       "\n",
       "    .dataframe thead th {\n",
       "        text-align: right;\n",
       "    }\n",
       "</style>\n",
       "<table border=\"1\" class=\"dataframe\">\n",
       "  <thead>\n",
       "    <tr style=\"text-align: right;\">\n",
       "      <th></th>\n",
       "      <th>user_id</th>\n",
       "      <th>name</th>\n",
       "      <th>age</th>\n",
       "      <th>city</th>\n",
       "      <th>subscription_type</th>\n",
       "      <th>distance</th>\n",
       "      <th>duration</th>\n",
       "      <th>date</th>\n",
       "      <th>month</th>\n",
       "      <th>minute_price</th>\n",
       "      <th>start_ride_price</th>\n",
       "      <th>subscription_fee</th>\n",
       "      <th>revenue</th>\n",
       "    </tr>\n",
       "  </thead>\n",
       "  <tbody>\n",
       "    <tr>\n",
       "      <th>0</th>\n",
       "      <td>1</td>\n",
       "      <td>Кира</td>\n",
       "      <td>22</td>\n",
       "      <td>Тюмень</td>\n",
       "      <td>ultra</td>\n",
       "      <td>4409.919140</td>\n",
       "      <td>26.0</td>\n",
       "      <td>2021-01-01</td>\n",
       "      <td>1</td>\n",
       "      <td>6</td>\n",
       "      <td>0</td>\n",
       "      <td>199</td>\n",
       "      <td>156.0</td>\n",
       "    </tr>\n",
       "    <tr>\n",
       "      <th>1</th>\n",
       "      <td>1</td>\n",
       "      <td>Кира</td>\n",
       "      <td>22</td>\n",
       "      <td>Тюмень</td>\n",
       "      <td>ultra</td>\n",
       "      <td>2617.592153</td>\n",
       "      <td>16.0</td>\n",
       "      <td>2021-01-18</td>\n",
       "      <td>1</td>\n",
       "      <td>6</td>\n",
       "      <td>0</td>\n",
       "      <td>199</td>\n",
       "      <td>96.0</td>\n",
       "    </tr>\n",
       "    <tr>\n",
       "      <th>2</th>\n",
       "      <td>1</td>\n",
       "      <td>Кира</td>\n",
       "      <td>22</td>\n",
       "      <td>Тюмень</td>\n",
       "      <td>ultra</td>\n",
       "      <td>754.159807</td>\n",
       "      <td>7.0</td>\n",
       "      <td>2021-04-20</td>\n",
       "      <td>4</td>\n",
       "      <td>6</td>\n",
       "      <td>0</td>\n",
       "      <td>199</td>\n",
       "      <td>42.0</td>\n",
       "    </tr>\n",
       "    <tr>\n",
       "      <th>3</th>\n",
       "      <td>1</td>\n",
       "      <td>Кира</td>\n",
       "      <td>22</td>\n",
       "      <td>Тюмень</td>\n",
       "      <td>ultra</td>\n",
       "      <td>2694.783254</td>\n",
       "      <td>19.0</td>\n",
       "      <td>2021-08-11</td>\n",
       "      <td>8</td>\n",
       "      <td>6</td>\n",
       "      <td>0</td>\n",
       "      <td>199</td>\n",
       "      <td>114.0</td>\n",
       "    </tr>\n",
       "    <tr>\n",
       "      <th>4</th>\n",
       "      <td>1</td>\n",
       "      <td>Кира</td>\n",
       "      <td>22</td>\n",
       "      <td>Тюмень</td>\n",
       "      <td>ultra</td>\n",
       "      <td>4028.687306</td>\n",
       "      <td>27.0</td>\n",
       "      <td>2021-08-28</td>\n",
       "      <td>8</td>\n",
       "      <td>6</td>\n",
       "      <td>0</td>\n",
       "      <td>199</td>\n",
       "      <td>162.0</td>\n",
       "    </tr>\n",
       "  </tbody>\n",
       "</table>\n",
       "</div>"
      ],
      "text/plain": [
       "   user_id  name  age    city subscription_type     distance  duration  \\\n",
       "0        1  Кира   22  Тюмень             ultra  4409.919140      26.0   \n",
       "1        1  Кира   22  Тюмень             ultra  2617.592153      16.0   \n",
       "2        1  Кира   22  Тюмень             ultra   754.159807       7.0   \n",
       "3        1  Кира   22  Тюмень             ultra  2694.783254      19.0   \n",
       "4        1  Кира   22  Тюмень             ultra  4028.687306      27.0   \n",
       "\n",
       "        date  month  minute_price  start_ride_price  subscription_fee  revenue  \n",
       "0 2021-01-01      1             6                 0               199    156.0  \n",
       "1 2021-01-18      1             6                 0               199     96.0  \n",
       "2 2021-04-20      4             6                 0               199     42.0  \n",
       "3 2021-08-11      8             6                 0               199    114.0  \n",
       "4 2021-08-28      8             6                 0               199    162.0  "
      ]
     },
     "execution_count": 46,
     "metadata": {},
     "output_type": "execute_result"
    }
   ],
   "source": [
    "final_data['revenue'] = final_data['start_ride_price'] + final_data['duration'] * final_data['minute_price']\n",
    "final_data.head()"
   ]
  },
  {
   "cell_type": "markdown",
   "id": "448076b0",
   "metadata": {},
   "source": [
    "<b>К нашему аггрегированному датафрейму добавим помесячную выручку:"
   ]
  },
  {
   "cell_type": "code",
   "execution_count": 47,
   "id": "4b6d6cc0",
   "metadata": {},
   "outputs": [
    {
     "data": {
      "text/html": [
       "<div>\n",
       "<style scoped>\n",
       "    .dataframe tbody tr th:only-of-type {\n",
       "        vertical-align: middle;\n",
       "    }\n",
       "\n",
       "    .dataframe tbody tr th {\n",
       "        vertical-align: top;\n",
       "    }\n",
       "\n",
       "    .dataframe thead th {\n",
       "        text-align: right;\n",
       "    }\n",
       "</style>\n",
       "<table border=\"1\" class=\"dataframe\">\n",
       "  <thead>\n",
       "    <tr style=\"text-align: right;\">\n",
       "      <th></th>\n",
       "      <th>user_id</th>\n",
       "      <th>month</th>\n",
       "      <th>distance</th>\n",
       "      <th>duration</th>\n",
       "      <th>revenue</th>\n",
       "      <th>trip_count</th>\n",
       "      <th>subscription_fee</th>\n",
       "      <th>subscription_type</th>\n",
       "    </tr>\n",
       "  </thead>\n",
       "  <tbody>\n",
       "    <tr>\n",
       "      <th>0</th>\n",
       "      <td>1</td>\n",
       "      <td>1</td>\n",
       "      <td>7027.511294</td>\n",
       "      <td>42.0</td>\n",
       "      <td>451.0</td>\n",
       "      <td>2</td>\n",
       "      <td>199</td>\n",
       "      <td>ultra</td>\n",
       "    </tr>\n",
       "    <tr>\n",
       "      <th>1</th>\n",
       "      <td>1</td>\n",
       "      <td>4</td>\n",
       "      <td>754.159807</td>\n",
       "      <td>7.0</td>\n",
       "      <td>241.0</td>\n",
       "      <td>1</td>\n",
       "      <td>199</td>\n",
       "      <td>ultra</td>\n",
       "    </tr>\n",
       "    <tr>\n",
       "      <th>2</th>\n",
       "      <td>1</td>\n",
       "      <td>8</td>\n",
       "      <td>6723.470560</td>\n",
       "      <td>46.0</td>\n",
       "      <td>475.0</td>\n",
       "      <td>2</td>\n",
       "      <td>199</td>\n",
       "      <td>ultra</td>\n",
       "    </tr>\n",
       "    <tr>\n",
       "      <th>3</th>\n",
       "      <td>1</td>\n",
       "      <td>10</td>\n",
       "      <td>5809.911100</td>\n",
       "      <td>32.0</td>\n",
       "      <td>391.0</td>\n",
       "      <td>2</td>\n",
       "      <td>199</td>\n",
       "      <td>ultra</td>\n",
       "    </tr>\n",
       "    <tr>\n",
       "      <th>4</th>\n",
       "      <td>1</td>\n",
       "      <td>11</td>\n",
       "      <td>7003.499363</td>\n",
       "      <td>56.0</td>\n",
       "      <td>535.0</td>\n",
       "      <td>3</td>\n",
       "      <td>199</td>\n",
       "      <td>ultra</td>\n",
       "    </tr>\n",
       "    <tr>\n",
       "      <th>5</th>\n",
       "      <td>1</td>\n",
       "      <td>12</td>\n",
       "      <td>6751.629942</td>\n",
       "      <td>28.0</td>\n",
       "      <td>367.0</td>\n",
       "      <td>2</td>\n",
       "      <td>199</td>\n",
       "      <td>ultra</td>\n",
       "    </tr>\n",
       "    <tr>\n",
       "      <th>6</th>\n",
       "      <td>2</td>\n",
       "      <td>3</td>\n",
       "      <td>10187.723006</td>\n",
       "      <td>63.0</td>\n",
       "      <td>577.0</td>\n",
       "      <td>3</td>\n",
       "      <td>199</td>\n",
       "      <td>ultra</td>\n",
       "    </tr>\n",
       "    <tr>\n",
       "      <th>7</th>\n",
       "      <td>2</td>\n",
       "      <td>4</td>\n",
       "      <td>6164.381824</td>\n",
       "      <td>40.0</td>\n",
       "      <td>439.0</td>\n",
       "      <td>2</td>\n",
       "      <td>199</td>\n",
       "      <td>ultra</td>\n",
       "    </tr>\n",
       "    <tr>\n",
       "      <th>8</th>\n",
       "      <td>2</td>\n",
       "      <td>6</td>\n",
       "      <td>3255.338202</td>\n",
       "      <td>14.0</td>\n",
       "      <td>283.0</td>\n",
       "      <td>1</td>\n",
       "      <td>199</td>\n",
       "      <td>ultra</td>\n",
       "    </tr>\n",
       "    <tr>\n",
       "      <th>9</th>\n",
       "      <td>2</td>\n",
       "      <td>7</td>\n",
       "      <td>6780.722964</td>\n",
       "      <td>48.0</td>\n",
       "      <td>487.0</td>\n",
       "      <td>2</td>\n",
       "      <td>199</td>\n",
       "      <td>ultra</td>\n",
       "    </tr>\n",
       "    <tr>\n",
       "      <th>10</th>\n",
       "      <td>2</td>\n",
       "      <td>8</td>\n",
       "      <td>923.007439</td>\n",
       "      <td>7.0</td>\n",
       "      <td>241.0</td>\n",
       "      <td>1</td>\n",
       "      <td>199</td>\n",
       "      <td>ultra</td>\n",
       "    </tr>\n",
       "    <tr>\n",
       "      <th>11</th>\n",
       "      <td>2</td>\n",
       "      <td>10</td>\n",
       "      <td>2824.636598</td>\n",
       "      <td>19.0</td>\n",
       "      <td>313.0</td>\n",
       "      <td>1</td>\n",
       "      <td>199</td>\n",
       "      <td>ultra</td>\n",
       "    </tr>\n",
       "    <tr>\n",
       "      <th>12</th>\n",
       "      <td>2</td>\n",
       "      <td>12</td>\n",
       "      <td>3828.248580</td>\n",
       "      <td>12.0</td>\n",
       "      <td>271.0</td>\n",
       "      <td>1</td>\n",
       "      <td>199</td>\n",
       "      <td>ultra</td>\n",
       "    </tr>\n",
       "    <tr>\n",
       "      <th>13</th>\n",
       "      <td>3</td>\n",
       "      <td>1</td>\n",
       "      <td>3061.777147</td>\n",
       "      <td>13.0</td>\n",
       "      <td>277.0</td>\n",
       "      <td>1</td>\n",
       "      <td>199</td>\n",
       "      <td>ultra</td>\n",
       "    </tr>\n",
       "    <tr>\n",
       "      <th>14</th>\n",
       "      <td>3</td>\n",
       "      <td>2</td>\n",
       "      <td>5421.152016</td>\n",
       "      <td>39.0</td>\n",
       "      <td>433.0</td>\n",
       "      <td>2</td>\n",
       "      <td>199</td>\n",
       "      <td>ultra</td>\n",
       "    </tr>\n",
       "  </tbody>\n",
       "</table>\n",
       "</div>"
      ],
      "text/plain": [
       "    user_id  month      distance  duration  revenue  trip_count  \\\n",
       "0         1      1   7027.511294      42.0    451.0           2   \n",
       "1         1      4    754.159807       7.0    241.0           1   \n",
       "2         1      8   6723.470560      46.0    475.0           2   \n",
       "3         1     10   5809.911100      32.0    391.0           2   \n",
       "4         1     11   7003.499363      56.0    535.0           3   \n",
       "5         1     12   6751.629942      28.0    367.0           2   \n",
       "6         2      3  10187.723006      63.0    577.0           3   \n",
       "7         2      4   6164.381824      40.0    439.0           2   \n",
       "8         2      6   3255.338202      14.0    283.0           1   \n",
       "9         2      7   6780.722964      48.0    487.0           2   \n",
       "10        2      8    923.007439       7.0    241.0           1   \n",
       "11        2     10   2824.636598      19.0    313.0           1   \n",
       "12        2     12   3828.248580      12.0    271.0           1   \n",
       "13        3      1   3061.777147      13.0    277.0           1   \n",
       "14        3      2   5421.152016      39.0    433.0           2   \n",
       "\n",
       "    subscription_fee subscription_type  \n",
       "0                199             ultra  \n",
       "1                199             ultra  \n",
       "2                199             ultra  \n",
       "3                199             ultra  \n",
       "4                199             ultra  \n",
       "5                199             ultra  \n",
       "6                199             ultra  \n",
       "7                199             ultra  \n",
       "8                199             ultra  \n",
       "9                199             ultra  \n",
       "10               199             ultra  \n",
       "11               199             ultra  \n",
       "12               199             ultra  \n",
       "13               199             ultra  \n",
       "14               199             ultra  "
      ]
     },
     "execution_count": 47,
     "metadata": {},
     "output_type": "execute_result"
    }
   ],
   "source": [
    "aggregated_data = final_data.groupby(['user_id', 'month']).agg({\n",
    "    'distance': 'sum',        # Суммарное расстояние\n",
    "    'duration': 'sum',        # Суммарное время поездок\n",
    "    'revenue': 'sum',         # Помесячная выручка\n",
    "    'user_id': 'count'        # Количество поездок (считаем количество записей для каждого пользователя за каждый месяц)\n",
    "}).rename(columns={'user_id': 'trip_count'}) # Переименуем колонку с количеством поездок\n",
    "\n",
    "# Добавляем стоимость подписки к месячной выручке\n",
    "aggregated_data = aggregated_data.merge(\n",
    "    final_data[['user_id', 'month', 'subscription_fee', 'subscription_type']].drop_duplicates(),\n",
    "    on=['user_id', 'month'],\n",
    "    how='left'\n",
    ")\n",
    "\n",
    "aggregated_data['revenue'] += aggregated_data['subscription_fee']\n",
    "\n",
    "aggregated_data.head(15)"
   ]
  },
  {
   "cell_type": "markdown",
   "id": "7519b3b6",
   "metadata": {},
   "source": [
    "<b>Промежуточный итог:</b>\n",
    "- Мы создали новый датафрейм, с подсчитанной помесячной выручкой."
   ]
  },
  {
   "cell_type": "markdown",
   "id": "41545ac0",
   "metadata": {},
   "source": [
    "## Шаг 6. Проверка гипотез"
   ]
  },
  {
   "cell_type": "markdown",
   "id": "57a8e26e",
   "metadata": {},
   "source": [
    "Продакт-менеджеры сервиса хотят увеличить количество пользователей с подпиской. Для этого они будут проводить различные акции, но сначала нужно выяснить несколько важных моментов."
   ]
  },
  {
   "cell_type": "markdown",
   "id": "fcab7f45",
   "metadata": {},
   "source": [
    "### Важно понять, тратят ли пользователи с подпиской больше времени на поездки? Если да, то пользователи с подпиской могут быть «выгоднее» для компании. Проверьте гипотезу. Используйте исходные данные о продолжительности каждой сессии — отдельно для подписчиков и тех, у кого нет подписки."
   ]
  },
  {
   "cell_type": "markdown",
   "id": "d2874338",
   "metadata": {},
   "source": [
    "Проведем t-тест для независимых выборок.\n",
    "- <b>Нулевая гипотеза:</b> Пользователи с подпиской тратят столько же времени на поездки, как пользователи без подписки (или не больше).<br>\n",
    "- <b>Альтернативная гипотеза:</b> Пользователи с подпиской тратят больше времени на поездки."
   ]
  },
  {
   "cell_type": "code",
   "execution_count": 48,
   "id": "2c55d73a",
   "metadata": {},
   "outputs": [
    {
     "name": "stdout",
     "output_type": "stream",
     "text": [
      "p-value: 2.4959453720736625e-34\n",
      "Отвергаем нулевую гипотезу\n"
     ]
    }
   ],
   "source": [
    "# Подготовим данные, разделим данные на две группы — для пользователей с подпиской и без подписки.\n",
    "ultra_users_durations = final_data[final_data['subscription_type'] == 'ultra']['duration']\n",
    "free_users_durations = final_data[final_data['subscription_type'] == 'free']['duration']\n",
    "\n",
    "alpha = 0.05 # назначим уровень стат. значимости\n",
    "\n",
    "results = st.ttest_ind(ultra_users_durations, free_users_durations, alternative='greater') # пользователи с подпиской тратят больше времени на поездки?\n",
    "\n",
    "print('p-value:', results.pvalue)\n",
    "\n",
    "if (results.pvalue < alpha):\n",
    "    print('Отвергаем нулевую гипотезу')\n",
    "else:\n",
    "    print('He получилось отвергнуть нулевую гипотезу')"
   ]
  },
  {
   "cell_type": "markdown",
   "id": "a753af69",
   "metadata": {},
   "source": [
    "Выходит, мы не можем утверждать, что пользователи с подпиской действительно тратят больше времени на поездки, чем пользователи без подписки. Возможно, пользователи с подпиской не обязательно являются более «выгодными» для компании с точки зрения времени, проводимого в поездках."
   ]
  },
  {
   "cell_type": "markdown",
   "id": "f082ba04",
   "metadata": {},
   "source": [
    "### Расстояние одной поездки в 3130 метров — оптимальное с точки зрения износа самоката. Можно ли сказать, что среднее расстояние, которое проезжают пользователи с подпиской за одну поездку, не превышает 3130 метров? Проверьте гипотезу и сделайте выводы."
   ]
  },
  {
   "cell_type": "markdown",
   "id": "3a87084a",
   "metadata": {},
   "source": [
    "- <b>Нулевая гипотеза:</b> Подписчики в среднем проезжают расстояние не больше оптимального (или такое же расстояние).<br>\n",
    "- <b>Альтернативная гипотеза:</b> Подписчики в среднем проезжают расстояние больше оптимального."
   ]
  },
  {
   "cell_type": "code",
   "execution_count": 49,
   "id": "394b8d12",
   "metadata": {},
   "outputs": [
    {
     "name": "stdout",
     "output_type": "stream",
     "text": [
      "p-value: 2.4959453720736625e-34\n",
      "Отвергаем нулевую гипотезу\n"
     ]
    }
   ],
   "source": [
    "ultra_distances = ultra_users_data['distance'] # данные для пользователей с подпиской\n",
    "optimal_distance = 3130\n",
    "\n",
    "alpha = 0.05 # назначим уровень стат. значимости\n",
    "\n",
    "result = st.ttest_1samp(ultra_distances, optimal_distance, alternative='greater') # cреднее расстояние пользователей с подпиской не превышает 3130 м.?\n",
    "\n",
    "print('p-value:', results.pvalue)\n",
    "\n",
    "if results.pvalue < alpha:\n",
    "    print('Отвергаем нулевую гипотезу')\n",
    "else:\n",
    "    print('Не получилось отвергнуть нулевую гипотезу')"
   ]
  },
  {
   "cell_type": "code",
   "execution_count": 50,
   "id": "bc3a9d1b",
   "metadata": {},
   "outputs": [
    {
     "name": "stdout",
     "output_type": "stream",
     "text": [
      "p-value 0.9195368847849785\n",
      "Опровергнуть нулевую гипотезу нельзя\n"
     ]
    }
   ],
   "source": [
    "optimal_distance = 3130\n",
    "\n",
    "results = st.ttest_1samp(final_data[final_data['subscription_type'] == 'ultra']['distance'], optimal_distance, alternative='greater')\n",
    "\n",
    "print('p-value', results.pvalue)\n",
    "\n",
    "if results.pvalue < alpha:\n",
    "    print(\"Принимаем альтернативную гипотезу\")\n",
    "else:\n",
    "    print(\"Опровергнуть нулевую гипотезу нельзя\")"
   ]
  },
  {
   "cell_type": "markdown",
   "id": "e668aa1f",
   "metadata": {},
   "source": [
    "Выходит, что среднее расстояние пользователей с подпиской не превышает 3130 метров."
   ]
  },
  {
   "cell_type": "markdown",
   "id": "558a8df5",
   "metadata": {},
   "source": [
    "### Проверим гипотезу о том, будет ли помесячная выручка от пользователей с подпиской по месяцам выше, чем выручка от пользователей без подписки. Сделайте вывод."
   ]
  },
  {
   "cell_type": "markdown",
   "id": "1de8e2b8",
   "metadata": {},
   "source": [
    "- <b>Нулевая гипотеза:</b> Помесячная выручка от пользователей с подпиской по месяцам будет не выше (или равна), чем выручка от пользователей без подписки.<br>\n",
    "- <b>Альтернативная гипотеза:</b> Помесячная выручка от пользователей с подпиской по месяцам будет выше, чем выручка от пользователей без подписки."
   ]
  },
  {
   "cell_type": "code",
   "execution_count": 54,
   "id": "9de2d75a",
   "metadata": {},
   "outputs": [
    {
     "name": "stdout",
     "output_type": "stream",
     "text": [
      "p-value 1.8850394384715216e-31\n",
      "Принимаем альтернативную гипотезу\n"
     ]
    }
   ],
   "source": [
    "# Код ревьюера\n",
    "sample_ultra = aggregated_data.query('subscription_type == \"ultra\"')['revenue']\n",
    "sample_free = aggregated_data.query('subscription_type == \"free\"')['revenue']\n",
    "\n",
    "alpha = 0.05\n",
    "\n",
    "results = st.ttest_ind(sample_ultra, sample_free, alternative= 'greater')\n",
    "\n",
    "print('p-value', results.pvalue)\n",
    "\n",
    "if (results.pvalue < alpha ):\n",
    "    print(\"Принимаем альтернативную гипотезу\")\n",
    "else:\n",
    "    print(\"Опровергнуть нулевую гипотезу нельзя\")"
   ]
  },
  {
   "cell_type": "markdown",
   "id": "71ab6ec7",
   "metadata": {},
   "source": [
    "Мы принимаем альтернативную теорию, а значит, помесячная выручка от пользователей с подпиской по месяцам будет выше, чем выручка от пользователей без подписки."
   ]
  },
  {
   "cell_type": "markdown",
   "id": "c3ce9810",
   "metadata": {},
   "source": [
    "### Представьте такую ситуацию: техническая команда сервиса обновила сервера, с которыми взаимодействует мобильное приложение. Она надеется, что из-за этого количество обращений в техподдержку значимо снизилось. Некоторый файл содержит для каждого пользователя данные о количестве обращений до обновления и после него. Какой тест вам понадобился бы для проверки этой гипотезы?"
   ]
  },
  {
   "cell_type": "markdown",
   "id": "5fd7ad7f",
   "metadata": {},
   "source": [
    "Я думаю, что для проверки данной гипотезы подойдет парный тест, ведь мы будем сравнивать две связанные выборки с одним и тем же показателем (кол-во обращений в техподдержку) до и после обновления серверов для одних и тех же пользователей."
   ]
  },
  {
   "cell_type": "markdown",
   "id": "0885fa9a",
   "metadata": {},
   "source": [
    "Мы будем рассматривать одностороннюю гипотезу, т.к. нас интересует только уменьшение кол-ва обращений.<br>\n",
    "<b>Гипотезы:<br>\n",
    "    - Нулевая: Количество обращений в техподдержку после обновления серверов не изменилось.<br>\n",
    "    - Альтернативная: Количество обращений в техподдержку после обновления серверов уменьшилось."
   ]
  },
  {
   "cell_type": "markdown",
   "id": "85d5befd",
   "metadata": {},
   "source": [
    "<b>Промежуточный итог:</b><br>\n",
    "По результатам проведенных тестов было установлено, что пользователи с подпиской тратят больше времени на поездки, а также что помесячная выручка от пользователей с подпиской по месяцам выше, чем выручка от пользователей без подписки. Эти результаты указывают на то, что подписка оказывает значительное влияние на поведение пользователей, делая их более активными и прибыльными для компании."
   ]
  },
  {
   "cell_type": "markdown",
   "id": "3c9f23b3",
   "metadata": {},
   "source": [
    "# Общий итог"
   ]
  },
  {
   "cell_type": "markdown",
   "id": "433fb69f",
   "metadata": {},
   "source": [
    "- <b>Предварительная обработка данных:</b> \n",
    "    - Данные были целостными и не содержали пропусков, однако были обнаружены дубликаты в информации о пользователях в количестве 31 шт., которые были удалены. Приведены в порядок типы данных, столбец с датой преобразован в нужный формат, добавлен столбец с месяцем. Данные были подготовлены к дальнейшему анализу.\n",
    "- <b>Анализ пользователей:</b>\n",
    "    - Чаще всего в данных встречается город Пятигорск, тогда как Москва находится на последнем месте по частоте упоминания.\n",
    "    - Количество пользователей без подписки оказалось на 5% выше, чем количество подписчиков.\n",
    "    - Средний возраст пользователей составляет 25 лет, и в основном сервисом пользуются люди в возрасте от 13 до 37 лет. Число выбросов по возрасту минимально.\n",
    "    - Среднее расстояние, которое преодолевают пользователи за одну поездку, составляет около 3000 метров. Основные значения находятся в диапазоне от 2500 до 4000 метров, но в данных много выбросов, особенно в правом хвосте распределения.\n",
    "    - Средняя продолжительность поездки составляет около 17 минут, основная масса значений лежит в пределах 10-25 минут. Выбросы также преимущественно сосредоточены в правом хвосте.\n",
    "\n",
    "- <b>Сравнение пользователей с подпиской и без:</b>\n",
    "    - После объединения датафреймов и создания отдельных наборов данных для пользователей с подпиской и без, анализ показал, что пользователи без подписки, вероятно, реже используют сервис, но совершают более длинные поездки. В то время как пользователи с подпиской используют сервис чаще, но их поездки в среднем короче и регулярнее.\n",
    "\n",
    "- <b>Подсчет помесячной выручки: </b>\n",
    "    - Был создан датафрейм с агрегированными данными о помесячной выручке для каждого пользователя, что позволило оценить вклад пользователей с подпиской и без в общий доход компании.\n",
    "\n",
    "- <b>Проверка гипотез:</b>\n",
    "    - По результатам проверки гипотез было установлено, что пользователи с подпиской тратят больше времени на поездки и приносят больше помесячной выручки, чем пользователи без подписки. Эти результаты указывают на то, что подписка оказывает значительное влияние на поведение пользователей, делая их более активными и прибыльными для компании.\n",
    "\n",
    "- <b>Заключение: </b>\n",
    "    - Проведенный анализ и проверка гипотез выявили различия в поведении пользователей с подпиской и без неё. Выяснилось, что подписка не только повышает активность пользователей, но и увеличивает их вклад в общую выручку сервиса."
   ]
  },
  {
   "cell_type": "code",
   "execution_count": null,
   "id": "01ad2901",
   "metadata": {},
   "outputs": [],
   "source": []
  }
 ],
 "metadata": {
  "ExecuteTimeLog": [
   {
    "duration": 366,
    "start_time": "2024-08-25T12:12:20.551Z"
   },
   {
    "duration": 121,
    "start_time": "2024-08-25T12:30:54.059Z"
   },
   {
    "duration": 202,
    "start_time": "2024-08-25T12:31:47.507Z"
   },
   {
    "duration": 97,
    "start_time": "2024-08-25T12:33:02.684Z"
   },
   {
    "duration": 10,
    "start_time": "2024-08-25T12:35:08.212Z"
   },
   {
    "duration": 11,
    "start_time": "2024-08-25T12:35:24.879Z"
   },
   {
    "duration": 10,
    "start_time": "2024-08-25T12:35:38.869Z"
   },
   {
    "duration": 10,
    "start_time": "2024-08-25T12:37:24.564Z"
   },
   {
    "duration": 11,
    "start_time": "2024-08-25T12:37:29.256Z"
   },
   {
    "duration": 69,
    "start_time": "2024-08-25T12:43:08.282Z"
   },
   {
    "duration": 14,
    "start_time": "2024-08-25T12:43:17.041Z"
   },
   {
    "duration": 10,
    "start_time": "2024-08-25T12:45:15.439Z"
   },
   {
    "duration": 9,
    "start_time": "2024-08-25T12:49:57.746Z"
   },
   {
    "duration": 6,
    "start_time": "2024-08-25T12:50:19.939Z"
   },
   {
    "duration": 5,
    "start_time": "2024-08-25T12:50:36.035Z"
   },
   {
    "duration": 5,
    "start_time": "2024-08-25T12:52:15.036Z"
   },
   {
    "duration": 10,
    "start_time": "2024-08-25T12:52:59.458Z"
   },
   {
    "duration": 44,
    "start_time": "2024-08-25T12:53:13.686Z"
   },
   {
    "duration": 131,
    "start_time": "2024-08-25T12:53:22.155Z"
   },
   {
    "duration": 43,
    "start_time": "2024-08-25T12:53:30.420Z"
   },
   {
    "duration": 11,
    "start_time": "2024-08-25T12:53:45.137Z"
   },
   {
    "duration": 10,
    "start_time": "2024-08-25T12:54:47.419Z"
   },
   {
    "duration": 6,
    "start_time": "2024-08-25T12:55:54.578Z"
   },
   {
    "duration": 6,
    "start_time": "2024-08-25T12:56:06.708Z"
   },
   {
    "duration": 57,
    "start_time": "2024-08-25T12:57:49.609Z"
   },
   {
    "duration": 6,
    "start_time": "2024-08-25T12:57:54.575Z"
   },
   {
    "duration": 12,
    "start_time": "2024-08-25T12:58:54.165Z"
   },
   {
    "duration": 9,
    "start_time": "2024-08-25T12:59:08.691Z"
   },
   {
    "duration": 12,
    "start_time": "2024-08-25T13:00:19.583Z"
   },
   {
    "duration": 13,
    "start_time": "2024-08-25T13:01:11.843Z"
   },
   {
    "duration": 854,
    "start_time": "2024-08-25T13:01:43.338Z"
   },
   {
    "duration": 901,
    "start_time": "2024-08-25T13:01:51.538Z"
   },
   {
    "duration": 12,
    "start_time": "2024-08-25T13:02:52.107Z"
   },
   {
    "duration": 7,
    "start_time": "2024-08-25T13:07:40.968Z"
   },
   {
    "duration": 8,
    "start_time": "2024-08-25T13:08:04.189Z"
   },
   {
    "duration": 4,
    "start_time": "2024-08-25T13:19:00.554Z"
   },
   {
    "duration": 6,
    "start_time": "2024-08-25T13:19:09.508Z"
   },
   {
    "duration": 547,
    "start_time": "2024-08-25T13:20:19.151Z"
   },
   {
    "duration": 136,
    "start_time": "2024-08-25T13:21:21.482Z"
   },
   {
    "duration": 147,
    "start_time": "2024-08-25T13:22:03.245Z"
   },
   {
    "duration": 3,
    "start_time": "2024-08-25T13:22:15.925Z"
   },
   {
    "duration": 143,
    "start_time": "2024-08-25T13:27:04.545Z"
   },
   {
    "duration": 191,
    "start_time": "2024-08-25T13:27:23.275Z"
   },
   {
    "duration": 6,
    "start_time": "2024-08-25T13:28:33.707Z"
   },
   {
    "duration": 72,
    "start_time": "2024-08-25T13:30:09.944Z"
   },
   {
    "duration": 69,
    "start_time": "2024-08-25T13:30:44.510Z"
   },
   {
    "duration": 73,
    "start_time": "2024-08-25T13:30:51.532Z"
   },
   {
    "duration": 77,
    "start_time": "2024-08-25T13:32:05.887Z"
   },
   {
    "duration": 81,
    "start_time": "2024-08-25T13:33:09.455Z"
   },
   {
    "duration": 7,
    "start_time": "2024-08-25T13:39:16.137Z"
   },
   {
    "duration": 8,
    "start_time": "2024-08-25T13:39:22.660Z"
   },
   {
    "duration": 149,
    "start_time": "2024-08-25T13:40:32.738Z"
   },
   {
    "duration": 109,
    "start_time": "2024-08-25T13:41:11.440Z"
   },
   {
    "duration": 121,
    "start_time": "2024-08-25T13:41:15.837Z"
   },
   {
    "duration": 157,
    "start_time": "2024-08-25T13:41:23.552Z"
   },
   {
    "duration": 146,
    "start_time": "2024-08-25T13:41:41.889Z"
   },
   {
    "duration": 259,
    "start_time": "2024-08-25T13:41:54.255Z"
   },
   {
    "duration": 148,
    "start_time": "2024-08-25T13:42:06.485Z"
   },
   {
    "duration": 238,
    "start_time": "2024-08-25T13:42:10.462Z"
   },
   {
    "duration": 141,
    "start_time": "2024-08-25T13:42:14.716Z"
   },
   {
    "duration": 143,
    "start_time": "2024-08-25T13:42:19.870Z"
   },
   {
    "duration": 149,
    "start_time": "2024-08-25T13:42:25.232Z"
   },
   {
    "duration": 152,
    "start_time": "2024-08-25T13:42:31.226Z"
   },
   {
    "duration": 100,
    "start_time": "2024-08-25T13:43:22.492Z"
   },
   {
    "duration": 9,
    "start_time": "2024-08-25T13:43:50.699Z"
   },
   {
    "duration": 93,
    "start_time": "2024-08-25T13:44:06.494Z"
   },
   {
    "duration": 100,
    "start_time": "2024-08-25T13:44:49.633Z"
   },
   {
    "duration": 170,
    "start_time": "2024-08-25T13:45:23.069Z"
   },
   {
    "duration": 115,
    "start_time": "2024-08-25T13:45:32.900Z"
   },
   {
    "duration": 101,
    "start_time": "2024-08-25T13:45:49.531Z"
   },
   {
    "duration": 94,
    "start_time": "2024-08-25T13:47:29.070Z"
   },
   {
    "duration": 82,
    "start_time": "2024-08-25T13:51:26.220Z"
   },
   {
    "duration": 83,
    "start_time": "2024-08-25T13:51:48.156Z"
   },
   {
    "duration": 87,
    "start_time": "2024-08-25T13:51:52.187Z"
   },
   {
    "duration": 86,
    "start_time": "2024-08-25T13:51:55.617Z"
   },
   {
    "duration": 92,
    "start_time": "2024-08-25T13:52:00.779Z"
   },
   {
    "duration": 156,
    "start_time": "2024-08-25T13:52:29.852Z"
   },
   {
    "duration": 147,
    "start_time": "2024-08-25T13:53:18.148Z"
   },
   {
    "duration": 236,
    "start_time": "2024-08-25T13:54:26.215Z"
   },
   {
    "duration": 158,
    "start_time": "2024-08-25T13:54:35.331Z"
   },
   {
    "duration": 179,
    "start_time": "2024-08-25T13:57:14.665Z"
   },
   {
    "duration": 111,
    "start_time": "2024-08-25T13:57:33.436Z"
   },
   {
    "duration": 83,
    "start_time": "2024-08-25T13:59:45.316Z"
   },
   {
    "duration": 140,
    "start_time": "2024-08-25T13:59:53.672Z"
   },
   {
    "duration": 184,
    "start_time": "2024-08-25T14:00:23.143Z"
   },
   {
    "duration": 158,
    "start_time": "2024-08-25T14:02:25.597Z"
   },
   {
    "duration": 170,
    "start_time": "2024-08-25T14:02:46.148Z"
   },
   {
    "duration": 165,
    "start_time": "2024-08-25T14:03:28.871Z"
   },
   {
    "duration": 8,
    "start_time": "2024-08-25T14:03:59.268Z"
   },
   {
    "duration": 150,
    "start_time": "2024-08-25T14:04:03.436Z"
   },
   {
    "duration": 8,
    "start_time": "2024-08-25T14:04:30.078Z"
   },
   {
    "duration": 148,
    "start_time": "2024-08-25T14:04:37.220Z"
   },
   {
    "duration": 101,
    "start_time": "2024-08-25T14:12:05.899Z"
   },
   {
    "duration": 395,
    "start_time": "2024-08-25T14:14:19.535Z"
   },
   {
    "duration": 155,
    "start_time": "2024-08-25T14:14:30.285Z"
   },
   {
    "duration": 153,
    "start_time": "2024-08-25T14:14:36.312Z"
   },
   {
    "duration": 149,
    "start_time": "2024-08-25T14:14:56.537Z"
   },
   {
    "duration": 135,
    "start_time": "2024-08-25T14:15:16.555Z"
   },
   {
    "duration": 151,
    "start_time": "2024-08-25T14:15:20.728Z"
   },
   {
    "duration": 145,
    "start_time": "2024-08-25T14:17:29.401Z"
   },
   {
    "duration": 156,
    "start_time": "2024-08-25T14:19:01.853Z"
   },
   {
    "duration": 9,
    "start_time": "2024-08-25T14:19:26.750Z"
   },
   {
    "duration": 154,
    "start_time": "2024-08-25T14:19:41.955Z"
   },
   {
    "duration": 154,
    "start_time": "2024-08-25T14:21:01.981Z"
   },
   {
    "duration": 145,
    "start_time": "2024-08-25T14:21:19.595Z"
   },
   {
    "duration": 225,
    "start_time": "2024-08-25T14:21:31.911Z"
   },
   {
    "duration": 139,
    "start_time": "2024-08-25T14:21:38.645Z"
   },
   {
    "duration": 149,
    "start_time": "2024-08-25T14:22:18.044Z"
   },
   {
    "duration": 163,
    "start_time": "2024-08-25T14:22:26.581Z"
   },
   {
    "duration": 143,
    "start_time": "2024-08-25T14:22:35.121Z"
   },
   {
    "duration": 152,
    "start_time": "2024-08-25T14:22:39.228Z"
   },
   {
    "duration": 149,
    "start_time": "2024-08-25T14:24:43.094Z"
   },
   {
    "duration": 376,
    "start_time": "2024-08-25T14:24:54.971Z"
   },
   {
    "duration": 41,
    "start_time": "2024-08-25T14:24:55.349Z"
   },
   {
    "duration": 33,
    "start_time": "2024-08-25T14:24:55.391Z"
   },
   {
    "duration": 19,
    "start_time": "2024-08-25T14:24:55.426Z"
   },
   {
    "duration": 10,
    "start_time": "2024-08-25T14:24:55.446Z"
   },
   {
    "duration": 15,
    "start_time": "2024-08-25T14:24:55.458Z"
   },
   {
    "duration": 8,
    "start_time": "2024-08-25T14:24:55.474Z"
   },
   {
    "duration": 30,
    "start_time": "2024-08-25T14:24:55.484Z"
   },
   {
    "duration": 10,
    "start_time": "2024-08-25T14:24:55.516Z"
   },
   {
    "duration": 8,
    "start_time": "2024-08-25T14:24:55.528Z"
   },
   {
    "duration": 10,
    "start_time": "2024-08-25T14:24:55.538Z"
   },
   {
    "duration": 37,
    "start_time": "2024-08-25T14:24:55.549Z"
   },
   {
    "duration": 21,
    "start_time": "2024-08-25T14:24:55.587Z"
   },
   {
    "duration": 5,
    "start_time": "2024-08-25T14:24:55.609Z"
   },
   {
    "duration": 368,
    "start_time": "2024-08-25T14:24:55.615Z"
   },
   {
    "duration": 5,
    "start_time": "2024-08-25T14:24:55.984Z"
   },
   {
    "duration": 81,
    "start_time": "2024-08-25T14:24:56.006Z"
   },
   {
    "duration": 19,
    "start_time": "2024-08-25T14:24:56.088Z"
   },
   {
    "duration": 155,
    "start_time": "2024-08-25T14:24:56.108Z"
   },
   {
    "duration": 120,
    "start_time": "2024-08-25T14:24:56.265Z"
   },
   {
    "duration": 8,
    "start_time": "2024-08-25T14:40:10.771Z"
   },
   {
    "duration": 54,
    "start_time": "2024-08-25T14:41:46.191Z"
   },
   {
    "duration": 218,
    "start_time": "2024-08-25T14:45:09.459Z"
   },
   {
    "duration": 48,
    "start_time": "2024-08-25T14:45:22.534Z"
   },
   {
    "duration": 160,
    "start_time": "2024-08-25T14:45:25.534Z"
   },
   {
    "duration": 141,
    "start_time": "2024-08-25T14:46:45.577Z"
   },
   {
    "duration": 40,
    "start_time": "2024-08-25T14:47:13.204Z"
   },
   {
    "duration": 154,
    "start_time": "2024-08-25T14:47:45.632Z"
   },
   {
    "duration": 143,
    "start_time": "2024-08-25T14:48:12.021Z"
   },
   {
    "duration": 147,
    "start_time": "2024-08-25T14:48:20.419Z"
   },
   {
    "duration": 95,
    "start_time": "2024-08-25T14:50:31.957Z"
   },
   {
    "duration": 102,
    "start_time": "2024-08-25T14:50:34.860Z"
   },
   {
    "duration": 98,
    "start_time": "2024-08-25T14:50:39.185Z"
   },
   {
    "duration": 186,
    "start_time": "2024-08-25T14:51:30.252Z"
   },
   {
    "duration": 130,
    "start_time": "2024-08-25T14:52:34.272Z"
   },
   {
    "duration": 190,
    "start_time": "2024-08-25T14:54:27.833Z"
   },
   {
    "duration": 121,
    "start_time": "2024-08-25T14:54:36.021Z"
   },
   {
    "duration": 122,
    "start_time": "2024-08-25T14:54:41.821Z"
   },
   {
    "duration": 126,
    "start_time": "2024-08-25T14:54:45.560Z"
   },
   {
    "duration": 381,
    "start_time": "2024-08-25T14:55:36.761Z"
   },
   {
    "duration": 41,
    "start_time": "2024-08-25T14:55:37.143Z"
   },
   {
    "duration": 33,
    "start_time": "2024-08-25T14:55:37.186Z"
   },
   {
    "duration": 20,
    "start_time": "2024-08-25T14:55:37.222Z"
   },
   {
    "duration": 10,
    "start_time": "2024-08-25T14:55:37.244Z"
   },
   {
    "duration": 46,
    "start_time": "2024-08-25T14:55:37.256Z"
   },
   {
    "duration": 17,
    "start_time": "2024-08-25T14:55:37.303Z"
   },
   {
    "duration": 18,
    "start_time": "2024-08-25T14:55:37.322Z"
   },
   {
    "duration": 15,
    "start_time": "2024-08-25T14:55:37.343Z"
   },
   {
    "duration": 14,
    "start_time": "2024-08-25T14:55:37.361Z"
   },
   {
    "duration": 39,
    "start_time": "2024-08-25T14:55:37.377Z"
   },
   {
    "duration": 19,
    "start_time": "2024-08-25T14:55:37.418Z"
   },
   {
    "duration": 21,
    "start_time": "2024-08-25T14:55:37.438Z"
   },
   {
    "duration": 13,
    "start_time": "2024-08-25T14:55:37.461Z"
   },
   {
    "duration": 418,
    "start_time": "2024-08-25T14:55:37.476Z"
   },
   {
    "duration": 12,
    "start_time": "2024-08-25T14:55:37.896Z"
   },
   {
    "duration": 100,
    "start_time": "2024-08-25T14:55:37.909Z"
   },
   {
    "duration": 9,
    "start_time": "2024-08-25T14:55:38.010Z"
   },
   {
    "duration": 169,
    "start_time": "2024-08-25T14:55:38.020Z"
   },
   {
    "duration": 107,
    "start_time": "2024-08-25T14:55:38.190Z"
   },
   {
    "duration": 12,
    "start_time": "2024-08-25T14:55:38.298Z"
   },
   {
    "duration": 230,
    "start_time": "2024-08-25T14:55:38.311Z"
   },
   {
    "duration": 140,
    "start_time": "2024-08-25T14:55:38.542Z"
   },
   {
    "duration": 174,
    "start_time": "2024-08-25T15:07:17.872Z"
   },
   {
    "duration": 277,
    "start_time": "2024-08-25T15:07:23.310Z"
   },
   {
    "duration": 158,
    "start_time": "2024-08-25T15:09:30.718Z"
   },
   {
    "duration": 183,
    "start_time": "2024-08-25T15:09:35.199Z"
   },
   {
    "duration": 11,
    "start_time": "2024-08-25T15:29:24.508Z"
   },
   {
    "duration": 173,
    "start_time": "2024-08-25T15:36:51.588Z"
   },
   {
    "duration": 141,
    "start_time": "2024-08-25T15:38:31.384Z"
   },
   {
    "duration": 207,
    "start_time": "2024-08-25T15:38:38.888Z"
   },
   {
    "duration": 145,
    "start_time": "2024-08-25T15:38:44.649Z"
   },
   {
    "duration": 43,
    "start_time": "2024-08-25T15:41:34.585Z"
   },
   {
    "duration": 239,
    "start_time": "2024-08-25T15:42:11.357Z"
   },
   {
    "duration": 162,
    "start_time": "2024-08-25T15:42:39.094Z"
   },
   {
    "duration": 161,
    "start_time": "2024-08-25T15:45:13.717Z"
   },
   {
    "duration": 195,
    "start_time": "2024-08-25T15:47:27.004Z"
   },
   {
    "duration": 185,
    "start_time": "2024-08-25T15:48:09.085Z"
   },
   {
    "duration": 255,
    "start_time": "2024-08-25T15:48:18.035Z"
   },
   {
    "duration": 170,
    "start_time": "2024-08-25T15:48:31.254Z"
   },
   {
    "duration": 375,
    "start_time": "2024-08-26T13:52:47.246Z"
   },
   {
    "duration": 125,
    "start_time": "2024-08-26T13:52:47.623Z"
   },
   {
    "duration": 202,
    "start_time": "2024-08-26T13:52:47.750Z"
   },
   {
    "duration": 87,
    "start_time": "2024-08-26T13:52:47.953Z"
   },
   {
    "duration": 11,
    "start_time": "2024-08-26T13:52:48.042Z"
   },
   {
    "duration": 13,
    "start_time": "2024-08-26T13:52:48.055Z"
   },
   {
    "duration": 11,
    "start_time": "2024-08-26T13:52:48.070Z"
   },
   {
    "duration": 15,
    "start_time": "2024-08-26T13:52:48.083Z"
   },
   {
    "duration": 11,
    "start_time": "2024-08-26T13:52:48.100Z"
   },
   {
    "duration": 9,
    "start_time": "2024-08-26T13:52:48.112Z"
   },
   {
    "duration": 13,
    "start_time": "2024-08-26T13:52:48.123Z"
   },
   {
    "duration": 13,
    "start_time": "2024-08-26T13:52:48.138Z"
   },
   {
    "duration": 9,
    "start_time": "2024-08-26T13:52:48.153Z"
   },
   {
    "duration": 5,
    "start_time": "2024-08-26T13:52:48.165Z"
   },
   {
    "duration": 570,
    "start_time": "2024-08-26T13:52:48.208Z"
   },
   {
    "duration": 6,
    "start_time": "2024-08-26T13:52:48.779Z"
   },
   {
    "duration": 100,
    "start_time": "2024-08-26T13:52:48.786Z"
   },
   {
    "duration": 8,
    "start_time": "2024-08-26T13:52:48.888Z"
   },
   {
    "duration": 113,
    "start_time": "2024-08-26T13:52:48.908Z"
   },
   {
    "duration": 231,
    "start_time": "2024-08-26T13:52:49.022Z"
   },
   {
    "duration": 8,
    "start_time": "2024-08-26T13:52:49.255Z"
   },
   {
    "duration": 144,
    "start_time": "2024-08-26T13:52:49.265Z"
   },
   {
    "duration": 289,
    "start_time": "2024-08-26T13:52:49.410Z"
   },
   {
    "duration": 13,
    "start_time": "2024-08-26T13:52:49.700Z"
   },
   {
    "duration": 133,
    "start_time": "2024-08-26T13:52:49.714Z"
   },
   {
    "duration": 210,
    "start_time": "2024-08-26T13:52:49.849Z"
   },
   {
    "duration": 10,
    "start_time": "2024-08-26T13:52:50.060Z"
   },
   {
    "duration": 19,
    "start_time": "2024-08-26T13:53:51.724Z"
   },
   {
    "duration": 84,
    "start_time": "2024-08-26T13:59:39.901Z"
   },
   {
    "duration": 18,
    "start_time": "2024-08-26T13:59:45.421Z"
   },
   {
    "duration": 13,
    "start_time": "2024-08-26T13:59:55.001Z"
   },
   {
    "duration": 178,
    "start_time": "2024-08-26T14:04:45.505Z"
   },
   {
    "duration": 158,
    "start_time": "2024-08-26T14:05:01.055Z"
   },
   {
    "duration": 162,
    "start_time": "2024-08-26T14:05:06.766Z"
   },
   {
    "duration": 96,
    "start_time": "2024-08-26T14:05:46.168Z"
   },
   {
    "duration": 401,
    "start_time": "2024-08-26T14:06:13.175Z"
   },
   {
    "duration": 255,
    "start_time": "2024-08-26T14:07:14.477Z"
   },
   {
    "duration": 321,
    "start_time": "2024-08-26T14:07:33.588Z"
   },
   {
    "duration": 144,
    "start_time": "2024-08-26T14:08:33.785Z"
   },
   {
    "duration": 735,
    "start_time": "2024-08-26T14:10:05.330Z"
   },
   {
    "duration": 175,
    "start_time": "2024-08-26T14:11:34.201Z"
   },
   {
    "duration": 246,
    "start_time": "2024-08-26T14:12:25.748Z"
   },
   {
    "duration": 170,
    "start_time": "2024-08-26T14:14:19.480Z"
   },
   {
    "duration": 160,
    "start_time": "2024-08-26T14:14:29.569Z"
   },
   {
    "duration": 186,
    "start_time": "2024-08-26T14:14:47.452Z"
   },
   {
    "duration": 173,
    "start_time": "2024-08-26T14:14:50.998Z"
   },
   {
    "duration": 107,
    "start_time": "2024-08-26T14:17:35.321Z"
   },
   {
    "duration": 221,
    "start_time": "2024-08-26T14:17:53.760Z"
   },
   {
    "duration": 147,
    "start_time": "2024-08-26T14:19:13.523Z"
   },
   {
    "duration": 122,
    "start_time": "2024-08-26T14:19:44.248Z"
   },
   {
    "duration": 113,
    "start_time": "2024-08-26T14:19:46.675Z"
   },
   {
    "duration": 111,
    "start_time": "2024-08-26T14:20:16.397Z"
   },
   {
    "duration": 266,
    "start_time": "2024-08-26T14:25:05.013Z"
   },
   {
    "duration": 257,
    "start_time": "2024-08-26T14:25:10.034Z"
   },
   {
    "duration": 196,
    "start_time": "2024-08-26T14:25:14.691Z"
   },
   {
    "duration": 178,
    "start_time": "2024-08-26T14:25:24.945Z"
   },
   {
    "duration": 155,
    "start_time": "2024-08-26T14:25:28.586Z"
   },
   {
    "duration": 189,
    "start_time": "2024-08-26T14:25:31.883Z"
   },
   {
    "duration": 154,
    "start_time": "2024-08-26T14:27:46.570Z"
   },
   {
    "duration": 243,
    "start_time": "2024-08-26T14:27:52.542Z"
   },
   {
    "duration": 342,
    "start_time": "2024-08-26T14:28:00.328Z"
   },
   {
    "duration": 98,
    "start_time": "2024-08-26T14:35:34.668Z"
   },
   {
    "duration": 73,
    "start_time": "2024-08-26T14:41:04.368Z"
   },
   {
    "duration": 116,
    "start_time": "2024-08-26T14:41:15.305Z"
   },
   {
    "duration": 110,
    "start_time": "2024-08-26T14:41:17.592Z"
   },
   {
    "duration": 172,
    "start_time": "2024-08-26T14:46:25.682Z"
   },
   {
    "duration": 180,
    "start_time": "2024-08-26T14:46:30.834Z"
   },
   {
    "duration": 144,
    "start_time": "2024-08-26T14:46:41.643Z"
   },
   {
    "duration": 185,
    "start_time": "2024-08-26T14:46:45.022Z"
   },
   {
    "duration": 180,
    "start_time": "2024-08-26T14:46:56.979Z"
   },
   {
    "duration": 183,
    "start_time": "2024-08-26T14:47:00.279Z"
   },
   {
    "duration": 25,
    "start_time": "2024-08-26T15:17:17.476Z"
   },
   {
    "duration": 20,
    "start_time": "2024-08-26T15:17:59.690Z"
   },
   {
    "duration": 20,
    "start_time": "2024-08-26T15:20:04.234Z"
   },
   {
    "duration": 17,
    "start_time": "2024-08-26T15:20:45.881Z"
   },
   {
    "duration": 17,
    "start_time": "2024-08-26T15:21:47.676Z"
   },
   {
    "duration": 115,
    "start_time": "2024-08-26T15:21:58.944Z"
   },
   {
    "duration": 7,
    "start_time": "2024-08-26T15:27:34.319Z"
   },
   {
    "duration": 3,
    "start_time": "2024-08-26T15:27:48.877Z"
   },
   {
    "duration": 6,
    "start_time": "2024-08-26T15:28:03.844Z"
   },
   {
    "duration": 18,
    "start_time": "2024-08-26T15:29:36.075Z"
   },
   {
    "duration": 13,
    "start_time": "2024-08-26T15:31:23.977Z"
   },
   {
    "duration": 21,
    "start_time": "2024-08-26T15:33:27.311Z"
   },
   {
    "duration": 12,
    "start_time": "2024-08-26T15:36:58.028Z"
   },
   {
    "duration": 18,
    "start_time": "2024-08-26T15:40:15.199Z"
   },
   {
    "duration": 20,
    "start_time": "2024-08-26T15:41:23.680Z"
   },
   {
    "duration": 22,
    "start_time": "2024-08-26T15:42:46.673Z"
   },
   {
    "duration": 20,
    "start_time": "2024-08-26T15:44:18.360Z"
   },
   {
    "duration": 11,
    "start_time": "2024-08-26T15:45:25.721Z"
   },
   {
    "duration": 18,
    "start_time": "2024-08-26T15:45:53.991Z"
   },
   {
    "duration": 16,
    "start_time": "2024-08-26T15:46:08.338Z"
   },
   {
    "duration": 31,
    "start_time": "2024-08-26T15:47:41.411Z"
   },
   {
    "duration": 54,
    "start_time": "2024-08-26T15:49:13.814Z"
   },
   {
    "duration": 30,
    "start_time": "2024-08-26T15:50:46.269Z"
   },
   {
    "duration": 8,
    "start_time": "2024-08-26T16:47:10.788Z"
   },
   {
    "duration": 10,
    "start_time": "2024-08-26T16:47:16.642Z"
   },
   {
    "duration": 8,
    "start_time": "2024-08-26T16:47:23.930Z"
   },
   {
    "duration": 8,
    "start_time": "2024-08-26T16:48:31.394Z"
   },
   {
    "duration": 482,
    "start_time": "2024-08-26T17:00:02.085Z"
   },
   {
    "duration": 5,
    "start_time": "2024-08-26T17:00:13.235Z"
   },
   {
    "duration": 6,
    "start_time": "2024-08-26T17:05:42.528Z"
   },
   {
    "duration": 11,
    "start_time": "2024-08-26T17:10:29.211Z"
   },
   {
    "duration": 11,
    "start_time": "2024-08-26T17:11:18.357Z"
   },
   {
    "duration": 12,
    "start_time": "2024-08-26T17:11:28.480Z"
   },
   {
    "duration": 11,
    "start_time": "2024-08-26T17:12:48.987Z"
   },
   {
    "duration": 1068,
    "start_time": "2024-08-26T17:21:18.733Z"
   },
   {
    "duration": 5,
    "start_time": "2024-08-26T17:21:28.841Z"
   },
   {
    "duration": 8,
    "start_time": "2024-08-26T17:21:43.011Z"
   },
   {
    "duration": 1308,
    "start_time": "2024-08-26T17:46:33.839Z"
   },
   {
    "duration": 18,
    "start_time": "2024-08-26T17:50:29.083Z"
   },
   {
    "duration": 1005,
    "start_time": "2024-08-26T17:50:30.240Z"
   },
   {
    "duration": 35,
    "start_time": "2024-08-26T17:53:24.728Z"
   },
   {
    "duration": 54,
    "start_time": "2024-08-26T17:53:32.879Z"
   },
   {
    "duration": 29,
    "start_time": "2024-08-26T17:53:40.136Z"
   },
   {
    "duration": 16,
    "start_time": "2024-08-26T17:57:53.466Z"
   },
   {
    "duration": 24,
    "start_time": "2024-08-26T17:58:04.413Z"
   },
   {
    "duration": 11,
    "start_time": "2024-08-26T17:58:32.736Z"
   },
   {
    "duration": 33,
    "start_time": "2024-08-26T17:58:47.724Z"
   },
   {
    "duration": 71,
    "start_time": "2024-08-26T17:59:23.790Z"
   },
   {
    "duration": 194,
    "start_time": "2024-08-26T18:00:01.077Z"
   },
   {
    "duration": 10,
    "start_time": "2024-08-26T18:00:57.796Z"
   },
   {
    "duration": 9,
    "start_time": "2024-08-26T18:01:13.311Z"
   },
   {
    "duration": 10,
    "start_time": "2024-08-26T18:01:58.527Z"
   },
   {
    "duration": 20,
    "start_time": "2024-08-26T18:02:54.865Z"
   },
   {
    "duration": 160,
    "start_time": "2024-08-26T18:03:02.216Z"
   },
   {
    "duration": 235,
    "start_time": "2024-08-26T18:04:29.468Z"
   },
   {
    "duration": 357,
    "start_time": "2024-08-26T18:05:10.559Z"
   },
   {
    "duration": 43,
    "start_time": "2024-08-26T18:05:10.918Z"
   },
   {
    "duration": 37,
    "start_time": "2024-08-26T18:05:10.963Z"
   },
   {
    "duration": 20,
    "start_time": "2024-08-26T18:05:11.002Z"
   },
   {
    "duration": 10,
    "start_time": "2024-08-26T18:05:11.023Z"
   },
   {
    "duration": 12,
    "start_time": "2024-08-26T18:05:11.034Z"
   },
   {
    "duration": 30,
    "start_time": "2024-08-26T18:05:11.047Z"
   },
   {
    "duration": 14,
    "start_time": "2024-08-26T18:05:11.078Z"
   },
   {
    "duration": 11,
    "start_time": "2024-08-26T18:05:11.093Z"
   },
   {
    "duration": 7,
    "start_time": "2024-08-26T18:05:11.106Z"
   },
   {
    "duration": 18,
    "start_time": "2024-08-26T18:05:11.114Z"
   },
   {
    "duration": 11,
    "start_time": "2024-08-26T18:05:11.133Z"
   },
   {
    "duration": 15,
    "start_time": "2024-08-26T18:05:11.145Z"
   },
   {
    "duration": 4,
    "start_time": "2024-08-26T18:05:11.161Z"
   },
   {
    "duration": 388,
    "start_time": "2024-08-26T18:05:11.166Z"
   },
   {
    "duration": 5,
    "start_time": "2024-08-26T18:05:11.555Z"
   },
   {
    "duration": 90,
    "start_time": "2024-08-26T18:05:11.562Z"
   },
   {
    "duration": 7,
    "start_time": "2024-08-26T18:05:11.654Z"
   },
   {
    "duration": 115,
    "start_time": "2024-08-26T18:05:11.663Z"
   },
   {
    "duration": 185,
    "start_time": "2024-08-26T18:05:11.779Z"
   },
   {
    "duration": 8,
    "start_time": "2024-08-26T18:05:11.966Z"
   },
   {
    "duration": 179,
    "start_time": "2024-08-26T18:05:11.975Z"
   },
   {
    "duration": 275,
    "start_time": "2024-08-26T18:05:12.156Z"
   },
   {
    "duration": 8,
    "start_time": "2024-08-26T18:05:12.432Z"
   },
   {
    "duration": 145,
    "start_time": "2024-08-26T18:05:12.442Z"
   },
   {
    "duration": 195,
    "start_time": "2024-08-26T18:05:12.589Z"
   },
   {
    "duration": 10,
    "start_time": "2024-08-26T18:05:12.785Z"
   },
   {
    "duration": 18,
    "start_time": "2024-08-26T18:05:12.807Z"
   },
   {
    "duration": 19,
    "start_time": "2024-08-26T18:05:12.826Z"
   },
   {
    "duration": 13,
    "start_time": "2024-08-26T18:05:12.847Z"
   },
   {
    "duration": 283,
    "start_time": "2024-08-26T18:05:12.862Z"
   },
   {
    "duration": 242,
    "start_time": "2024-08-26T18:05:13.147Z"
   },
   {
    "duration": 112,
    "start_time": "2024-08-26T18:05:13.390Z"
   },
   {
    "duration": 102,
    "start_time": "2024-08-26T18:05:13.507Z"
   },
   {
    "duration": 240,
    "start_time": "2024-08-26T18:05:13.611Z"
   },
   {
    "duration": 170,
    "start_time": "2024-08-26T18:05:13.852Z"
   },
   {
    "duration": 114,
    "start_time": "2024-08-26T18:05:14.024Z"
   },
   {
    "duration": 103,
    "start_time": "2024-08-26T18:05:14.139Z"
   },
   {
    "duration": 15,
    "start_time": "2024-08-26T18:05:14.243Z"
   },
   {
    "duration": 9,
    "start_time": "2024-08-26T18:05:14.259Z"
   },
   {
    "duration": 33,
    "start_time": "2024-08-26T18:05:14.270Z"
   },
   {
    "duration": 16,
    "start_time": "2024-08-26T18:05:14.304Z"
   },
   {
    "duration": 32,
    "start_time": "2024-08-26T18:05:14.322Z"
   },
   {
    "duration": 427,
    "start_time": "2024-08-26T18:05:14.355Z"
   },
   {
    "duration": 5,
    "start_time": "2024-08-26T18:05:14.784Z"
   },
   {
    "duration": 1181,
    "start_time": "2024-08-26T18:05:14.790Z"
   },
   {
    "duration": 14,
    "start_time": "2024-08-26T18:05:23.064Z"
   },
   {
    "duration": 14,
    "start_time": "2024-08-26T18:06:12.355Z"
   },
   {
    "duration": 937,
    "start_time": "2024-08-26T18:07:56.581Z"
   },
   {
    "duration": 7,
    "start_time": "2024-08-26T18:08:06.887Z"
   },
   {
    "duration": 5,
    "start_time": "2024-08-26T18:08:38.171Z"
   },
   {
    "duration": 11,
    "start_time": "2024-08-26T18:11:00.293Z"
   },
   {
    "duration": 15,
    "start_time": "2024-08-26T18:11:03.421Z"
   },
   {
    "duration": 13,
    "start_time": "2024-08-26T18:11:12.630Z"
   },
   {
    "duration": 7,
    "start_time": "2024-08-26T18:12:31.649Z"
   },
   {
    "duration": 12,
    "start_time": "2024-08-26T18:13:17.305Z"
   },
   {
    "duration": 11,
    "start_time": "2024-08-26T18:13:19.771Z"
   },
   {
    "duration": 5,
    "start_time": "2024-08-26T18:13:21.846Z"
   },
   {
    "duration": 12,
    "start_time": "2024-08-26T18:14:17.443Z"
   },
   {
    "duration": 5,
    "start_time": "2024-08-26T18:14:25.507Z"
   },
   {
    "duration": 10,
    "start_time": "2024-08-26T18:15:17.471Z"
   },
   {
    "duration": 14,
    "start_time": "2024-08-26T18:59:11.905Z"
   },
   {
    "duration": 135,
    "start_time": "2024-08-26T18:59:28.080Z"
   },
   {
    "duration": 381,
    "start_time": "2024-08-27T10:02:04.808Z"
   },
   {
    "duration": 81,
    "start_time": "2024-08-27T10:02:05.191Z"
   },
   {
    "duration": 160,
    "start_time": "2024-08-27T10:02:05.274Z"
   },
   {
    "duration": 70,
    "start_time": "2024-08-27T10:02:05.437Z"
   },
   {
    "duration": 10,
    "start_time": "2024-08-27T10:02:05.508Z"
   },
   {
    "duration": 12,
    "start_time": "2024-08-27T10:02:05.520Z"
   },
   {
    "duration": 22,
    "start_time": "2024-08-27T10:02:05.533Z"
   },
   {
    "duration": 43,
    "start_time": "2024-08-27T10:02:05.557Z"
   },
   {
    "duration": 15,
    "start_time": "2024-08-27T10:02:05.602Z"
   },
   {
    "duration": 27,
    "start_time": "2024-08-27T10:02:05.620Z"
   },
   {
    "duration": 16,
    "start_time": "2024-08-27T10:02:05.649Z"
   },
   {
    "duration": 23,
    "start_time": "2024-08-27T10:02:05.666Z"
   },
   {
    "duration": 9,
    "start_time": "2024-08-27T10:02:05.691Z"
   },
   {
    "duration": 7,
    "start_time": "2024-08-27T10:02:05.701Z"
   },
   {
    "duration": 452,
    "start_time": "2024-08-27T10:02:05.709Z"
   },
   {
    "duration": 7,
    "start_time": "2024-08-27T10:02:06.162Z"
   },
   {
    "duration": 137,
    "start_time": "2024-08-27T10:02:06.171Z"
   },
   {
    "duration": 9,
    "start_time": "2024-08-27T10:02:06.310Z"
   },
   {
    "duration": 151,
    "start_time": "2024-08-27T10:02:06.321Z"
   },
   {
    "duration": 190,
    "start_time": "2024-08-27T10:02:06.474Z"
   },
   {
    "duration": 12,
    "start_time": "2024-08-27T10:02:06.666Z"
   },
   {
    "duration": 194,
    "start_time": "2024-08-27T10:02:06.680Z"
   },
   {
    "duration": 302,
    "start_time": "2024-08-27T10:02:06.875Z"
   },
   {
    "duration": 8,
    "start_time": "2024-08-27T10:02:07.180Z"
   },
   {
    "duration": 144,
    "start_time": "2024-08-27T10:02:07.190Z"
   },
   {
    "duration": 199,
    "start_time": "2024-08-27T10:02:07.336Z"
   },
   {
    "duration": 9,
    "start_time": "2024-08-27T10:02:07.536Z"
   },
   {
    "duration": 18,
    "start_time": "2024-08-27T10:02:07.561Z"
   },
   {
    "duration": 18,
    "start_time": "2024-08-27T10:02:07.581Z"
   },
   {
    "duration": 17,
    "start_time": "2024-08-27T10:02:07.601Z"
   },
   {
    "duration": 298,
    "start_time": "2024-08-27T10:02:07.619Z"
   },
   {
    "duration": 298,
    "start_time": "2024-08-27T10:02:07.920Z"
   },
   {
    "duration": 171,
    "start_time": "2024-08-27T10:02:08.220Z"
   },
   {
    "duration": 114,
    "start_time": "2024-08-27T10:02:08.392Z"
   },
   {
    "duration": 261,
    "start_time": "2024-08-27T10:02:08.507Z"
   },
   {
    "duration": 199,
    "start_time": "2024-08-27T10:02:08.771Z"
   },
   {
    "duration": 143,
    "start_time": "2024-08-27T10:02:08.972Z"
   },
   {
    "duration": 125,
    "start_time": "2024-08-27T10:02:09.117Z"
   },
   {
    "duration": 27,
    "start_time": "2024-08-27T10:02:09.245Z"
   },
   {
    "duration": 13,
    "start_time": "2024-08-27T10:02:09.274Z"
   },
   {
    "duration": 7,
    "start_time": "2024-08-27T10:02:09.289Z"
   },
   {
    "duration": 21,
    "start_time": "2024-08-27T10:02:09.299Z"
   },
   {
    "duration": 67,
    "start_time": "2024-08-27T10:02:09.322Z"
   },
   {
    "duration": 403,
    "start_time": "2024-08-27T10:02:09.391Z"
   },
   {
    "duration": 6,
    "start_time": "2024-08-27T10:02:09.796Z"
   },
   {
    "duration": 18,
    "start_time": "2024-08-27T10:02:09.805Z"
   },
   {
    "duration": 15,
    "start_time": "2024-08-27T10:06:48.528Z"
   },
   {
    "duration": 1421,
    "start_time": "2024-08-27T11:44:16.104Z"
   },
   {
    "duration": 86,
    "start_time": "2024-08-27T11:44:17.527Z"
   },
   {
    "duration": 168,
    "start_time": "2024-08-27T11:44:17.614Z"
   },
   {
    "duration": 77,
    "start_time": "2024-08-27T11:44:17.784Z"
   },
   {
    "duration": 15,
    "start_time": "2024-08-27T11:44:17.863Z"
   },
   {
    "duration": 21,
    "start_time": "2024-08-27T11:44:17.880Z"
   },
   {
    "duration": 26,
    "start_time": "2024-08-27T11:44:17.903Z"
   },
   {
    "duration": 35,
    "start_time": "2024-08-27T11:44:17.931Z"
   },
   {
    "duration": 15,
    "start_time": "2024-08-27T11:44:17.968Z"
   },
   {
    "duration": 10,
    "start_time": "2024-08-27T11:44:17.985Z"
   },
   {
    "duration": 25,
    "start_time": "2024-08-27T11:44:17.996Z"
   },
   {
    "duration": 13,
    "start_time": "2024-08-27T11:44:18.023Z"
   },
   {
    "duration": 31,
    "start_time": "2024-08-27T11:44:18.038Z"
   },
   {
    "duration": 7,
    "start_time": "2024-08-27T11:44:18.072Z"
   },
   {
    "duration": 194,
    "start_time": "2024-08-27T11:44:18.081Z"
   },
   {
    "duration": 5,
    "start_time": "2024-08-27T11:44:18.277Z"
   },
   {
    "duration": 98,
    "start_time": "2024-08-27T11:44:18.284Z"
   },
   {
    "duration": 9,
    "start_time": "2024-08-27T11:44:18.383Z"
   },
   {
    "duration": 119,
    "start_time": "2024-08-27T11:44:18.393Z"
   },
   {
    "duration": 193,
    "start_time": "2024-08-27T11:44:18.513Z"
   },
   {
    "duration": 9,
    "start_time": "2024-08-27T11:44:18.707Z"
   },
   {
    "duration": 137,
    "start_time": "2024-08-27T11:44:18.717Z"
   },
   {
    "duration": 314,
    "start_time": "2024-08-27T11:44:18.855Z"
   },
   {
    "duration": 9,
    "start_time": "2024-08-27T11:44:19.171Z"
   },
   {
    "duration": 140,
    "start_time": "2024-08-27T11:44:19.182Z"
   },
   {
    "duration": 274,
    "start_time": "2024-08-27T11:44:19.323Z"
   },
   {
    "duration": 9,
    "start_time": "2024-08-27T11:44:19.599Z"
   },
   {
    "duration": 20,
    "start_time": "2024-08-27T11:44:19.611Z"
   },
   {
    "duration": 32,
    "start_time": "2024-08-27T11:44:19.632Z"
   },
   {
    "duration": 15,
    "start_time": "2024-08-27T11:44:19.665Z"
   },
   {
    "duration": 462,
    "start_time": "2024-08-27T11:44:19.682Z"
   },
   {
    "duration": 257,
    "start_time": "2024-08-27T11:44:20.145Z"
   },
   {
    "duration": 119,
    "start_time": "2024-08-27T11:44:20.404Z"
   },
   {
    "duration": 106,
    "start_time": "2024-08-27T11:44:20.525Z"
   },
   {
    "duration": 181,
    "start_time": "2024-08-27T11:44:20.633Z"
   },
   {
    "duration": 185,
    "start_time": "2024-08-27T11:44:20.816Z"
   },
   {
    "duration": 118,
    "start_time": "2024-08-27T11:44:21.003Z"
   },
   {
    "duration": 120,
    "start_time": "2024-08-27T11:44:21.124Z"
   },
   {
    "duration": 25,
    "start_time": "2024-08-27T11:44:21.246Z"
   },
   {
    "duration": 13,
    "start_time": "2024-08-27T11:44:21.272Z"
   },
   {
    "duration": 10,
    "start_time": "2024-08-27T11:44:21.286Z"
   },
   {
    "duration": 19,
    "start_time": "2024-08-27T11:44:21.298Z"
   },
   {
    "duration": 46,
    "start_time": "2024-08-27T11:44:21.318Z"
   },
   {
    "duration": 11,
    "start_time": "2024-08-27T11:44:21.365Z"
   },
   {
    "duration": 11,
    "start_time": "2024-08-27T11:44:21.378Z"
   },
   {
    "duration": 53,
    "start_time": "2024-08-27T11:44:21.390Z"
   },
   {
    "duration": 111,
    "start_time": "2024-08-27T11:45:15.673Z"
   },
   {
    "duration": 5,
    "start_time": "2024-08-27T11:49:47.849Z"
   },
   {
    "duration": 4,
    "start_time": "2024-08-27T11:51:32.648Z"
   },
   {
    "duration": 19,
    "start_time": "2024-08-27T11:54:05.965Z"
   },
   {
    "duration": 117,
    "start_time": "2024-08-27T11:54:54.425Z"
   },
   {
    "duration": 6626,
    "start_time": "2024-08-27T11:55:37.953Z"
   },
   {
    "duration": 378,
    "start_time": "2024-08-27T11:56:03.969Z"
   },
   {
    "duration": 244,
    "start_time": "2024-08-27T11:57:10.357Z"
   },
   {
    "duration": 112,
    "start_time": "2024-08-27T11:57:27.546Z"
   },
   {
    "duration": 122,
    "start_time": "2024-08-27T11:57:47.986Z"
   },
   {
    "duration": 188,
    "start_time": "2024-08-27T11:58:05.132Z"
   },
   {
    "duration": 190,
    "start_time": "2024-08-27T11:58:18.104Z"
   },
   {
    "duration": 116,
    "start_time": "2024-08-27T11:58:35.699Z"
   },
   {
    "duration": 118,
    "start_time": "2024-08-27T11:58:47.871Z"
   },
   {
    "duration": 1305,
    "start_time": "2024-08-27T12:06:17.098Z"
   },
   {
    "duration": 1290,
    "start_time": "2024-08-27T12:07:38.861Z"
   },
   {
    "duration": 1397,
    "start_time": "2024-08-27T12:07:47.695Z"
   },
   {
    "duration": 1253,
    "start_time": "2024-08-27T12:08:17.458Z"
   },
   {
    "duration": 1442,
    "start_time": "2024-08-27T12:09:51.247Z"
   },
   {
    "duration": 1315,
    "start_time": "2024-08-27T12:13:34.484Z"
   },
   {
    "duration": 33,
    "start_time": "2024-08-27T12:16:48.706Z"
   },
   {
    "duration": 10,
    "start_time": "2024-08-27T12:18:45.808Z"
   },
   {
    "duration": 71,
    "start_time": "2024-08-27T12:34:33.577Z"
   },
   {
    "duration": 12,
    "start_time": "2024-08-27T12:37:19.748Z"
   },
   {
    "duration": 87,
    "start_time": "2024-08-27T12:39:49.395Z"
   },
   {
    "duration": 5,
    "start_time": "2024-08-27T12:41:58.173Z"
   },
   {
    "duration": 5,
    "start_time": "2024-08-27T12:48:26.395Z"
   },
   {
    "duration": 9,
    "start_time": "2024-08-27T12:50:42.363Z"
   },
   {
    "duration": 81,
    "start_time": "2024-08-27T12:55:24.039Z"
   },
   {
    "duration": 1128,
    "start_time": "2024-08-27T13:04:55.393Z"
   },
   {
    "duration": 40,
    "start_time": "2024-08-27T13:04:56.523Z"
   },
   {
    "duration": 42,
    "start_time": "2024-08-27T13:04:56.565Z"
   },
   {
    "duration": 20,
    "start_time": "2024-08-27T13:04:56.610Z"
   },
   {
    "duration": 22,
    "start_time": "2024-08-27T13:04:56.631Z"
   },
   {
    "duration": 21,
    "start_time": "2024-08-27T13:04:56.655Z"
   },
   {
    "duration": 19,
    "start_time": "2024-08-27T13:04:56.678Z"
   },
   {
    "duration": 27,
    "start_time": "2024-08-27T13:04:56.699Z"
   },
   {
    "duration": 14,
    "start_time": "2024-08-27T13:04:56.728Z"
   },
   {
    "duration": 18,
    "start_time": "2024-08-27T13:04:56.744Z"
   },
   {
    "duration": 11,
    "start_time": "2024-08-27T13:04:56.764Z"
   },
   {
    "duration": 12,
    "start_time": "2024-08-27T13:04:56.776Z"
   },
   {
    "duration": 7,
    "start_time": "2024-08-27T13:04:56.789Z"
   },
   {
    "duration": 7,
    "start_time": "2024-08-27T13:04:56.798Z"
   },
   {
    "duration": 194,
    "start_time": "2024-08-27T13:04:56.806Z"
   },
   {
    "duration": 5,
    "start_time": "2024-08-27T13:04:57.002Z"
   },
   {
    "duration": 95,
    "start_time": "2024-08-27T13:04:57.008Z"
   },
   {
    "duration": 8,
    "start_time": "2024-08-27T13:04:57.105Z"
   },
   {
    "duration": 115,
    "start_time": "2024-08-27T13:04:57.114Z"
   },
   {
    "duration": 184,
    "start_time": "2024-08-27T13:04:57.230Z"
   },
   {
    "duration": 9,
    "start_time": "2024-08-27T13:04:57.415Z"
   },
   {
    "duration": 138,
    "start_time": "2024-08-27T13:04:57.425Z"
   },
   {
    "duration": 291,
    "start_time": "2024-08-27T13:04:57.565Z"
   },
   {
    "duration": 10,
    "start_time": "2024-08-27T13:04:57.861Z"
   },
   {
    "duration": 169,
    "start_time": "2024-08-27T13:04:57.873Z"
   },
   {
    "duration": 207,
    "start_time": "2024-08-27T13:04:58.044Z"
   },
   {
    "duration": 10,
    "start_time": "2024-08-27T13:04:58.253Z"
   },
   {
    "duration": 10,
    "start_time": "2024-08-27T13:04:58.268Z"
   },
   {
    "duration": 19,
    "start_time": "2024-08-27T13:04:58.279Z"
   },
   {
    "duration": 4,
    "start_time": "2024-08-27T13:04:58.300Z"
   },
   {
    "duration": 20,
    "start_time": "2024-08-27T13:04:58.305Z"
   },
   {
    "duration": 17,
    "start_time": "2024-08-27T13:04:58.361Z"
   },
   {
    "duration": 105,
    "start_time": "2024-08-27T13:04:58.379Z"
   },
   {
    "duration": 262,
    "start_time": "2024-08-27T13:04:58.485Z"
   },
   {
    "duration": 254,
    "start_time": "2024-08-27T13:04:58.748Z"
   },
   {
    "duration": 128,
    "start_time": "2024-08-27T13:04:59.004Z"
   },
   {
    "duration": 121,
    "start_time": "2024-08-27T13:04:59.133Z"
   },
   {
    "duration": 207,
    "start_time": "2024-08-27T13:04:59.256Z"
   },
   {
    "duration": 189,
    "start_time": "2024-08-27T13:04:59.464Z"
   },
   {
    "duration": 160,
    "start_time": "2024-08-27T13:04:59.660Z"
   },
   {
    "duration": 129,
    "start_time": "2024-08-27T13:04:59.822Z"
   },
   {
    "duration": 1390,
    "start_time": "2024-08-27T13:04:59.953Z"
   },
   {
    "duration": 26,
    "start_time": "2024-08-27T13:05:01.345Z"
   },
   {
    "duration": 27,
    "start_time": "2024-08-27T13:05:01.373Z"
   },
   {
    "duration": 51,
    "start_time": "2024-08-27T13:05:01.402Z"
   },
   {
    "duration": 44,
    "start_time": "2024-08-27T13:05:01.455Z"
   },
   {
    "duration": 42,
    "start_time": "2024-08-27T13:05:01.501Z"
   },
   {
    "duration": 17,
    "start_time": "2024-08-27T13:05:01.545Z"
   },
   {
    "duration": 11,
    "start_time": "2024-08-27T13:05:01.564Z"
   },
   {
    "duration": 19,
    "start_time": "2024-08-27T13:05:01.576Z"
   },
   {
    "duration": 38,
    "start_time": "2024-08-27T13:05:01.596Z"
   },
   {
    "duration": 1179,
    "start_time": "2024-08-27T14:57:01.964Z"
   },
   {
    "duration": 92,
    "start_time": "2024-08-27T14:57:03.146Z"
   },
   {
    "duration": 163,
    "start_time": "2024-08-27T14:57:03.242Z"
   },
   {
    "duration": 73,
    "start_time": "2024-08-27T14:57:03.407Z"
   },
   {
    "duration": 12,
    "start_time": "2024-08-27T14:57:03.482Z"
   },
   {
    "duration": 22,
    "start_time": "2024-08-27T14:57:03.496Z"
   },
   {
    "duration": 17,
    "start_time": "2024-08-27T14:57:03.520Z"
   },
   {
    "duration": 35,
    "start_time": "2024-08-27T14:57:03.539Z"
   },
   {
    "duration": 13,
    "start_time": "2024-08-27T14:57:03.578Z"
   },
   {
    "duration": 12,
    "start_time": "2024-08-27T14:57:03.593Z"
   },
   {
    "duration": 15,
    "start_time": "2024-08-27T14:57:03.607Z"
   },
   {
    "duration": 51,
    "start_time": "2024-08-27T14:57:03.624Z"
   },
   {
    "duration": 11,
    "start_time": "2024-08-27T14:57:03.677Z"
   },
   {
    "duration": 90,
    "start_time": "2024-08-27T14:57:03.690Z"
   },
   {
    "duration": 203,
    "start_time": "2024-08-27T14:57:03.782Z"
   },
   {
    "duration": 6,
    "start_time": "2024-08-27T14:57:03.987Z"
   },
   {
    "duration": 124,
    "start_time": "2024-08-27T14:57:03.994Z"
   },
   {
    "duration": 8,
    "start_time": "2024-08-27T14:57:04.120Z"
   },
   {
    "duration": 132,
    "start_time": "2024-08-27T14:57:04.130Z"
   },
   {
    "duration": 210,
    "start_time": "2024-08-27T14:57:04.267Z"
   },
   {
    "duration": 11,
    "start_time": "2024-08-27T14:57:04.479Z"
   },
   {
    "duration": 148,
    "start_time": "2024-08-27T14:57:04.491Z"
   },
   {
    "duration": 317,
    "start_time": "2024-08-27T14:57:04.640Z"
   },
   {
    "duration": 17,
    "start_time": "2024-08-27T14:57:04.959Z"
   },
   {
    "duration": 154,
    "start_time": "2024-08-27T14:57:04.981Z"
   },
   {
    "duration": 258,
    "start_time": "2024-08-27T14:57:05.137Z"
   },
   {
    "duration": 4,
    "start_time": "2024-08-27T14:57:05.398Z"
   },
   {
    "duration": 36,
    "start_time": "2024-08-27T14:57:05.404Z"
   },
   {
    "duration": 38,
    "start_time": "2024-08-27T14:57:05.441Z"
   },
   {
    "duration": 5,
    "start_time": "2024-08-27T14:57:05.483Z"
   },
   {
    "duration": 119,
    "start_time": "2024-08-27T14:57:05.491Z"
   },
   {
    "duration": 16,
    "start_time": "2024-08-27T14:57:05.612Z"
   },
   {
    "duration": 16,
    "start_time": "2024-08-27T14:57:05.630Z"
   },
   {
    "duration": 339,
    "start_time": "2024-08-27T14:57:05.648Z"
   },
   {
    "duration": 296,
    "start_time": "2024-08-27T14:57:05.989Z"
   },
   {
    "duration": 142,
    "start_time": "2024-08-27T14:57:06.287Z"
   },
   {
    "duration": 136,
    "start_time": "2024-08-27T14:57:06.431Z"
   },
   {
    "duration": 230,
    "start_time": "2024-08-27T14:57:06.572Z"
   },
   {
    "duration": 224,
    "start_time": "2024-08-27T14:57:06.806Z"
   },
   {
    "duration": 159,
    "start_time": "2024-08-27T14:57:07.032Z"
   },
   {
    "duration": 165,
    "start_time": "2024-08-27T14:57:07.193Z"
   },
   {
    "duration": 1685,
    "start_time": "2024-08-27T14:57:07.365Z"
   },
   {
    "duration": 37,
    "start_time": "2024-08-27T14:57:09.052Z"
   },
   {
    "duration": 18,
    "start_time": "2024-08-27T14:57:09.091Z"
   },
   {
    "duration": 19,
    "start_time": "2024-08-27T14:57:09.112Z"
   },
   {
    "duration": 36,
    "start_time": "2024-08-27T14:57:09.132Z"
   },
   {
    "duration": 45,
    "start_time": "2024-08-27T14:57:09.172Z"
   },
   {
    "duration": 15,
    "start_time": "2024-08-27T14:57:09.219Z"
   },
   {
    "duration": 37,
    "start_time": "2024-08-27T14:57:09.236Z"
   },
   {
    "duration": 17,
    "start_time": "2024-08-27T14:57:09.277Z"
   },
   {
    "duration": 11,
    "start_time": "2024-08-27T14:57:09.296Z"
   },
   {
    "duration": 941,
    "start_time": "2024-08-27T15:02:26.146Z"
   },
   {
    "duration": 16,
    "start_time": "2024-08-27T15:02:35.380Z"
   },
   {
    "duration": 1316,
    "start_time": "2024-08-27T15:03:15.021Z"
   },
   {
    "duration": 53,
    "start_time": "2024-08-27T15:03:16.340Z"
   },
   {
    "duration": 35,
    "start_time": "2024-08-27T15:03:16.396Z"
   },
   {
    "duration": 20,
    "start_time": "2024-08-27T15:03:16.433Z"
   },
   {
    "duration": 22,
    "start_time": "2024-08-27T15:03:16.455Z"
   },
   {
    "duration": 17,
    "start_time": "2024-08-27T15:03:16.484Z"
   },
   {
    "duration": 12,
    "start_time": "2024-08-27T15:03:16.504Z"
   },
   {
    "duration": 35,
    "start_time": "2024-08-27T15:03:16.518Z"
   },
   {
    "duration": 36,
    "start_time": "2024-08-27T15:03:16.554Z"
   },
   {
    "duration": 11,
    "start_time": "2024-08-27T15:03:16.592Z"
   },
   {
    "duration": 12,
    "start_time": "2024-08-27T15:03:16.605Z"
   },
   {
    "duration": 15,
    "start_time": "2024-08-27T15:03:16.619Z"
   },
   {
    "duration": 8,
    "start_time": "2024-08-27T15:03:16.636Z"
   },
   {
    "duration": 19,
    "start_time": "2024-08-27T15:03:16.666Z"
   },
   {
    "duration": 208,
    "start_time": "2024-08-27T15:03:16.687Z"
   },
   {
    "duration": 6,
    "start_time": "2024-08-27T15:03:16.896Z"
   },
   {
    "duration": 110,
    "start_time": "2024-08-27T15:03:16.904Z"
   },
   {
    "duration": 9,
    "start_time": "2024-08-27T15:03:17.016Z"
   },
   {
    "duration": 147,
    "start_time": "2024-08-27T15:03:17.027Z"
   },
   {
    "duration": 216,
    "start_time": "2024-08-27T15:03:17.176Z"
   },
   {
    "duration": 11,
    "start_time": "2024-08-27T15:03:17.394Z"
   },
   {
    "duration": 175,
    "start_time": "2024-08-27T15:03:17.407Z"
   },
   {
    "duration": 341,
    "start_time": "2024-08-27T15:03:17.586Z"
   },
   {
    "duration": 9,
    "start_time": "2024-08-27T15:03:17.929Z"
   },
   {
    "duration": 185,
    "start_time": "2024-08-27T15:03:17.940Z"
   },
   {
    "duration": 276,
    "start_time": "2024-08-27T15:03:18.128Z"
   },
   {
    "duration": 5,
    "start_time": "2024-08-27T15:03:18.406Z"
   },
   {
    "duration": 31,
    "start_time": "2024-08-27T15:03:18.413Z"
   },
   {
    "duration": 40,
    "start_time": "2024-08-27T15:03:18.446Z"
   },
   {
    "duration": 4,
    "start_time": "2024-08-27T15:03:18.488Z"
   },
   {
    "duration": 27,
    "start_time": "2024-08-27T15:03:18.494Z"
   },
   {
    "duration": 49,
    "start_time": "2024-08-27T15:03:18.522Z"
   },
   {
    "duration": 18,
    "start_time": "2024-08-27T15:03:18.576Z"
   },
   {
    "duration": 439,
    "start_time": "2024-08-27T15:03:18.596Z"
   },
   {
    "duration": 311,
    "start_time": "2024-08-27T15:03:19.037Z"
   },
   {
    "duration": 182,
    "start_time": "2024-08-27T15:03:19.350Z"
   },
   {
    "duration": 154,
    "start_time": "2024-08-27T15:03:19.534Z"
   },
   {
    "duration": 327,
    "start_time": "2024-08-27T15:03:19.691Z"
   },
   {
    "duration": 248,
    "start_time": "2024-08-27T15:03:20.021Z"
   },
   {
    "duration": 169,
    "start_time": "2024-08-27T15:03:20.273Z"
   },
   {
    "duration": 153,
    "start_time": "2024-08-27T15:03:20.447Z"
   },
   {
    "duration": 1691,
    "start_time": "2024-08-27T15:03:20.601Z"
   },
   {
    "duration": 23,
    "start_time": "2024-08-27T15:03:22.294Z"
   },
   {
    "duration": 37,
    "start_time": "2024-08-27T15:03:22.319Z"
   },
   {
    "duration": 17,
    "start_time": "2024-08-27T15:03:22.358Z"
   },
   {
    "duration": 45,
    "start_time": "2024-08-27T15:03:22.377Z"
   },
   {
    "duration": 49,
    "start_time": "2024-08-27T15:03:22.424Z"
   },
   {
    "duration": 14,
    "start_time": "2024-08-27T15:03:22.475Z"
   },
   {
    "duration": 17,
    "start_time": "2024-08-27T15:03:22.491Z"
   },
   {
    "duration": 30,
    "start_time": "2024-08-27T15:03:22.510Z"
   },
   {
    "duration": 13,
    "start_time": "2024-08-27T15:03:22.542Z"
   },
   {
    "duration": 26,
    "start_time": "2024-08-27T15:03:22.556Z"
   },
   {
    "duration": 51,
    "start_time": "2024-08-27T15:43:40.629Z"
   },
   {
    "duration": 1298,
    "start_time": "2024-08-27T15:43:50.453Z"
   },
   {
    "duration": 84,
    "start_time": "2024-08-27T15:43:51.754Z"
   },
   {
    "duration": 148,
    "start_time": "2024-08-27T15:43:51.840Z"
   },
   {
    "duration": 69,
    "start_time": "2024-08-27T15:43:51.990Z"
   },
   {
    "duration": 11,
    "start_time": "2024-08-27T15:43:52.061Z"
   },
   {
    "duration": 17,
    "start_time": "2024-08-27T15:43:52.074Z"
   },
   {
    "duration": 11,
    "start_time": "2024-08-27T15:43:52.093Z"
   },
   {
    "duration": 20,
    "start_time": "2024-08-27T15:43:52.105Z"
   },
   {
    "duration": 35,
    "start_time": "2024-08-27T15:43:52.127Z"
   },
   {
    "duration": 10,
    "start_time": "2024-08-27T15:43:52.164Z"
   },
   {
    "duration": 27,
    "start_time": "2024-08-27T15:43:52.175Z"
   },
   {
    "duration": 27,
    "start_time": "2024-08-27T15:43:52.203Z"
   },
   {
    "duration": 19,
    "start_time": "2024-08-27T15:43:52.232Z"
   },
   {
    "duration": 6,
    "start_time": "2024-08-27T15:43:52.252Z"
   },
   {
    "duration": 187,
    "start_time": "2024-08-27T15:43:52.259Z"
   },
   {
    "duration": 15,
    "start_time": "2024-08-27T15:43:52.447Z"
   },
   {
    "duration": 98,
    "start_time": "2024-08-27T15:43:52.463Z"
   },
   {
    "duration": 8,
    "start_time": "2024-08-27T15:43:52.562Z"
   },
   {
    "duration": 122,
    "start_time": "2024-08-27T15:43:52.572Z"
   },
   {
    "duration": 202,
    "start_time": "2024-08-27T15:43:52.696Z"
   },
   {
    "duration": 10,
    "start_time": "2024-08-27T15:43:52.900Z"
   },
   {
    "duration": 151,
    "start_time": "2024-08-27T15:43:52.912Z"
   },
   {
    "duration": 288,
    "start_time": "2024-08-27T15:43:53.065Z"
   },
   {
    "duration": 11,
    "start_time": "2024-08-27T15:43:53.355Z"
   },
   {
    "duration": 156,
    "start_time": "2024-08-27T15:43:53.367Z"
   },
   {
    "duration": 199,
    "start_time": "2024-08-27T15:43:53.525Z"
   },
   {
    "duration": 4,
    "start_time": "2024-08-27T15:43:53.725Z"
   },
   {
    "duration": 9,
    "start_time": "2024-08-27T15:43:53.731Z"
   },
   {
    "duration": 32,
    "start_time": "2024-08-27T15:43:53.741Z"
   },
   {
    "duration": 3,
    "start_time": "2024-08-27T15:43:53.775Z"
   },
   {
    "duration": 18,
    "start_time": "2024-08-27T15:43:53.779Z"
   },
   {
    "duration": 14,
    "start_time": "2024-08-27T15:43:53.799Z"
   },
   {
    "duration": 112,
    "start_time": "2024-08-27T15:43:53.814Z"
   },
   {
    "duration": 269,
    "start_time": "2024-08-27T15:43:53.927Z"
   },
   {
    "duration": 255,
    "start_time": "2024-08-27T15:43:54.198Z"
   },
   {
    "duration": 127,
    "start_time": "2024-08-27T15:43:54.454Z"
   },
   {
    "duration": 108,
    "start_time": "2024-08-27T15:43:54.582Z"
   },
   {
    "duration": 194,
    "start_time": "2024-08-27T15:43:54.692Z"
   },
   {
    "duration": 196,
    "start_time": "2024-08-27T15:43:54.888Z"
   },
   {
    "duration": 123,
    "start_time": "2024-08-27T15:43:55.086Z"
   },
   {
    "duration": 145,
    "start_time": "2024-08-27T15:43:55.211Z"
   },
   {
    "duration": 1377,
    "start_time": "2024-08-27T15:43:55.361Z"
   },
   {
    "duration": 24,
    "start_time": "2024-08-27T15:43:56.739Z"
   },
   {
    "duration": 11,
    "start_time": "2024-08-27T15:43:56.764Z"
   },
   {
    "duration": 6,
    "start_time": "2024-08-27T15:43:56.777Z"
   },
   {
    "duration": 14,
    "start_time": "2024-08-27T15:43:56.784Z"
   },
   {
    "duration": 30,
    "start_time": "2024-08-27T15:43:56.799Z"
   },
   {
    "duration": 37,
    "start_time": "2024-08-27T15:43:56.830Z"
   },
   {
    "duration": 5,
    "start_time": "2024-08-27T15:43:56.868Z"
   },
   {
    "duration": 11,
    "start_time": "2024-08-27T15:43:56.875Z"
   },
   {
    "duration": 8,
    "start_time": "2024-08-27T15:43:56.887Z"
   },
   {
    "duration": 10,
    "start_time": "2024-08-27T15:43:56.897Z"
   },
   {
    "duration": 14,
    "start_time": "2024-08-27T15:46:59.731Z"
   },
   {
    "duration": 11,
    "start_time": "2024-08-27T15:50:09.365Z"
   },
   {
    "duration": 1154,
    "start_time": "2024-08-27T15:50:46.575Z"
   },
   {
    "duration": 45,
    "start_time": "2024-08-27T15:50:47.731Z"
   },
   {
    "duration": 44,
    "start_time": "2024-08-27T15:50:47.778Z"
   },
   {
    "duration": 20,
    "start_time": "2024-08-27T15:50:47.824Z"
   },
   {
    "duration": 17,
    "start_time": "2024-08-27T15:50:47.846Z"
   },
   {
    "duration": 15,
    "start_time": "2024-08-27T15:50:47.865Z"
   },
   {
    "duration": 21,
    "start_time": "2024-08-27T15:50:47.882Z"
   },
   {
    "duration": 25,
    "start_time": "2024-08-27T15:50:47.906Z"
   },
   {
    "duration": 31,
    "start_time": "2024-08-27T15:50:47.933Z"
   },
   {
    "duration": 17,
    "start_time": "2024-08-27T15:50:47.967Z"
   },
   {
    "duration": 18,
    "start_time": "2024-08-27T15:50:47.986Z"
   },
   {
    "duration": 14,
    "start_time": "2024-08-27T15:50:48.006Z"
   },
   {
    "duration": 9,
    "start_time": "2024-08-27T15:50:48.022Z"
   },
   {
    "duration": 5,
    "start_time": "2024-08-27T15:50:48.061Z"
   },
   {
    "duration": 195,
    "start_time": "2024-08-27T15:50:48.068Z"
   },
   {
    "duration": 6,
    "start_time": "2024-08-27T15:50:48.265Z"
   },
   {
    "duration": 127,
    "start_time": "2024-08-27T15:50:48.273Z"
   },
   {
    "duration": 11,
    "start_time": "2024-08-27T15:50:48.403Z"
   },
   {
    "duration": 125,
    "start_time": "2024-08-27T15:50:48.416Z"
   },
   {
    "duration": 200,
    "start_time": "2024-08-27T15:50:48.543Z"
   },
   {
    "duration": 16,
    "start_time": "2024-08-27T15:50:48.744Z"
   },
   {
    "duration": 137,
    "start_time": "2024-08-27T15:50:48.762Z"
   },
   {
    "duration": 272,
    "start_time": "2024-08-27T15:50:48.900Z"
   },
   {
    "duration": 8,
    "start_time": "2024-08-27T15:50:49.174Z"
   },
   {
    "duration": 146,
    "start_time": "2024-08-27T15:50:49.183Z"
   },
   {
    "duration": 199,
    "start_time": "2024-08-27T15:50:49.331Z"
   },
   {
    "duration": 4,
    "start_time": "2024-08-27T15:50:49.531Z"
   },
   {
    "duration": 22,
    "start_time": "2024-08-27T15:50:49.538Z"
   },
   {
    "duration": 17,
    "start_time": "2024-08-27T15:50:49.562Z"
   },
   {
    "duration": 3,
    "start_time": "2024-08-27T15:50:49.581Z"
   },
   {
    "duration": 32,
    "start_time": "2024-08-27T15:50:49.585Z"
   },
   {
    "duration": 26,
    "start_time": "2024-08-27T15:50:49.619Z"
   },
   {
    "duration": 114,
    "start_time": "2024-08-27T15:50:49.647Z"
   },
   {
    "duration": 338,
    "start_time": "2024-08-27T15:50:49.763Z"
   },
   {
    "duration": 286,
    "start_time": "2024-08-27T15:50:50.103Z"
   },
   {
    "duration": 136,
    "start_time": "2024-08-27T15:50:50.391Z"
   },
   {
    "duration": 120,
    "start_time": "2024-08-27T15:50:50.528Z"
   },
   {
    "duration": 207,
    "start_time": "2024-08-27T15:50:50.650Z"
   },
   {
    "duration": 202,
    "start_time": "2024-08-27T15:50:50.861Z"
   },
   {
    "duration": 128,
    "start_time": "2024-08-27T15:50:51.064Z"
   },
   {
    "duration": 129,
    "start_time": "2024-08-27T15:50:51.194Z"
   },
   {
    "duration": 1400,
    "start_time": "2024-08-27T15:50:51.325Z"
   },
   {
    "duration": 16,
    "start_time": "2024-08-27T15:50:52.727Z"
   },
   {
    "duration": 22,
    "start_time": "2024-08-27T15:50:52.744Z"
   },
   {
    "duration": 12,
    "start_time": "2024-08-27T15:50:52.768Z"
   },
   {
    "duration": 14,
    "start_time": "2024-08-27T15:50:52.782Z"
   },
   {
    "duration": 32,
    "start_time": "2024-08-27T15:50:52.798Z"
   },
   {
    "duration": 36,
    "start_time": "2024-08-27T15:50:52.832Z"
   },
   {
    "duration": 13,
    "start_time": "2024-08-27T15:50:52.869Z"
   },
   {
    "duration": 30,
    "start_time": "2024-08-27T15:50:52.883Z"
   },
   {
    "duration": 9,
    "start_time": "2024-08-27T15:50:52.915Z"
   },
   {
    "duration": 10,
    "start_time": "2024-08-27T15:50:52.925Z"
   },
   {
    "duration": 9,
    "start_time": "2024-08-27T15:51:06.089Z"
   },
   {
    "duration": 1081,
    "start_time": "2024-08-27T15:51:52.828Z"
   },
   {
    "duration": 43,
    "start_time": "2024-08-27T15:51:53.912Z"
   },
   {
    "duration": 40,
    "start_time": "2024-08-27T15:51:53.957Z"
   },
   {
    "duration": 18,
    "start_time": "2024-08-27T15:51:53.999Z"
   },
   {
    "duration": 11,
    "start_time": "2024-08-27T15:51:54.018Z"
   },
   {
    "duration": 10,
    "start_time": "2024-08-27T15:51:54.030Z"
   },
   {
    "duration": 9,
    "start_time": "2024-08-27T15:51:54.042Z"
   },
   {
    "duration": 28,
    "start_time": "2024-08-27T15:51:54.053Z"
   },
   {
    "duration": 13,
    "start_time": "2024-08-27T15:51:54.082Z"
   },
   {
    "duration": 9,
    "start_time": "2024-08-27T15:51:54.099Z"
   },
   {
    "duration": 11,
    "start_time": "2024-08-27T15:51:54.109Z"
   },
   {
    "duration": 40,
    "start_time": "2024-08-27T15:51:54.122Z"
   },
   {
    "duration": 10,
    "start_time": "2024-08-27T15:51:54.164Z"
   },
   {
    "duration": 6,
    "start_time": "2024-08-27T15:51:54.176Z"
   },
   {
    "duration": 189,
    "start_time": "2024-08-27T15:51:54.184Z"
   },
   {
    "duration": 5,
    "start_time": "2024-08-27T15:51:54.375Z"
   },
   {
    "duration": 90,
    "start_time": "2024-08-27T15:51:54.382Z"
   },
   {
    "duration": 7,
    "start_time": "2024-08-27T15:51:54.473Z"
   },
   {
    "duration": 107,
    "start_time": "2024-08-27T15:51:54.482Z"
   },
   {
    "duration": 172,
    "start_time": "2024-08-27T15:51:54.590Z"
   },
   {
    "duration": 8,
    "start_time": "2024-08-27T15:51:54.763Z"
   },
   {
    "duration": 130,
    "start_time": "2024-08-27T15:51:54.772Z"
   },
   {
    "duration": 262,
    "start_time": "2024-08-27T15:51:54.903Z"
   },
   {
    "duration": 8,
    "start_time": "2024-08-27T15:51:55.167Z"
   },
   {
    "duration": 133,
    "start_time": "2024-08-27T15:51:55.176Z"
   },
   {
    "duration": 197,
    "start_time": "2024-08-27T15:51:55.311Z"
   },
   {
    "duration": 4,
    "start_time": "2024-08-27T15:51:55.510Z"
   },
   {
    "duration": 9,
    "start_time": "2024-08-27T15:51:55.517Z"
   },
   {
    "duration": 42,
    "start_time": "2024-08-27T15:51:55.527Z"
   },
   {
    "duration": 3,
    "start_time": "2024-08-27T15:51:55.570Z"
   },
   {
    "duration": 20,
    "start_time": "2024-08-27T15:51:55.575Z"
   },
   {
    "duration": 103,
    "start_time": "2024-08-27T15:51:55.597Z"
   },
   {
    "duration": 13,
    "start_time": "2024-08-27T15:51:55.701Z"
   },
   {
    "duration": 296,
    "start_time": "2024-08-27T15:51:55.715Z"
   },
   {
    "duration": 268,
    "start_time": "2024-08-27T15:51:56.013Z"
   },
   {
    "duration": 123,
    "start_time": "2024-08-27T15:51:56.282Z"
   },
   {
    "duration": 120,
    "start_time": "2024-08-27T15:51:56.406Z"
   },
   {
    "duration": 191,
    "start_time": "2024-08-27T15:51:56.527Z"
   },
   {
    "duration": 185,
    "start_time": "2024-08-27T15:51:56.719Z"
   },
   {
    "duration": 138,
    "start_time": "2024-08-27T15:51:56.906Z"
   },
   {
    "duration": 125,
    "start_time": "2024-08-27T15:51:57.046Z"
   },
   {
    "duration": 1358,
    "start_time": "2024-08-27T15:51:57.173Z"
   },
   {
    "duration": 15,
    "start_time": "2024-08-27T15:51:58.532Z"
   },
   {
    "duration": 18,
    "start_time": "2024-08-27T15:51:58.549Z"
   },
   {
    "duration": 7,
    "start_time": "2024-08-27T15:51:58.568Z"
   },
   {
    "duration": 14,
    "start_time": "2024-08-27T15:51:58.576Z"
   },
   {
    "duration": 30,
    "start_time": "2024-08-27T15:51:58.591Z"
   },
   {
    "duration": 9,
    "start_time": "2024-08-27T15:51:58.623Z"
   },
   {
    "duration": 30,
    "start_time": "2024-08-27T15:51:58.633Z"
   },
   {
    "duration": 33,
    "start_time": "2024-08-27T15:51:58.665Z"
   },
   {
    "duration": 7,
    "start_time": "2024-08-27T15:51:58.700Z"
   },
   {
    "duration": 10,
    "start_time": "2024-08-27T15:51:58.708Z"
   },
   {
    "duration": 8,
    "start_time": "2024-08-27T15:51:58.719Z"
   },
   {
    "duration": 9,
    "start_time": "2024-08-27T15:52:25.836Z"
   },
   {
    "duration": 108,
    "start_time": "2024-08-27T15:55:30.764Z"
   },
   {
    "duration": 14,
    "start_time": "2024-08-27T15:55:52.805Z"
   },
   {
    "duration": 11,
    "start_time": "2024-08-27T15:56:33.465Z"
   },
   {
    "duration": 11,
    "start_time": "2024-08-27T15:56:40.476Z"
   },
   {
    "duration": 1111,
    "start_time": "2024-08-27T15:56:47.362Z"
   },
   {
    "duration": 37,
    "start_time": "2024-08-27T15:56:48.475Z"
   },
   {
    "duration": 45,
    "start_time": "2024-08-27T15:56:48.515Z"
   },
   {
    "duration": 23,
    "start_time": "2024-08-27T15:56:48.563Z"
   },
   {
    "duration": 16,
    "start_time": "2024-08-27T15:56:48.587Z"
   },
   {
    "duration": 16,
    "start_time": "2024-08-27T15:56:48.605Z"
   },
   {
    "duration": 14,
    "start_time": "2024-08-27T15:56:48.623Z"
   },
   {
    "duration": 34,
    "start_time": "2024-08-27T15:56:48.638Z"
   },
   {
    "duration": 23,
    "start_time": "2024-08-27T15:56:48.673Z"
   },
   {
    "duration": 8,
    "start_time": "2024-08-27T15:56:48.699Z"
   },
   {
    "duration": 43,
    "start_time": "2024-08-27T15:56:48.709Z"
   },
   {
    "duration": 17,
    "start_time": "2024-08-27T15:56:48.754Z"
   },
   {
    "duration": 9,
    "start_time": "2024-08-27T15:56:48.773Z"
   },
   {
    "duration": 14,
    "start_time": "2024-08-27T15:56:48.783Z"
   },
   {
    "duration": 200,
    "start_time": "2024-08-27T15:56:48.798Z"
   },
   {
    "duration": 6,
    "start_time": "2024-08-27T15:56:48.999Z"
   },
   {
    "duration": 109,
    "start_time": "2024-08-27T15:56:49.007Z"
   },
   {
    "duration": 8,
    "start_time": "2024-08-27T15:56:49.117Z"
   },
   {
    "duration": 113,
    "start_time": "2024-08-27T15:56:49.126Z"
   },
   {
    "duration": 189,
    "start_time": "2024-08-27T15:56:49.241Z"
   },
   {
    "duration": 9,
    "start_time": "2024-08-27T15:56:49.431Z"
   },
   {
    "duration": 138,
    "start_time": "2024-08-27T15:56:49.441Z"
   },
   {
    "duration": 302,
    "start_time": "2024-08-27T15:56:49.581Z"
   },
   {
    "duration": 9,
    "start_time": "2024-08-27T15:56:49.885Z"
   },
   {
    "duration": 176,
    "start_time": "2024-08-27T15:56:49.895Z"
   },
   {
    "duration": 207,
    "start_time": "2024-08-27T15:56:50.073Z"
   },
   {
    "duration": 4,
    "start_time": "2024-08-27T15:56:50.281Z"
   },
   {
    "duration": 10,
    "start_time": "2024-08-27T15:56:50.288Z"
   },
   {
    "duration": 23,
    "start_time": "2024-08-27T15:56:50.300Z"
   },
   {
    "duration": 45,
    "start_time": "2024-08-27T15:56:50.325Z"
   },
   {
    "duration": 118,
    "start_time": "2024-08-27T15:56:50.372Z"
   },
   {
    "duration": 14,
    "start_time": "2024-08-27T15:56:50.492Z"
   },
   {
    "duration": 29,
    "start_time": "2024-08-27T15:56:50.507Z"
   },
   {
    "duration": 300,
    "start_time": "2024-08-27T15:56:50.537Z"
   },
   {
    "duration": 260,
    "start_time": "2024-08-27T15:56:50.838Z"
   },
   {
    "duration": 128,
    "start_time": "2024-08-27T15:56:51.100Z"
   },
   {
    "duration": 117,
    "start_time": "2024-08-27T15:56:51.230Z"
   },
   {
    "duration": 216,
    "start_time": "2024-08-27T15:56:51.349Z"
   },
   {
    "duration": 196,
    "start_time": "2024-08-27T15:56:51.567Z"
   },
   {
    "duration": 141,
    "start_time": "2024-08-27T15:56:51.764Z"
   },
   {
    "duration": 145,
    "start_time": "2024-08-27T15:56:51.907Z"
   },
   {
    "duration": 1391,
    "start_time": "2024-08-27T15:56:52.061Z"
   },
   {
    "duration": 17,
    "start_time": "2024-08-27T15:56:53.460Z"
   },
   {
    "duration": 18,
    "start_time": "2024-08-27T15:56:53.479Z"
   },
   {
    "duration": 16,
    "start_time": "2024-08-27T15:56:53.499Z"
   },
   {
    "duration": 20,
    "start_time": "2024-08-27T15:56:53.517Z"
   },
   {
    "duration": 57,
    "start_time": "2024-08-27T15:56:53.538Z"
   },
   {
    "duration": 11,
    "start_time": "2024-08-27T15:56:53.597Z"
   },
   {
    "duration": 5,
    "start_time": "2024-08-27T15:56:53.610Z"
   },
   {
    "duration": 14,
    "start_time": "2024-08-27T15:56:53.617Z"
   },
   {
    "duration": 35,
    "start_time": "2024-08-27T15:56:53.633Z"
   },
   {
    "duration": 21,
    "start_time": "2024-08-27T15:56:53.670Z"
   },
   {
    "duration": 23,
    "start_time": "2024-08-27T15:56:53.693Z"
   },
   {
    "duration": 12,
    "start_time": "2024-08-27T15:57:59.624Z"
   },
   {
    "duration": 1155,
    "start_time": "2024-08-27T15:58:14.372Z"
   },
   {
    "duration": 39,
    "start_time": "2024-08-27T15:58:15.528Z"
   },
   {
    "duration": 34,
    "start_time": "2024-08-27T15:58:15.569Z"
   },
   {
    "duration": 19,
    "start_time": "2024-08-27T15:58:15.605Z"
   },
   {
    "duration": 15,
    "start_time": "2024-08-27T15:58:15.626Z"
   },
   {
    "duration": 10,
    "start_time": "2024-08-27T15:58:15.642Z"
   },
   {
    "duration": 10,
    "start_time": "2024-08-27T15:58:15.660Z"
   },
   {
    "duration": 15,
    "start_time": "2024-08-27T15:58:15.671Z"
   },
   {
    "duration": 14,
    "start_time": "2024-08-27T15:58:15.688Z"
   },
   {
    "duration": 10,
    "start_time": "2024-08-27T15:58:15.705Z"
   },
   {
    "duration": 44,
    "start_time": "2024-08-27T15:58:15.717Z"
   },
   {
    "duration": 20,
    "start_time": "2024-08-27T15:58:15.763Z"
   },
   {
    "duration": 10,
    "start_time": "2024-08-27T15:58:15.785Z"
   },
   {
    "duration": 14,
    "start_time": "2024-08-27T15:58:15.797Z"
   },
   {
    "duration": 213,
    "start_time": "2024-08-27T15:58:15.813Z"
   },
   {
    "duration": 7,
    "start_time": "2024-08-27T15:58:16.028Z"
   },
   {
    "duration": 105,
    "start_time": "2024-08-27T15:58:16.037Z"
   },
   {
    "duration": 16,
    "start_time": "2024-08-27T15:58:16.144Z"
   },
   {
    "duration": 115,
    "start_time": "2024-08-27T15:58:16.162Z"
   },
   {
    "duration": 192,
    "start_time": "2024-08-27T15:58:16.278Z"
   },
   {
    "duration": 9,
    "start_time": "2024-08-27T15:58:16.472Z"
   },
   {
    "duration": 137,
    "start_time": "2024-08-27T15:58:16.482Z"
   },
   {
    "duration": 282,
    "start_time": "2024-08-27T15:58:16.620Z"
   },
   {
    "duration": 9,
    "start_time": "2024-08-27T15:58:16.903Z"
   },
   {
    "duration": 146,
    "start_time": "2024-08-27T15:58:16.913Z"
   },
   {
    "duration": 202,
    "start_time": "2024-08-27T15:58:17.061Z"
   },
   {
    "duration": 5,
    "start_time": "2024-08-27T15:58:17.265Z"
   },
   {
    "duration": 10,
    "start_time": "2024-08-27T15:58:17.274Z"
   },
   {
    "duration": 25,
    "start_time": "2024-08-27T15:58:17.285Z"
   },
   {
    "duration": 3,
    "start_time": "2024-08-27T15:58:17.313Z"
   },
   {
    "duration": 58,
    "start_time": "2024-08-27T15:58:17.318Z"
   },
   {
    "duration": 94,
    "start_time": "2024-08-27T15:58:17.378Z"
   },
   {
    "duration": 20,
    "start_time": "2024-08-27T15:58:17.474Z"
   },
   {
    "duration": 327,
    "start_time": "2024-08-27T15:58:17.496Z"
   },
   {
    "duration": 286,
    "start_time": "2024-08-27T15:58:17.825Z"
   },
   {
    "duration": 125,
    "start_time": "2024-08-27T15:58:18.113Z"
   },
   {
    "duration": 122,
    "start_time": "2024-08-27T15:58:18.240Z"
   },
   {
    "duration": 199,
    "start_time": "2024-08-27T15:58:18.364Z"
   },
   {
    "duration": 189,
    "start_time": "2024-08-27T15:58:18.564Z"
   },
   {
    "duration": 136,
    "start_time": "2024-08-27T15:58:18.754Z"
   },
   {
    "duration": 135,
    "start_time": "2024-08-27T15:58:18.892Z"
   },
   {
    "duration": 1487,
    "start_time": "2024-08-27T15:58:19.030Z"
   },
   {
    "duration": 17,
    "start_time": "2024-08-27T15:58:20.519Z"
   },
   {
    "duration": 42,
    "start_time": "2024-08-27T15:58:20.538Z"
   },
   {
    "duration": 40,
    "start_time": "2024-08-27T15:58:20.582Z"
   },
   {
    "duration": 60,
    "start_time": "2024-08-27T15:58:20.624Z"
   },
   {
    "duration": 97,
    "start_time": "2024-08-27T15:58:20.686Z"
   },
   {
    "duration": 11,
    "start_time": "2024-08-27T15:58:20.784Z"
   },
   {
    "duration": 10,
    "start_time": "2024-08-27T15:58:20.797Z"
   },
   {
    "duration": 45,
    "start_time": "2024-08-27T15:58:20.808Z"
   },
   {
    "duration": 9,
    "start_time": "2024-08-27T15:58:20.855Z"
   },
   {
    "duration": 11,
    "start_time": "2024-08-27T15:58:20.865Z"
   },
   {
    "duration": 13,
    "start_time": "2024-08-27T15:58:20.878Z"
   },
   {
    "duration": 1137,
    "start_time": "2024-08-27T16:00:23.793Z"
   },
   {
    "duration": 39,
    "start_time": "2024-08-27T16:00:24.932Z"
   },
   {
    "duration": 34,
    "start_time": "2024-08-27T16:00:24.973Z"
   },
   {
    "duration": 19,
    "start_time": "2024-08-27T16:00:25.009Z"
   },
   {
    "duration": 12,
    "start_time": "2024-08-27T16:00:25.030Z"
   },
   {
    "duration": 55,
    "start_time": "2024-08-27T16:00:25.044Z"
   },
   {
    "duration": 10,
    "start_time": "2024-08-27T16:00:25.101Z"
   },
   {
    "duration": 30,
    "start_time": "2024-08-27T16:00:25.113Z"
   },
   {
    "duration": 30,
    "start_time": "2024-08-27T16:00:25.144Z"
   },
   {
    "duration": 9,
    "start_time": "2024-08-27T16:00:25.176Z"
   },
   {
    "duration": 11,
    "start_time": "2024-08-27T16:00:25.186Z"
   },
   {
    "duration": 13,
    "start_time": "2024-08-27T16:00:25.199Z"
   },
   {
    "duration": 9,
    "start_time": "2024-08-27T16:00:25.214Z"
   },
   {
    "duration": 38,
    "start_time": "2024-08-27T16:00:25.224Z"
   },
   {
    "duration": 180,
    "start_time": "2024-08-27T16:00:25.263Z"
   },
   {
    "duration": 5,
    "start_time": "2024-08-27T16:00:25.445Z"
   },
   {
    "duration": 94,
    "start_time": "2024-08-27T16:00:25.451Z"
   },
   {
    "duration": 14,
    "start_time": "2024-08-27T16:00:25.547Z"
   },
   {
    "duration": 114,
    "start_time": "2024-08-27T16:00:25.562Z"
   },
   {
    "duration": 174,
    "start_time": "2024-08-27T16:00:25.678Z"
   },
   {
    "duration": 14,
    "start_time": "2024-08-27T16:00:25.853Z"
   },
   {
    "duration": 138,
    "start_time": "2024-08-27T16:00:25.869Z"
   },
   {
    "duration": 275,
    "start_time": "2024-08-27T16:00:26.008Z"
   },
   {
    "duration": 7,
    "start_time": "2024-08-27T16:00:26.285Z"
   },
   {
    "duration": 140,
    "start_time": "2024-08-27T16:00:26.294Z"
   },
   {
    "duration": 219,
    "start_time": "2024-08-27T16:00:26.436Z"
   },
   {
    "duration": 3,
    "start_time": "2024-08-27T16:00:26.657Z"
   },
   {
    "duration": 30,
    "start_time": "2024-08-27T16:00:26.666Z"
   },
   {
    "duration": 24,
    "start_time": "2024-08-27T16:00:26.697Z"
   },
   {
    "duration": 7,
    "start_time": "2024-08-27T16:00:26.722Z"
   },
   {
    "duration": 36,
    "start_time": "2024-08-27T16:00:26.730Z"
   },
   {
    "duration": 23,
    "start_time": "2024-08-27T16:00:26.767Z"
   },
   {
    "duration": 103,
    "start_time": "2024-08-27T16:00:26.792Z"
   },
   {
    "duration": 323,
    "start_time": "2024-08-27T16:00:26.897Z"
   },
   {
    "duration": 271,
    "start_time": "2024-08-27T16:00:27.222Z"
   },
   {
    "duration": 131,
    "start_time": "2024-08-27T16:00:27.494Z"
   },
   {
    "duration": 118,
    "start_time": "2024-08-27T16:00:27.627Z"
   },
   {
    "duration": 212,
    "start_time": "2024-08-27T16:00:27.747Z"
   },
   {
    "duration": 202,
    "start_time": "2024-08-27T16:00:27.962Z"
   },
   {
    "duration": 141,
    "start_time": "2024-08-27T16:00:28.166Z"
   },
   {
    "duration": 127,
    "start_time": "2024-08-27T16:00:28.309Z"
   },
   {
    "duration": 1384,
    "start_time": "2024-08-27T16:00:28.438Z"
   },
   {
    "duration": 18,
    "start_time": "2024-08-27T16:00:29.824Z"
   },
   {
    "duration": 19,
    "start_time": "2024-08-27T16:00:29.843Z"
   },
   {
    "duration": 9,
    "start_time": "2024-08-27T16:00:29.863Z"
   },
   {
    "duration": 14,
    "start_time": "2024-08-27T16:00:29.874Z"
   },
   {
    "duration": 41,
    "start_time": "2024-08-27T16:00:29.890Z"
   },
   {
    "duration": 35,
    "start_time": "2024-08-27T16:00:29.932Z"
   },
   {
    "duration": 10,
    "start_time": "2024-08-27T16:00:29.968Z"
   },
   {
    "duration": 53,
    "start_time": "2024-08-27T16:00:29.979Z"
   },
   {
    "duration": 53,
    "start_time": "2024-08-27T16:00:30.034Z"
   },
   {
    "duration": 49,
    "start_time": "2024-08-27T16:00:30.088Z"
   },
   {
    "duration": 1070,
    "start_time": "2024-08-27T16:01:08.793Z"
   },
   {
    "duration": 46,
    "start_time": "2024-08-27T16:01:09.866Z"
   },
   {
    "duration": 34,
    "start_time": "2024-08-27T16:01:09.914Z"
   },
   {
    "duration": 19,
    "start_time": "2024-08-27T16:01:09.950Z"
   },
   {
    "duration": 11,
    "start_time": "2024-08-27T16:01:09.971Z"
   },
   {
    "duration": 15,
    "start_time": "2024-08-27T16:01:09.984Z"
   },
   {
    "duration": 16,
    "start_time": "2024-08-27T16:01:10.001Z"
   },
   {
    "duration": 18,
    "start_time": "2024-08-27T16:01:10.019Z"
   },
   {
    "duration": 31,
    "start_time": "2024-08-27T16:01:10.039Z"
   },
   {
    "duration": 9,
    "start_time": "2024-08-27T16:01:10.073Z"
   },
   {
    "duration": 26,
    "start_time": "2024-08-27T16:01:10.083Z"
   },
   {
    "duration": 12,
    "start_time": "2024-08-27T16:01:10.110Z"
   },
   {
    "duration": 8,
    "start_time": "2024-08-27T16:01:10.123Z"
   },
   {
    "duration": 5,
    "start_time": "2024-08-27T16:01:10.132Z"
   },
   {
    "duration": 189,
    "start_time": "2024-08-27T16:01:10.138Z"
   },
   {
    "duration": 6,
    "start_time": "2024-08-27T16:01:10.328Z"
   },
   {
    "duration": 95,
    "start_time": "2024-08-27T16:01:10.336Z"
   },
   {
    "duration": 7,
    "start_time": "2024-08-27T16:01:10.433Z"
   },
   {
    "duration": 109,
    "start_time": "2024-08-27T16:01:10.441Z"
   },
   {
    "duration": 183,
    "start_time": "2024-08-27T16:01:10.552Z"
   },
   {
    "duration": 8,
    "start_time": "2024-08-27T16:01:10.737Z"
   },
   {
    "duration": 136,
    "start_time": "2024-08-27T16:01:10.746Z"
   },
   {
    "duration": 279,
    "start_time": "2024-08-27T16:01:10.884Z"
   },
   {
    "duration": 9,
    "start_time": "2024-08-27T16:01:11.164Z"
   },
   {
    "duration": 145,
    "start_time": "2024-08-27T16:01:11.174Z"
   },
   {
    "duration": 216,
    "start_time": "2024-08-27T16:01:11.321Z"
   },
   {
    "duration": 4,
    "start_time": "2024-08-27T16:01:11.539Z"
   },
   {
    "duration": 21,
    "start_time": "2024-08-27T16:01:11.547Z"
   },
   {
    "duration": 18,
    "start_time": "2024-08-27T16:01:11.569Z"
   },
   {
    "duration": 3,
    "start_time": "2024-08-27T16:01:11.589Z"
   },
   {
    "duration": 32,
    "start_time": "2024-08-27T16:01:11.594Z"
   },
   {
    "duration": 33,
    "start_time": "2024-08-27T16:01:11.628Z"
   },
   {
    "duration": 109,
    "start_time": "2024-08-27T16:01:11.662Z"
   },
   {
    "duration": 290,
    "start_time": "2024-08-27T16:01:11.772Z"
   },
   {
    "duration": 255,
    "start_time": "2024-08-27T16:01:12.064Z"
   },
   {
    "duration": 126,
    "start_time": "2024-08-27T16:01:12.320Z"
   },
   {
    "duration": 121,
    "start_time": "2024-08-27T16:01:12.447Z"
   },
   {
    "duration": 192,
    "start_time": "2024-08-27T16:01:12.570Z"
   },
   {
    "duration": 190,
    "start_time": "2024-08-27T16:01:12.764Z"
   },
   {
    "duration": 135,
    "start_time": "2024-08-27T16:01:12.956Z"
   },
   {
    "duration": 125,
    "start_time": "2024-08-27T16:01:13.093Z"
   },
   {
    "duration": 1385,
    "start_time": "2024-08-27T16:01:13.219Z"
   },
   {
    "duration": 17,
    "start_time": "2024-08-27T16:01:14.605Z"
   },
   {
    "duration": 13,
    "start_time": "2024-08-27T16:01:14.624Z"
   },
   {
    "duration": 29,
    "start_time": "2024-08-27T16:01:14.638Z"
   },
   {
    "duration": 14,
    "start_time": "2024-08-27T16:01:14.669Z"
   },
   {
    "duration": 62,
    "start_time": "2024-08-27T16:01:14.685Z"
   },
   {
    "duration": 21,
    "start_time": "2024-08-27T16:01:14.749Z"
   },
   {
    "duration": 8,
    "start_time": "2024-08-27T16:01:14.772Z"
   },
   {
    "duration": 24,
    "start_time": "2024-08-27T16:01:14.781Z"
   },
   {
    "duration": 11,
    "start_time": "2024-08-27T16:01:14.807Z"
   },
   {
    "duration": 10,
    "start_time": "2024-08-27T16:01:14.820Z"
   },
   {
    "duration": 12,
    "start_time": "2024-08-27T16:03:15.887Z"
   },
   {
    "duration": 81,
    "start_time": "2024-08-27T16:03:44.944Z"
   },
   {
    "duration": 1088,
    "start_time": "2024-08-27T16:04:02.808Z"
   },
   {
    "duration": 45,
    "start_time": "2024-08-27T16:04:03.898Z"
   },
   {
    "duration": 38,
    "start_time": "2024-08-27T16:04:03.945Z"
   },
   {
    "duration": 19,
    "start_time": "2024-08-27T16:04:03.985Z"
   },
   {
    "duration": 12,
    "start_time": "2024-08-27T16:04:04.006Z"
   },
   {
    "duration": 15,
    "start_time": "2024-08-27T16:04:04.019Z"
   },
   {
    "duration": 31,
    "start_time": "2024-08-27T16:04:04.035Z"
   },
   {
    "duration": 16,
    "start_time": "2024-08-27T16:04:04.068Z"
   },
   {
    "duration": 12,
    "start_time": "2024-08-27T16:04:04.086Z"
   },
   {
    "duration": 11,
    "start_time": "2024-08-27T16:04:04.101Z"
   },
   {
    "duration": 13,
    "start_time": "2024-08-27T16:04:04.113Z"
   },
   {
    "duration": 41,
    "start_time": "2024-08-27T16:04:04.128Z"
   },
   {
    "duration": 9,
    "start_time": "2024-08-27T16:04:04.170Z"
   },
   {
    "duration": 5,
    "start_time": "2024-08-27T16:04:04.181Z"
   },
   {
    "duration": 191,
    "start_time": "2024-08-27T16:04:04.188Z"
   },
   {
    "duration": 6,
    "start_time": "2024-08-27T16:04:04.381Z"
   },
   {
    "duration": 94,
    "start_time": "2024-08-27T16:04:04.389Z"
   },
   {
    "duration": 7,
    "start_time": "2024-08-27T16:04:04.485Z"
   },
   {
    "duration": 115,
    "start_time": "2024-08-27T16:04:04.493Z"
   },
   {
    "duration": 183,
    "start_time": "2024-08-27T16:04:04.609Z"
   },
   {
    "duration": 8,
    "start_time": "2024-08-27T16:04:04.794Z"
   },
   {
    "duration": 139,
    "start_time": "2024-08-27T16:04:04.803Z"
   },
   {
    "duration": 284,
    "start_time": "2024-08-27T16:04:04.943Z"
   },
   {
    "duration": 8,
    "start_time": "2024-08-27T16:04:05.229Z"
   },
   {
    "duration": 152,
    "start_time": "2024-08-27T16:04:05.239Z"
   },
   {
    "duration": 217,
    "start_time": "2024-08-27T16:04:05.392Z"
   },
   {
    "duration": 4,
    "start_time": "2024-08-27T16:04:05.611Z"
   },
   {
    "duration": 42,
    "start_time": "2024-08-27T16:04:05.618Z"
   },
   {
    "duration": 32,
    "start_time": "2024-08-27T16:04:05.661Z"
   },
   {
    "duration": 10,
    "start_time": "2024-08-27T16:04:05.695Z"
   },
   {
    "duration": 130,
    "start_time": "2024-08-27T16:04:05.707Z"
   },
   {
    "duration": 22,
    "start_time": "2024-08-27T16:04:05.838Z"
   },
   {
    "duration": 20,
    "start_time": "2024-08-27T16:04:05.871Z"
   },
   {
    "duration": 293,
    "start_time": "2024-08-27T16:04:05.893Z"
   },
   {
    "duration": 276,
    "start_time": "2024-08-27T16:04:06.187Z"
   },
   {
    "duration": 129,
    "start_time": "2024-08-27T16:04:06.465Z"
   },
   {
    "duration": 114,
    "start_time": "2024-08-27T16:04:06.595Z"
   },
   {
    "duration": 207,
    "start_time": "2024-08-27T16:04:06.711Z"
   },
   {
    "duration": 204,
    "start_time": "2024-08-27T16:04:06.921Z"
   },
   {
    "duration": 135,
    "start_time": "2024-08-27T16:04:07.127Z"
   },
   {
    "duration": 145,
    "start_time": "2024-08-27T16:04:07.263Z"
   },
   {
    "duration": 1430,
    "start_time": "2024-08-27T16:04:07.410Z"
   },
   {
    "duration": 24,
    "start_time": "2024-08-27T16:04:08.841Z"
   },
   {
    "duration": 11,
    "start_time": "2024-08-27T16:04:08.867Z"
   },
   {
    "duration": 19,
    "start_time": "2024-08-27T16:04:08.880Z"
   },
   {
    "duration": 14,
    "start_time": "2024-08-27T16:04:08.901Z"
   },
   {
    "duration": 56,
    "start_time": "2024-08-27T16:04:08.917Z"
   },
   {
    "duration": 12,
    "start_time": "2024-08-27T16:04:08.975Z"
   },
   {
    "duration": 6,
    "start_time": "2024-08-27T16:04:08.988Z"
   },
   {
    "duration": 24,
    "start_time": "2024-08-27T16:04:08.995Z"
   },
   {
    "duration": 8,
    "start_time": "2024-08-27T16:04:09.021Z"
   },
   {
    "duration": 37,
    "start_time": "2024-08-27T16:04:09.031Z"
   },
   {
    "duration": 11,
    "start_time": "2024-08-27T16:04:09.070Z"
   },
   {
    "duration": 11,
    "start_time": "2024-08-27T16:06:14.595Z"
   },
   {
    "duration": 1198,
    "start_time": "2024-08-27T16:06:19.057Z"
   },
   {
    "duration": 38,
    "start_time": "2024-08-27T16:06:20.257Z"
   },
   {
    "duration": 35,
    "start_time": "2024-08-27T16:06:20.296Z"
   },
   {
    "duration": 19,
    "start_time": "2024-08-27T16:06:20.333Z"
   },
   {
    "duration": 12,
    "start_time": "2024-08-27T16:06:20.354Z"
   },
   {
    "duration": 15,
    "start_time": "2024-08-27T16:06:20.368Z"
   },
   {
    "duration": 29,
    "start_time": "2024-08-27T16:06:20.385Z"
   },
   {
    "duration": 36,
    "start_time": "2024-08-27T16:06:20.415Z"
   },
   {
    "duration": 32,
    "start_time": "2024-08-27T16:06:20.452Z"
   },
   {
    "duration": 32,
    "start_time": "2024-08-27T16:06:20.487Z"
   },
   {
    "duration": 11,
    "start_time": "2024-08-27T16:06:20.521Z"
   },
   {
    "duration": 30,
    "start_time": "2024-08-27T16:06:20.534Z"
   },
   {
    "duration": 25,
    "start_time": "2024-08-27T16:06:20.565Z"
   },
   {
    "duration": 28,
    "start_time": "2024-08-27T16:06:20.591Z"
   },
   {
    "duration": 184,
    "start_time": "2024-08-27T16:06:20.620Z"
   },
   {
    "duration": 6,
    "start_time": "2024-08-27T16:06:20.805Z"
   },
   {
    "duration": 112,
    "start_time": "2024-08-27T16:06:20.812Z"
   },
   {
    "duration": 8,
    "start_time": "2024-08-27T16:06:20.926Z"
   },
   {
    "duration": 117,
    "start_time": "2024-08-27T16:06:20.935Z"
   },
   {
    "duration": 181,
    "start_time": "2024-08-27T16:06:21.054Z"
   },
   {
    "duration": 8,
    "start_time": "2024-08-27T16:06:21.237Z"
   },
   {
    "duration": 162,
    "start_time": "2024-08-27T16:06:21.246Z"
   },
   {
    "duration": 279,
    "start_time": "2024-08-27T16:06:21.410Z"
   },
   {
    "duration": 9,
    "start_time": "2024-08-27T16:06:21.691Z"
   },
   {
    "duration": 156,
    "start_time": "2024-08-27T16:06:21.701Z"
   },
   {
    "duration": 219,
    "start_time": "2024-08-27T16:06:21.861Z"
   },
   {
    "duration": 4,
    "start_time": "2024-08-27T16:06:22.082Z"
   },
   {
    "duration": 29,
    "start_time": "2024-08-27T16:06:22.089Z"
   },
   {
    "duration": 19,
    "start_time": "2024-08-27T16:06:22.120Z"
   },
   {
    "duration": 3,
    "start_time": "2024-08-27T16:06:22.140Z"
   },
   {
    "duration": 114,
    "start_time": "2024-08-27T16:06:22.145Z"
   },
   {
    "duration": 14,
    "start_time": "2024-08-27T16:06:22.261Z"
   },
   {
    "duration": 17,
    "start_time": "2024-08-27T16:06:22.276Z"
   },
   {
    "duration": 282,
    "start_time": "2024-08-27T16:06:22.295Z"
   },
   {
    "duration": 265,
    "start_time": "2024-08-27T16:06:22.579Z"
   },
   {
    "duration": 145,
    "start_time": "2024-08-27T16:06:22.846Z"
   },
   {
    "duration": 122,
    "start_time": "2024-08-27T16:06:22.992Z"
   },
   {
    "duration": 210,
    "start_time": "2024-08-27T16:06:23.116Z"
   },
   {
    "duration": 207,
    "start_time": "2024-08-27T16:06:23.328Z"
   },
   {
    "duration": 147,
    "start_time": "2024-08-27T16:06:23.537Z"
   },
   {
    "duration": 130,
    "start_time": "2024-08-27T16:06:23.686Z"
   },
   {
    "duration": 1416,
    "start_time": "2024-08-27T16:06:23.817Z"
   },
   {
    "duration": 28,
    "start_time": "2024-08-27T16:06:25.235Z"
   },
   {
    "duration": 12,
    "start_time": "2024-08-27T16:06:25.265Z"
   },
   {
    "duration": 6,
    "start_time": "2024-08-27T16:06:25.278Z"
   },
   {
    "duration": 71,
    "start_time": "2024-08-27T16:06:25.285Z"
   },
   {
    "duration": 37,
    "start_time": "2024-08-27T16:06:25.358Z"
   },
   {
    "duration": 53,
    "start_time": "2024-08-27T16:06:25.397Z"
   },
   {
    "duration": 7,
    "start_time": "2024-08-27T16:06:25.453Z"
   },
   {
    "duration": 22,
    "start_time": "2024-08-27T16:06:25.461Z"
   },
   {
    "duration": 12,
    "start_time": "2024-08-27T16:06:25.485Z"
   },
   {
    "duration": 32,
    "start_time": "2024-08-27T16:06:25.499Z"
   },
   {
    "duration": 15,
    "start_time": "2024-08-27T16:06:25.532Z"
   },
   {
    "duration": 159,
    "start_time": "2024-08-27T16:10:53.851Z"
   },
   {
    "duration": 16,
    "start_time": "2024-08-27T16:11:18.388Z"
   },
   {
    "duration": 1170,
    "start_time": "2024-08-27T16:11:27.048Z"
   },
   {
    "duration": 37,
    "start_time": "2024-08-27T16:11:28.220Z"
   },
   {
    "duration": 33,
    "start_time": "2024-08-27T16:11:28.258Z"
   },
   {
    "duration": 19,
    "start_time": "2024-08-27T16:11:28.293Z"
   },
   {
    "duration": 11,
    "start_time": "2024-08-27T16:11:28.313Z"
   },
   {
    "duration": 20,
    "start_time": "2024-08-27T16:11:28.325Z"
   },
   {
    "duration": 10,
    "start_time": "2024-08-27T16:11:28.346Z"
   },
   {
    "duration": 16,
    "start_time": "2024-08-27T16:11:28.357Z"
   },
   {
    "duration": 10,
    "start_time": "2024-08-27T16:11:28.374Z"
   },
   {
    "duration": 8,
    "start_time": "2024-08-27T16:11:28.386Z"
   },
   {
    "duration": 11,
    "start_time": "2024-08-27T16:11:28.396Z"
   },
   {
    "duration": 12,
    "start_time": "2024-08-27T16:11:28.408Z"
   },
   {
    "duration": 40,
    "start_time": "2024-08-27T16:11:28.421Z"
   },
   {
    "duration": 6,
    "start_time": "2024-08-27T16:11:28.463Z"
   },
   {
    "duration": 173,
    "start_time": "2024-08-27T16:11:28.471Z"
   },
   {
    "duration": 5,
    "start_time": "2024-08-27T16:11:28.646Z"
   },
   {
    "duration": 85,
    "start_time": "2024-08-27T16:11:28.652Z"
   },
   {
    "duration": 23,
    "start_time": "2024-08-27T16:11:28.739Z"
   },
   {
    "duration": 112,
    "start_time": "2024-08-27T16:11:28.764Z"
   },
   {
    "duration": 197,
    "start_time": "2024-08-27T16:11:28.878Z"
   },
   {
    "duration": 9,
    "start_time": "2024-08-27T16:11:29.076Z"
   },
   {
    "duration": 150,
    "start_time": "2024-08-27T16:11:29.087Z"
   },
   {
    "duration": 297,
    "start_time": "2024-08-27T16:11:29.239Z"
   },
   {
    "duration": 7,
    "start_time": "2024-08-27T16:11:29.538Z"
   },
   {
    "duration": 142,
    "start_time": "2024-08-27T16:11:29.547Z"
   },
   {
    "duration": 257,
    "start_time": "2024-08-27T16:11:29.691Z"
   },
   {
    "duration": 13,
    "start_time": "2024-08-27T16:11:29.950Z"
   },
   {
    "duration": 12,
    "start_time": "2024-08-27T16:11:29.967Z"
   },
   {
    "duration": 26,
    "start_time": "2024-08-27T16:11:29.981Z"
   },
   {
    "duration": 4,
    "start_time": "2024-08-27T16:11:30.009Z"
   },
   {
    "duration": 142,
    "start_time": "2024-08-27T16:11:30.014Z"
   },
   {
    "duration": 13,
    "start_time": "2024-08-27T16:11:30.160Z"
   },
   {
    "duration": 44,
    "start_time": "2024-08-27T16:11:30.175Z"
   },
   {
    "duration": 320,
    "start_time": "2024-08-27T16:11:30.221Z"
   },
   {
    "duration": 298,
    "start_time": "2024-08-27T16:11:30.543Z"
   },
   {
    "duration": 137,
    "start_time": "2024-08-27T16:11:30.844Z"
   },
   {
    "duration": 129,
    "start_time": "2024-08-27T16:11:30.983Z"
   },
   {
    "duration": 228,
    "start_time": "2024-08-27T16:11:31.113Z"
   },
   {
    "duration": 196,
    "start_time": "2024-08-27T16:11:31.343Z"
   },
   {
    "duration": 135,
    "start_time": "2024-08-27T16:11:31.540Z"
   },
   {
    "duration": 129,
    "start_time": "2024-08-27T16:11:31.677Z"
   },
   {
    "duration": 1461,
    "start_time": "2024-08-27T16:11:31.808Z"
   },
   {
    "duration": 16,
    "start_time": "2024-08-27T16:11:33.270Z"
   },
   {
    "duration": 11,
    "start_time": "2024-08-27T16:11:33.288Z"
   },
   {
    "duration": 7,
    "start_time": "2024-08-27T16:11:33.300Z"
   },
   {
    "duration": 15,
    "start_time": "2024-08-27T16:11:33.309Z"
   },
   {
    "duration": 61,
    "start_time": "2024-08-27T16:11:33.326Z"
   },
   {
    "duration": 107,
    "start_time": "2024-08-27T16:11:33.389Z"
   },
   {
    "duration": 0,
    "start_time": "2024-08-27T16:11:33.498Z"
   },
   {
    "duration": 0,
    "start_time": "2024-08-27T16:11:33.500Z"
   },
   {
    "duration": 0,
    "start_time": "2024-08-27T16:11:33.501Z"
   },
   {
    "duration": 0,
    "start_time": "2024-08-27T16:11:33.502Z"
   },
   {
    "duration": 0,
    "start_time": "2024-08-27T16:11:33.504Z"
   },
   {
    "duration": 16,
    "start_time": "2024-08-27T16:12:03.422Z"
   },
   {
    "duration": 64,
    "start_time": "2024-08-27T16:14:58.686Z"
   },
   {
    "duration": 67,
    "start_time": "2024-08-27T16:26:19.823Z"
   },
   {
    "duration": 1022,
    "start_time": "2024-08-27T16:26:52.190Z"
   },
   {
    "duration": 37,
    "start_time": "2024-08-27T16:26:53.213Z"
   },
   {
    "duration": 33,
    "start_time": "2024-08-27T16:26:53.252Z"
   },
   {
    "duration": 19,
    "start_time": "2024-08-27T16:26:53.286Z"
   },
   {
    "duration": 16,
    "start_time": "2024-08-27T16:26:53.307Z"
   },
   {
    "duration": 27,
    "start_time": "2024-08-27T16:26:53.324Z"
   },
   {
    "duration": 24,
    "start_time": "2024-08-27T16:26:53.353Z"
   },
   {
    "duration": 35,
    "start_time": "2024-08-27T16:26:53.379Z"
   },
   {
    "duration": 12,
    "start_time": "2024-08-27T16:26:53.416Z"
   },
   {
    "duration": 26,
    "start_time": "2024-08-27T16:26:53.429Z"
   },
   {
    "duration": 45,
    "start_time": "2024-08-27T16:26:53.457Z"
   },
   {
    "duration": 24,
    "start_time": "2024-08-27T16:26:53.504Z"
   },
   {
    "duration": 17,
    "start_time": "2024-08-27T16:26:53.530Z"
   },
   {
    "duration": 34,
    "start_time": "2024-08-27T16:26:53.550Z"
   },
   {
    "duration": 186,
    "start_time": "2024-08-27T16:26:53.586Z"
   },
   {
    "duration": 6,
    "start_time": "2024-08-27T16:26:53.774Z"
   },
   {
    "duration": 113,
    "start_time": "2024-08-27T16:26:53.782Z"
   },
   {
    "duration": 7,
    "start_time": "2024-08-27T16:26:53.897Z"
   },
   {
    "duration": 127,
    "start_time": "2024-08-27T16:26:53.905Z"
   },
   {
    "duration": 188,
    "start_time": "2024-08-27T16:26:54.034Z"
   },
   {
    "duration": 7,
    "start_time": "2024-08-27T16:26:54.224Z"
   },
   {
    "duration": 123,
    "start_time": "2024-08-27T16:26:54.233Z"
   },
   {
    "duration": 261,
    "start_time": "2024-08-27T16:26:54.360Z"
   },
   {
    "duration": 9,
    "start_time": "2024-08-27T16:26:54.623Z"
   },
   {
    "duration": 141,
    "start_time": "2024-08-27T16:26:54.634Z"
   },
   {
    "duration": 196,
    "start_time": "2024-08-27T16:26:54.777Z"
   },
   {
    "duration": 4,
    "start_time": "2024-08-27T16:26:54.975Z"
   },
   {
    "duration": 10,
    "start_time": "2024-08-27T16:26:54.981Z"
   },
   {
    "duration": 18,
    "start_time": "2024-08-27T16:26:54.992Z"
   },
   {
    "duration": 3,
    "start_time": "2024-08-27T16:26:55.012Z"
   },
   {
    "duration": 52,
    "start_time": "2024-08-27T16:26:55.017Z"
   },
   {
    "duration": 16,
    "start_time": "2024-08-27T16:26:55.070Z"
   },
   {
    "duration": 104,
    "start_time": "2024-08-27T16:26:55.088Z"
   },
   {
    "duration": 270,
    "start_time": "2024-08-27T16:26:55.194Z"
   },
   {
    "duration": 273,
    "start_time": "2024-08-27T16:26:55.466Z"
   },
   {
    "duration": 139,
    "start_time": "2024-08-27T16:26:55.742Z"
   },
   {
    "duration": 125,
    "start_time": "2024-08-27T16:26:55.883Z"
   },
   {
    "duration": 206,
    "start_time": "2024-08-27T16:26:56.010Z"
   },
   {
    "duration": 192,
    "start_time": "2024-08-27T16:26:56.218Z"
   },
   {
    "duration": 128,
    "start_time": "2024-08-27T16:26:56.412Z"
   },
   {
    "duration": 123,
    "start_time": "2024-08-27T16:26:56.545Z"
   },
   {
    "duration": 1382,
    "start_time": "2024-08-27T16:26:56.670Z"
   },
   {
    "duration": 21,
    "start_time": "2024-08-27T16:26:58.054Z"
   },
   {
    "duration": 11,
    "start_time": "2024-08-27T16:26:58.077Z"
   },
   {
    "duration": 6,
    "start_time": "2024-08-27T16:26:58.089Z"
   },
   {
    "duration": 17,
    "start_time": "2024-08-27T16:26:58.096Z"
   },
   {
    "duration": 59,
    "start_time": "2024-08-27T16:26:58.115Z"
   },
   {
    "duration": 11,
    "start_time": "2024-08-27T16:26:58.176Z"
   },
   {
    "duration": 108,
    "start_time": "2024-08-27T16:26:58.189Z"
   },
   {
    "duration": 0,
    "start_time": "2024-08-27T16:26:58.299Z"
   },
   {
    "duration": 0,
    "start_time": "2024-08-27T16:26:58.301Z"
   },
   {
    "duration": 0,
    "start_time": "2024-08-27T16:26:58.302Z"
   },
   {
    "duration": 0,
    "start_time": "2024-08-27T16:26:58.303Z"
   },
   {
    "duration": 1153,
    "start_time": "2024-08-27T16:27:22.735Z"
   },
   {
    "duration": 37,
    "start_time": "2024-08-27T16:27:23.890Z"
   },
   {
    "duration": 34,
    "start_time": "2024-08-27T16:27:23.930Z"
   },
   {
    "duration": 19,
    "start_time": "2024-08-27T16:27:23.967Z"
   },
   {
    "duration": 11,
    "start_time": "2024-08-27T16:27:23.988Z"
   },
   {
    "duration": 19,
    "start_time": "2024-08-27T16:27:24.001Z"
   },
   {
    "duration": 11,
    "start_time": "2024-08-27T16:27:24.022Z"
   },
   {
    "duration": 38,
    "start_time": "2024-08-27T16:27:24.035Z"
   },
   {
    "duration": 15,
    "start_time": "2024-08-27T16:27:24.076Z"
   },
   {
    "duration": 9,
    "start_time": "2024-08-27T16:27:24.093Z"
   },
   {
    "duration": 14,
    "start_time": "2024-08-27T16:27:24.103Z"
   },
   {
    "duration": 12,
    "start_time": "2024-08-27T16:27:24.119Z"
   },
   {
    "duration": 33,
    "start_time": "2024-08-27T16:27:24.133Z"
   },
   {
    "duration": 6,
    "start_time": "2024-08-27T16:27:24.168Z"
   },
   {
    "duration": 180,
    "start_time": "2024-08-27T16:27:24.175Z"
   },
   {
    "duration": 8,
    "start_time": "2024-08-27T16:27:24.357Z"
   },
   {
    "duration": 81,
    "start_time": "2024-08-27T16:27:24.366Z"
   },
   {
    "duration": 19,
    "start_time": "2024-08-27T16:27:24.448Z"
   },
   {
    "duration": 114,
    "start_time": "2024-08-27T16:27:24.469Z"
   },
   {
    "duration": 178,
    "start_time": "2024-08-27T16:27:24.585Z"
   },
   {
    "duration": 8,
    "start_time": "2024-08-27T16:27:24.765Z"
   },
   {
    "duration": 136,
    "start_time": "2024-08-27T16:27:24.775Z"
   },
   {
    "duration": 267,
    "start_time": "2024-08-27T16:27:24.913Z"
   },
   {
    "duration": 9,
    "start_time": "2024-08-27T16:27:25.182Z"
   },
   {
    "duration": 152,
    "start_time": "2024-08-27T16:27:25.193Z"
   },
   {
    "duration": 197,
    "start_time": "2024-08-27T16:27:25.346Z"
   },
   {
    "duration": 4,
    "start_time": "2024-08-27T16:27:25.545Z"
   },
   {
    "duration": 10,
    "start_time": "2024-08-27T16:27:25.563Z"
   },
   {
    "duration": 18,
    "start_time": "2024-08-27T16:27:25.574Z"
   },
   {
    "duration": 3,
    "start_time": "2024-08-27T16:27:25.593Z"
   },
   {
    "duration": 116,
    "start_time": "2024-08-27T16:27:25.597Z"
   },
   {
    "duration": 15,
    "start_time": "2024-08-27T16:27:25.715Z"
   },
   {
    "duration": 13,
    "start_time": "2024-08-27T16:27:25.731Z"
   },
   {
    "duration": 281,
    "start_time": "2024-08-27T16:27:25.761Z"
   },
   {
    "duration": 263,
    "start_time": "2024-08-27T16:27:26.044Z"
   },
   {
    "duration": 128,
    "start_time": "2024-08-27T16:27:26.308Z"
   },
   {
    "duration": 112,
    "start_time": "2024-08-27T16:27:26.438Z"
   },
   {
    "duration": 193,
    "start_time": "2024-08-27T16:27:26.552Z"
   },
   {
    "duration": 178,
    "start_time": "2024-08-27T16:27:26.747Z"
   },
   {
    "duration": 136,
    "start_time": "2024-08-27T16:27:26.926Z"
   },
   {
    "duration": 130,
    "start_time": "2024-08-27T16:27:27.063Z"
   },
   {
    "duration": 1344,
    "start_time": "2024-08-27T16:27:27.194Z"
   },
   {
    "duration": 25,
    "start_time": "2024-08-27T16:27:28.540Z"
   },
   {
    "duration": 11,
    "start_time": "2024-08-27T16:27:28.567Z"
   },
   {
    "duration": 5,
    "start_time": "2024-08-27T16:27:28.580Z"
   },
   {
    "duration": 13,
    "start_time": "2024-08-27T16:27:28.587Z"
   },
   {
    "duration": 32,
    "start_time": "2024-08-27T16:27:28.601Z"
   },
   {
    "duration": 12,
    "start_time": "2024-08-27T16:27:28.661Z"
   },
   {
    "duration": 7,
    "start_time": "2024-08-27T16:27:28.675Z"
   },
   {
    "duration": 11,
    "start_time": "2024-08-27T16:27:28.683Z"
   },
   {
    "duration": 11,
    "start_time": "2024-08-27T16:27:28.695Z"
   },
   {
    "duration": 13,
    "start_time": "2024-08-27T16:27:28.708Z"
   },
   {
    "duration": 10,
    "start_time": "2024-08-27T16:27:28.722Z"
   },
   {
    "duration": 11,
    "start_time": "2024-08-27T16:31:01.869Z"
   },
   {
    "duration": 1190,
    "start_time": "2024-08-28T10:30:54.927Z"
   },
   {
    "duration": 131,
    "start_time": "2024-08-28T10:30:56.119Z"
   },
   {
    "duration": 189,
    "start_time": "2024-08-28T10:30:56.252Z"
   },
   {
    "duration": 80,
    "start_time": "2024-08-28T10:30:56.443Z"
   },
   {
    "duration": 24,
    "start_time": "2024-08-28T10:30:56.525Z"
   },
   {
    "duration": 10,
    "start_time": "2024-08-28T10:30:56.550Z"
   },
   {
    "duration": 9,
    "start_time": "2024-08-28T10:30:56.562Z"
   },
   {
    "duration": 16,
    "start_time": "2024-08-28T10:30:56.572Z"
   },
   {
    "duration": 59,
    "start_time": "2024-08-28T10:30:56.589Z"
   },
   {
    "duration": 9,
    "start_time": "2024-08-28T10:30:56.651Z"
   },
   {
    "duration": 10,
    "start_time": "2024-08-28T10:30:56.662Z"
   },
   {
    "duration": 12,
    "start_time": "2024-08-28T10:30:56.673Z"
   },
   {
    "duration": 8,
    "start_time": "2024-08-28T10:30:56.686Z"
   },
   {
    "duration": 10,
    "start_time": "2024-08-28T10:30:56.733Z"
   },
   {
    "duration": 193,
    "start_time": "2024-08-28T10:30:56.744Z"
   },
   {
    "duration": 8,
    "start_time": "2024-08-28T10:30:56.940Z"
   },
   {
    "duration": 100,
    "start_time": "2024-08-28T10:30:56.949Z"
   },
   {
    "duration": 8,
    "start_time": "2024-08-28T10:30:57.050Z"
   },
   {
    "duration": 124,
    "start_time": "2024-08-28T10:30:57.059Z"
   },
   {
    "duration": 212,
    "start_time": "2024-08-28T10:30:57.185Z"
   },
   {
    "duration": 8,
    "start_time": "2024-08-28T10:30:57.398Z"
   },
   {
    "duration": 159,
    "start_time": "2024-08-28T10:30:57.408Z"
   },
   {
    "duration": 304,
    "start_time": "2024-08-28T10:30:57.568Z"
   },
   {
    "duration": 9,
    "start_time": "2024-08-28T10:30:57.873Z"
   },
   {
    "duration": 137,
    "start_time": "2024-08-28T10:30:57.883Z"
   },
   {
    "duration": 241,
    "start_time": "2024-08-28T10:30:58.025Z"
   },
   {
    "duration": 5,
    "start_time": "2024-08-28T10:30:58.268Z"
   },
   {
    "duration": 15,
    "start_time": "2024-08-28T10:30:58.276Z"
   },
   {
    "duration": 37,
    "start_time": "2024-08-28T10:30:58.293Z"
   },
   {
    "duration": 4,
    "start_time": "2024-08-28T10:30:58.332Z"
   },
   {
    "duration": 23,
    "start_time": "2024-08-28T10:30:58.337Z"
   },
   {
    "duration": 127,
    "start_time": "2024-08-28T10:30:58.362Z"
   },
   {
    "duration": 14,
    "start_time": "2024-08-28T10:30:58.491Z"
   },
   {
    "duration": 299,
    "start_time": "2024-08-28T10:30:58.507Z"
   },
   {
    "duration": 287,
    "start_time": "2024-08-28T10:30:58.808Z"
   },
   {
    "duration": 142,
    "start_time": "2024-08-28T10:30:59.097Z"
   },
   {
    "duration": 140,
    "start_time": "2024-08-28T10:30:59.241Z"
   },
   {
    "duration": 207,
    "start_time": "2024-08-28T10:30:59.382Z"
   },
   {
    "duration": 248,
    "start_time": "2024-08-28T10:30:59.592Z"
   },
   {
    "duration": 141,
    "start_time": "2024-08-28T10:30:59.842Z"
   },
   {
    "duration": 162,
    "start_time": "2024-08-28T10:30:59.984Z"
   },
   {
    "duration": 1541,
    "start_time": "2024-08-28T10:31:00.149Z"
   },
   {
    "duration": 17,
    "start_time": "2024-08-28T10:31:01.691Z"
   },
   {
    "duration": 40,
    "start_time": "2024-08-28T10:31:01.709Z"
   },
   {
    "duration": 6,
    "start_time": "2024-08-28T10:31:01.751Z"
   },
   {
    "duration": 20,
    "start_time": "2024-08-28T10:31:01.759Z"
   },
   {
    "duration": 31,
    "start_time": "2024-08-28T10:31:01.781Z"
   },
   {
    "duration": 26,
    "start_time": "2024-08-28T10:31:01.813Z"
   },
   {
    "duration": 6,
    "start_time": "2024-08-28T10:31:01.841Z"
   },
   {
    "duration": 11,
    "start_time": "2024-08-28T10:31:01.849Z"
   },
   {
    "duration": 11,
    "start_time": "2024-08-28T10:31:01.862Z"
   },
   {
    "duration": 12,
    "start_time": "2024-08-28T10:31:01.875Z"
   },
   {
    "duration": 56,
    "start_time": "2024-08-28T10:31:01.889Z"
   },
   {
    "duration": 11,
    "start_time": "2024-08-28T10:38:15.167Z"
   },
   {
    "duration": 8,
    "start_time": "2024-08-28T10:38:44.676Z"
   },
   {
    "duration": 1198,
    "start_time": "2024-08-28T10:39:06.375Z"
   },
   {
    "duration": 42,
    "start_time": "2024-08-28T10:39:07.575Z"
   },
   {
    "duration": 51,
    "start_time": "2024-08-28T10:39:07.618Z"
   },
   {
    "duration": 25,
    "start_time": "2024-08-28T10:39:07.672Z"
   },
   {
    "duration": 16,
    "start_time": "2024-08-28T10:39:07.701Z"
   },
   {
    "duration": 26,
    "start_time": "2024-08-28T10:39:07.719Z"
   },
   {
    "duration": 15,
    "start_time": "2024-08-28T10:39:07.748Z"
   },
   {
    "duration": 44,
    "start_time": "2024-08-28T10:39:07.765Z"
   },
   {
    "duration": 25,
    "start_time": "2024-08-28T10:39:07.811Z"
   },
   {
    "duration": 11,
    "start_time": "2024-08-28T10:39:07.843Z"
   },
   {
    "duration": 28,
    "start_time": "2024-08-28T10:39:07.856Z"
   },
   {
    "duration": 14,
    "start_time": "2024-08-28T10:39:07.885Z"
   },
   {
    "duration": 8,
    "start_time": "2024-08-28T10:39:07.901Z"
   },
   {
    "duration": 9,
    "start_time": "2024-08-28T10:39:07.914Z"
   },
   {
    "duration": 202,
    "start_time": "2024-08-28T10:39:07.938Z"
   },
   {
    "duration": 8,
    "start_time": "2024-08-28T10:39:08.142Z"
   },
   {
    "duration": 221,
    "start_time": "2024-08-28T10:39:08.152Z"
   },
   {
    "duration": 9,
    "start_time": "2024-08-28T10:39:08.375Z"
   },
   {
    "duration": 126,
    "start_time": "2024-08-28T10:39:08.386Z"
   },
   {
    "duration": 252,
    "start_time": "2024-08-28T10:39:08.513Z"
   },
   {
    "duration": 10,
    "start_time": "2024-08-28T10:39:08.767Z"
   },
   {
    "duration": 175,
    "start_time": "2024-08-28T10:39:08.779Z"
   },
   {
    "duration": 299,
    "start_time": "2024-08-28T10:39:08.956Z"
   },
   {
    "duration": 10,
    "start_time": "2024-08-28T10:39:09.257Z"
   },
   {
    "duration": 161,
    "start_time": "2024-08-28T10:39:09.269Z"
   },
   {
    "duration": 261,
    "start_time": "2024-08-28T10:39:09.432Z"
   },
   {
    "duration": 5,
    "start_time": "2024-08-28T10:39:09.695Z"
   },
   {
    "duration": 29,
    "start_time": "2024-08-28T10:39:09.703Z"
   },
   {
    "duration": 20,
    "start_time": "2024-08-28T10:39:09.734Z"
   },
   {
    "duration": 5,
    "start_time": "2024-08-28T10:39:09.756Z"
   },
   {
    "duration": 21,
    "start_time": "2024-08-28T10:39:09.763Z"
   },
   {
    "duration": 50,
    "start_time": "2024-08-28T10:39:09.786Z"
   },
   {
    "duration": 105,
    "start_time": "2024-08-28T10:39:09.838Z"
   },
   {
    "duration": 462,
    "start_time": "2024-08-28T10:39:09.945Z"
   },
   {
    "duration": 339,
    "start_time": "2024-08-28T10:39:10.409Z"
   },
   {
    "duration": 178,
    "start_time": "2024-08-28T10:39:10.750Z"
   },
   {
    "duration": 167,
    "start_time": "2024-08-28T10:39:10.931Z"
   },
   {
    "duration": 257,
    "start_time": "2024-08-28T10:39:11.100Z"
   },
   {
    "duration": 231,
    "start_time": "2024-08-28T10:39:11.360Z"
   },
   {
    "duration": 167,
    "start_time": "2024-08-28T10:39:11.593Z"
   },
   {
    "duration": 147,
    "start_time": "2024-08-28T10:39:11.764Z"
   },
   {
    "duration": 1596,
    "start_time": "2024-08-28T10:39:11.913Z"
   },
   {
    "duration": 26,
    "start_time": "2024-08-28T10:39:13.511Z"
   },
   {
    "duration": 14,
    "start_time": "2024-08-28T10:39:13.538Z"
   },
   {
    "duration": 8,
    "start_time": "2024-08-28T10:39:13.555Z"
   },
   {
    "duration": 22,
    "start_time": "2024-08-28T10:39:13.565Z"
   },
   {
    "duration": 72,
    "start_time": "2024-08-28T10:39:13.589Z"
   },
   {
    "duration": 17,
    "start_time": "2024-08-28T10:39:13.664Z"
   },
   {
    "duration": 7,
    "start_time": "2024-08-28T10:39:13.682Z"
   },
   {
    "duration": 52,
    "start_time": "2024-08-28T10:39:13.691Z"
   },
   {
    "duration": 14,
    "start_time": "2024-08-28T10:39:13.745Z"
   },
   {
    "duration": 10,
    "start_time": "2024-08-28T10:39:13.762Z"
   },
   {
    "duration": 18,
    "start_time": "2024-08-28T10:39:13.774Z"
   },
   {
    "duration": 36,
    "start_time": "2024-08-28T10:39:13.794Z"
   }
  ],
  "kernelspec": {
   "display_name": "Python [conda env:base] *",
   "language": "python",
   "name": "conda-base-py"
  },
  "language_info": {
   "codemirror_mode": {
    "name": "ipython",
    "version": 3
   },
   "file_extension": ".py",
   "mimetype": "text/x-python",
   "name": "python",
   "nbconvert_exporter": "python",
   "pygments_lexer": "ipython3",
   "version": "3.12.7"
  },
  "toc": {
   "base_numbering": 1,
   "nav_menu": {},
   "number_sections": true,
   "sideBar": true,
   "skip_h1_title": true,
   "title_cell": "Table of Contents",
   "title_sidebar": "Contents",
   "toc_cell": false,
   "toc_position": {},
   "toc_section_display": true,
   "toc_window_display": false
  }
 },
 "nbformat": 4,
 "nbformat_minor": 5
}
